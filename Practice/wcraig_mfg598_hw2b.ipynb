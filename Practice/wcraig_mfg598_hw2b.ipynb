{
 "cells": [
  {
   "cell_type": "code",
   "execution_count": null,
   "metadata": {},
   "outputs": [],
   "source": [
    "#William Craig\n",
    "#MFG 598\n",
    "#HW2B"
   ]
  },
  {
   "cell_type": "code",
   "execution_count": null,
   "metadata": {},
   "outputs": [],
   "source": [
    "# Qn1\n",
    "# Print the key and values within a dictionary\n",
    "# using FOR loops"
   ]
  },
  {
   "cell_type": "code",
   "execution_count": null,
   "metadata": {},
   "outputs": [],
   "source": [
    "# Qn2\n",
    "# Iterate through a list and create a new list that \n",
    "# contains the square of the values in the original list\n",
    "# using For Loops & List Comprehensions"
   ]
  },
  {
   "cell_type": "code",
   "execution_count": null,
   "metadata": {},
   "outputs": [],
   "source": [
    "# Qn3\n",
    "# Assuming the following data structures capture values obtained from a source\n",
    "# itemsN = [\"obj1\", \"obj2\", \"obj3\", \"obj4\", \"obj5\"]\n",
    "# locXYZ = [(3.0, 4.0, 2.0), (3.0, 1.0, 2.0), (6.0, 4.0, 2.0), (.6, 8.9, 4.5), (7.6, 9.9, 4.5)]\n",
    "# Write a script that combines this data into a single dictionary\n",
    "# with keys in itemsN, and the corresponding value being the records in locXYZ"
   ]
  },
  {
   "cell_type": "code",
   "execution_count": null,
   "metadata": {},
   "outputs": [],
   "source": [
    "# Qn4\n",
    "# Assuming the following data structures capture values obtained from a source\n",
    "# itemsN = [\"obj1\", \"obj2\", \"obj3\", \"obj4\", \"obj5\", \"obj6\"]\n",
    "# locXYZ = [(3.0, 4.0, 2.0), (3.0, 1.0, 2.0), (6.0, 4.0, 2.0), (.6, 8.9, 4.5), (7.6, 9.9, 4.5)]\n",
    "# Write a script that combines this data into a single dictionary\n",
    "# with keys in itemsN, and the corresponding value being the records in locXYZ"
   ]
  },
  {
   "cell_type": "code",
   "execution_count": null,
   "metadata": {},
   "outputs": [],
   "source": [
    "# '''\n",
    "# Qn 5:\n",
    "# Square the values in this list except numbers divible by 5\n",
    "# using List Comprehensions\n",
    "# Given listN=[3,5,6,10,2,3,5]"
   ]
  },
  {
   "cell_type": "code",
   "execution_count": null,
   "metadata": {},
   "outputs": [],
   "source": [
    "# Qn6\n",
    "# 6.\tA user has two standard dices. Each dice has values from 1 through 6. \n",
    "# The user throws each set of 2 dices 30 times. Simulate this action using a Python script.\n",
    "# Your script must store the value on each dice that appears for each throw. \n",
    "# a) After 30 throws are completed, find the total sum of the scores obtained by both dices across the 30 throws. \n",
    "# b) Repeat the simulation of 30 throws, 10 times, record the total Sum obtained each time in a list."
   ]
  },
  {
   "cell_type": "code",
   "execution_count": null,
   "metadata": {},
   "outputs": [],
   "source": []
  }
 ],
 "metadata": {
  "kernelspec": {
   "display_name": "base",
   "language": "python",
   "name": "python3"
  },
  "language_info": {
   "name": "python",
   "version": "3.9.12 (main, Apr  4 2022, 05:22:27) [MSC v.1916 64 bit (AMD64)]"
  },
  "orig_nbformat": 4,
  "vscode": {
   "interpreter": {
    "hash": "504af9dbaeab241701b42e0a4a2f2792546a36888d7345416987d6285d9bc5c8"
   }
  }
 },
 "nbformat": 4,
 "nbformat_minor": 2
}

{
 "cells": [
  {
   "cell_type": "code",
   "execution_count": null,
   "metadata": {},
   "outputs": [],
   "source": [
    "#William Craig\n",
    "#MFG 598\n",
    "#HW2B"
   ]
  },
  {
   "cell_type": "code",
   "execution_count": null,
   "metadata": {},
   "outputs": [],
   "source": [
    "# Qn1\n",
    "# Print the key and values within a dictionary\n",
    "# using FOR loops\n",
    "\n",
    "students = {\n",
    "}\n",
    "\n",
    "students[\"Binil\"] = [83, 100]\n",
    "students[\"Starly\"] = [100, 93] \n",
    "students[\"Ethan\"] = [99, 93]\n",
    "students[\"Evan\"] = [19, 34]\n",
    "\n",
    "for key,value in students.items() :\n",
    "    print(key, value)\n",
    "\n"
   ]
  },
  {
   "cell_type": "code",
   "execution_count": null,
   "metadata": {},
   "outputs": [],
   "source": [
    "# Qn2\n",
    "# Iterate through a list and create a new list that \n",
    "# contains the square of the values in the original list\n",
    "# using For Loops & List Comprehensions\n",
    "\n",
    "#A list implies strings, but if we square the items we'll need to turn it into integer or float.\n",
    "string_list = [1,2,3,4]\n",
    "square_list = []\n",
    "\n",
    "for x in string_list:\n",
    "    value = x^2\n",
    "    square_list.append(value)\n",
    "print(square_list)\n"
   ]
  },
  {
   "cell_type": "code",
   "execution_count": 62,
   "metadata": {},
   "outputs": [
    {
     "name": "stdout",
     "output_type": "stream",
     "text": [
      "This is the combined dictionary:\n",
      "{'obj1': (3.0, 4.0, 2.0), 'obj2': (3.0, 1.0, 2.0), 'obj3': (6.0, 4.0, 2.0), 'obj4': (0.6, 8.9, 4.5), 'obj5': (7.6, 9.9, 4.5)}\n",
      "This is the zipped dictionary:\n",
      "{'obj1': (3.0, 4.0, 2.0), 'obj2': (3.0, 1.0, 2.0), 'obj3': (6.0, 4.0, 2.0), 'obj4': (0.6, 8.9, 4.5), 'obj5': (7.6, 9.9, 4.5)}\n"
     ]
    }
   ],
   "source": [
    "# Qn3\n",
    "# Assuming the following data structures capture values obtained from a source\n",
    "itemsN = [\"obj1\", \"obj2\", \"obj3\", \"obj4\", \"obj5\"]\n",
    "locXYZ = [(3.0, 4.0, 2.0), (3.0, 1.0, 2.0), (6.0, 4.0, 2.0), (.6, 8.9, 4.5), (7.6, 9.9, 4.5)]\n",
    "# Write a script that combines this data into a single dictionary\n",
    "# with keys in itemsN, and the corresponding value being the records in locXYZ\n",
    "\n",
    "\n",
    "combined_dictionary = {}\n",
    "\n",
    "#going to interate through itemsN using an index\n",
    "#the index number can then correspond to the index number of locXYZ\n",
    "#We will essentially call combined_dictionary[key,value] where key = itemsN[1] and value = locXYZ[1]\n",
    "if len(itemsN) == len(locXYZ):\n",
    "    for index, item in enumerate(itemsN):\n",
    "        combined_dictionary[item] = locXYZ[index]\n",
    "    print(\"This is the combined dictionary:\")\n",
    "    print(combined_dictionary)\n",
    "else:\n",
    "    print(\"Lengths of lists are not equal!\")\n",
    "\n",
    "\n",
    "#another method:\n",
    "zipped_dictionary = {}\n",
    "for key, value in zip(itemsN, locXYZ):\n",
    "    zipped_dictionary[key] = value\n",
    "\n",
    "print(\"This is the zipped dictionary:\")\n",
    "print(zipped_dictionary)"
   ]
  },
  {
   "cell_type": "code",
   "execution_count": 63,
   "metadata": {},
   "outputs": [
    {
     "name": "stdout",
     "output_type": "stream",
     "text": [
      "{'obj1': 'ERROR', 'obj2': 'ERROR', 'obj3': 'ERROR', 'obj4': 'ERROR', 'obj5': 'ERROR'}\n"
     ]
    }
   ],
   "source": [
    "\n",
    "# Qn4\n",
    "# Assuming the following data structures capture values obtained from a source\n",
    "# itemsN = [\"obj1\", \"obj2\", \"obj3\", \"obj4\", \"obj5\", \"obj6\"]\n",
    "# locXYZ = [(3.0, 4.0, 2.0), (3.0, 1.0, 2.0), (6.0, 4.0, 2.0), (.6, 8.9, 4.5), (7.6, 9.9, 4.5)]\n",
    "# Write a script that combines this data into a single dictionary\n",
    "# with keys in itemsN, and the corresponding value being the records in locXYZ\n",
    "\n",
    "#The problem here is that we have more locations than objects\n",
    "#We want to preserve the granularity of the data and respect its atomicity \n",
    "    #by not deleting the 'unaccompanied' location.\n",
    "#One possible method: compare the lengths, and if one is shorter, add a placeholder value\n",
    "\n",
    "#There may be another way to cast the list items directly into dictionary keys.\n",
    "    #This would be cleaner, because we're not altering the original dataset.\n",
    "\n",
    "newdict = {}\n",
    "for index, item in enumerate(itemsN):\n",
    "    try:\n",
    "        newdict[item] = locXYZ[item]\n",
    "    except:\n",
    "        newdict[item] = \"ERROR\"\n",
    "\n",
    "print(newdict)"
   ]
  },
  {
   "cell_type": "code",
   "execution_count": 73,
   "metadata": {},
   "outputs": [
    {
     "name": "stdout",
     "output_type": "stream",
     "text": [
      "[9, 36, 4, 9]\n"
     ]
    }
   ],
   "source": [
    "# '''\n",
    "# Qn 5:\n",
    "# Square the values in this list except numbers divible by 5\n",
    "# using List Comprehensions\n",
    "listN=[3,5,6,10,2,3,5]\n",
    "\n",
    "squaredlist = [number*number for number in listN if number % 5 != 0]\n",
    "print(squaredlist)"
   ]
  },
  {
   "cell_type": "code",
   "execution_count": 24,
   "metadata": {},
   "outputs": [
    {
     "name": "stdout",
     "output_type": "stream",
     "text": [
      "[211, 232, 209, 207, 209, 205, 214, 204, 212, 198]\n"
     ]
    }
   ],
   "source": [
    "# Qn6\n",
    "# 6.\tA user has two standard dices. Each dice has values from 1 through 6. \n",
    "# The user throws each set of 2 dices 30 times. Simulate this action using a Python script.\n",
    "# Your script must store the value on each dice that appears for each throw. \n",
    "# a) After 30 throws are completed, find the total sum of the scores obtained by both dices across the 30 throws. \n",
    "# b) Repeat the simulation of 30 throws, 10 times, recorhdd the total Sum obtained each time in a list.\n",
    "\n",
    "#Dice tells me to import random!\n",
    "import random\n",
    "#30 throws tells me this will be iterable.\n",
    "\n",
    "ten_turn_sums = []\n",
    "for turn in range(10):\n",
    "    thirty_throw_sums = []\n",
    "    for throw in range(30):\n",
    "        #Here are the 'random' dice:\n",
    "        D1 = random.randint(1,6)\n",
    "        D2 = random.randint(1,6)\n",
    "        #For each roll, this appends a list with the sum of both dice. Throughout the 'turn', this list will accumulate 30 values.\n",
    "        thirty_throw_sums.append(D1 + D2)\n",
    "    #Now that we're outside of the '30 rolls' loop, we take the sum of all 30 rolls and add that to a list outside both loops.\n",
    "    #Because this is in the 'ten turns' loop, this value gets added to the list ten times.\n",
    "    ten_turn_sums.append(sum(thirty_throw_sums))\n",
    "\n",
    "\n",
    "\n",
    "print(ten_turn_sums)\n"
   ]
  },
  {
   "cell_type": "code",
   "execution_count": null,
   "metadata": {},
   "outputs": [],
   "source": []
  }
 ],
 "metadata": {
  "kernelspec": {
   "display_name": "base",
   "language": "python",
   "name": "python3"
  },
  "language_info": {
   "codemirror_mode": {
    "name": "ipython",
    "version": 3
   },
   "file_extension": ".py",
   "mimetype": "text/x-python",
   "name": "python",
   "nbconvert_exporter": "python",
   "pygments_lexer": "ipython3",
   "version": "3.9.12 (main, Apr  4 2022, 05:22:27) [MSC v.1916 64 bit (AMD64)]"
  },
  "orig_nbformat": 4,
  "vscode": {
   "interpreter": {
    "hash": "6f5583cf1d9466b5c27e75c89cc6b383bed5736d6b16c51c8074d8690011a952"
   }
  }
 },
 "nbformat": 4,
 "nbformat_minor": 2
}

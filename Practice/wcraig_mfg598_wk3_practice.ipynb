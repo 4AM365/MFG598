{
 "cells": [
  {
   "cell_type": "code",
   "execution_count": null,
   "metadata": {},
   "outputs": [],
   "source": [
    "# -*- coding: utf-8 -*-\n",
    "\"\"\"\n",
    "@author: bstarly\n",
    "\n",
    "Read Section 1 Chapter 5 (FUNCTIONS) before attempting these exercises.\n",
    "\n",
    "\"\"\"\n",
    "\n",
    "\n",
    "# Qn 1 Write a function that simply squares and cubes any number passed to it and returns the value.\n",
    "#The main program should then print the value to the console screen.\n",
    "#The main program should also 'unpack' the tuple and print its contents.\n",
    " \n",
    "def squarecube(number):\n",
    "    squared = number * number\n",
    "    cubed = number * number * number\n",
    "    return(squared, cubed)\n",
    "\n",
    "number = float(input(\"What number would you like to square and cube?\"))\n",
    "square, cube = squarecube(number)\n",
    "print(square)\n",
    "print(cube)\n",
    "\n"
   ]
  },
  {
   "cell_type": "code",
   "execution_count": null,
   "metadata": {},
   "outputs": [],
   "source": [
    "\n",
    "#Qn 2 Write a function that counts the number of even numbers within a list defined by the user. \n",
    "#The user enters the numbers on the console, with a comma to separate the numbers. \n",
    "#Report the total number of even numbers to the console screen. Example\n",
    "#Input Enter the numbers (separated by a comma): 1,3,4,6,10,11,12\n",
    "#Output There are 4 even numbers in the list\n",
    "\n",
    "def clean_list(numlist):\n",
    "    cleaned = [int(numbers) for numbers in numlist]\n",
    "    return cleaned\n",
    "\n",
    "def evencount(numlist):\n",
    "    evenlist = [num for num in numlist if num & 2 == 0]\n",
    "    return evenlist\n",
    "\n",
    "numstr = input(\"Enter the numbers:\")\n",
    "numlist = numstr.split(\",\")\n",
    "print(numlist)\n",
    "clnumlist = clean_list(numlist)\n",
    "print(clnumlist)\n",
    "\n",
    "evenlist = evencount(clnumlist)\n",
    "print(evenlist)\n"
   ]
  },
  {
   "cell_type": "code",
   "execution_count": null,
   "metadata": {},
   "outputs": [],
   "source": [
    "#Qn3\n",
    "#Write a function that accepts any unspecified number of arguments\n",
    "#Iterate through the list of arguments. If nothing is passed, handle it approriately\n",
    "#with an msg displayed back to the user\n",
    "\n",
    "\n",
    "def hungry(*args):\n",
    "    if len(args) == 0:\n",
    "        print(\"Hungry\")\n",
    "    else:\n",
    "        print(\"I have had: \", args)\n",
    "\n",
    "hungry()\n",
    "hungry(\"chocolate\", \"chips\", 3)\n",
    "\n"
   ]
  },
  {
   "cell_type": "code",
   "execution_count": null,
   "metadata": {},
   "outputs": [],
   "source": [
    "#Qn4\n",
    "#Write a function that takes the length and breadth of a rectangle of a rectangle.\n",
    "#Return both the area and perimeter of the rectangle. Also Return back \n",
    "#if it is a rectangle or a square.\n",
    "length = float(input(\"Enter the length: \"))\n",
    "width = float(input(\"Enter the width: \"))\n",
    "\n",
    "\n",
    "def shapetype(length, width):\n",
    "    if (length == width):\n",
    "        shape = \"square\"\n",
    "    else:\n",
    "        shape = \"rectangle\"\n",
    "\n",
    "    perimeter = 2*(length + width)\n",
    "    area = (length * width)\n",
    "    return shape, perimeter, area\n",
    "\n",
    "\n",
    "shape, perimeter, area = shapetype(float(length), float(width))"
   ]
  },
  {
   "cell_type": "code",
   "execution_count": null,
   "metadata": {},
   "outputs": [],
   "source": [
    "\n",
    "\n",
    "\n",
    "#Qn5 \n",
    "#Write a function that finds the maximum value of all the even numbers in a given list of integers.\n",
    "\n",
    "\n",
    "#Qn 2 Write a function that counts the number of even numbers within a list defined by the user. \n",
    "#The user enters the numbers on the console, with a comma to separate the numbers. \n",
    "#Report the total number of even numbers to the console screen. Example\n",
    "#Input Enter the numbers (separated by a comma): 1,3,4,6,10,11,12\n",
    "#Output There are 4 even numbers in the list\n",
    "\n",
    "def clean_list(numlist):\n",
    "    cleaned = [int(numbers) for numbers in numlist]\n",
    "    return cleaned\n",
    "\n",
    "def evencount(numlist):\n",
    "    evenlist = [num for num in numlist if num & 2 == 0]\n",
    "    return max(evenlist)\n",
    "\n",
    "numstr = input(\"Enter the numbers:\")\n",
    "numlist = numstr.split(\",\")\n",
    "print(numlist)\n",
    "clnumlist = clean_list(numlist)\n",
    "print(clnumlist)\n",
    "\n",
    "maxeven = evencount(clnumlist)\n",
    "print(maxeven)\n",
    "\n"
   ]
  },
  {
   "cell_type": "code",
   "execution_count": 93,
   "metadata": {},
   "outputs": [
    {
     "name": "stdout",
     "output_type": "stream",
     "text": [
      "Yay\n",
      "True\n",
      "{'Ben', 'Evan', 'Aria', 'Johanna'}\n"
     ]
    }
   ],
   "source": [
    "\n",
    "\n",
    "#Qn6\n",
    "#Given the dictionary below:\n",
    "studentScores={\"Bin\":[34,43,10], \"Johanna\":[33,22,77], \"Evan\":[66,21,97], \"Ben\":[100,5,10], \"Aria\":[100,5,10]}\n",
    "#The values represents a list with scores for 3 exams = Exam 1, Exam 2 and Exam 3 for each student\n",
    "#A: Check if anyone has scored a 100. Return True, else False\n",
    "#B: Print all students who scored more than 50 in the 3rd exam\n",
    "\n",
    "def check100(studentRecords):\n",
    "    for name, scores in studentRecords.items():\n",
    "        for score in scores:\n",
    "            if score == 100:\n",
    "                print(\"Yay\")\n",
    "                return True\n",
    "    return False\n",
    "\n",
    "def check50(studentRecords):\n",
    "    namelist = []\n",
    "    for name,scores in studentRecords.items():\n",
    "        for score in scores:\n",
    "            if score > 50:\n",
    "                namelist.append(name)\n",
    "    return set (namelist)\n",
    "\n",
    "\n",
    "ret = check100(studentScores)\n",
    "print(ret)\n",
    "\n",
    "names = check50(studentScores)\n",
    "print(names)\n"
   ]
  },
  {
   "cell_type": "code",
   "execution_count": null,
   "metadata": {},
   "outputs": [],
   "source": [
    "\n",
    "\n",
    "\n",
    "#Qn7\n",
    "#Write a Python program to get a list of dates between two dates \n",
    "#entered by the user in mm-dd-yyyy format. Check if the first date is less than second date.\n",
    "#If the second date is None - then assume it to be today's date or system date.\n",
    "#The function can have 2 arguments passed to it. The start date being required.\n",
    "#if the 2nd argument is not passed, then the system's current date must be taken in.\n"
   ]
  },
  {
   "cell_type": "code",
   "execution_count": null,
   "metadata": {},
   "outputs": [],
   "source": [
    "#Qn8  \n",
    "#Write a program to get a list of dates between two dates entered by the user\n",
    "#in mm/dd/yyyy. Check also if the first date is less than the second date."
   ]
  }
 ],
 "metadata": {
  "kernelspec": {
   "display_name": "base",
   "language": "python",
   "name": "python3"
  },
  "language_info": {
   "codemirror_mode": {
    "name": "ipython",
    "version": 3
   },
   "file_extension": ".py",
   "mimetype": "text/x-python",
   "name": "python",
   "nbconvert_exporter": "python",
   "pygments_lexer": "ipython3",
   "version": "3.9.12"
  },
  "orig_nbformat": 4,
  "vscode": {
   "interpreter": {
    "hash": "504af9dbaeab241701b42e0a4a2f2792546a36888d7345416987d6285d9bc5c8"
   }
  }
 },
 "nbformat": 4,
 "nbformat_minor": 2
}

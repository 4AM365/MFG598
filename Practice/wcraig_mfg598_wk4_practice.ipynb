{
 "cells": [
  {
   "cell_type": "code",
   "execution_count": 15,
   "metadata": {},
   "outputs": [
    {
     "name": "stdout",
     "output_type": "stream",
     "text": [
      "['Binil\\n', 'Starlyis\\n', 'teaching\\n', 'Python\\n', 'today']\n"
     ]
    }
   ],
   "source": [
    "#Qn1\n",
    "#Write a Program to Write The Given Strings to a File\n",
    "n1='\\n'\n",
    "lines = 'Binil', n1, 'Starly', 'is', n1, 'teaching', n1, 'Python', n1, 'today'\n",
    "\n",
    "#'open' opens a file, first arg is name, second arg is 'Write' the file which will create the file if it doesn't exist\n",
    "\n",
    "#the 'with' command is a file manager which ensures the file is always closed after writing\n",
    "\n",
    "# file = open(\"wk_4_practice_output\", \"a\")\n",
    "#     #Text file must consist of strings, so I simply nest str in here as a safeguard.\n",
    "# file.writelines(lines)\n",
    "\n",
    "with open(\"wk_4_practice_output\", \"w\") as practice_txt_file:\n",
    "    practice_txt_file.writelines(lines)\n",
    "\n",
    "#Assuming that encoding is 8 and not 16 or 32:\n",
    "with open(\"wk_4_practice_output\", \"r\", encoding =\"utf-8\") as next_txt_file: \n",
    "    lines = next_txt_file.readlines()\n",
    "    print(lines)\n"
   ]
  },
  {
   "cell_type": "code",
   "execution_count": null,
   "metadata": {},
   "outputs": [],
   "source": [
    "#Write a function CodeWord(filename) that reads a file ‘CNCFile.txt’ containing a large amount of text.\n",
    "#For every instance of the word – CNC contained in the file, replace this word with the word – ‘XYZ’. Output this new text to another file – “CodedText.txt”.\n",
    "#Also output the number of times the word – CNC appeared in the file to the console screen."
   ]
  },
  {
   "cell_type": "code",
   "execution_count": null,
   "metadata": {},
   "outputs": [],
   "source": [
    "# QN3:\n",
    "# A: Read the contents (names of the files) of a folder that contains files and sub-folders\n",
    "# B: Calculate the number of JPEG and JSON type files contained. No other file types to be read.\n",
    "# C: Print the file sizes of only the JPEG files contained in the folder\n",
    "# '''"
   ]
  },
  {
   "cell_type": "code",
   "execution_count": null,
   "metadata": {},
   "outputs": [],
   "source": [
    "# Qn4:\n",
    "# A: Read the contents of all the JSON files within the sample folder.\n",
    "# B: Read all of the volume values inside each of the json files.\n",
    "# C: Report on the total volume by summing all of these values."
   ]
  },
  {
   "cell_type": "code",
   "execution_count": null,
   "metadata": {},
   "outputs": [],
   "source": [
    "# #Qn5\n",
    "# A: Extract the content of the zip file.\n",
    "# B: Count the number of units sold\n",
    "# C: Find the country that obtained the maximum revenue\n",
    "# D: Output a JSON file that lists each Item_Type and the countries that sold those items\n",
    "#    as a dictionary, in the following format \n",
    "#    ItemType: List of countries that sold that item "
   ]
  },
  {
   "cell_type": "code",
   "execution_count": null,
   "metadata": {},
   "outputs": [],
   "source": []
  }
 ],
 "metadata": {
  "kernelspec": {
   "display_name": "base",
   "language": "python",
   "name": "python3"
  },
  "language_info": {
   "codemirror_mode": {
    "name": "ipython",
    "version": 3
   },
   "file_extension": ".py",
   "mimetype": "text/x-python",
   "name": "python",
   "nbconvert_exporter": "python",
   "pygments_lexer": "ipython3",
   "version": "3.9.12"
  },
  "orig_nbformat": 4,
  "vscode": {
   "interpreter": {
    "hash": "504af9dbaeab241701b42e0a4a2f2792546a36888d7345416987d6285d9bc5c8"
   }
  }
 },
 "nbformat": 4,
 "nbformat_minor": 2
}

{
 "cells": [
  {
   "cell_type": "code",
   "execution_count": 17,
   "metadata": {},
   "outputs": [
    {
     "name": "stdout",
     "output_type": "stream",
     "text": [
      "Binil\n",
      "\n",
      "Starlyis\n",
      "\n",
      "teaching\n",
      "\n",
      "Python\n",
      "\n",
      "today\n"
     ]
    }
   ],
   "source": [
    "#Qn1\n",
    "#Write a Program to Write The Given Strings to a File\n",
    "n1='\\n'\n",
    "lines = 'Binil', n1, 'Starly', 'is', n1, 'teaching', n1, 'Python', n1, 'today'\n",
    "\n",
    "#'open' opens a file, first arg is name, second arg is 'Write' the file which will create the file if it doesn't exist\n",
    "\n",
    "#the 'with' command is a file manager which ensures the file is always closed after writing\n",
    "\n",
    "with open(\"wk_4_practice_output\", \"w\") as practice_txt_file:\n",
    "    practice_txt_file.writelines(lines)\n",
    "\n",
    "#Assuming that encoding is 8 and not 16 or 32:\n",
    "with open(\"wk_4_practice_output\", \"r\", encoding =\"utf-8\") as next_txt_file: \n",
    "    lines = next_txt_file.readlines()\n",
    "    for line in lines:\n",
    "        print(line)\n"
   ]
  },
  {
   "cell_type": "code",
   "execution_count": 25,
   "metadata": {},
   "outputs": [
    {
     "name": "stdout",
     "output_type": "stream",
     "text": [
      "['XYZ', 'machining', 'is', 'a', 'manufacturing', 'process', 'in', 'which', 'pre-programmed', 'computer', 'software', 'dictates', 'the', 'movement', 'of', 'factory', 'tools', 'and', 'machinery.', 'The', 'process', 'can', 'be', 'used', 'to', 'control', 'a', 'range', 'of', 'complex', 'machinery,', 'from', 'grinders', 'and', 'lathes', 'to', 'mills', 'and', 'routers.', 'With', 'XYZ', 'machining,', 'three-dimensional', 'cutting', 'tasks', 'can', 'be', 'accomplished', 'in', 'a', 'single', 'set', 'of', 'prompts.\\n', '\\n', 'Short', 'for', '“computer', 'numerical', 'control,”', 'the', 'XYZ', 'process', 'runs', 'in', 'contrast', 'to', '—', 'and', 'thereby', 'supersedes', '—', 'the', 'limitations', 'of', 'manual', 'control,', 'where', 'live', 'operators', 'are', 'needed', 'to', 'prompt', 'and', 'guide', 'the', 'commands', 'of', 'machining', 'tools', 'via', 'levers,', 'buttons', 'and', 'wheels.', 'To', 'the', 'onlooker,', 'a', 'XYZ', 'system', 'might', 'resemble', 'a', 'regular', 'set', 'of', 'computer', 'components,', 'but', 'the', 'software', 'programs', 'and', 'consoles', 'employed', 'in', 'XYZ', 'machining', 'distinguish', 'it', 'from', 'all', 'other', 'forms', 'of', 'computation.\\n', '\\n', 'When', 'a', 'XYZ', 'system', 'is', 'activated,', 'the', 'desired', 'cuts', 'are', 'programmed', 'into', 'the', 'software', 'and', 'dictated', 'to', 'corresponding', 'tools', 'and', 'machinery,', 'which', 'carry', 'out', 'the', 'dimensional', 'tasks', 'as', 'specified,', 'much', 'like', 'a', 'robot.\\n', '\\n', 'In', 'XYZ', 'programming,', 'the', 'code', 'generator', 'within', 'the', 'numerical', 'system', 'will', 'often', 'assume', 'mechanisms', 'are', 'flawless,', 'despite', 'the', 'possibility', 'of', 'errors,', 'which', 'is', 'greater', 'whenever', 'a', 'XYZ', 'machine', 'is', 'directed', 'to', 'cut', 'in', 'more', 'than', 'one', 'direction', 'simultaneously.', 'The', 'placement', 'of', 'a', 'tool', 'in', 'a', 'numerical', 'control', 'system', 'is', 'outlined', 'by', 'a', 'series', 'of', 'inputs', 'known', 'as', 'the', 'part', 'program.\\n', '\\n', 'With', 'a', 'numerical', 'control', 'machine,', 'programs', 'are', 'inputted', 'via', 'punch', 'cards.', 'By', 'contrast,', 'the', 'programs', 'for', 'XYZ', 'machines', 'are', 'fed', 'to', 'computers', 'though', 'small', 'keyboards.', 'XYZ', 'programming', 'is', 'retained', 'in', 'a', 'computer’s', 'memory.', 'The', 'code', 'itself', 'is', 'written', 'and', 'edited', 'by', 'programmers.', 'Therefore,', 'XYZ', 'systems', 'offer', 'far', 'more', 'expansive', 'computational', 'capacity.', 'Best', 'of', 'all,', 'XYZ', 'systems', 'are', 'by', 'no', 'means', 'static,', 'since', 'newer', 'prompts', 'can', 'be', 'added', 'to', 'pre-existing', 'programs', 'through', 'revised', 'code.\\n', '\\n', 'In', 'XYZ', 'machines', 'are', 'operated', 'via', 'numerical', 'control,', 'wherein', 'a', 'software', 'program', 'is', 'designated', 'to', 'control', 'an', 'object.', 'The', 'language', 'behind', 'XYZ', 'machining', 'is', 'alternately', 'referred', 'to', 'as', 'G-code,', 'and', 'it’s', 'written', 'to', 'control', 'the', 'various', 'behaviors', 'of', 'a', 'corresponding', 'machine,', 'such', 'as', 'the', 'speed,', 'feed', 'rate', 'and', 'coordination.\\n', '\\n', 'Basically,', 'XYZ', 'machining', 'makes', 'it', 'possible', 'to', 'pre-program', 'the', 'speed', 'and', 'position', 'of', 'machine', 'tool', 'functions', 'and', 'run', 'them', 'via', 'software', 'in', 'repetitive,', 'predictable', 'cycles,', 'all', 'with', 'little', 'involvement', 'from', 'human', 'operators.', 'Due', 'to', 'these', 'capabilities,', 'the', 'process', 'has', 'been', 'adopted', 'across', 'all', 'corners', 'of', 'the', 'manufacturing', 'sector', 'and', 'is', 'especially', 'vital', 'in', 'the', 'areas', 'of', 'metal', 'and', 'plastic', 'production.\\n', '\\n', 'For', 'starters,', 'a', '2D', 'or', '3D', 'CAD', 'drawing', 'is', 'conceived,', 'which', 'is', 'then', 'translated', 'to', 'computer', 'code', 'for', 'the', 'XYZ', 'system', 'to', 'execute.', 'After', 'the', 'program', 'is', 'inputted,', 'the', 'operator', 'gives', 'it', 'a', 'trial', 'run', 'to', 'ensure', 'no', 'mistakes', 'are', 'present', 'in', 'the', 'coding.\\n', '\\n', 'Open/Closed-Loop', 'Machining', 'Systems\\n', 'Position', 'control', 'is', 'determined', 'through', 'an', 'open-loop', 'or', 'closed-loop', 'system.', 'With', 'the', 'former,', 'the', 'signaling', 'runs', 'in', 'a', 'single', 'direction', 'between', 'the', 'controller', 'and', 'motor.', 'With', 'a', 'closed-loop', 'system,', 'the', 'controller', 'is', 'capable', 'of', 'receiving', 'feedback,', 'which', 'makes', 'error', 'correction', 'possible.', 'Thus,', 'a', 'closed-loop', 'system', 'can', 'rectify', 'irregularities', 'in', 'velocity', 'and', 'position.\\n', '\\n', 'In', 'XYZ', 'machining,', 'movement', 'is', 'usually', 'directed', 'across', 'X', 'and', 'Y', 'axes.', 'The', 'tool,', 'in', 'turn,', 'is', 'positioned', 'and', 'guided', 'via', 'stepper', 'or', 'servo', 'motors,', 'which', 'replicate', 'exact', 'movements', 'as', 'determined', 'by', 'the', 'G-code.', 'If', 'the', 'force', 'and', 'speed', 'are', 'minimal,', 'the', 'process', 'can', 'be', 'run', 'via', 'open-loop', 'control.', 'For', 'everything', 'else,', 'closed-loop', 'control', 'is', 'necessary', 'to', 'ensure', 'the', 'speed,', 'consistency', 'and', 'accuracy', 'required', 'for', 'industrial', 'applications,', 'such', 'as', 'metalwork.\\n', '\\n', 'XYZ', 'Machining', 'is', 'Fully', 'Automated\\n', 'In', 'today’s', 'XYZ', 'protocols,', 'the', 'production', 'of', 'parts', 'via', 'pre-programmed', 'software', 'is', 'mostly', 'automated.', 'The', 'dimensions', 'for', 'a', 'given', 'part', 'are', 'set', 'into', 'place', 'with', 'computer-aided', 'design', '(CAD)', 'software', 'and', 'then', 'converted', 'into', 'an', 'actual', 'finished', 'product', 'with', 'computer-aided', 'manufacturing', '(CAM)', 'software.\\n', '\\n', 'Any', 'given', 'work', 'piece', 'could', 'necessitate', 'a', 'variety', 'of', 'machine', 'tools,', 'such', 'as', 'drills', 'and', 'cutters.', 'In', 'order', 'to', 'accommodate', 'these', 'needs,', 'many', 'of', 'today’s', 'machines', 'combine', 'several', 'different', 'functions', 'into', 'one', 'cell.', 'Alternately,', 'an', 'installation', 'might', 'consist', 'of', 'several', 'machines', 'and', 'a', 'set', 'of', 'robotic', 'hands', 'that', 'transfer', 'parts', 'from', 'one', 'application', 'to', 'another,', 'but', 'with', 'everything', 'controlled', 'by', 'the', 'same', 'program.', 'Regardless', 'of', 'the', 'setup,', 'the', 'XYZ', 'process', 'allows', 'for', 'consistency', 'in', 'parts', 'production', 'that', 'would', 'be', 'difficult,', 'if', 'not', 'impossible,', 'to', 'replicate', 'manually.\\n', '\\n', 'TYPES', 'OF', 'XYZ', 'MACHINES\\n', 'The', 'earliest', 'numerical', 'control', 'machines', 'date', 'to', 'the', '1940s', 'when', 'motors', 'were', 'first', 'employed', 'to', 'control', 'the', 'movement', 'of', 'pre-existing', 'tools.', 'As', 'technologies', 'advanced,', 'the', 'mechanisms', 'were', 'enhanced', 'with', 'analog', 'computers,', 'and', 'ultimately', 'with', 'digital', 'computers,', 'which', 'led', 'to', 'the', 'rise', 'of', 'XYZ', 'machining.\\n', '\\n', 'The', 'vast', 'majority', 'of', 'today’s', 'XYZ', 'arsenals', 'are', 'completely', 'electronic.', 'Some', 'of', 'the', 'more', 'common', 'XYZ', 'processes', 'include', 'ultrasonic', 'welding,', 'hole-punching', 'and', 'laser', 'cutting.', 'The', 'most', 'frequently', 'used', 'machines', 'in', 'XYZ', 'systems', 'include', 'the', 'following:\\n', '\\n', 'XYZ', 'Mills\\n', 'XYZ', 'mills', 'are', 'capable', 'of', 'running', 'on', 'programs', 'comprised', 'of', 'number-', 'and', 'letter-based', 'prompts,', 'which', 'guide', 'pieces', 'across', 'various', 'distances.', 'The', 'programming', 'employed', 'for', 'a', 'mill', 'machine', 'could', 'be', 'based', 'on', 'either', 'G-code', 'or', 'some', 'unique', 'language', 'developed', 'by', 'a', 'manufacturing', 'team.', 'Basic', 'mills', 'consist', 'of', 'a', 'three-axis', 'system', '(X,', 'Y', 'and', 'Z),', 'though', 'most', 'newer', 'mills', 'can', 'accommodate', 'three', 'additional', 'axes.\\n', '\\n', 'XYZ', 'machining', 'is', 'one', 'of', 'the', 'most', 'critical', 'functions', 'of', 'the', 'manufacturing', 'sector,', 'from', 'the', 'production', 'of', 'computer', 'parts', 'and', 'fasteners', 'to', 'auto', 'parts', 'and', 'aerospace', 'components.', 'Without', 'the', 'high-tech', 'capabilities', 'unique', 'to', 'XYZ', 'machines,', 'various', 'components', 'seen', 'on', 'everyday', 'household', 'items', 'would', 'be', 'nearly', 'impossible', 'to', 'produce.', 'As', 'the', 'engineers', 'who’ve', 'undergone', 'XYZ', 'machine', 'training', 'will', 'attest,', 'the', 'coding', 'that', 'makes', 'it', 'possible', 'for', 'a', 'XYZ', 'machine', 'to', 'mold', 'metal', 'parts', 'into', 'shape', 'is', 'complex.\\n', '\\n', 'At', 'Astro', 'Machine', 'Works,', 'Inc.', 'we’ve', 'specialized', 'in', 'the', 'making', 'of', 'custom', 'machines', 'and', 'fabrication', 'for', 'more', 'than', 'a', 'quarter', 'of', 'a', 'century.', 'Our', 'XYZ', 'machines', 'are', 'programmed', 'to', 'the', 'exact', 'specifications', 'of', 'each', 'customer', 'by', 'our', 'team', 'of', 'in-house', 'experts.', 'Additionally,', 'we’ve', 'expanded', 'into', 'several', 'related', 'areas', 'of', 'expertise,', 'including', 'machine', 'design,', 'panel', 'wiring,', 'reverse', 'engineering', 'and', 'metal', 'fabrication.\\n', '\\n', 'Having', 'satisfied', 'a', 'vast', 'range', 'of', 'clients', 'across', 'the', 'industrial', 'sector', 'over', 'the', 'past', '25+', 'years,', 'we', 'understand', 'the', 'importance', 'of', 'delivering', 'things', 'on', 'time', 'and', 'exactly', 'to', 'the', 'customer’s', 'specifications.', 'By', 'the', 'same', 'token,', 'we', 'understand', 'customers', 'often', 'have', 'questions', 'about', 'the', 'various', 'aspects', 'of', 'XYZ', 'machining.', 'At', 'Astro', 'Machine', 'Works,', 'Inc.,', 'we', 'make', 'it', 'a', 'point', 'to', 'answer', 'all', 'questions', 'about', 'the', 'pieces', 'and', 'parts', 'we', 'prepare', 'for', 'customers.\\n', '\\n', 'Another', 'extension', 'of', 'our', 'capabilities', 'here', 'at', 'Astro', 'Machine', 'Works,', 'Inc.', 'is', 'our', 'expertise', 'in', 'the', 'various', 'tools', 'and', 'processes', 'of', 'XYZ', 'machining,', 'from', 'lathes', 'and', 'saws', 'to', 'routers', 'and', 'turning', 'centers.', 'Furthermore,', 'our', 'reverse', 'engineering', 'service', 'allows', 'us', 'to', 'customize', 'parts', 'for', 'pre-existing', 'or', 'outdated', 'components.', 'These', 'services', 'and', 'others', 'are', 'performed', 'at', 'our', 'Ephrata,', 'Pennsylvania', 'headquarters.', 'Visit', 'our', 'website', 'for', 'more', 'information', 'on', 'our', 'machining', 'capabilities.\\n', '\\n', '\\n']\n"
     ]
    }
   ],
   "source": [
    "#Write a function CodeWord(filename) that reads a file ‘CNCFile.txt’ containing a large amount of text.\n",
    "#For every instance of the word – CNC contained in the file, replace this word with the word – ‘XYZ’. Output this new text to another file – “CodedText.txt”.\n",
    "#Also output the number of times the word – CNC appeared in the file to the console screen.\n",
    "\n",
    "rfile = open(r\"C:\\Code\\MFG598\\Practice\\Wk4_Files_Blank\\Data\\CNCFile.txt\", \"r\", encoding = \"utf-8\")\n",
    "ofile = open(r\"C:\\Code\\MFG598\\Practice\\Wk4_Files_Blank\\Data\\XVZFile.txt\", \"w\", encoding = \"utf-8\")\n",
    "\n",
    "wordList = []\n",
    "for line in rfile:\n",
    "    #leaving the contents of parentheses blank splits by line\n",
    "    bag_of_words = line.split(' ')\n",
    "    \n",
    "    for word in bag_of_words:\n",
    "        #word.upper instructs that we are only looking for upper-case letters\n",
    "        if 'CNC' in word.upper():\n",
    "            #if we use an if '\" CNC\" == word' statement, it will catch the inner contents of compound words\n",
    "            word = \"XYZ\"\n",
    "        wordList.append(word)\n",
    "#Test file output... it works!\n",
    "#print(wordList)\n",
    "\n",
    "#Don't actually have to close rfile, but it does clear up buffer space.\n",
    "rfile.close()\n",
    "#Must close ofile in order to access it.\n",
    "ofile.close()\n"
   ]
  },
  {
   "cell_type": "code",
   "execution_count": null,
   "metadata": {},
   "outputs": [],
   "source": [
    "# QN3:\n",
    "# A: Read the contents (names of the files) of a folder that contains files and sub-folders\n",
    "# B: Calculate the number of JPEG and JSON type files contained. No other file types to be read.\n",
    "# C: Print the file sizes of only the JPEG files contained in the folder\n",
    "# '''\n",
    "\n",
    "import os\n",
    "#Let's find the file size and extensions...\n",
    "import zipfile as zp\n",
    "\n",
    "zpName = \"C:\\Code\\MFG598\\Practice\\Wk4_Files_Blank\\Qn3_Data_Content\""
   ]
  },
  {
   "cell_type": "code",
   "execution_count": null,
   "metadata": {},
   "outputs": [],
   "source": [
    "# Qn4:\n",
    "# A: Read the contents of all the JSON files within the sample folder.\n",
    "# B: Read all of the volume values inside each of the json files.\n",
    "# C: Report on the total volume by summing all of these values."
   ]
  },
  {
   "cell_type": "code",
   "execution_count": null,
   "metadata": {},
   "outputs": [],
   "source": [
    "# #Qn5\n",
    "# A: Extract the content of the zip file.\n",
    "# B: Count the number of units sold\n",
    "# C: Find the country that obtained the maximum revenue\n",
    "# D: Output a JSON file that lists each Item_Type and the countries that sold those items\n",
    "#    as a dictionary, in the following format \n",
    "#    ItemType: List of countries that sold that item "
   ]
  },
  {
   "cell_type": "code",
   "execution_count": null,
   "metadata": {},
   "outputs": [],
   "source": []
  }
 ],
 "metadata": {
  "kernelspec": {
   "display_name": "base",
   "language": "python",
   "name": "python3"
  },
  "language_info": {
   "codemirror_mode": {
    "name": "ipython",
    "version": 3
   },
   "file_extension": ".py",
   "mimetype": "text/x-python",
   "name": "python",
   "nbconvert_exporter": "python",
   "pygments_lexer": "ipython3",
   "version": "3.9.12"
  },
  "orig_nbformat": 4,
  "vscode": {
   "interpreter": {
    "hash": "504af9dbaeab241701b42e0a4a2f2792546a36888d7345416987d6285d9bc5c8"
   }
  }
 },
 "nbformat": 4,
 "nbformat_minor": 2
}

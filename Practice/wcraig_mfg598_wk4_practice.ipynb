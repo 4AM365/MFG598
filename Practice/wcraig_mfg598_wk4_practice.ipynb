{
 "cells": [
  {
   "cell_type": "code",
   "execution_count": 17,
   "metadata": {},
   "outputs": [
    {
     "name": "stdout",
     "output_type": "stream",
     "text": [
      "Binil\n",
      "\n",
      "Starlyis\n",
      "\n",
      "teaching\n",
      "\n",
      "Python\n",
      "\n",
      "today\n"
     ]
    }
   ],
   "source": [
    "#Qn1\n",
    "#Write a Program to Write The Given Strings to a File\n",
    "n1='\\n'\n",
    "lines = 'Binil', n1, 'Starly', 'is', n1, 'teaching', n1, 'Python', n1, 'today'\n",
    "\n",
    "#'open' opens a file, first arg is name, second arg is 'Write' the file which will create the file if it doesn't exist\n",
    "\n",
    "#the 'with' command is a file manager which ensures the file is always closed after writing\n",
    "\n",
    "with open(\"wk_4_practice_output\", \"w\") as practice_txt_file:\n",
    "    practice_txt_file.writelines(lines)\n",
    "\n",
    "#Assuming that encoding is 8 and not 16 or 32:\n",
    "with open(\"wk_4_practice_output\", \"r\", encoding =\"utf-8\") as next_txt_file: \n",
    "    lines = next_txt_file.readlines()\n",
    "    for line in lines:\n",
    "        print(line)\n"
   ]
  },
  {
   "cell_type": "code",
   "execution_count": 25,
   "metadata": {},
   "outputs": [
    {
     "name": "stdout",
     "output_type": "stream",
     "text": [
      "['XYZ', 'machining', 'is', 'a', 'manufacturing', 'process', 'in', 'which', 'pre-programmed', 'computer', 'software', 'dictates', 'the', 'movement', 'of', 'factory', 'tools', 'and', 'machinery.', 'The', 'process', 'can', 'be', 'used', 'to', 'control', 'a', 'range', 'of', 'complex', 'machinery,', 'from', 'grinders', 'and', 'lathes', 'to', 'mills', 'and', 'routers.', 'With', 'XYZ', 'machining,', 'three-dimensional', 'cutting', 'tasks', 'can', 'be', 'accomplished', 'in', 'a', 'single', 'set', 'of', 'prompts.\\n', '\\n', 'Short', 'for', '“computer', 'numerical', 'control,”', 'the', 'XYZ', 'process', 'runs', 'in', 'contrast', 'to', '—', 'and', 'thereby', 'supersedes', '—', 'the', 'limitations', 'of', 'manual', 'control,', 'where', 'live', 'operators', 'are', 'needed', 'to', 'prompt', 'and', 'guide', 'the', 'commands', 'of', 'machining', 'tools', 'via', 'levers,', 'buttons', 'and', 'wheels.', 'To', 'the', 'onlooker,', 'a', 'XYZ', 'system', 'might', 'resemble', 'a', 'regular', 'set', 'of', 'computer', 'components,', 'but', 'the', 'software', 'programs', 'and', 'consoles', 'employed', 'in', 'XYZ', 'machining', 'distinguish', 'it', 'from', 'all', 'other', 'forms', 'of', 'computation.\\n', '\\n', 'When', 'a', 'XYZ', 'system', 'is', 'activated,', 'the', 'desired', 'cuts', 'are', 'programmed', 'into', 'the', 'software', 'and', 'dictated', 'to', 'corresponding', 'tools', 'and', 'machinery,', 'which', 'carry', 'out', 'the', 'dimensional', 'tasks', 'as', 'specified,', 'much', 'like', 'a', 'robot.\\n', '\\n', 'In', 'XYZ', 'programming,', 'the', 'code', 'generator', 'within', 'the', 'numerical', 'system', 'will', 'often', 'assume', 'mechanisms', 'are', 'flawless,', 'despite', 'the', 'possibility', 'of', 'errors,', 'which', 'is', 'greater', 'whenever', 'a', 'XYZ', 'machine', 'is', 'directed', 'to', 'cut', 'in', 'more', 'than', 'one', 'direction', 'simultaneously.', 'The', 'placement', 'of', 'a', 'tool', 'in', 'a', 'numerical', 'control', 'system', 'is', 'outlined', 'by', 'a', 'series', 'of', 'inputs', 'known', 'as', 'the', 'part', 'program.\\n', '\\n', 'With', 'a', 'numerical', 'control', 'machine,', 'programs', 'are', 'inputted', 'via', 'punch', 'cards.', 'By', 'contrast,', 'the', 'programs', 'for', 'XYZ', 'machines', 'are', 'fed', 'to', 'computers', 'though', 'small', 'keyboards.', 'XYZ', 'programming', 'is', 'retained', 'in', 'a', 'computer’s', 'memory.', 'The', 'code', 'itself', 'is', 'written', 'and', 'edited', 'by', 'programmers.', 'Therefore,', 'XYZ', 'systems', 'offer', 'far', 'more', 'expansive', 'computational', 'capacity.', 'Best', 'of', 'all,', 'XYZ', 'systems', 'are', 'by', 'no', 'means', 'static,', 'since', 'newer', 'prompts', 'can', 'be', 'added', 'to', 'pre-existing', 'programs', 'through', 'revised', 'code.\\n', '\\n', 'In', 'XYZ', 'machines', 'are', 'operated', 'via', 'numerical', 'control,', 'wherein', 'a', 'software', 'program', 'is', 'designated', 'to', 'control', 'an', 'object.', 'The', 'language', 'behind', 'XYZ', 'machining', 'is', 'alternately', 'referred', 'to', 'as', 'G-code,', 'and', 'it’s', 'written', 'to', 'control', 'the', 'various', 'behaviors', 'of', 'a', 'corresponding', 'machine,', 'such', 'as', 'the', 'speed,', 'feed', 'rate', 'and', 'coordination.\\n', '\\n', 'Basically,', 'XYZ', 'machining', 'makes', 'it', 'possible', 'to', 'pre-program', 'the', 'speed', 'and', 'position', 'of', 'machine', 'tool', 'functions', 'and', 'run', 'them', 'via', 'software', 'in', 'repetitive,', 'predictable', 'cycles,', 'all', 'with', 'little', 'involvement', 'from', 'human', 'operators.', 'Due', 'to', 'these', 'capabilities,', 'the', 'process', 'has', 'been', 'adopted', 'across', 'all', 'corners', 'of', 'the', 'manufacturing', 'sector', 'and', 'is', 'especially', 'vital', 'in', 'the', 'areas', 'of', 'metal', 'and', 'plastic', 'production.\\n', '\\n', 'For', 'starters,', 'a', '2D', 'or', '3D', 'CAD', 'drawing', 'is', 'conceived,', 'which', 'is', 'then', 'translated', 'to', 'computer', 'code', 'for', 'the', 'XYZ', 'system', 'to', 'execute.', 'After', 'the', 'program', 'is', 'inputted,', 'the', 'operator', 'gives', 'it', 'a', 'trial', 'run', 'to', 'ensure', 'no', 'mistakes', 'are', 'present', 'in', 'the', 'coding.\\n', '\\n', 'Open/Closed-Loop', 'Machining', 'Systems\\n', 'Position', 'control', 'is', 'determined', 'through', 'an', 'open-loop', 'or', 'closed-loop', 'system.', 'With', 'the', 'former,', 'the', 'signaling', 'runs', 'in', 'a', 'single', 'direction', 'between', 'the', 'controller', 'and', 'motor.', 'With', 'a', 'closed-loop', 'system,', 'the', 'controller', 'is', 'capable', 'of', 'receiving', 'feedback,', 'which', 'makes', 'error', 'correction', 'possible.', 'Thus,', 'a', 'closed-loop', 'system', 'can', 'rectify', 'irregularities', 'in', 'velocity', 'and', 'position.\\n', '\\n', 'In', 'XYZ', 'machining,', 'movement', 'is', 'usually', 'directed', 'across', 'X', 'and', 'Y', 'axes.', 'The', 'tool,', 'in', 'turn,', 'is', 'positioned', 'and', 'guided', 'via', 'stepper', 'or', 'servo', 'motors,', 'which', 'replicate', 'exact', 'movements', 'as', 'determined', 'by', 'the', 'G-code.', 'If', 'the', 'force', 'and', 'speed', 'are', 'minimal,', 'the', 'process', 'can', 'be', 'run', 'via', 'open-loop', 'control.', 'For', 'everything', 'else,', 'closed-loop', 'control', 'is', 'necessary', 'to', 'ensure', 'the', 'speed,', 'consistency', 'and', 'accuracy', 'required', 'for', 'industrial', 'applications,', 'such', 'as', 'metalwork.\\n', '\\n', 'XYZ', 'Machining', 'is', 'Fully', 'Automated\\n', 'In', 'today’s', 'XYZ', 'protocols,', 'the', 'production', 'of', 'parts', 'via', 'pre-programmed', 'software', 'is', 'mostly', 'automated.', 'The', 'dimensions', 'for', 'a', 'given', 'part', 'are', 'set', 'into', 'place', 'with', 'computer-aided', 'design', '(CAD)', 'software', 'and', 'then', 'converted', 'into', 'an', 'actual', 'finished', 'product', 'with', 'computer-aided', 'manufacturing', '(CAM)', 'software.\\n', '\\n', 'Any', 'given', 'work', 'piece', 'could', 'necessitate', 'a', 'variety', 'of', 'machine', 'tools,', 'such', 'as', 'drills', 'and', 'cutters.', 'In', 'order', 'to', 'accommodate', 'these', 'needs,', 'many', 'of', 'today’s', 'machines', 'combine', 'several', 'different', 'functions', 'into', 'one', 'cell.', 'Alternately,', 'an', 'installation', 'might', 'consist', 'of', 'several', 'machines', 'and', 'a', 'set', 'of', 'robotic', 'hands', 'that', 'transfer', 'parts', 'from', 'one', 'application', 'to', 'another,', 'but', 'with', 'everything', 'controlled', 'by', 'the', 'same', 'program.', 'Regardless', 'of', 'the', 'setup,', 'the', 'XYZ', 'process', 'allows', 'for', 'consistency', 'in', 'parts', 'production', 'that', 'would', 'be', 'difficult,', 'if', 'not', 'impossible,', 'to', 'replicate', 'manually.\\n', '\\n', 'TYPES', 'OF', 'XYZ', 'MACHINES\\n', 'The', 'earliest', 'numerical', 'control', 'machines', 'date', 'to', 'the', '1940s', 'when', 'motors', 'were', 'first', 'employed', 'to', 'control', 'the', 'movement', 'of', 'pre-existing', 'tools.', 'As', 'technologies', 'advanced,', 'the', 'mechanisms', 'were', 'enhanced', 'with', 'analog', 'computers,', 'and', 'ultimately', 'with', 'digital', 'computers,', 'which', 'led', 'to', 'the', 'rise', 'of', 'XYZ', 'machining.\\n', '\\n', 'The', 'vast', 'majority', 'of', 'today’s', 'XYZ', 'arsenals', 'are', 'completely', 'electronic.', 'Some', 'of', 'the', 'more', 'common', 'XYZ', 'processes', 'include', 'ultrasonic', 'welding,', 'hole-punching', 'and', 'laser', 'cutting.', 'The', 'most', 'frequently', 'used', 'machines', 'in', 'XYZ', 'systems', 'include', 'the', 'following:\\n', '\\n', 'XYZ', 'Mills\\n', 'XYZ', 'mills', 'are', 'capable', 'of', 'running', 'on', 'programs', 'comprised', 'of', 'number-', 'and', 'letter-based', 'prompts,', 'which', 'guide', 'pieces', 'across', 'various', 'distances.', 'The', 'programming', 'employed', 'for', 'a', 'mill', 'machine', 'could', 'be', 'based', 'on', 'either', 'G-code', 'or', 'some', 'unique', 'language', 'developed', 'by', 'a', 'manufacturing', 'team.', 'Basic', 'mills', 'consist', 'of', 'a', 'three-axis', 'system', '(X,', 'Y', 'and', 'Z),', 'though', 'most', 'newer', 'mills', 'can', 'accommodate', 'three', 'additional', 'axes.\\n', '\\n', 'XYZ', 'machining', 'is', 'one', 'of', 'the', 'most', 'critical', 'functions', 'of', 'the', 'manufacturing', 'sector,', 'from', 'the', 'production', 'of', 'computer', 'parts', 'and', 'fasteners', 'to', 'auto', 'parts', 'and', 'aerospace', 'components.', 'Without', 'the', 'high-tech', 'capabilities', 'unique', 'to', 'XYZ', 'machines,', 'various', 'components', 'seen', 'on', 'everyday', 'household', 'items', 'would', 'be', 'nearly', 'impossible', 'to', 'produce.', 'As', 'the', 'engineers', 'who’ve', 'undergone', 'XYZ', 'machine', 'training', 'will', 'attest,', 'the', 'coding', 'that', 'makes', 'it', 'possible', 'for', 'a', 'XYZ', 'machine', 'to', 'mold', 'metal', 'parts', 'into', 'shape', 'is', 'complex.\\n', '\\n', 'At', 'Astro', 'Machine', 'Works,', 'Inc.', 'we’ve', 'specialized', 'in', 'the', 'making', 'of', 'custom', 'machines', 'and', 'fabrication', 'for', 'more', 'than', 'a', 'quarter', 'of', 'a', 'century.', 'Our', 'XYZ', 'machines', 'are', 'programmed', 'to', 'the', 'exact', 'specifications', 'of', 'each', 'customer', 'by', 'our', 'team', 'of', 'in-house', 'experts.', 'Additionally,', 'we’ve', 'expanded', 'into', 'several', 'related', 'areas', 'of', 'expertise,', 'including', 'machine', 'design,', 'panel', 'wiring,', 'reverse', 'engineering', 'and', 'metal', 'fabrication.\\n', '\\n', 'Having', 'satisfied', 'a', 'vast', 'range', 'of', 'clients', 'across', 'the', 'industrial', 'sector', 'over', 'the', 'past', '25+', 'years,', 'we', 'understand', 'the', 'importance', 'of', 'delivering', 'things', 'on', 'time', 'and', 'exactly', 'to', 'the', 'customer’s', 'specifications.', 'By', 'the', 'same', 'token,', 'we', 'understand', 'customers', 'often', 'have', 'questions', 'about', 'the', 'various', 'aspects', 'of', 'XYZ', 'machining.', 'At', 'Astro', 'Machine', 'Works,', 'Inc.,', 'we', 'make', 'it', 'a', 'point', 'to', 'answer', 'all', 'questions', 'about', 'the', 'pieces', 'and', 'parts', 'we', 'prepare', 'for', 'customers.\\n', '\\n', 'Another', 'extension', 'of', 'our', 'capabilities', 'here', 'at', 'Astro', 'Machine', 'Works,', 'Inc.', 'is', 'our', 'expertise', 'in', 'the', 'various', 'tools', 'and', 'processes', 'of', 'XYZ', 'machining,', 'from', 'lathes', 'and', 'saws', 'to', 'routers', 'and', 'turning', 'centers.', 'Furthermore,', 'our', 'reverse', 'engineering', 'service', 'allows', 'us', 'to', 'customize', 'parts', 'for', 'pre-existing', 'or', 'outdated', 'components.', 'These', 'services', 'and', 'others', 'are', 'performed', 'at', 'our', 'Ephrata,', 'Pennsylvania', 'headquarters.', 'Visit', 'our', 'website', 'for', 'more', 'information', 'on', 'our', 'machining', 'capabilities.\\n', '\\n', '\\n']\n"
     ]
    }
   ],
   "source": [
    "#Write a function CodeWord(filename) that reads a file ‘CNCFile.txt’ containing a large amount of text.\n",
    "#For every instance of the word – CNC contained in the file, replace this word with the word – ‘XYZ’. Output this new text to another file – “CodedText.txt”.\n",
    "#Also output the number of times the word – CNC appeared in the file to the console screen.\n",
    "\n",
    "rfile = open(r\"C:\\Code\\MFG598\\Practice\\Wk4_Files_Blank\\Data\\CNCFile.txt\", \"r\", encoding = \"utf-8\")\n",
    "ofile = open(r\"C:\\Code\\MFG598\\Practice\\Wk4_Files_Blank\\Data\\XVZFile.txt\", \"w\", encoding = \"utf-8\")\n",
    "\n",
    "wordList = []\n",
    "for line in rfile:\n",
    "    #leaving the contents of parentheses blank splits by line\n",
    "    bag_of_words = line.split(' ')\n",
    "    \n",
    "    for word in bag_of_words:\n",
    "        #word.upper instructs that we are only looking for upper-case letters\n",
    "        if 'CNC' in word.upper():\n",
    "            #if we use an if '\" CNC\" == word' statement, it will catch the inner contents of compound words\n",
    "            word = \"XYZ\"\n",
    "        wordList.append(word)\n",
    "#Test file output... it works!\n",
    "#print(wordList)\n",
    "\n",
    "#Don't actually have to close rfile, but it does clear up buffer space.\n",
    "rfile.close()\n",
    "#Must close ofile in order to access it.\n",
    "ofile.close()\n"
   ]
  },
  {
   "cell_type": "code",
   "execution_count": 43,
   "metadata": {},
   "outputs": [
    {
     "name": "stdout",
     "output_type": "stream",
     "text": [
      "The number of .json files is: 30\n",
      "The number of .jpg files is: 30\n",
      "000dabbf-3ba4-44b7-b42b-1efb7065e6d1.jpg\n",
      "00a51dcb-276f-4529-b5e5-69a5f7fa27a3.jpg\n",
      "00aa9d3a-779a-4d41-9728-44ccc97cbce5.jpg\n",
      "00ac27ad-dd1b-4137-9aa6-dc04ac8586b4.jpg\n",
      "00ae1d52-9267-473a-9e8c-dbf7661bc573.jpg\n",
      "00b6a7b1-c182-43c2-b6f5-d22207f143b2.jpg\n",
      "00b9126a-227a-43a1-82e5-f46b3baed713.jpg\n",
      "00b9b926-9ceb-4693-a9d8-828c089cd9fb.jpg\n",
      "00b9cb99-2620-4ef7-93dc-ce3f07cdcc16.jpg\n",
      "00c9c470-aae4-4da7-9cb6-50435daf4608.jpg\n",
      "00cf1538-6f3d-41fb-a6ce-86c8127e5efe.jpg\n",
      "00d2b983-1b73-4177-bbf6-ebfab5bc0e2a.jpg\n",
      "00d70397-8072-4131-8057-cd424844d50c.jpg\n",
      "00d722be-8000-4cb5-b2b6-0883b301d4e6.jpg\n",
      "00dd4e83-2687-4909-9e27-485b7943bec7.jpg\n",
      "00e074a5-e605-4903-8b0c-d4613da1e6cb.jpg\n",
      "00ee185b-abe6-426d-8178-64b61acfc861.jpg\n",
      "00f5c10d-a498-42b1-9196-eec8dbefb9be.jpg\n",
      "00fcb422-49b0-475c-8fdf-6a4982343e1a.jpg\n",
      "0a0b5e6b-734a-40b4-9fa2-d6bff769868a.jpg\n",
      "0a2b7bd7-4a68-4f82-bbba-d0146bcaa0dd.jpg\n",
      "0a3f2bc6-eb42-4859-8fea-0c56bb280ed2.jpg\n",
      "0a4dc369-56b4-4030-89c3-80b76fccc55c.jpg\n",
      "0a4fef1b-11f8-4cb9-a046-74621fe574ad.jpg\n",
      "0a5b7c84-2feb-4eae-aba3-931b5f2014a9.jpg\n",
      "0a5e7b40-b294-4cbc-be54-02afe60c0857.jpg\n",
      "0a5f7082-a057-44b0-ad1d-644fbc113a3a.jpg\n",
      "0a5fc57b-22f6-4f29-9928-eea7d4df2d13.jpg\n",
      "0a6cbacc-c799-4eee-914c-33f8e76f7df4.jpg\n",
      "0a6cdb93-7530-4c60-9cc0-7f1cbae661fd.jpg\n",
      "000dabbf-3ba4-44b7-b42b-1efb7065e6d1.jpg\n",
      "00aa9d3a-779a-4d41-9728-44ccc97cbce5.jpg\n",
      "00ac27ad-dd1b-4137-9aa6-dc04ac8586b4.jpg\n",
      "00b9cb99-2620-4ef7-93dc-ce3f07cdcc16.jpg\n",
      "0a0b5e6b-734a-40b4-9fa2-d6bff769868a.jpg\n",
      "0a5b7c84-2feb-4eae-aba3-931b5f2014a9.jpg\n",
      "0a5f7082-a057-44b0-ad1d-644fbc113a3a.jpg\n",
      "00b6a7b1-c182-43c2-b6f5-d22207f143b2.jpg\n",
      "00c9c470-aae4-4da7-9cb6-50435daf4608.jpg\n",
      "00cf1538-6f3d-41fb-a6ce-86c8127e5efe.jpg\n",
      "00d2b983-1b73-4177-bbf6-ebfab5bc0e2a.jpg\n",
      "00d70397-8072-4131-8057-cd424844d50c.jpg\n",
      "00d722be-8000-4cb5-b2b6-0883b301d4e6.jpg\n",
      "00e074a5-e605-4903-8b0c-d4613da1e6cb.jpg\n",
      "00f5c10d-a498-42b1-9196-eec8dbefb9be.jpg\n",
      "00fcb422-49b0-475c-8fdf-6a4982343e1a.jpg\n",
      "0a4dc369-56b4-4030-89c3-80b76fccc55c.jpg\n",
      "0a4fef1b-11f8-4cb9-a046-74621fe574ad.jpg\n",
      "0a5e7b40-b294-4cbc-be54-02afe60c0857.jpg\n",
      "0a6cbacc-c799-4eee-914c-33f8e76f7df4.jpg\n",
      "0a6cdb93-7530-4c60-9cc0-7f1cbae661fd.jpg\n",
      "[12.9697265625, 15.8115234375, 21.6376953125, 22.4990234375, 8.609375, 10.67578125, 14.9716796875, 8.1201171875, 14.2197265625, 16.9072265625, 12.0009765625, 10.3408203125, 17.9013671875, 16.990234375, 15.099609375, 9.1796875, 16.125, 15.8203125, 9.9306640625, 15.4501953125, 17.3828125, 17.66015625, 9.154296875, 10.0361328125, 11.7607421875, 17.4765625, 18.33984375, 12.3115234375, 14.1845703125, 10.744140625, 12.9697265625, 21.6376953125, 22.4990234375, 14.2197265625, 15.4501953125, 11.7607421875, 18.33984375, 10.67578125, 16.9072265625, 12.0009765625, 10.3408203125, 17.9013671875, 16.990234375, 9.1796875, 15.8203125, 9.9306640625, 9.154296875, 10.0361328125, 17.4765625, 14.1845703125, 10.744140625]\n"
     ]
    }
   ],
   "source": [
    "# QN3:\n",
    "# A: Read the contents (names of the files) of a folder that contains files and sub-folders\n",
    "# B: Calculate the number of JPEG and JSON type files contained. No other file types to be read.\n",
    "# C: Print the file sizes of only the JPEG files contained in the folder\n",
    "# '''\n",
    "\n",
    "import os\n",
    "#Let's find the file size and extensions...\n",
    "import zipfile as zp\n",
    "\n",
    "zpName = \"C:\\Code\\MFG598\\Practice\\Wk4_Files_Blank\\Qn3_Data_Content.zip\"\n",
    "zpfile = zp.ZipFile(zpName, 'r')\n",
    "zpfile.extractall(\"Metadata/\")\n",
    "\n",
    "path = r\"Metadata/JSON\"\n",
    "jsonNameList = [jsonfile for jsonfile in os.listdir(path) if jsonfile.endswith('.json')]\n",
    "\n",
    "print(\"The number of .json files is:\", len(jsonNameList))\n",
    "\n",
    "#This code does not look at subfolders, so don't use this if we have that! There is a subdirectory os.walk command.\n",
    "path = r\"Metadata/JPEG\"\n",
    "jpegNameList = [jpegfile for jpegfile in os.listdir(path) if jpegfile.endswith('.jpg')]\n",
    "\n",
    "print(\"The number of .jpg files is:\", len(jpegNameList))\n",
    "\n",
    "\n",
    "def getFileSize(path):\n",
    "    fileNames = []\n",
    "    fileSizes = []\n",
    "\n",
    "    for root, dirs, files in os.walk(path):\n",
    "        for file in files:\n",
    "            if '.jpeg' or '.jpg' in file:\n",
    "                print(file)\n",
    "                #Need to make sure that os.path actually looks into the subfolders here.\n",
    "                fSize = os.path.getsize(os.path.join(root,file))\n",
    "                fileNames.append(file)\n",
    "                #Gets us kilobytes, not bytes\n",
    "                fileSizes.append(fSize/1024)\n",
    "\n",
    "            else:\n",
    "                pass\n",
    "    return fileNames, fileSizes\n",
    "\n",
    "fileNames, fileSizes = getFileSize(path)\n",
    "print(fileSizes)"
   ]
  },
  {
   "cell_type": "code",
   "execution_count": 61,
   "metadata": {},
   "outputs": [
    {
     "name": "stdout",
     "output_type": "stream",
     "text": [
      "69374495.76274523\n"
     ]
    }
   ],
   "source": [
    "# Qn4:\n",
    "# A: Read the contents of all the JSON files within the sample folder.\n",
    "# B: Read all of the volume values inside each of the json files.\n",
    "# C: Report on the total volume by summing all of these values.\n",
    "import json\n",
    "import os\n",
    "import zipfile\n",
    "\n",
    "def extract_volumes(zip_file, key):\n",
    "    volume = []\n",
    "    with zipfile.ZipFile(zip_file, \"r\") as zf:\n",
    "        for filename in zf.namelist():\n",
    "            if filename.endswith(\".json\"):\n",
    "                with zf.open(filename) as json_file:\n",
    "                    data = json.loads(json_file.read().decode(\"utf-8\"))\n",
    "                    value = data.get(key)\n",
    "                    if value:\n",
    "                        volume.append(value)\n",
    "    return volume\n",
    "\n",
    "zip_file = \"C:\\Code\\MFG598\\Practice\\Wk4_Files_Blank\\Qn3_Data_Content.zip\"\n",
    "key = \"volume\"\n",
    "volume_sum = sum(extract_volumes(zip_file, key))\n",
    "print(volume_sum)"
   ]
  },
  {
   "cell_type": "code",
   "execution_count": null,
   "metadata": {},
   "outputs": [],
   "source": [
    "# #Qn5\n",
    "# A: Extract the content of the zip file.\n",
    "# B: Count the number of units sold\n",
    "# C: Find the country that obtained the maximum revenue\n",
    "# D: Output a JSON file that lists each Item_Type and the countries that sold those items\n",
    "#    as a dictionary, in the following format \n",
    "#    ItemType: List of countries that sold that item \n",
    "\n",
    "\n",
    "import zipfile\n",
    "import os\n",
    "import json\n",
    "import csv\n",
    "\n",
    "units_sold = []\n",
    "\n",
    "zipped_file = \"C:\\Code\\MFG598\\Practice\\Wk4_Files_Blank\\5000-Sales-Records.zip\"\n",
    "key = \"Units Sold\""
   ]
  },
  {
   "cell_type": "code",
   "execution_count": null,
   "metadata": {},
   "outputs": [],
   "source": []
  }
 ],
 "metadata": {
  "kernelspec": {
   "display_name": "base",
   "language": "python",
   "name": "python3"
  },
  "language_info": {
   "codemirror_mode": {
    "name": "ipython",
    "version": 3
   },
   "file_extension": ".py",
   "mimetype": "text/x-python",
   "name": "python",
   "nbconvert_exporter": "python",
   "pygments_lexer": "ipython3",
   "version": "3.9.12 (main, Apr  4 2022, 05:22:27) [MSC v.1916 64 bit (AMD64)]"
  },
  "orig_nbformat": 4,
  "vscode": {
   "interpreter": {
    "hash": "504af9dbaeab241701b42e0a4a2f2792546a36888d7345416987d6285d9bc5c8"
   }
  }
 },
 "nbformat": 4,
 "nbformat_minor": 2
}

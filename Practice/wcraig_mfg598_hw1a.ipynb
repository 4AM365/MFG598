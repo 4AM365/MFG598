{
 "cells": [
  {
   "cell_type": "code",
   "execution_count": null,
   "metadata": {},
   "outputs": [],
   "source": [
    "# number = input(\"What is 9 subtracted from 15:\")\n",
    "# newNumber = number * 2\n",
    "# print('The final result is:{}'.format(newNumber)) # using the format command\n",
    "\n",
    "#What is wrong with the code?\n",
    "#15-9 = 6\n"
   ]
  },
  {
   "cell_type": "code",
   "execution_count": 1,
   "metadata": {},
   "outputs": [
    {
     "name": "stdout",
     "output_type": "stream",
     "text": [
      "around  1995-01-14\n"
     ]
    }
   ],
   "source": [
    "#Create a script to ask the user their age and output the year in which they were born\n",
    "from dateutil.relativedelta import relativedelta\n",
    "from datetime import date\n",
    "date = date.today()\n",
    "age = int(input(\"Enter your age\"))\n",
    "output = date - relativedelta(years = age)\n",
    "print(\"around \", output)\n"
   ]
  },
  {
   "cell_type": "code",
   "execution_count": 18,
   "metadata": {},
   "outputs": [
    {
     "name": "stdout",
     "output_type": "stream",
     "text": [
      "The temperature in celsius is -3\n"
     ]
    }
   ],
   "source": [
    "temp = int(input(\"Enter temperature in Fahrenheit: \\n\"))\n",
    "print(\"The temperature in celsius is\", round(((5/9)*(temp-32))))"
   ]
  },
  {
   "cell_type": "code",
   "execution_count": 20,
   "metadata": {},
   "outputs": [
    {
     "name": "stdout",
     "output_type": "stream",
     "text": [
      "Hi, Will, your Craig is 'awesome'\n"
     ]
    }
   ],
   "source": [
    "first = input(\"What is your first name?\")\n",
    "second = input(\"What is your last name?\")\n",
    "print(f\"Hi, {first}, your {second} is 'awesome'\")"
   ]
  },
  {
   "cell_type": "code",
   "execution_count": 26,
   "metadata": {},
   "outputs": [
    {
     "name": "stdout",
     "output_type": "stream",
     "text": [
      "We will assume that Prof Starly and his children equally distribute the beans, as their need is equal.\n",
      "Beans per enthusiast: 33\n",
      "Wife will receive the remaining beans. The number remaining is: 1\n"
     ]
    }
   ],
   "source": [
    "numbeans = 100\n",
    "num_bean_enthusiasts = 3\n",
    "beansper = numbeans//num_bean_enthusiasts\n",
    "beansrem = numbeans%num_bean_enthusiasts\n",
    "#Wife gets remaining jellybeans\n",
    "#P.Starly gets most jellybeans\n",
    "print(\"We will assume that Prof Starly and his children equally distribute the beans, as their need is equal.\")\n",
    "print(f\"Beans per enthusiast: {beansper}\")\n",
    "print(f\"Wife will receive the remaining beans. The number remaining is: {beansrem}\")"
   ]
  }
 ],
 "metadata": {
  "kernelspec": {
   "display_name": "Python 3",
   "language": "python",
   "name": "python3"
  },
  "language_info": {
   "codemirror_mode": {
    "name": "ipython",
    "version": 3
   },
   "file_extension": ".py",
   "mimetype": "text/x-python",
   "name": "python",
   "nbconvert_exporter": "python",
   "pygments_lexer": "ipython3",
   "version": "3.8.0 (tags/v3.8.0:fa919fd, Oct 14 2019, 19:37:50) [MSC v.1916 64 bit (AMD64)]"
  },
  "orig_nbformat": 4,
  "vscode": {
   "interpreter": {
    "hash": "7c32c7b24ea8806c432cc49cb6898d809a06b04eff29c7fc2e20d03675c8ebca"
   }
  }
 },
 "nbformat": 4,
 "nbformat_minor": 2
}

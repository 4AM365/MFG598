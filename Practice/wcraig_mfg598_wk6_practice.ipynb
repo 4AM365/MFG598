{
 "cells": [
  {
   "cell_type": "code",
   "execution_count": 15,
   "metadata": {},
   "outputs": [
    {
     "name": "stdout",
     "output_type": "stream",
     "text": [
      "Nodes of graph:\n",
      "dict_keys(['a', 'b', 'c', 'd', 'e', 'f'])\n",
      "Arc of graph:\n"
     ]
    },
    {
     "ename": "AttributeError",
     "evalue": "'Graph' object has no attribute 'graph_dict'",
     "output_type": "error",
     "traceback": [
      "\u001b[1;31m---------------------------------------------------------------------------\u001b[0m",
      "\u001b[1;31mAttributeError\u001b[0m                            Traceback (most recent call last)",
      "\u001b[1;32mc:\\Code\\MFG598\\Practice\\wcraig_mfg598_wk6_practice.ipynb Cell 1\u001b[0m in \u001b[0;36m<cell line: 90>\u001b[1;34m()\u001b[0m\n\u001b[0;32m     <a href='vscode-notebook-cell:/c%3A/Code/MFG598/Practice/wcraig_mfg598_wk6_practice.ipynb#W0sZmlsZQ%3D%3D?line=86'>87</a>\u001b[0m     \u001b[39mprint\u001b[39m(graph)\n\u001b[0;32m     <a href='vscode-notebook-cell:/c%3A/Code/MFG598/Practice/wcraig_mfg598_wk6_practice.ipynb#W0sZmlsZQ%3D%3D?line=88'>89</a>\u001b[0m \u001b[39m#main program\u001b[39;00m\n\u001b[1;32m---> <a href='vscode-notebook-cell:/c%3A/Code/MFG598/Practice/wcraig_mfg598_wk6_practice.ipynb#W0sZmlsZQ%3D%3D?line=89'>90</a>\u001b[0m main()\n",
      "\u001b[1;32mc:\\Code\\MFG598\\Practice\\wcraig_mfg598_wk6_practice.ipynb Cell 1\u001b[0m in \u001b[0;36mmain\u001b[1;34m()\u001b[0m\n\u001b[0;32m     <a href='vscode-notebook-cell:/c%3A/Code/MFG598/Practice/wcraig_mfg598_wk6_practice.ipynb#W0sZmlsZQ%3D%3D?line=57'>58</a>\u001b[0m \u001b[39mprint\u001b[39m(graph\u001b[39m.\u001b[39mnodes())\n\u001b[0;32m     <a href='vscode-notebook-cell:/c%3A/Code/MFG598/Practice/wcraig_mfg598_wk6_practice.ipynb#W0sZmlsZQ%3D%3D?line=59'>60</a>\u001b[0m \u001b[39mprint\u001b[39m(\u001b[39m\"\u001b[39m\u001b[39mArc of graph:\u001b[39m\u001b[39m\"\u001b[39m)\n\u001b[1;32m---> <a href='vscode-notebook-cell:/c%3A/Code/MFG598/Practice/wcraig_mfg598_wk6_practice.ipynb#W0sZmlsZQ%3D%3D?line=60'>61</a>\u001b[0m \u001b[39mprint\u001b[39m(graph\u001b[39m.\u001b[39;49marcs())\n\u001b[0;32m     <a href='vscode-notebook-cell:/c%3A/Code/MFG598/Practice/wcraig_mfg598_wk6_practice.ipynb#W0sZmlsZQ%3D%3D?line=62'>63</a>\u001b[0m \u001b[39mprint\u001b[39m(\u001b[39m\"\u001b[39m\u001b[39mAdd Nodes:\u001b[39m\u001b[39m\"\u001b[39m)\n\u001b[0;32m     <a href='vscode-notebook-cell:/c%3A/Code/MFG598/Practice/wcraig_mfg598_wk6_practice.ipynb#W0sZmlsZQ%3D%3D?line=63'>64</a>\u001b[0m graph\u001b[39m.\u001b[39madd_node(\u001b[39m\"\u001b[39m\u001b[39mz\u001b[39m\u001b[39m\"\u001b[39m)\n",
      "\u001b[1;32mc:\\Code\\MFG598\\Practice\\wcraig_mfg598_wk6_practice.ipynb Cell 1\u001b[0m in \u001b[0;36mGraph.arcs\u001b[1;34m(self)\u001b[0m\n\u001b[0;32m     <a href='vscode-notebook-cell:/c%3A/Code/MFG598/Practice/wcraig_mfg598_wk6_practice.ipynb#W0sZmlsZQ%3D%3D?line=24'>25</a>\u001b[0m \u001b[39mdef\u001b[39;00m \u001b[39marcs\u001b[39m(\u001b[39mself\u001b[39m):\n\u001b[1;32m---> <a href='vscode-notebook-cell:/c%3A/Code/MFG598/Practice/wcraig_mfg598_wk6_practice.ipynb#W0sZmlsZQ%3D%3D?line=25'>26</a>\u001b[0m     \u001b[39mreturn\u001b[39;00m \u001b[39mself\u001b[39;49m\u001b[39m.\u001b[39;49m__generate_arcs()\n",
      "\u001b[1;32mc:\\Code\\MFG598\\Practice\\wcraig_mfg598_wk6_practice.ipynb Cell 1\u001b[0m in \u001b[0;36mGraph.__generate_arcs\u001b[1;34m(self)\u001b[0m\n\u001b[0;32m     <a href='vscode-notebook-cell:/c%3A/Code/MFG598/Practice/wcraig_mfg598_wk6_practice.ipynb#W0sZmlsZQ%3D%3D?line=34'>35</a>\u001b[0m arcs \u001b[39m=\u001b[39m []\n\u001b[0;32m     <a href='vscode-notebook-cell:/c%3A/Code/MFG598/Practice/wcraig_mfg598_wk6_practice.ipynb#W0sZmlsZQ%3D%3D?line=35'>36</a>\u001b[0m \u001b[39mfor\u001b[39;00m node \u001b[39min\u001b[39;00m \u001b[39mself\u001b[39m\u001b[39m.\u001b[39m_graph_dict:\n\u001b[1;32m---> <a href='vscode-notebook-cell:/c%3A/Code/MFG598/Practice/wcraig_mfg598_wk6_practice.ipynb#W0sZmlsZQ%3D%3D?line=36'>37</a>\u001b[0m     \u001b[39mfor\u001b[39;00m friend \u001b[39min\u001b[39;00m \u001b[39mself\u001b[39;49m\u001b[39m.\u001b[39;49mgraph_dict[node]:\n\u001b[0;32m     <a href='vscode-notebook-cell:/c%3A/Code/MFG598/Practice/wcraig_mfg598_wk6_practice.ipynb#W0sZmlsZQ%3D%3D?line=37'>38</a>\u001b[0m         arcs\u001b[39m.\u001b[39mappend((node, friend))\n\u001b[0;32m     <a href='vscode-notebook-cell:/c%3A/Code/MFG598/Practice/wcraig_mfg598_wk6_practice.ipynb#W0sZmlsZQ%3D%3D?line=38'>39</a>\u001b[0m \u001b[39mreturn\u001b[39;00m arcs\n",
      "\u001b[1;31mAttributeError\u001b[0m: 'Graph' object has no attribute 'graph_dict'"
     ]
    }
   ],
   "source": [
    "\"\"\" \n",
    "A Graph implemented with Python Classes and Dictionaries\n",
    "Adapted from:https://www.python-course.eu/graphs_python.php\n",
    "Extra Study: How to find the path between 2 nodes in a given graph?\n",
    "\n",
    "\"\"\"\n",
    "\n",
    "class Graph(object):\n",
    "\n",
    "#This is a default argument, so if we passed nothing, then it automatically assigns None\n",
    "    #This makes sense in a social network - use this template then it handles a lack of information.\n",
    "    def __init__(self, graph_dict=None):\n",
    "        #self ^ is a pointer to the graph.. It is not a reserved variable.\n",
    "        if graph_dict is None:\n",
    "            self._graph_dict = {}\n",
    "        self._graph_dict = graph_dict\n",
    "    \n",
    "    #The underscore means that _ is a private variable. \n",
    "    #   Can typically access this in another method because python does not enforce rules.\n",
    "    #       The point is that it signifies to the programmer.\n",
    "\n",
    "    def nodes(self):\n",
    "        return self._graph_dict.keys()\n",
    "\n",
    "    def arcs(self):\n",
    "        return self.__generate_arcs()\n",
    "\n",
    "    def add_node(self, node):\n",
    "        pass\n",
    "\n",
    "    def add_arc(self, arc):\n",
    "        pass\n",
    "#double underscore means private function. Don't do graph.__ .....\n",
    "    def __generate_arcs(self):\n",
    "        arcs = []\n",
    "        for node in self._graph_dict:\n",
    "            for friend in self.graph_dict[node]:\n",
    "                arcs.append((node, friend))\n",
    "        return arcs\n",
    "\n",
    "    def __str__(self):\n",
    "        pass\n",
    "\n",
    "\n",
    "def main():\n",
    "\n",
    "    g = { \"a\" : [\"d\"],\n",
    "          \"b\" : [\"c\"],\n",
    "          \"c\" : [\"b\", \"c\", \"d\", \"e\"],\n",
    "          \"d\" : [\"a\", \"c\"],\n",
    "          \"e\" : [\"c\"],\n",
    "          \"f\" : [\"e\", \"b\"]\n",
    "        }\n",
    "\n",
    "    graph = Graph(g)\n",
    "\n",
    "    print(\"Nodes of graph:\")\n",
    "    print(graph.nodes())\n",
    "\n",
    "    print(\"Arc of graph:\")\n",
    "    print(graph.arcs())\n",
    "\n",
    "    print(\"Add Nodes:\")\n",
    "    graph.add_node(\"z\")\n",
    "\n",
    "    print(\"Nodes of graph:\")\n",
    "    print(graph.nodes())\n",
    " \n",
    "    print(\"Add an arc:\")\n",
    "    graph.add_arc({\"z\",\"a\"})\n",
    "    \n",
    "    print(\"Nodes of graph:\")\n",
    "    print(graph.nodes())\n",
    "\n",
    "    print(\"Arc of graph:\")\n",
    "    print(graph.arcs())\n",
    "\n",
    "    print('Adding an arc (\"x\",\"y\") with new nodes:')\n",
    "    graph.add_arc((\"x\",\"y\"))\n",
    "    \n",
    "    print(\"Nodes of graph:\")\n",
    "    print(graph.nodes())\n",
    "    print(\"Arcs of graph:\")\n",
    "    print(graph.arcs())\n",
    "    \n",
    "    print('The final graph is')\n",
    "    print(graph)\n",
    "    \n",
    "#main program\n",
    "main()"
   ]
  }
 ],
 "metadata": {
  "kernelspec": {
   "display_name": "base",
   "language": "python",
   "name": "python3"
  },
  "language_info": {
   "codemirror_mode": {
    "name": "ipython",
    "version": 3
   },
   "file_extension": ".py",
   "mimetype": "text/x-python",
   "name": "python",
   "nbconvert_exporter": "python",
   "pygments_lexer": "ipython3",
   "version": "3.9.12"
  },
  "orig_nbformat": 4,
  "vscode": {
   "interpreter": {
    "hash": "504af9dbaeab241701b42e0a4a2f2792546a36888d7345416987d6285d9bc5c8"
   }
  }
 },
 "nbformat": 4,
 "nbformat_minor": 2
}

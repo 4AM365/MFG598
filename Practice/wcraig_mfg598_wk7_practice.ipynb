{
 "cells": [
  {
   "cell_type": "markdown",
   "id": "c7977446",
   "metadata": {},
   "source": [
    "## Numpy exercises"
   ]
  },
  {
   "cell_type": "markdown",
   "id": "6f611028",
   "metadata": {},
   "source": [
    "### Qn 1 Sort an array based on row based and column based sorting"
   ]
  },
  {
   "cell_type": "code",
   "execution_count": null,
   "id": "3a67fe98",
   "metadata": {},
   "outputs": [],
   "source": [
    "import numpy as np\n",
    "\n",
    "array = np.random.randn(3,3)\n",
    "\n",
    "#row based sorting uses '1' for axis\n",
    "array_sorted_rows = np.sort(array, 1)\n",
    "print(f\"{array_sorted_rows}\\n\")\n",
    "\n",
    "array_sorted_columns = np.sort(array, 0)\n",
    "\n",
    "print(array_sorted_columns)\n"
   ]
  },
  {
   "cell_type": "markdown",
   "id": "2808d770",
   "metadata": {},
   "source": [
    "### Qn 2 Given a 1D Array, A, negate all elements between 2 and 16., in a total of just 2 lines."
   ]
  },
  {
   "cell_type": "code",
   "execution_count": null,
   "id": "35ae6d5c",
   "metadata": {},
   "outputs": [],
   "source": [
    "import numpy as np\n",
    "import numpy.ma as ma\n",
    "A = [1,2,4,8,16,32,64]\n",
    "A_rray = np.array(A)\n",
    "\n",
    "#Create a boolean 'mask' to remove values above 2 and below 6\n",
    "\n",
    "mask = (A_rray > 2) & (A_rray < 16)\n",
    "\n",
    "# Apply the mask to the array\n",
    "A_masked = ma.masked_array(A_rray, mask)\n",
    "\n",
    "A_filtered = A_rray[mask]\n",
    "\n",
    "print(f\"Here is A with masking applied: {A_masked}\")\n",
    "\n",
    "print(f\"Here is A with filtering applied: {A_filtered}\")"
   ]
  },
  {
   "cell_type": "markdown",
   "id": "86d7e913",
   "metadata": {},
   "source": [
    "### Qn 3 Write a numpy sequence of commands to normalize a given 10 x 10 matrix."
   ]
  },
  {
   "cell_type": "code",
   "execution_count": null,
   "id": "0d605391",
   "metadata": {},
   "outputs": [],
   "source": [
    "import numpy as np\n",
    "\n",
    "ten_by_ten = np.random.randint(0,11, size = (10,10))\n",
    "\n",
    "print(f\"{ten_by_ten}\\n\")\n",
    "\n",
    "normalized_ten_by_ten = ten_by_ten / np.max(ten_by_ten)\n",
    "print(f\"Here is the normalized matrix: \\n{normalized_ten_by_ten}\")\n",
    "\n",
    "\n",
    "from sklearn.preprocessing import normalize\n",
    "\n",
    "normedC2 = normalize(ten_by_ten, axis = 1, norm = 'l1')\n",
    "\n",
    "print(f\"sklearn normalized matrix: \\n {normedC2}\")\n"
   ]
  },
  {
   "cell_type": "markdown",
   "id": "58e868ec",
   "metadata": {},
   "source": [
    "### Qn 4 Find the Cross product between two vectors A and B "
   ]
  },
  {
   "cell_type": "code",
   "execution_count": null,
   "id": "1e45f05d",
   "metadata": {},
   "outputs": [],
   "source": [
    "A = [0,1,12]\n",
    "B = [6,14,2]\n",
    "\n",
    "cross_product = np.cross(A,B)\n",
    "\n",
    "print(f\"The cross product is: {cross_product}\")"
   ]
  },
  {
   "cell_type": "markdown",
   "id": "7267b280",
   "metadata": {},
   "source": [
    "### Qn 5 Write a script that finds the most frequently occuring value in a given array of numbers."
   ]
  },
  {
   "cell_type": "code",
   "execution_count": null,
   "id": "da3bdeba",
   "metadata": {},
   "outputs": [],
   "source": [
    "import numpy as np\n",
    "# from scipy.stats import mode\n",
    "\n",
    "A = np.random.randint(0,7, size = 15)\n",
    "print(A)\n",
    "\n",
    "mode = np.bincount(A).argmax()\n",
    "\n",
    "#Based on first occurring mode...\n",
    "print(mode)\n",
    "\n",
    "# mode_from_sci = mode(A)\n",
    "\n",
    "# print(mode_from_sci)"
   ]
  },
  {
   "cell_type": "code",
   "execution_count": null,
   "id": "189849ff",
   "metadata": {},
   "outputs": [],
   "source": []
  },
  {
   "cell_type": "markdown",
   "id": "6304a7e6",
   "metadata": {},
   "source": [
    "### Qn 6  Given x + 2y + z = 2; 2x + 6y + z = 7; x + y + 4z = 3. Solve for x, y and z."
   ]
  },
  {
   "cell_type": "code",
   "execution_count": null,
   "id": "fc74f291",
   "metadata": {},
   "outputs": [],
   "source": [
    "import numpy as np\n",
    "a = np.array([[1,2,1],[2,6,1],[1,1,4]])\n",
    "b = np.array([2,7,3])\n",
    "\n",
    "result = np.linalg.solve(a,b)\n",
    "print(result)"
   ]
  },
  {
   "cell_type": "markdown",
   "id": "52bbc2dd",
   "metadata": {},
   "source": [
    "### Qn 7 Write a script that subtracts the mean of all values from each value contained in the array. Further, report only the values that are larger than 0."
   ]
  },
  {
   "cell_type": "code",
   "execution_count": null,
   "id": "a478652f",
   "metadata": {},
   "outputs": [],
   "source": [
    "A = np.random.randn(25).reshape(5,5)\n",
    "A"
   ]
  },
  {
   "cell_type": "code",
   "execution_count": null,
   "id": "5c2c40a7",
   "metadata": {},
   "outputs": [],
   "source": [
    "A_subtracted = A - A.mean()\n",
    "\n",
    "print(A_subtracted)\n",
    "\n",
    "A_subtracted_masked = A - A.mean() > 0\n",
    "\n",
    "print(A_subtracted_masked)\n",
    "\n",
    "A[A-A.mean()>0]"
   ]
  },
  {
   "cell_type": "markdown",
   "id": "b4f498b6",
   "metadata": {},
   "source": [
    "### Qn 8 Write a script to find the closest value in a given array based on a randomly generated positive scalar value"
   ]
  },
  {
   "cell_type": "code",
   "execution_count": null,
   "id": "b42d14bd",
   "metadata": {},
   "outputs": [],
   "source": [
    "a = np.array([1.6, 2.8, 3, 3.5, -3.4, 5.6, 2.4, 2.85])\n",
    "\n",
    "value = np.random.randint(10)\n",
    "\n",
    "value\n",
    "\n"
   ]
  },
  {
   "cell_type": "code",
   "execution_count": null,
   "id": "42f27d80",
   "metadata": {},
   "outputs": [],
   "source": [
    "#Which value is closest to 7?\n",
    "a[np.abs(a - value).argmin()]"
   ]
  },
  {
   "cell_type": "markdown",
   "id": "75a22e06",
   "metadata": {},
   "source": [
    "### Qn 9 Write a script that adds the dollar sign to each value in the array."
   ]
  },
  {
   "cell_type": "code",
   "execution_count": null,
   "id": "a0ead11c",
   "metadata": {},
   "outputs": [],
   "source": [
    "#This is a function decorator that 'vectorizes' every element of the matrix\n",
    "@np.vectorize\n",
    "def add_dollar(a,symbol):\n",
    "    newArr = symbol + str(a)\n",
    "    return newArr"
   ]
  },
  {
   "cell_type": "code",
   "execution_count": null,
   "id": "d5f15063",
   "metadata": {},
   "outputs": [],
   "source": [
    "a = np.arange(5)\n",
    "print(add_dollar(a,'$'))"
   ]
  },
  {
   "attachments": {},
   "cell_type": "markdown",
   "id": "46153119",
   "metadata": {},
   "source": [
    "### Q 10 Actual, given ..."
   ]
  },
  {
   "cell_type": "code",
   "execution_count": 171,
   "id": "282954e7",
   "metadata": {},
   "outputs": [
    {
     "data": {
      "text/plain": [
       "[<matplotlib.lines.Line2D at 0x27687ad3280>]"
      ]
     },
     "execution_count": 171,
     "metadata": {},
     "output_type": "execute_result"
    },
    {
     "data": {
      "image/png": "[encoded data removed]",
      "text/plain": [
       "<Figure size 432x288 with 1 Axes>"
      ]
     },
     "metadata": {
      "needs_background": "light"
     },
     "output_type": "display_data"
    }
   ],
   "source": [
    "from matplotlib import pyplot as plt\n",
    "#1. Plot the funct y vs x in the range 0,20\n",
    "\n",
    "x = np.linspace(0,20, 1001)\n",
    "\n",
    "y = np.exp(-2*x + 5) * np.cos(x)\n",
    "\n",
    "plt.plot(x,y)"
   ]
  },
  {
   "cell_type": "code",
   "execution_count": 177,
   "id": "2d4c6018",
   "metadata": {},
   "outputs": [
    {
     "name": "stdout",
     "output_type": "stream",
     "text": [
      "The mean is: 0.0004135156191868693\n",
      "The standard deviation is: 0.0006736853979431461\n"
     ]
    }
   ],
   "source": [
    "#Now compute mean and std dev of x values between 5 and 10...\n",
    "#The star symbol in a boolean expression here is actually the 'OR' statement\n",
    "filter = (y[(x>=5)*(x<=10)])\n",
    "print(f\"The mean is: {np.mean(filter)}\")\n",
    "print(f\"The standard deviation is: {np.std(filter)}\")"
   ]
  },
  {
   "cell_type": "code",
   "execution_count": 178,
   "id": "d2c230de",
   "metadata": {},
   "outputs": [
    {
     "data": {
      "text/plain": [
       "[<matplotlib.lines.Line2D at 0x27687b51d90>]"
      ]
     },
     "execution_count": 178,
     "metadata": {},
     "output_type": "execute_result"
    },
    {
     "data": {
      "image/png": "[encoded data removed]",
      "text/plain": [
       "<Figure size 432x288 with 1 Axes>"
      ]
     },
     "metadata": {
      "needs_background": "light"
     },
     "output_type": "display_data"
    }
   ],
   "source": [
    "plt.plot(x, np.gradient(y,x))"
   ]
  },
  {
   "cell_type": "markdown",
   "id": "f465c40d",
   "metadata": {},
   "source": [
    "### Qn 10 You are given a list of dates. Unfortunately the array is not sequential. There are missing dates within the given list. Regenerate a new list with a complete continuous sequence of dates from starting date to the end date"
   ]
  },
  {
   "cell_type": "code",
   "execution_count": null,
   "id": "d0f0da19",
   "metadata": {},
   "outputs": [],
   "source": []
  },
  {
   "cell_type": "code",
   "execution_count": null,
   "id": "dd882059",
   "metadata": {},
   "outputs": [],
   "source": []
  },
  {
   "attachments": {},
   "cell_type": "markdown",
   "id": "ee038aab",
   "metadata": {},
   "source": [
    "### Qn 10 You are given a list of dates. Unfortunately the array is not sequential. There are missing dates within the given list. Regenerate a new list with a complete continuous sequence of dates from starting date to the end date"
   ]
  }
 ],
 "metadata": {
  "kernelspec": {
   "display_name": "base",
   "language": "python",
   "name": "python3"
  },
  "language_info": {
   "codemirror_mode": {
    "name": "ipython",
    "version": 3
   },
   "file_extension": ".py",
   "mimetype": "text/x-python",
   "name": "python",
   "nbconvert_exporter": "python",
   "pygments_lexer": "ipython3",
   "version": "3.9.12"
  },
  "vscode": {
   "interpreter": {
    "hash": "504af9dbaeab241701b42e0a4a2f2792546a36888d7345416987d6285d9bc5c8"
   }
  }
 },
 "nbformat": 4,
 "nbformat_minor": 5
}

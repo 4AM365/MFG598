{
 "cells": [
  {
   "cell_type": "markdown",
   "id": "c7977446",
   "metadata": {},
   "source": [
    "## Numpy exercises"
   ]
  },
  {
   "cell_type": "markdown",
   "id": "6f611028",
   "metadata": {},
   "source": [
    "### Qn 1 Sort an array based on row based and column based sorting"
   ]
  },
  {
   "cell_type": "code",
   "execution_count": null,
   "id": "3a67fe98",
   "metadata": {},
   "outputs": [],
   "source": []
  },
  {
   "cell_type": "markdown",
   "id": "2808d770",
   "metadata": {},
   "source": [
    "### Qn 2 Given a 1D Array, A, negate all elements between 2 and 16., in a total of just 2 lines."
   ]
  },
  {
   "cell_type": "code",
   "execution_count": null,
   "id": "35ae6d5c",
   "metadata": {},
   "outputs": [],
   "source": []
  },
  {
   "cell_type": "markdown",
   "id": "86d7e913",
   "metadata": {},
   "source": [
    "### Qn 3 Write a numpy sequence of commands to normalize a given 10 x 10 matrix."
   ]
  },
  {
   "cell_type": "code",
   "execution_count": null,
   "id": "0d605391",
   "metadata": {},
   "outputs": [],
   "source": []
  },
  {
   "cell_type": "markdown",
   "id": "58e868ec",
   "metadata": {},
   "source": [
    "### Qn 4 Find the Cross product between two vectors A and B "
   ]
  },
  {
   "cell_type": "code",
   "execution_count": null,
   "id": "1e45f05d",
   "metadata": {},
   "outputs": [],
   "source": []
  },
  {
   "cell_type": "markdown",
   "id": "7267b280",
   "metadata": {},
   "source": [
    "### Qn 5 Write a script that finds the most frequently occuring value in a given array of numbers."
   ]
  },
  {
   "cell_type": "code",
   "execution_count": null,
   "id": "da3bdeba",
   "metadata": {},
   "outputs": [],
   "source": []
  },
  {
   "cell_type": "markdown",
   "id": "6304a7e6",
   "metadata": {},
   "source": [
    "### Qn 6  Given x + 2y + z = 2; 2x + 6y + z = 7; x + y + 4z = 3. Solve for x, y and z."
   ]
  },
  {
   "cell_type": "code",
   "execution_count": null,
   "id": "fc74f291",
   "metadata": {},
   "outputs": [],
   "source": []
  },
  {
   "cell_type": "markdown",
   "id": "52bbc2dd",
   "metadata": {},
   "source": [
    "### Qn 7 Write a script that subtracts the mean of all values from each value contained in the array. Further, report only the values that are larger than 0."
   ]
  },
  {
   "cell_type": "code",
   "execution_count": null,
   "id": "a478652f",
   "metadata": {},
   "outputs": [],
   "source": []
  },
  {
   "cell_type": "markdown",
   "id": "b4f498b6",
   "metadata": {},
   "source": [
    "### Qn 8 Write a script to find the closest value in a given array based on a randomly generated positive scalar value"
   ]
  },
  {
   "cell_type": "code",
   "execution_count": null,
   "id": "b42d14bd",
   "metadata": {},
   "outputs": [],
   "source": []
  },
  {
   "cell_type": "markdown",
   "id": "75a22e06",
   "metadata": {},
   "source": [
    "### Qn 9 Write a script that adds the dollar sign to each value in the array."
   ]
  },
  {
   "cell_type": "code",
   "execution_count": null,
   "id": "a0ead11c",
   "metadata": {},
   "outputs": [],
   "source": []
  },
  {
   "cell_type": "markdown",
   "id": "f465c40d",
   "metadata": {},
   "source": [
    "### Qn 10 You are given a list of dates. Unfortunately the array is not sequential. There are missing dates within the given list. Regenerate a new list with a complete continuous sequence of dates from starting date to the end date"
   ]
  },
  {
   "cell_type": "code",
   "execution_count": null,
   "id": "d0f0da19",
   "metadata": {},
   "outputs": [],
   "source": []
  },
  {
   "cell_type": "code",
   "execution_count": null,
   "id": "d8b72cf2",
   "metadata": {},
   "outputs": [],
   "source": []
  }
 ],
 "metadata": {
  "kernelspec": {
   "display_name": "Python 3 (ipykernel)",
   "language": "python",
   "name": "python3"
  },
  "language_info": {
   "codemirror_mode": {
    "name": "ipython",
    "version": 3
   },
   "file_extension": ".py",
   "mimetype": "text/x-python",
   "name": "python",
   "nbconvert_exporter": "python",
   "pygments_lexer": "ipython3",
   "version": "3.9.13"
  }
 },
 "nbformat": 4,
 "nbformat_minor": 5
}

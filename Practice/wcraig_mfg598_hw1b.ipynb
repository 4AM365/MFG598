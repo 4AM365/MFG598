{
 "cells": [
  {
   "cell_type": "code",
   "execution_count": null,
   "metadata": {},
   "outputs": [],
   "source": [
    "#William Craig\n",
    "#MFG 598\n",
    "#Homework Week 1B\n",
    "#January 12, 2023"
   ]
  },
  {
   "cell_type": "code",
   "execution_count": 6,
   "metadata": {},
   "outputs": [
    {
     "name": "stdout",
     "output_type": "stream",
     "text": [
      "6\n",
      "Evan\n",
      "Sam\n",
      "['Binil', 'Rachel', 'Ethan', 'Evan', 'Starly', 'Sam']\n"
     ]
    }
   ],
   "source": [
    "# Qn 1:\n",
    "# a. Define a list of Names that contain Binil, Rachel, Ethan, Evan, Starly, Sam)\n",
    "# b. Print the length of the list.\n",
    "# c. Print the 3rd item in the list.\n",
    "# d. Print the last item in the list    \n",
    "# e. print the entire list\n",
    "list = ['Binil','Rachel','Ethan','Evan','Starly','Sam']\n",
    "\n",
    "print(len(list))\n",
    "\n",
    "print(list[3])\n",
    "\n",
    "#Using the 'negative index' here for the last entry.\n",
    "print(list[-1])\n",
    "\n",
    "print(list)"
   ]
  },
  {
   "cell_type": "code",
   "execution_count": 60,
   "metadata": {},
   "outputs": [
    {
     "name": "stdout",
     "output_type": "stream",
     "text": [
      "9\n",
      "13\n",
      "[20, 17, 15, 13, 11, 10, 9, 8, 7, 6, 5, 3, 1]\n",
      "20\n"
     ]
    }
   ],
   "source": [
    "# Qn 2:\n",
    "# a. Initiate a new Number list and assign it to be empty.\n",
    "# b. Now append the list with numbers 1,3,5,6,7,8,9,10,11,13,15,17,20\n",
    "# c. Print the number that is in the middle of the list.\n",
    "# d. Print the contents of the list that lies between the 4th and 10th index value\n",
    "# e. Reorder the list to be in the reverse order and print the contents to confirm \n",
    "# it.\n",
    "# f. find the maximum value in the list\n",
    "\n",
    "numlist=[]\n",
    "#Could accomplish this with numlist.extend, but I'll use append command inside a loop and append with 'given' entries\n",
    "#Could also use list comprehension to generate these terms!\n",
    "newnums = [1,3,5,6,7,8,9,10,11,13,15,17,20]\n",
    "for x in newnums:\n",
    "    numlist.append(x)\n",
    "\n",
    "#Floor division operator '//' takes the integer half of the length of the list, then rounds down. \n",
    "# This works because the index of the middle is [6], which only works because the first index is [0]. \n",
    "# This confused me for a little while!\n",
    "\n",
    "print(numlist[len(numlist) // 2])\n",
    "\n",
    "print(len(numlist))\n",
    "\n",
    "numlist.reverse()\n",
    "print(numlist)\n",
    "\n",
    "#numlist is automatically initialized as a string, so we need to cast the variables to integers in order to find the max. We can 'map' items of any list to any variable type.\n",
    "\n",
    "print(max(map(int,numlist)))"
   ]
  },
  {
   "cell_type": "code",
   "execution_count": 64,
   "metadata": {},
   "outputs": [
    {
     "name": "stdout",
     "output_type": "stream",
     "text": [
      "4\n",
      "['Mars', 'Snickers', 'Bounty', 'Twix']\n",
      "['Mars', 'Snickers', 'Bounty', 'Twix', 'Lion Bar']\n",
      "4\n",
      "['Mars', 'Snickers', 'Bounty', 'Twix']\n",
      "['Mars', 'Snickers', 'Bounty', 'Twix']\n"
     ]
    }
   ],
   "source": [
    "# Qn 3:\n",
    "# a.  Initiate the following list chocBrandList=[\"Mars\", \"Snickers\", \"Bounty\", \n",
    "# \"Twix\"]\n",
    "# b. print the length of the list\n",
    "# c. copy the contents of this list to a new List called newChocList\n",
    "# d. To the original chocBrandList, add the following String - \"Lion Bar\"    \n",
    "# e. print the contents of the newChocList. Comment on the results obtained\n",
    "\n",
    "chocBrandList=[\"Mars\", \"Snickers\", \"Bounty\", \"Twix\"]\n",
    "print(len(chocBrandList))\n",
    "print(chocBrandList)\n",
    "newChocList = chocBrandList\n",
    "chocBrandList.append(\"Lion Bar\")\n",
    "print(newChocList)\n",
    "\n",
    "#This is a clever example of inheritance!\n",
    "#The original brand list is appended with \"Lion Bar\". The new list was created by simply making it equal to the original. \n",
    "# This 'equals' statement doesn't just perform an operation like it would in C. \n",
    "# Instead, the logical operator acts almost like a global variable that is applied to all successive statements.\n",
    "# Let's try this a different way:\n",
    "\n",
    "chocBrandList=[\"Mars\", \"Snickers\", \"Bounty\", \"Twix\"]\n",
    "print(len(chocBrandList))\n",
    "print(chocBrandList)\n",
    "newChocList = chocBrandList.copy()\n",
    "chocBrandList.append(\"Lion Bar\")\n",
    "print(newChocList)\n",
    "\n",
    "#This creates a true 'copy' of the list that acts as its own individual entity. The statement is not inherited.\n",
    "\n"
   ]
  },
  {
   "cell_type": "code",
   "execution_count": 14,
   "metadata": {},
   "outputs": [
    {
     "name": "stdout",
     "output_type": "stream",
     "text": [
      "9\n",
      "25\n",
      "61\n",
      "78\n"
     ]
    }
   ],
   "source": [
    "# Qn 4:\n",
    "# a. Create a dictionary that captures the following values\n",
    "# 'red': a random integer between (1 and 10)\n",
    "# 'blue': a random integer between (10 and 30)\n",
    "# 'green': a random integer between (31 and 70)\n",
    "# 'black': a random integer between (71 and 100)\n",
    "\n",
    "import random\n",
    "\n",
    "#Assuming I can store a function inside of a dictionary here\n",
    "colordict = {\n",
    "    \"red\": random.randint(1,10),\n",
    "    \"blue\": random.randint(10,30),\n",
    "    \"green\": random.randint(31,70),\n",
    "    \"black\": random.randint(71,100),\n",
    "}\n",
    "#It worked!\n",
    "#Testing the code now:\n",
    "\n",
    "for values in colordict.values():\n",
    "    print(values)"
   ]
  },
  {
   "cell_type": "code",
   "execution_count": 20,
   "metadata": {},
   "outputs": [
    {
     "name": "stdout",
     "output_type": "stream",
     "text": [
      "{'Jan': 31, 'Feb': 28, 'Mar': 31, 'Apr': 30, 'May': 31, 'Jun': 30, 'Jul': 31, 'Aug': 31, 'Sep': 30, 'Oct': 31, 'Nov': 30, 'Dec': 31}\n"
     ]
    }
   ],
   "source": [
    "# Qn 5:\n",
    "# a. Define a new dictionary with the months of the year as key, and the value \n",
    "#    being the corresponding number of days in the month\n",
    "\n",
    "datedict = {\n",
    "    \"Jan\": 31,\n",
    "    \"Feb\": 28,\n",
    "    \"Mar\": 31,\n",
    "    \"Apr\": 30,\n",
    "    \"May\": 31,\n",
    "    \"Jun\": 30,\n",
    "    \"Jul\": 31,\n",
    "    \"Aug\": 31,\n",
    "    \"Sep\": 30,\n",
    "    \"Oct\": 31,\n",
    "    \"Nov\": 30,\n",
    "    \"Dec\": 31,\n",
    "}\n",
    "\n",
    "print(datedict)"
   ]
  },
  {
   "cell_type": "code",
   "execution_count": 25,
   "metadata": {},
   "outputs": [
    {
     "name": "stdout",
     "output_type": "stream",
     "text": [
      "{'Binil': 78, 'Starly': 85, 'Ethan': 89, 'Jessica': 95, 'Carson': 97}\n",
      "97\n",
      "{'Binil': 78, 'Starly': 85, 'Ethan': 89, 'Jessica': 95, 'Carson': 97, 'Daniele': 48}\n"
     ]
    }
   ],
   "source": [
    "# Qn 6:\n",
    "# Instantiate a new Dictionary to be empty\n",
    "# Define this dictionary with the following content\n",
    "# Student Name(Key)     Score 1 (Value)\n",
    "# Binil                   78\n",
    "# Starly                  85\n",
    "# Ethan                   89\n",
    "# Jessica                 95 \n",
    "# Carson                  97\n",
    "# a. print the entire dictionary content\n",
    "# b. print the score of Carson\n",
    "# c. Add a new dictionary item with the following student and score: Daniele, 48\n",
    "# d. prints all the values of the dictionary\n",
    "\n",
    "students = {\n",
    "}\n",
    "\n",
    "students[\"Binil\"] = 78\n",
    "students[\"Starly\"] = 85 \n",
    "students[\"Ethan\"] = 89\n",
    "students[\"Jessica\"] = 95\n",
    "students[\"Carson\"] = 97\n",
    "\n",
    "print(students)\n",
    "print(students[\"Carson\"])\n",
    "\n",
    "students[\"Daniele\"] = 48\n",
    "\n",
    "print(students)"
   ]
  },
  {
   "cell_type": "code",
   "execution_count": 1,
   "metadata": {},
   "outputs": [
    {
     "name": "stdout",
     "output_type": "stream",
     "text": [
      "{'Binil': 78, 'Starly': 85, 'Ethan': 89, 'Jessica': 95, 'Carson': 97, 'Daniele': 48}\n",
      "{'Binil': 88, 'Starly': 58, 'Ethan': 79, 'Jessica': 85, 'Carson': 67, 'Daniele': 48}\n"
     ]
    }
   ],
   "source": [
    "\n",
    "# Qn 7\n",
    "# For the same dictionary, to the scores above, add a new Score 2 for each student.\n",
    "# Student Name(Key)     Score 2 (Value)\n",
    "# Binil                   88\n",
    "# Starly                  58\n",
    "# Ethan                   79\n",
    "# Jessica                 85 \n",
    "# Carson                  67\n",
    "\n",
    "students = {\n",
    "}\n",
    "\n",
    "students[\"Binil\"] = 78\n",
    "students[\"Starly\"] = 85 \n",
    "students[\"Ethan\"] = 89\n",
    "students[\"Jessica\"] = 95\n",
    "students[\"Carson\"] = 97\n",
    "students[\"Daniele\"] = 48\n",
    "print(students)\n",
    "\n",
    "students.update({\"Binil\":88,\"Starly\": 58,\"Ethan\":79, \"Jessica\":85, \"Carson\":67})\n",
    "\n",
    "print(students)\n"
   ]
  },
  {
   "cell_type": "code",
   "execution_count": 9,
   "metadata": {},
   "outputs": [
    {
     "name": "stdout",
     "output_type": "stream",
     "text": [
      "Here is the copy of the dictionary:\n",
      "{'Binil': 88, 'Starly': 58, 'Ethan': 79, 'Jessica': 85, 'Carson': 67, 'Daniele': 48}\n",
      "Now we're updating the copy with Binil: 777\n",
      "Original students dictionary:\n",
      "{'Binil': 88, 'Starly': 58, 'Ethan': 79, 'Jessica': 85, 'Carson': 67, 'Daniele': 48}\n",
      "Copy of students\n",
      "{'Binil': 777, 'Starly': 58, 'Ethan': 79, 'Jessica': 85, 'Carson': 67, 'Daniele': 48}\n"
     ]
    }
   ],
   "source": [
    "# Qn 8:\n",
    "# For the same dictionary above, copy the content to another dictionary.\n",
    "# Changes to one dictionary should not affect the other.\n",
    "\n",
    "copiedstudents = students.copy()\n",
    "print(\"Here is the copy of the dictionary:\")\n",
    "print(copiedstudents)\n",
    "print(\"Now we're updating the copy with Binil: 777\")\n",
    "copiedstudents.update({\"Binil\": 777})\n",
    "print(\"Original students dictionary:\")\n",
    "print(students)\n",
    "print(\"Copy of students\")\n",
    "print(copiedstudents)"
   ]
  },
  {
   "cell_type": "code",
   "execution_count": 12,
   "metadata": {},
   "outputs": [
    {
     "name": "stdout",
     "output_type": "stream",
     "text": [
      "('1', '4', '2', '5')\n",
      "('1', '4', 10, '5')\n"
     ]
    }
   ],
   "source": [
    "# Qn 9:\n",
    "# a. Define a tuple with variable aTuple to be containing 1, 4, 2, 5\n",
    "# b. Change the value available at the index value 2 of aTuple to 10\n",
    "# c. Can you convert a Tuple to a List? Convert a List to a Tuple\n",
    "\n",
    "aTuple = (\"1\",\"4\",\"2\",\"5\")\n",
    "print(aTuple)\n",
    "#Tuples are immutable, so I can't directly do this. Instead, I'll map to a list, then convert back to Tuple.\n",
    "aList = list(aTuple)\n",
    "aList[2] = 10\n",
    "aTuple = tuple(aList)\n",
    "print(aTuple)"
   ]
  },
  {
   "cell_type": "code",
   "execution_count": 16,
   "metadata": {},
   "outputs": [
    {
     "name": "stdout",
     "output_type": "stream",
     "text": [
      "{'red': 7, 'blue': 12, 'green': 6, 'black': 19}\n"
     ]
    }
   ],
   "source": [
    "# Qn 10: Write a Python script that would encapsulate the following problem statement\n",
    "# into an appropriate Python Data Structure\n",
    "# A bag contains 10 colored balls that are one of (red, blue, green and black)\n",
    "# For each colored ball, a single integer value is associated with it \n",
    "# that ranges between 1-20.Both the value and the color are unique and will not \n",
    "# repeat\n",
    "# within the bag.\n",
    "\n",
    "#If a single integer is associated with the name of an object, this implies the use of a dictionary.\n",
    "#A random number can be associated with a dictionary key in the place of an integer.\n",
    "\n",
    "#This is very similar to the earlier question.\n",
    "#I was tempted to nest the randint outside of the dictionary, but found that it is not 'inherited' inside of a dictionary when I tried it.\n",
    "\n",
    "import random\n",
    "BallPlusInteger = {\n",
    "    \"red\": random.randint(1,20),\n",
    "    \"blue\": random.randint(1,20),\n",
    "    \"green\": random.randint(1,20),\n",
    "    \"black\": random.randint(1,20),\n",
    "}\n",
    "print(BallPlusInteger)"
   ]
  }
 ],
 "metadata": {
  "kernelspec": {
   "display_name": "Python 3",
   "language": "python",
   "name": "python3"
  },
  "language_info": {
   "codemirror_mode": {
    "name": "ipython",
    "version": 3
   },
   "file_extension": ".py",
   "mimetype": "text/x-python",
   "name": "python",
   "nbconvert_exporter": "python",
   "pygments_lexer": "ipython3",
   "version": "3.8.0 (tags/v3.8.0:fa919fd, Oct 14 2019, 19:37:50) [MSC v.1916 64 bit (AMD64)]"
  },
  "orig_nbformat": 4,
  "vscode": {
   "interpreter": {
    "hash": "bebd21f8376d1efdd6cf0ff73edf2af7c205a03d13b804eb0aba7a0c46bdc076"
   }
  }
 },
 "nbformat": 4,
 "nbformat_minor": 2
}

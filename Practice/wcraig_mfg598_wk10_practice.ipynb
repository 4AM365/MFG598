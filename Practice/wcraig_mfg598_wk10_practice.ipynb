{
 "cells": [
  {
   "cell_type": "code",
   "execution_count": 14,
   "metadata": {},
   "outputs": [
    {
     "name": "stdout",
     "output_type": "stream",
     "text": [
      "['dataPandas/3dhubs_suppliers.csv', 'dataPandas/3dhubs_suppliers_machines.csv', 'dataPandas/dataPandas/', 'dataPandas/dataPandas/3dhubs_suppliers.csv', 'dataPandas/dataPandas/3dhubs_suppliers_machines.csv', 'dataPandas/dataPandas/Sacramentorealestatetransactions.csv', 'dataPandas/dataPandas/SampleJSONfiles.json', 'dataPandas/dataPandas/SampleJSONfiles2.json', 'dataPandas/Sacramentorealestatetransactions.csv', 'dataPandas/SampleJSONfiles.json', 'dataPandas/SampleJSONfiles2.json']\n"
     ]
    }
   ],
   "source": [
    "import zipfile as zp\n",
    "import pandas as pd\n",
    "import os\n",
    "\n",
    "file_list = []\n",
    "\n",
    "#It is preferable to use extractall for a single file. zp.zipfile extracts to buffer.\n",
    "with zp.ZipFile('dataPandas.zip','r') as dataPandas:\n",
    "    for file in dataPandas.namelist():\n",
    "        file_list.append(file)\n",
    "print(file_list)\n",
    "\n",
    "#The DataPandas in quotes is the name of a new folder that the zip is extracted to.\n",
    "zp.ZipFile('dataPandas.zip').extractall(\"DataPandas\")\n",
    "#./ is used here to find a folder named DataPandas nested within a folder named DataPandas\n",
    "os.listdir('./DataPandas')\n",
    "\n",
    "#The '.' is for working directory.\n",
    "filepath = './DataPandas/DataPandas'\n",
    "\n",
    "#Goal: Take all json person info and place it into a dataframe.\n",
    "\n",
    "\n",
    "\n"
   ]
  }
 ],
 "metadata": {
  "kernelspec": {
   "display_name": "base",
   "language": "python",
   "name": "python3"
  },
  "language_info": {
   "codemirror_mode": {
    "name": "ipython",
    "version": 3
   },
   "file_extension": ".py",
   "mimetype": "text/x-python",
   "name": "python",
   "nbconvert_exporter": "python",
   "pygments_lexer": "ipython3",
   "version": "3.9.12"
  },
  "orig_nbformat": 4
 },
 "nbformat": 4,
 "nbformat_minor": 2
}

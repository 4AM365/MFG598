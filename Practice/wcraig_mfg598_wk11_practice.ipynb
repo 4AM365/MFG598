{
 "cells": [
  {
   "attachments": {},
   "cell_type": "markdown",
   "metadata": {},
   "source": [
    "William Craig\n",
    "\n",
    "March 30, 2023\n",
    "\n",
    "Focus on SciPy"
   ]
  },
  {
   "attachments": {},
   "cell_type": "markdown",
   "metadata": {},
   "source": [
    "First problem: curve fitting."
   ]
  },
  {
   "cell_type": "code",
   "execution_count": 41,
   "metadata": {},
   "outputs": [],
   "source": [
    "import numpy as np\n",
    "import pandas as pd\n",
    "import matplotlib.pyplot as plt\n",
    "from scipy.optimize import curve_fit"
   ]
  },
  {
   "cell_type": "code",
   "execution_count": 25,
   "metadata": {},
   "outputs": [],
   "source": [
    "#First mock up function:\n",
    "def f(x, a, b, c):\n",
    "    return a* np.exp(-b*x)+c"
   ]
  },
  {
   "attachments": {},
   "cell_type": "markdown",
   "metadata": {},
   "source": [
    "1) Generate data\n",
    "\n",
    "2) Export to file\n",
    "\n",
    "3) Read that file"
   ]
  },
  {
   "cell_type": "code",
   "execution_count": 26,
   "metadata": {},
   "outputs": [],
   "source": [
    "x = np.linspace(0,4,50)\n",
    "y = f(x, a = 2.5, b = 1.3, c = 0.5)\n",
    "yi = y + 0.2 * np.random.normal(size = len(x))"
   ]
  },
  {
   "cell_type": "code",
   "execution_count": 49,
   "metadata": {},
   "outputs": [
    {
     "data": {
      "text/plain": [
       "[<matplotlib.lines.Line2D at 0x1dc815aec70>]"
      ]
     },
     "execution_count": 49,
     "metadata": {},
     "output_type": "execute_result"
    },
    {
     "data": {
      "image/png": "[encoded data removed]",
      "text/plain": [
       "<Figure size 432x288 with 1 Axes>"
      ]
     },
     "metadata": {
      "needs_background": "light"
     },
     "output_type": "display_data"
    }
   ],
   "source": [
    "plt.plot(x,yi, 'o', label = 'data $y_i$')"
   ]
  },
  {
   "attachments": {},
   "cell_type": "markdown",
   "metadata": {},
   "source": [
    "Now save data to a file. Remember that np produces arrays for the x linspace and y outputs."
   ]
  },
  {
   "cell_type": "code",
   "execution_count": 28,
   "metadata": {},
   "outputs": [],
   "source": [
    "s1 = pd.Series(x)\n",
    "s2 = pd.Series(yi)\n",
    "#axis = 1 transforms the data from a row to a column format\n",
    "df = pd.concat([s1, s2], axis = 1)"
   ]
  },
  {
   "cell_type": "code",
   "execution_count": 29,
   "metadata": {},
   "outputs": [],
   "source": [
    "df.to_csv(\"dataXYZ.csv\", index = False)"
   ]
  },
  {
   "cell_type": "code",
   "execution_count": 30,
   "metadata": {},
   "outputs": [],
   "source": [
    "df2 = pd.read_csv(\"dataXYZ.csv\")"
   ]
  },
  {
   "cell_type": "code",
   "execution_count": 31,
   "metadata": {},
   "outputs": [
    {
     "data": {
      "text/plain": [
       "array([[0.        , 2.84486476],\n",
       "       [0.08163265, 2.76734029],\n",
       "       [0.16326531, 2.21850807],\n",
       "       [0.24489796, 1.99188502],\n",
       "       [0.32653061, 2.33924027],\n",
       "       [0.40816327, 1.95847061],\n",
       "       [0.48979592, 1.6874211 ],\n",
       "       [0.57142857, 1.96839244],\n",
       "       [0.65306122, 1.24071067],\n",
       "       [0.73469388, 1.64086931],\n",
       "       [0.81632653, 1.47540901],\n",
       "       [0.89795918, 1.01209824],\n",
       "       [0.97959184, 1.11910208],\n",
       "       [1.06122449, 1.37911609],\n",
       "       [1.14285714, 0.96013391],\n",
       "       [1.2244898 , 1.16621032],\n",
       "       [1.30612245, 0.66064132],\n",
       "       [1.3877551 , 1.17930061],\n",
       "       [1.46938776, 0.80665966],\n",
       "       [1.55102041, 1.03984992],\n",
       "       [1.63265306, 0.91624419],\n",
       "       [1.71428571, 0.7101172 ],\n",
       "       [1.79591837, 0.57776914],\n",
       "       [1.87755102, 0.34403197],\n",
       "       [1.95918367, 0.67296555],\n",
       "       [2.04081633, 0.852967  ],\n",
       "       [2.12244898, 0.94792407],\n",
       "       [2.20408163, 0.59587201],\n",
       "       [2.28571429, 0.6501303 ],\n",
       "       [2.36734694, 0.8775009 ],\n",
       "       [2.44897959, 0.78444906],\n",
       "       [2.53061224, 0.6677715 ],\n",
       "       [2.6122449 , 0.99060643],\n",
       "       [2.69387755, 0.29006042],\n",
       "       [2.7755102 , 0.64684013],\n",
       "       [2.85714286, 0.3112813 ],\n",
       "       [2.93877551, 0.60503911],\n",
       "       [3.02040816, 0.46143812],\n",
       "       [3.10204082, 0.47877091],\n",
       "       [3.18367347, 0.48957683],\n",
       "       [3.26530612, 0.49808824],\n",
       "       [3.34693878, 0.60674477],\n",
       "       [3.42857143, 0.46944193],\n",
       "       [3.51020408, 0.6874923 ],\n",
       "       [3.59183673, 0.28093549],\n",
       "       [3.67346939, 0.55408676],\n",
       "       [3.75510204, 0.39329522],\n",
       "       [3.83673469, 0.32824869],\n",
       "       [3.91836735, 0.38525646],\n",
       "       [4.        , 0.11903601]])"
      ]
     },
     "execution_count": 31,
     "metadata": {},
     "output_type": "execute_result"
    }
   ],
   "source": [
    "df2.to_numpy(dtype=None, copy = False)"
   ]
  },
  {
   "attachments": {},
   "cell_type": "markdown",
   "metadata": {},
   "source": [
    "Need to locate first column. They are named 0 and 1."
   ]
  },
  {
   "cell_type": "code",
   "execution_count": 38,
   "metadata": {},
   "outputs": [],
   "source": [
    "# column_0 = df2.loc[:, '0']\n",
    "\n",
    "# print(column_0)"
   ]
  },
  {
   "cell_type": "code",
   "execution_count": 42,
   "metadata": {},
   "outputs": [],
   "source": [
    "x1 = df2.loc[:, '0'].to_numpy(dtype = None, copy = False)\n",
    "y1 = df2.loc[:, '1'].to_numpy(dtype = None, copy = False)"
   ]
  },
  {
   "cell_type": "code",
   "execution_count": null,
   "metadata": {},
   "outputs": [],
   "source": [
    "curve_fit(f, x1, y1)"
   ]
  },
  {
   "cell_type": "code",
   "execution_count": 44,
   "metadata": {},
   "outputs": [
    {
     "name": "stdout",
     "output_type": "stream",
     "text": [
      "[2.36337817 1.09960595 0.42862829]\n"
     ]
    }
   ],
   "source": [
    "p_opt, p_cov = curve_fit(f, x1, y1)\n",
    "print(p_opt)"
   ]
  },
  {
   "cell_type": "code",
   "execution_count": 45,
   "metadata": {},
   "outputs": [],
   "source": [
    "yfitted = f(x, *p_opt)"
   ]
  },
  {
   "cell_type": "code",
   "execution_count": 52,
   "metadata": {},
   "outputs": [
    {
     "data": {
      "image/png": "[encoded data removed]",
      "text/plain": [
       "<Figure size 432x288 with 1 Axes>"
      ]
     },
     "metadata": {
      "needs_background": "light"
     },
     "output_type": "display_data"
    }
   ],
   "source": [
    "plt.plot(x1, yfitted, 'r--', label = 'fit $f_x$')\n",
    "\n",
    "plt.xlabel('x')\n",
    "plt.ylabel('y fitted')\n",
    "plt.legend()\n",
    "\n",
    "plt.plot(x,yi, 'o', label = 'data $y_i$')\n",
    "\n",
    "plt.savefig('curvefit.png')"
   ]
  },
  {
   "attachments": {},
   "cell_type": "markdown",
   "metadata": {},
   "source": [
    "New section"
   ]
  },
  {
   "cell_type": "code",
   "execution_count": 74,
   "metadata": {},
   "outputs": [
    {
     "data": {
      "text/plain": [
       "Text(0, 0.5, 'DFT(signal)')"
      ]
     },
     "execution_count": 74,
     "metadata": {},
     "output_type": "execute_result"
    },
    {
     "data": {
      "image/png": "[encoded data removed]",
      "text/plain": [
       "<Figure size 432x288 with 2 Axes>"
      ]
     },
     "metadata": {
      "needs_background": "light"
     },
     "output_type": "display_data"
    }
   ],
   "source": [
    "from scipy.fft import fft\n",
    "\n",
    "signal_length = 0.5\n",
    "sample_rate = 500\n",
    "dt = 1.0/sample_rate\n",
    "\n",
    "t = np.arange(0, signal_length, dt)\n",
    "\n",
    "n_t = len(t)\n",
    "y = np.sin(22*np.pi*50*t) + np.sin(2*np.pi*70*t + np.pi/4)\n",
    "\n",
    "ft = fft(y)\n",
    "freqs = dt * np.arange(0, (n_t - 1)/2, dtype = 'd')\n",
    "n_freq = len(freqs)\n",
    "\n",
    "#Put original data on top and frequency data at bottom\n",
    "plt.subplot(2, 1, 1)\n",
    "plt.plot(t,y, label = 'input data')\n",
    "plt.xlabel(\"time[s]\")\n",
    "plt.ylabel(\"signal\")\n",
    "\n",
    "#Now plot frequency data with frequency on x and y has amplitude\n",
    "\n",
    "plt.subplot(2,1,2)\n",
    "\n",
    "plt.plot(freqs, abs(ft[0:n_freq]), label = 'fourier_transform')\n",
    "\n",
    "plt.xlabel(\"freqs[Hz]\")\n",
    "plt.ylabel(\"DFT(signal)\")"
   ]
  }
 ],
 "metadata": {
  "kernelspec": {
   "display_name": "base",
   "language": "python",
   "name": "python3"
  },
  "language_info": {
   "codemirror_mode": {
    "name": "ipython",
    "version": 3
   },
   "file_extension": ".py",
   "mimetype": "text/x-python",
   "name": "python",
   "nbconvert_exporter": "python",
   "pygments_lexer": "ipython3",
   "version": "3.9.12"
  },
  "orig_nbformat": 4,
  "vscode": {
   "interpreter": {
    "hash": "504af9dbaeab241701b42e0a4a2f2792546a36888d7345416987d6285d9bc5c8"
   }
  }
 },
 "nbformat": 4,
 "nbformat_minor": 2
}

{
 "cells": [
  {
   "cell_type": "code",
   "execution_count": null,
   "metadata": {},
   "outputs": [],
   "source": [
    "# Qn 2 Write a script that asks the user for three numbers. Each time the user \n",
    "# inputs the number, convert the input value to an integer using the floor() method. \n",
    "# Each integer must be appended to a list. For example:\n",
    "# Enter the value: 34.2\n",
    "# Enter the value: 20.0\n",
    "# Enter the value: 1\n",
    "# The list contains 34,20,1\n",
    "\n",
    "n_1 = input(\"Please enter the first number\")\n",
    "n_2 = input(\"Please enter the second number\")\n",
    "n_3 = input(\"Please enter the third number\")\n",
    "\n",
    "map.floor"
   ]
  },
  {
   "cell_type": "code",
   "execution_count": 2,
   "metadata": {},
   "outputs": [
    {
     "name": "stdout",
     "output_type": "stream",
     "text": [
      "{1, 10}\n"
     ]
    }
   ],
   "source": [
    "# Qn2\n",
    "# Take 2 unequal list and create a new list that \n",
    "# contains only numbers common to both lists\n",
    "\n",
    "\n",
    "def common_numbers(a,b):\n",
    "    a_s = set(a)\n",
    "    b_s = set(b)\n",
    "    if (a_s & b_s):\n",
    "        print(a_s & b_s)\n",
    "\n",
    "a=[1, 5, 2, 5, 33, 10, 2]\n",
    "b=[50, 20, 1, 4, 22, 11, 3, 6, 50, 20, 10, 3, 55]\n",
    "common_numbers(a, b)\n",
    "\n"
   ]
  },
  {
   "cell_type": "code",
   "execution_count": 4,
   "metadata": {},
   "outputs": [
    {
     "name": "stdout",
     "output_type": "stream",
     "text": [
      "6\n"
     ]
    }
   ],
   "source": [
    "# Qn3\n",
    "# # Count how many times the word 'and' appears in this paragraph.\n",
    "# # Break the paragraph into individual bag of words\n",
    "# # print total number of individual words in the paragraph\n",
    "# # Break the paragraph into sentences separated by the full stop\n",
    "# # print number of whole sentences in this new broken up list\n",
    "paragraph = \"Walk into the Library this week and you’ll be greeted not by the towering Bookstacks but by soft, hanging lights and a grand, open staircase. Faculty offices so small they weren’t accessible have been removed, and long windows looking out onto campus are now dotted along the walls. Colorful chairs and wide tables are still spread across the floors, but the library is brighter, more spacious and more welcoming after a yearlong renovation.\"\n",
    "\n",
    "print(paragraph.count('and'))\n",
    "\n"
   ]
  },
  {
   "cell_type": "code",
   "execution_count": 27,
   "metadata": {},
   "outputs": [
    {
     "name": "stdout",
     "output_type": "stream",
     "text": [
      "The movie is Gone with the Wind\n",
      "True\n"
     ]
    }
   ],
   "source": [
    "# Qn4\n",
    "# Find Movies that start with a letter G \n",
    "movies= [\"Star Wars\", \"Batman\", \"Gone with the Wind\", \"Shawshank Redemption\"]\n",
    "# Randomly Select 1 movie from the list and check if it starts\n",
    "# with \"G\". \n",
    "# Print True or False for the above check\n",
    "# Do not use loops or Conditional statements\n",
    "\n",
    "import random\n",
    "\n",
    "random_pick = random.choice(movies)\n",
    "\n",
    "TF = random_pick[0] == 'G'\n",
    "\n",
    "print(f\"The movie is {random_pick}\")\n",
    "print(TF)"
   ]
  },
  {
   "cell_type": "code",
   "execution_count": null,
   "metadata": {},
   "outputs": [],
   "source": [
    "# Qn5\n",
    "# Generate a Ball List which should contain 5 colored balls \n",
    "# each with an associated integer value.\n",
    "# The Ball List is colored to have exactly 5 Red and 5 Blue Balls.\n",
    "# Each colored ball has a randomly selected score value\n",
    "# between 1 and 20\n",
    "# Print the Original Ball List\n",
    "# Randomly Sample 5 balls from this ball List.\n",
    "# Print the total value of the scores on each of the 5 sampled Balls.\n",
    "# DO NOT USE FOR-LOOPS\n",
    "\n",
    "#ball list has 5 colored balls - not necessarily red or blue\n",
    "#each ball has an integer value associated with it - this sounds like a dictionary, not a list?\n",
    "#perhaps each color has a value, e.g. 1=yellow\n",
    "\n",
    "\n"
   ]
  }
 ],
 "metadata": {
  "kernelspec": {
   "display_name": "base",
   "language": "python",
   "name": "python3"
  },
  "language_info": {
   "codemirror_mode": {
    "name": "ipython",
    "version": 3
   },
   "file_extension": ".py",
   "mimetype": "text/x-python",
   "name": "python",
   "nbconvert_exporter": "python",
   "pygments_lexer": "ipython3",
   "version": "3.9.12"
  },
  "orig_nbformat": 4,
  "vscode": {
   "interpreter": {
    "hash": "504af9dbaeab241701b42e0a4a2f2792546a36888d7345416987d6285d9bc5c8"
   }
  }
 },
 "nbformat": 4,
 "nbformat_minor": 2
}

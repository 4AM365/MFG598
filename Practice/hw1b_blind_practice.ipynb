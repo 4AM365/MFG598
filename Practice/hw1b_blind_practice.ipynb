{
 "cells": [
  {
   "cell_type": "code",
   "execution_count": null,
   "metadata": {},
   "outputs": [],
   "source": []
  }
 ],
 "metadata": {
  "kernelspec": {
   "display_name": "Python 3",
   "language": "python",
   "name": "python3"
  },
  "language_info": {
   "name": "python",
   "version": "3.8.0 (tags/v3.8.0:fa919fd, Oct 14 2019, 19:37:50) [MSC v.1916 64 bit (AMD64)]"
  },
  "orig_nbformat": 4,
  "vscode": {
   "interpreter": {
    "hash": "bebd21f8376d1efdd6cf0ff73edf2af7c205a03d13b804eb0aba7a0c46bdc076"
   }
  }
 },
 "nbformat": 4,
 "nbformat_minor": 2
}

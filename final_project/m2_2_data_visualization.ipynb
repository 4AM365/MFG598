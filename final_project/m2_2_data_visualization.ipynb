{
 "cells": [
  {
   "attachments": {},
   "cell_type": "markdown",
   "metadata": {},
   "source": [
    "Task 1: Visualize Vehicle Accident Frequencies by Type"
   ]
  },
  {
   "cell_type": "code",
   "execution_count": null,
   "metadata": {},
   "outputs": [],
   "source": [
    "import pandas as pd\n",
    "import matplotlib.pyplot as plt\n",
    "import numpy as np"
   ]
  },
  {
   "cell_type": "code",
   "execution_count": null,
   "metadata": {},
   "outputs": [],
   "source": [
    "frequency_dataframe = pd.read_pickle('working_files/master_dataframe_with_models.pkl')"
   ]
  },
  {
   "cell_type": "code",
   "execution_count": null,
   "metadata": {},
   "outputs": [],
   "source": [
    "frequency_dataframe.head()"
   ]
  },
  {
   "cell_type": "code",
   "execution_count": null,
   "metadata": {},
   "outputs": [],
   "source": [
    "import matplotlib.pyplot as plt\n",
    "\n",
    "# Count the frequency of each value of 'Model'\n",
    "model_counts = frequency_dataframe['Model'].value_counts()\n",
    "\n",
    "# Create a bar chart\n",
    "fig, ax = plt.subplots(figsize=(16, 6))\n",
    "ax.bar(model_counts.index, model_counts.values)\n",
    "\n",
    "# Set the labels and title\n",
    "ax.set_xlabel('Model')\n",
    "ax.set_ylabel('Frequency')\n",
    "ax.set_title('Frequency of Models')\n",
    "\n",
    "# Show the plot\n",
    "plt.show()\n"
   ]
  },
  {
   "cell_type": "code",
   "execution_count": null,
   "metadata": {},
   "outputs": [],
   "source": [
    "import pandas as pd\n",
    "import numpy as np\n",
    "\n",
    "# Count the frequency of each value of 'Model'\n",
    "model_counts = frequency_dataframe['Model'].value_counts()\n",
    "\n",
    "# Create a new dataframe with the unique 'Model' values and their frequency\n",
    "capita_df = pd.DataFrame({'Model': model_counts.index, 'Frequency': model_counts.values})\n",
    "\n",
    "# Add a new column 'Fleet size' with random integer values between 5 and 50\n",
    "capita_df['Fleet size'] = np.random.randint(low=5, high=50, size=len(capita_df))\n",
    "\n",
    "# Calculate the crash rates by dividing the frequency of each model by its corresponding fleet size\n",
    "capita_df['Crash rates'] = capita_df['Frequency'] / capita_df['Fleet size']\n",
    "\n",
    "# Show the resulting dataframe\n",
    "\n",
    "sorted_capita_df = capita_df.sort_values('Crash rates', ascending=False)\n",
    "\n",
    "sorted_capita_df\n"
   ]
  },
  {
   "attachments": {},
   "cell_type": "markdown",
   "metadata": {},
   "source": [
    "**This section will plot vehicle approach speeds against each other.**"
   ]
  },
  {
   "cell_type": "code",
   "execution_count": null,
   "metadata": {},
   "outputs": [],
   "source": [
    "event_record_dataframe = pd.read_pickle('working_files/records_dataframe.pkl')"
   ]
  },
  {
   "cell_type": "code",
   "execution_count": null,
   "metadata": {},
   "outputs": [],
   "source": [
    "event_record_dataframe['Pre-Crash Dataframes'][1]"
   ]
  },
  {
   "cell_type": "code",
   "execution_count": null,
   "metadata": {},
   "outputs": [],
   "source": [
    "# Extract the first two dataframes from the variable\n",
    "df1 = event_record_dataframe['Pre-Crash Dataframes'][0]\n",
    "df2 = event_record_dataframe['Pre-Crash Dataframes'][1]\n",
    "speed_list_df1 = df1['Speed, vehicle indicated MPH']\n",
    "speed_list_df2 = df2['Speed, vehicle indicated MPH']\n",
    "\n",
    "\n",
    "# Define the x-axis values\n",
    "x = np.linspace(-5, 0, 11)\n",
    "\n",
    "# Create the figure and axis objects\n",
    "fig, ax = plt.subplots()\n",
    "\n",
    "# Plot the first speed list in orange\n",
    "ax.scatter(x, speed_list_df1, color='orange')\n",
    "\n",
    "# Plot the second speed list in blue\n",
    "ax.scatter(x, speed_list_df2, color='blue')\n",
    "\n",
    "# Set the x and y axis labels\n",
    "ax.set_xlabel('Time (s)')\n",
    "ax.set_ylabel('Speed (mph)')\n",
    "\n",
    "plt.xticks(rotation = 90)\n",
    "# Show the plot\n",
    "plt.show()\n"
   ]
  }
 ],
 "metadata": {
  "kernelspec": {
   "display_name": "Python 3",
   "language": "python",
   "name": "python3"
  },
  "language_info": {
   "codemirror_mode": {
    "name": "ipython",
    "version": 3
   },
   "file_extension": ".py",
   "mimetype": "text/x-python",
   "name": "python",
   "nbconvert_exporter": "python",
   "pygments_lexer": "ipython3",
   "version": "3.11.3"
  },
  "orig_nbformat": 4
 },
 "nbformat": 4,
 "nbformat_minor": 2
}

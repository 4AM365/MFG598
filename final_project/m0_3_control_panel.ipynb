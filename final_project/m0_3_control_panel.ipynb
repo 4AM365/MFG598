{
 "cells": [
  {
   "attachments": {},
   "cell_type": "markdown",
   "metadata": {},
   "source": [
    "Setup"
   ]
  },
  {
   "cell_type": "code",
   "execution_count": 8,
   "metadata": {},
   "outputs": [],
   "source": [
    "#In terminal:\n",
    "#pip install speedml\n",
    "#pip install pyautogui\n",
    "\n",
    "from dask import *\n",
    "\n",
    "from m0_1_system_variables import raw_data_path, bosch_filepath\n",
    "\n",
    "import matplotlib.pyplot as plt\n",
    "\n",
    "import speedml as ml\n",
    "\n",
    "import pyautogui as gui\n",
    "\n",
    "import numpy as np\n",
    "\n",
    "import pandas as pd\n",
    "\n",
    "import os\n",
    "\n",
    "import time"
   ]
  },
  {
   "attachments": {},
   "cell_type": "markdown",
   "metadata": {},
   "source": [
    "Module 1.0: Data Identification"
   ]
  },
  {
   "cell_type": "code",
   "execution_count": null,
   "metadata": {},
   "outputs": [],
   "source": [
    "%run m1_0_data_identification.py\n",
    "\n",
    "from m0_1_system_variables import scanned_file_list"
   ]
  },
  {
   "attachments": {},
   "cell_type": "markdown",
   "metadata": {},
   "source": [
    "Module 1.1: Data Format Standardization"
   ]
  },
  {
   "cell_type": "code",
   "execution_count": 1,
   "metadata": {},
   "outputs": [],
   "source": [
    "#Data translation is proprietary and accessed through Bosch Event Data Recorder software.\n",
    "#PyAutoGUI selected to manipulate this software.\n",
    "\n",
    "# Simulate pressing the Windows key to switch to the other program\n",
    "gui.press('win')\n",
    "\n",
    "# Simulate typing commands in the other program\n",
    "gui.typewrite('command 1')\n",
    "gui.press('enter')"
   ]
  },
  {
   "attachments": {},
   "cell_type": "markdown",
   "metadata": {},
   "source": [
    "Module 1.2: Data Ingestion"
   ]
  },
  {
   "attachments": {},
   "cell_type": "markdown",
   "metadata": {},
   "source": [
    "Module 2.0: Preliminary Data Analysis"
   ]
  },
  {
   "attachments": {},
   "cell_type": "markdown",
   "metadata": {},
   "source": [
    "Module 2.1: Data Ingestion"
   ]
  },
  {
   "attachments": {},
   "cell_type": "markdown",
   "metadata": {},
   "source": [
    "Module 3: Exploratory Data Analysis"
   ]
  },
  {
   "attachments": {},
   "cell_type": "markdown",
   "metadata": {},
   "source": [
    "Module 4: Model Building"
   ]
  },
  {
   "attachments": {},
   "cell_type": "markdown",
   "metadata": {},
   "source": [
    "Module 5: Model Execution"
   ]
  }
 ],
 "metadata": {
  "kernelspec": {
   "display_name": "base",
   "language": "python",
   "name": "python3"
  },
  "language_info": {
   "codemirror_mode": {
    "name": "ipython",
    "version": 3
   },
   "file_extension": ".py",
   "mimetype": "text/x-python",
   "name": "python",
   "nbconvert_exporter": "python",
   "pygments_lexer": "ipython3",
   "version": "3.9.12"
  },
  "orig_nbformat": 4
 },
 "nbformat": 4,
 "nbformat_minor": 2
}

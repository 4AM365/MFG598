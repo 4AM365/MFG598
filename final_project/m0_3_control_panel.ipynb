{
 "cells": [
  {
   "attachments": {},
   "cell_type": "markdown",
   "metadata": {},
   "source": [
    "Setup"
   ]
  },
  {
   "cell_type": "code",
   "execution_count": 5,
   "metadata": {},
   "outputs": [
    {
     "ename": "AttributeError",
     "evalue": "module 'matplotlib' has no attribute 'get_data_path'",
     "output_type": "error",
     "traceback": [
      "\u001b[1;31m---------------------------------------------------------------------------\u001b[0m",
      "\u001b[1;31mAttributeError\u001b[0m                            Traceback (most recent call last)",
      "\u001b[1;32mc:\\Code\\MFG598\\final_project\\m0_3_control_panel.ipynb Cell 2\u001b[0m in \u001b[0;36m<cell line: 9>\u001b[1;34m()\u001b[0m\n\u001b[0;32m      <a href='vscode-notebook-cell:/c%3A/Code/MFG598/final_project/m0_3_control_panel.ipynb#X12sZmlsZQ%3D%3D?line=4'>5</a>\u001b[0m \u001b[39mfrom\u001b[39;00m \u001b[39mdask\u001b[39;00m \u001b[39mimport\u001b[39;00m \u001b[39m*\u001b[39m\n\u001b[0;32m      <a href='vscode-notebook-cell:/c%3A/Code/MFG598/final_project/m0_3_control_panel.ipynb#X12sZmlsZQ%3D%3D?line=6'>7</a>\u001b[0m \u001b[39mfrom\u001b[39;00m \u001b[39mm0_1_system_variables\u001b[39;00m \u001b[39mimport\u001b[39;00m variables\n\u001b[1;32m----> <a href='vscode-notebook-cell:/c%3A/Code/MFG598/final_project/m0_3_control_panel.ipynb#X12sZmlsZQ%3D%3D?line=8'>9</a>\u001b[0m \u001b[39mimport\u001b[39;00m \u001b[39mmatplotlib\u001b[39;00m\u001b[39m.\u001b[39;00m\u001b[39mpyplot\u001b[39;00m \u001b[39mas\u001b[39;00m \u001b[39mplt\u001b[39;00m\n\u001b[0;32m     <a href='vscode-notebook-cell:/c%3A/Code/MFG598/final_project/m0_3_control_panel.ipynb#X12sZmlsZQ%3D%3D?line=10'>11</a>\u001b[0m \u001b[39mfrom\u001b[39;00m \u001b[39mspeedml\u001b[39;00m \u001b[39mimport\u001b[39;00m speedML\n\u001b[0;32m     <a href='vscode-notebook-cell:/c%3A/Code/MFG598/final_project/m0_3_control_panel.ipynb#X12sZmlsZQ%3D%3D?line=12'>13</a>\u001b[0m \u001b[39mimport\u001b[39;00m \u001b[39mpyautogui\u001b[39;00m\n",
      "File \u001b[1;32mc:\\Users\\WTCra\\anaconda3\\lib\\site-packages\\matplotlib\\__init__.py:877\u001b[0m, in \u001b[0;36m<module>\u001b[1;34m\u001b[0m\n\u001b[0;32m    870\u001b[0m     \u001b[39mreturn\u001b[39;00m config\n\u001b[0;32m    873\u001b[0m \u001b[39m# When constructing the global instances, we need to perform certain updates\u001b[39;00m\n\u001b[0;32m    874\u001b[0m \u001b[39m# by explicitly calling the superclass (dict.update, dict.items) to avoid\u001b[39;00m\n\u001b[0;32m    875\u001b[0m \u001b[39m# triggering resolution of _auto_backend_sentinel.\u001b[39;00m\n\u001b[0;32m    876\u001b[0m rcParamsDefault \u001b[39m=\u001b[39m _rc_params_in_file(\n\u001b[1;32m--> 877\u001b[0m     cbook\u001b[39m.\u001b[39;49m_get_data_path(\u001b[39m\"\u001b[39;49m\u001b[39mmatplotlibrc\u001b[39;49m\u001b[39m\"\u001b[39;49m),\n\u001b[0;32m    878\u001b[0m     \u001b[39m# Strip leading comment.\u001b[39;00m\n\u001b[0;32m    879\u001b[0m     transform\u001b[39m=\u001b[39m\u001b[39mlambda\u001b[39;00m line: line[\u001b[39m1\u001b[39m:] \u001b[39mif\u001b[39;00m line\u001b[39m.\u001b[39mstartswith(\u001b[39m\"\u001b[39m\u001b[39m#\u001b[39m\u001b[39m\"\u001b[39m) \u001b[39melse\u001b[39;00m line,\n\u001b[0;32m    880\u001b[0m     fail_on_error\u001b[39m=\u001b[39m\u001b[39mTrue\u001b[39;00m)\n\u001b[0;32m    881\u001b[0m \u001b[39mdict\u001b[39m\u001b[39m.\u001b[39mupdate(rcParamsDefault, rcsetup\u001b[39m.\u001b[39m_hardcoded_defaults)\n\u001b[0;32m    882\u001b[0m \u001b[39m# Normally, the default matplotlibrc file contains *no* entry for backend (the\u001b[39;00m\n\u001b[0;32m    883\u001b[0m \u001b[39m# corresponding line starts with ##, not #; we fill on _auto_backend_sentinel\u001b[39;00m\n\u001b[0;32m    884\u001b[0m \u001b[39m# in that case.  However, packagers can set a different default backend\u001b[39;00m\n\u001b[0;32m    885\u001b[0m \u001b[39m# (resulting in a normal `#backend: foo` line) in which case we should *not*\u001b[39;00m\n\u001b[0;32m    886\u001b[0m \u001b[39m# fill in _auto_backend_sentinel.\u001b[39;00m\n",
      "File \u001b[1;32mc:\\Users\\WTCra\\anaconda3\\lib\\site-packages\\matplotlib\\cbook\\__init__.py:518\u001b[0m, in \u001b[0;36m_get_data_path\u001b[1;34m(*args)\u001b[0m\n\u001b[0;32m    512\u001b[0m \u001b[39mdef\u001b[39;00m \u001b[39m_get_data_path\u001b[39m(\u001b[39m*\u001b[39margs):\n\u001b[0;32m    513\u001b[0m     \u001b[39m\"\"\"\u001b[39;00m\n\u001b[0;32m    514\u001b[0m \u001b[39m    Return the `pathlib.Path` to a resource file provided by Matplotlib.\u001b[39;00m\n\u001b[0;32m    515\u001b[0m \n\u001b[0;32m    516\u001b[0m \u001b[39m    ``*args`` specify a path relative to the base data path.\u001b[39;00m\n\u001b[0;32m    517\u001b[0m \u001b[39m    \"\"\"\u001b[39;00m\n\u001b[1;32m--> 518\u001b[0m     \u001b[39mreturn\u001b[39;00m Path(matplotlib\u001b[39m.\u001b[39;49mget_data_path(), \u001b[39m*\u001b[39margs)\n",
      "\u001b[1;31mAttributeError\u001b[0m: module 'matplotlib' has no attribute 'get_data_path'"
     ]
    }
   ],
   "source": [
    "#In terminal:\n",
    "#pip install speedml\n",
    "#pip install pyautogui\n",
    "\n",
    "from dask import *\n",
    "\n",
    "from m0_1_system_variables import variables\n",
    "\n",
    "import matplotlib.pyplot as plt\n",
    "\n",
    "from speedml import speedML\n",
    "\n",
    "import pyautogui\n",
    "\n",
    "\n",
    "import numpy as np\n",
    "\n",
    "import pandas as pd\n"
   ]
  },
  {
   "cell_type": "code",
   "execution_count": null,
   "metadata": {},
   "outputs": [],
   "source": [
    "var = variables(database, bins, bosch_filepath)"
   ]
  },
  {
   "attachments": {},
   "cell_type": "markdown",
   "metadata": {},
   "source": [
    "Module 1.0: Data Type Standardization"
   ]
  },
  {
   "attachments": {},
   "cell_type": "markdown",
   "metadata": {},
   "source": [
    "Module 1.1: Data Ingestion"
   ]
  },
  {
   "attachments": {},
   "cell_type": "markdown",
   "metadata": {},
   "source": [
    "Module 2.0: Preliminary Data Analysis"
   ]
  },
  {
   "attachments": {},
   "cell_type": "markdown",
   "metadata": {},
   "source": [
    "Module 2.1: Data Ingestion"
   ]
  },
  {
   "attachments": {},
   "cell_type": "markdown",
   "metadata": {},
   "source": [
    "Module 3: Exploratory Data Analysis"
   ]
  },
  {
   "attachments": {},
   "cell_type": "markdown",
   "metadata": {},
   "source": [
    "Module 4: Model Building"
   ]
  },
  {
   "attachments": {},
   "cell_type": "markdown",
   "metadata": {},
   "source": [
    "Module 5: Model Execution"
   ]
  }
 ],
 "metadata": {
  "kernelspec": {
   "display_name": "base",
   "language": "python",
   "name": "python3"
  },
  "language_info": {
   "codemirror_mode": {
    "name": "ipython",
    "version": 3
   },
   "file_extension": ".py",
   "mimetype": "text/x-python",
   "name": "python",
   "nbconvert_exporter": "python",
   "pygments_lexer": "ipython3",
   "version": "3.11.3"
  },
  "orig_nbformat": 4
 },
 "nbformat": 4,
 "nbformat_minor": 2
}

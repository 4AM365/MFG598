{
 "cells": [
  {
   "attachments": {},
   "cell_type": "markdown",
   "metadata": {},
   "source": [
    "Setup"
   ]
  },
  {
   "cell_type": "code",
   "execution_count": 2,
   "metadata": {},
   "outputs": [
    {
     "name": "stdout",
     "output_type": "stream",
     "text": [
      "All modules imported successfully!\n"
     ]
    }
   ],
   "source": [
    "try:\n",
    "    from m0_1_system_variables import raw_data_path, bosch_filepath\n",
    "\n",
    "    import matplotlib as plt\n",
    "\n",
    "    import speedml as ml\n",
    "\n",
    "    import pyautogui as gui\n",
    "\n",
    "    import numpy as np\n",
    "\n",
    "    import pandas as pd\n",
    "\n",
    "    import os\n",
    "\n",
    "    import time\n",
    "\n",
    "    print(\"All modules imported successfully!\")\n",
    "except ImportError as e:\n",
    "    print('Error message:', e)"
   ]
  },
  {
   "attachments": {},
   "cell_type": "markdown",
   "metadata": {},
   "source": [
    "Module 1.0: Data Identification"
   ]
  },
  {
   "cell_type": "code",
   "execution_count": 7,
   "metadata": {},
   "outputs": [],
   "source": [
    "#Including the magic command 'run' here to establish the list and ensure it is not an old version.\n",
    "%run m1_0_data_identification"
   ]
  },
  {
   "cell_type": "code",
   "execution_count": 10,
   "metadata": {},
   "outputs": [],
   "source": [
    "from m1_0_data_identification import unaccompanied_cdrx_path_list"
   ]
  },
  {
   "cell_type": "code",
   "execution_count": 12,
   "metadata": {},
   "outputs": [
    {
     "name": "stdout",
     "output_type": "stream",
     "text": [
      "H:\\LOSS1\\EDR\\Downloaded Files\\BE0321Y\\1FTNR1ZM0FKA34038_ACM.CDRx\n"
     ]
    }
   ],
   "source": [
    "print(f\"{unaccompanied_cdrx_path_list[110]}\")"
   ]
  },
  {
   "attachments": {},
   "cell_type": "markdown",
   "metadata": {},
   "source": [
    "Module 1.1: Data Format Standardization"
   ]
  },
  {
   "cell_type": "code",
   "execution_count": null,
   "metadata": {},
   "outputs": [],
   "source": [
    "#Data translation is proprietary and accessed through Bosch Event Data Recorder software.\n",
    "#PyAutoGUI selected to manipulate this software.\n",
    "\n",
    "# Simulate pressing the Windows key to switch to the other program\n",
    "gui.press('win')\n",
    "\n",
    "# Simulate typing commands in the other program\n",
    "gui.typewrite('command 1')\n",
    "gui.press('enter')"
   ]
  },
  {
   "attachments": {},
   "cell_type": "markdown",
   "metadata": {},
   "source": [
    "Module 1.2: Data Ingestion"
   ]
  },
  {
   "attachments": {},
   "cell_type": "markdown",
   "metadata": {},
   "source": [
    "Module 2.0: Preliminary Data Analysis"
   ]
  },
  {
   "attachments": {},
   "cell_type": "markdown",
   "metadata": {},
   "source": [
    "Module 2.1: Data Ingestion"
   ]
  },
  {
   "attachments": {},
   "cell_type": "markdown",
   "metadata": {},
   "source": [
    "Module 3: Exploratory Data Analysis"
   ]
  },
  {
   "attachments": {},
   "cell_type": "markdown",
   "metadata": {},
   "source": [
    "Module 4: Model Building"
   ]
  },
  {
   "attachments": {},
   "cell_type": "markdown",
   "metadata": {},
   "source": [
    "Module 5: Model Execution"
   ]
  }
 ],
 "metadata": {
  "kernelspec": {
   "display_name": "base",
   "language": "python",
   "name": "python3"
  },
  "language_info": {
   "codemirror_mode": {
    "name": "ipython",
    "version": 3
   },
   "file_extension": ".py",
   "mimetype": "text/x-python",
   "name": "python",
   "nbconvert_exporter": "python",
   "pygments_lexer": "ipython3",
   "version": "3.11.3"
  },
  "orig_nbformat": 4
 },
 "nbformat": 4,
 "nbformat_minor": 2
}

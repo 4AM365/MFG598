{
 "cells": [
  {
   "cell_type": "code",
   "execution_count": 1,
   "metadata": {},
   "outputs": [],
   "source": [
    "import os\n",
    "import pandas as pd\n",
    "test_data_path = r'C:\\Code\\MFG598\\final_project\\test_cdr_directory'\n",
    "\n",
    "#This block of code creates a list of paths to cdrx files which do not have an accompanying .CSV file. \n",
    "#The objective of this module is to find all of these 'unaccompanied' files and then create a .CSV version suitable for import and analysis. \n",
    "\n",
    "#Whenever the database is re-scanned for new files, the unaccompanied_cdrx_path_list must be cleared. Otherwise, it will simply add the new list of unaccompanied files to an old list.\n",
    "\n",
    "unaccompanied_cdrx_path_list = []\n",
    "complete_cdrx_path_list = []\n",
    "\n",
    "for root, dirs, files in os.walk(test_data_path):\n",
    "        for filename in files:\n",
    "                if filename.lower().endswith('cdrx'):\n",
    "                        complete_cdrx_path_list.append(r\"{0}\\{1}\".format(root, filename))\n",
    "                        csv_filename = os.path.splitext(filename)[0] + '.CSV'\n",
    "                        if csv_filename not in files:     \n",
    "                        # os.path.join is performed to handle the case of one vehicle having multiple records. \n",
    "                        # The record is saved as the vehicle's VIN, but successive records bearing the same name are placed in different directories.  \n",
    "                        # Considering the filepath as part of the record's 'identity' will ensure that these edge cases are accommodated.\n",
    "\n",
    "                                # unaccompanied_cdrx_path_list.append(os.path.join(root, filename))\n",
    "                                #Updating this to raw string for 'cleanliness' and resilience. This prevents any need to escape the backslashes.\n",
    "                                unaccompanied_cdrx_path_list.append(r\"{0}\\{1}\".format(root, filename))\n",
    "\n",
    "\n",
    "\n",
    "dfs = []\n",
    "\n",
    "for file_path in complete_cdrx_path_list:\n",
    "\n",
    "        df = pd.DataFrame({'filepath': [file_path]})\n",
    "\n",
    "        # Append the DataFrame to the list of DataFrames\n",
    "        dfs.append(df)\n",
    "# Combine the list of DataFrames into a single DataFrame\n",
    "complete_path_list_dataframe = pd.concat(dfs, ignore_index=True)"
   ]
  },
  {
   "cell_type": "code",
   "execution_count": 3,
   "metadata": {},
   "outputs": [
    {
     "data": {
      "text/html": [
       "<div>\n",
       "<style scoped>\n",
       "    .dataframe tbody tr th:only-of-type {\n",
       "        vertical-align: middle;\n",
       "    }\n",
       "\n",
       "    .dataframe tbody tr th {\n",
       "        vertical-align: top;\n",
       "    }\n",
       "\n",
       "    .dataframe thead th {\n",
       "        text-align: right;\n",
       "    }\n",
       "</style>\n",
       "<table border=\"1\" class=\"dataframe\">\n",
       "  <thead>\n",
       "    <tr style=\"text-align: right;\">\n",
       "      <th></th>\n",
       "      <th>filepath</th>\n",
       "    </tr>\n",
       "  </thead>\n",
       "  <tbody>\n",
       "    <tr>\n",
       "      <th>0</th>\n",
       "      <td>C:\\Code\\MFG598\\final_project\\test_cdr_director...</td>\n",
       "    </tr>\n",
       "    <tr>\n",
       "      <th>1</th>\n",
       "      <td>C:\\Code\\MFG598\\final_project\\test_cdr_director...</td>\n",
       "    </tr>\n",
       "    <tr>\n",
       "      <th>2</th>\n",
       "      <td>C:\\Code\\MFG598\\final_project\\test_cdr_director...</td>\n",
       "    </tr>\n",
       "    <tr>\n",
       "      <th>3</th>\n",
       "      <td>C:\\Code\\MFG598\\final_project\\test_cdr_director...</td>\n",
       "    </tr>\n",
       "    <tr>\n",
       "      <th>4</th>\n",
       "      <td>C:\\Code\\MFG598\\final_project\\test_cdr_director...</td>\n",
       "    </tr>\n",
       "  </tbody>\n",
       "</table>\n",
       "</div>"
      ],
      "text/plain": [
       "                                            filepath\n",
       "0  C:\\Code\\MFG598\\final_project\\test_cdr_director...\n",
       "1  C:\\Code\\MFG598\\final_project\\test_cdr_director...\n",
       "2  C:\\Code\\MFG598\\final_project\\test_cdr_director...\n",
       "3  C:\\Code\\MFG598\\final_project\\test_cdr_director...\n",
       "4  C:\\Code\\MFG598\\final_project\\test_cdr_director..."
      ]
     },
     "execution_count": 3,
     "metadata": {},
     "output_type": "execute_result"
    }
   ],
   "source": [
    "complete_path_list_dataframe.head()"
   ]
  },
  {
   "cell_type": "code",
   "execution_count": 4,
   "metadata": {},
   "outputs": [
    {
     "data": {
      "text/plain": [
       "['C:\\\\Code\\\\MFG598\\\\final_project\\\\test_cdr_directory\\\\1FDXE45S29DA10452_ACMA\\\\1FDXE45S29DA10452_ACMA.CDRx',\n",
       " 'C:\\\\Code\\\\MFG598\\\\final_project\\\\test_cdr_directory\\\\1FDXE4FS3BDB02206_ACM\\\\1FDXE4FS3BDB02206_ACM.CDRx',\n",
       " 'C:\\\\Code\\\\MFG598\\\\final_project\\\\test_cdr_directory\\\\1FDXE4FS4BDA50634_ACM\\\\1FDXE4FS4BDA50634_ACM.CDRx',\n",
       " 'C:\\\\Code\\\\MFG598\\\\final_project\\\\test_cdr_directory\\\\1FDXE4FS5BDA96599_ACM 00871457-2017   2011 ford\\\\1FDXE4FS5BDA96599_ACM 00871457-2017   2011 ford.CDRx',\n",
       " 'C:\\\\Code\\\\MFG598\\\\final_project\\\\test_cdr_directory\\\\1FDXE4FSXCDA06364_ACM\\\\1FDXE4FSXCDA06364_ACM.CDRx',\n",
       " 'C:\\\\Code\\\\MFG598\\\\final_project\\\\test_cdr_directory\\\\1FTNE2EW4DDA67716_ACM\\\\1FTNE2EW4DDA67716_ACM.CDRx',\n",
       " 'C:\\\\Code\\\\MFG598\\\\final_project\\\\test_cdr_directory\\\\1FTNR1ZM1FKB19874_ACM\\\\1FTNR1ZM1FKB19874_ACM.CDRx',\n",
       " 'C:\\\\Code\\\\MFG598\\\\final_project\\\\test_cdr_directory\\\\1FTYR1YM2KKB02011_ACM\\\\1FTYR1YM2KKB02011_ACM.CDRx',\n",
       " 'C:\\\\Code\\\\MFG598\\\\final_project\\\\test_cdr_directory\\\\1FTYR1ZM2GKA34167_ACM\\\\1FTYR1ZM2GKA34167_ACM.CDRx',\n",
       " 'C:\\\\Code\\\\MFG598\\\\final_project\\\\test_cdr_directory\\\\1FTYR1ZM9KKB21198_ACM\\\\1FTYR1ZM9KKB21198_ACM.CDRx']"
      ]
     },
     "execution_count": 4,
     "metadata": {},
     "output_type": "execute_result"
    }
   ],
   "source": [
    "unaccompanied_cdrx_path_list[:10]"
   ]
  },
  {
   "cell_type": "code",
   "execution_count": null,
   "metadata": {},
   "outputs": [],
   "source": [
    "from m0_1_system_variables import bosch_filepath\n",
    "import psutil\n",
    "import sys\n",
    "import subprocess\n",
    "import time\n",
    "import pyautogui as gui\n",
    "import pyperclip as pyp\n",
    "import os\n",
    "\n",
    "\n",
    "\n",
    "'''This block is used to determine whether the Bosch CDR tool is running'''\n",
    "def check_process(process_name):\n",
    "    \"\"\"Check if a process is running on Windows\"\"\"\n",
    "    for proc in psutil.process_iter(['name']):\n",
    "        if proc.name() == process_name:\n",
    "            return True\n",
    "    return False\n",
    "    sys.exit(1)\n",
    "\n",
    "    # Check if 'cdr.exe' is running\n",
    "if check_process('CDR.EXE'):\n",
    "    print('CDR.EXE is running. Killing CDR.EXE and re-starting process to make it visible')\n",
    "    subprocess.run(['taskkill', '/f', '/im', 'cdr.exe'])\n",
    "else:\n",
    "    process = subprocess.Popen(bosch_filepath)\n",
    "    time.sleep(2)\n",
    "\n",
    "#Must truncate the filepath for use in CDR to eliminate the filename and last backslash.\n",
    "for working_file in unaccompanied_cdrx_path_list[1]:\n",
    "    working_file_dir_str = str(os.path.dirname(working_file))\n",
    "    gui.hotkey('ctrl', 'o')\n",
    "    gui.keyDown('shift')\n",
    "    for i in range(7):    # Press the Tab key six times\n",
    "        gui.press('tab')\n",
    "        gui.keyUp('shift')       # Release the Shift key\n",
    "    gui.press('Enter')\n",
    "    pyp.copy(working_file_dir_str)\n",
    "    gui.hotkey('ctrl', 'v')\n",
    "    gui.press('Enter')\n",
    "    time.sleep(1)\n",
    "    # for i in range(4):\n",
    "    #     gui.press('tab')\n",
    "    #     time.sleep(0.1)\n",
    "    # time.sleep(1)\n",
    "    # gui.press('space')\n",
    "    # gui.press('enter')\n",
    "    # time.sleep(1)\n",
    "    # gui.press('alt')\n",
    "    # gui.press('right')\n",
    "    # for i in range(9):\n",
    "    #     gui.press('down')\n",
    "    #     time.sleep(0.1)\n",
    "    # for i in range(2):\n",
    "    #     gui.press('enter')\n",
    "    #     time.sleep(0.1)\n"
   ]
  }
 ],
 "metadata": {
  "kernelspec": {
   "display_name": "Python 3",
   "language": "python",
   "name": "python3"
  },
  "language_info": {
   "codemirror_mode": {
    "name": "ipython",
    "version": 3
   },
   "file_extension": ".py",
   "mimetype": "text/x-python",
   "name": "python",
   "nbconvert_exporter": "python",
   "pygments_lexer": "ipython3",
   "version": "3.9.12"
  },
  "orig_nbformat": 4
 },
 "nbformat": 4,
 "nbformat_minor": 2
}

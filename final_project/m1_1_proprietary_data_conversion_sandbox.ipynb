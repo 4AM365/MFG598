{
 "cells": [
  {
   "attachments": {},
   "cell_type": "markdown",
   "metadata": {},
   "source": [
    "This program ensures that each .CDRx file has an accompanying .CSV file containing all of that file's information.\n",
    "\n",
    "Because there is no 'decoder' for information in .CDRx files, we can leverage the 'export to CSV' function in the Bosch Crash Data Retrieval software."
   ]
  },
  {
   "cell_type": "code",
   "execution_count": 14,
   "metadata": {},
   "outputs": [],
   "source": [
    "import os\n",
    "import pandas as pd\n",
    "from m0_1_system_variables import test_data_path"
   ]
  },
  {
   "cell_type": "code",
   "execution_count": 15,
   "metadata": {},
   "outputs": [
    {
     "ename": "KeyboardInterrupt",
     "evalue": "",
     "output_type": "error",
     "traceback": [
      "\u001b[1;31m---------------------------------------------------------------------------\u001b[0m",
      "\u001b[1;31mKeyboardInterrupt\u001b[0m                         Traceback (most recent call last)",
      "Cell \u001b[1;32mIn[15], line 10\u001b[0m\n\u001b[0;32m      1\u001b[0m \u001b[39m#This block of code creates a list of paths to cdrx files which do not have an accompanying .CSV file. \u001b[39;00m\n\u001b[0;32m      2\u001b[0m \u001b[39m#The objective of this module is to find all of these 'unaccompanied' files and then create a .CSV version suitable for import and analysis. \u001b[39;00m\n\u001b[0;32m      3\u001b[0m \n\u001b[0;32m      4\u001b[0m \n\u001b[0;32m      5\u001b[0m \u001b[39m#Whenever the database is re-scanned for new files, the unaccompanied_cdrx_path_list must be cleared. \u001b[39;00m\n\u001b[0;32m      6\u001b[0m         \u001b[39m#Otherwise, it will simply add the new list of unaccompanied files to an old list.\u001b[39;00m\n\u001b[0;32m      8\u001b[0m unaccompanied_cdrx_path_list \u001b[39m=\u001b[39m []\n\u001b[1;32m---> 10\u001b[0m \u001b[39mfor\u001b[39;00m root, dirs, files \u001b[39min\u001b[39;00m os\u001b[39m.\u001b[39mwalk(test_data_path):\n\u001b[0;32m     11\u001b[0m         \u001b[39mfor\u001b[39;00m filename \u001b[39min\u001b[39;00m files:\n\u001b[0;32m     12\u001b[0m                 \u001b[39mif\u001b[39;00m filename\u001b[39m.\u001b[39mlower()\u001b[39m.\u001b[39mendswith(\u001b[39m'\u001b[39m\u001b[39mcdrx\u001b[39m\u001b[39m'\u001b[39m):\n\u001b[0;32m     13\u001b[0m                         \u001b[39m#Ford JH trucks are not supported. Need to exclude via VIN.\u001b[39;00m\n\u001b[0;32m     14\u001b[0m                         \u001b[39m# if filename.startswith\u001b[39;00m\n",
      "File \u001b[1;32m<frozen os>:418\u001b[0m, in \u001b[0;36m_walk\u001b[1;34m(top, topdown, onerror, followlinks)\u001b[0m\n",
      "File \u001b[1;32m<frozen ntpath>:261\u001b[0m, in \u001b[0;36mislink\u001b[1;34m(path)\u001b[0m\n",
      "\u001b[1;31mKeyboardInterrupt\u001b[0m: "
     ]
    }
   ],
   "source": [
    "#This block of code creates a list of paths to cdrx files which do not have an accompanying .CSV file. \n",
    "#The objective of this module is to find all of these 'unaccompanied' files and then create a .CSV version suitable for import and analysis. \n",
    "\n",
    "\n",
    "#Whenever the database is re-scanned for new files, the unaccompanied_cdrx_path_list must be cleared. \n",
    "        #Otherwise, it will simply add the new list of unaccompanied files to an old list.\n",
    "\n",
    "unaccompanied_cdrx_path_list = []\n",
    "\n",
    "for root, dirs, files in os.walk(test_data_path):\n",
    "        for filename in files:\n",
    "                if filename.lower().endswith('cdrx'):\n",
    "                        #Ford JH trucks are not supported. Need to exclude via VIN.\n",
    "                        # if filename.startswith\n",
    "\n",
    "                                csv_filename = os.path.splitext(filename)[0] + '.CSV'\n",
    "                                if csv_filename not in files:     \n",
    "                                # os.path.join is performed to handle the case of one vehicle having multiple records. \n",
    "                                # The record is saved as the vehicle's VIN, but successive records bearing the same name are placed in different directories.\n",
    "                                # Considering the filepath as part of the record's 'identity' will ensure that these edge cases are accommodated.\n",
    "\n",
    "                                        # unaccompanied_cdrx_path_list.append(os.path.join(root, filename))\n",
    "                                        #Updating this to raw string for 'cleanliness' and resilience. This prevents any need to escape the backslashes.\n",
    "                                        unaccompanied_cdrx_path_list.append(r\"{0}\\{1}\".format(root, filename))\n",
    "\n"
   ]
  },
  {
   "cell_type": "code",
   "execution_count": null,
   "metadata": {},
   "outputs": [
    {
     "data": {
      "text/plain": [
       "['C:\\\\Code\\\\MFG598\\\\final_project\\\\test_cdr_directory\\\\2001 Blazer\\\\1GNDT13W71K258205_ACM.CDRx',\n",
       " 'C:\\\\Code\\\\MFG598\\\\final_project\\\\test_cdr_directory\\\\2001 Ford F-250 Hall\\\\1FTNX21F41EC35652_ACM.CDRx',\n",
       " 'C:\\\\Code\\\\MFG598\\\\final_project\\\\test_cdr_directory\\\\2002 Chevy Venture\\\\1GNDX03E12D137567_ACM.CDRx',\n",
       " 'C:\\\\Code\\\\MFG598\\\\final_project\\\\test_cdr_directory\\\\2002 Toyota 1678583-2019\\\\JTDBE32K320061050_ACM.CDRx',\n",
       " 'C:\\\\Code\\\\MFG598\\\\final_project\\\\test_cdr_directory\\\\2003 GMC Yukon 00514190-2013\\\\3GKGK26U33G169268_ACM.CDRx',\n",
       " 'C:\\\\Code\\\\MFG598\\\\final_project\\\\test_cdr_directory\\\\2004 Chevy Envoy 413772-2012\\\\___James Fait; Fwd 00413772-2012 Van Horn; 8-31-2012\\\\Attachments\\\\1GKDS13S742446210_ACM.CDRx',\n",
       " 'C:\\\\Code\\\\MFG598\\\\final_project\\\\test_cdr_directory\\\\2004 Chevy Trailblazer\\\\1GNET16S446161800_ACM.CDRx',\n",
       " 'C:\\\\Code\\\\MFG598\\\\final_project\\\\test_cdr_directory\\\\2004 Ford F250 473115-2013\\\\1FTNW21L34EC18807_ACM.CDRx',\n",
       " 'C:\\\\Code\\\\MFG598\\\\final_project\\\\test_cdr_directory\\\\2004 Merc Mount\\\\TM4828R\\\\1GDY7RFF9H1289010_ACM.CDRx',\n",
       " 'C:\\\\Code\\\\MFG598\\\\final_project\\\\test_cdr_directory\\\\2005 Chevy 1500\\\\1GCEK19Z45Z343257_ACM.CDRx',\n",
       " 'C:\\\\Code\\\\MFG598\\\\final_project\\\\test_cdr_directory\\\\2005 Chevy Equinox 627474-2015\\\\2CNDL73F856109009_ACM.CDRx',\n",
       " 'C:\\\\Code\\\\MFG598\\\\final_project\\\\test_cdr_directory\\\\2005 Ford F-150 634033-2015\\\\1FTPW12575FB53748_PCM.CDRx',\n",
       " 'C:\\\\Code\\\\MFG598\\\\final_project\\\\test_cdr_directory\\\\2005 Toyota Tacoma\\\\5TELU42NX5Z140484_ACM.CDRx',\n",
       " 'C:\\\\Code\\\\MFG598\\\\final_project\\\\test_cdr_directory\\\\2005 Toyota Tacoma 839639-2017\\\\5TELU42NX5Z140484_ACM.CDRx',\n",
       " 'C:\\\\Code\\\\MFG598\\\\final_project\\\\test_cdr_directory\\\\2005 Toyota Tundra 616012-2015\\\\5TBDT44155S473554_ACM.CDRx',\n",
       " 'C:\\\\Code\\\\MFG598\\\\final_project\\\\test_cdr_directory\\\\2006 Colorado 680274-2015\\\\1GCDT136868171488_ACM.CDRx',\n",
       " 'C:\\\\Code\\\\MFG598\\\\final_project\\\\test_cdr_directory\\\\2006 Saturn Vue Tierney\\\\5GZCZ33D56S827880_ACM.CDRx',\n",
       " 'C:\\\\Code\\\\MFG598\\\\final_project\\\\test_cdr_directory\\\\2007 Chevy Suburban\\\\1GNFK16377J280166_ACM.CDRx',\n",
       " 'C:\\\\Code\\\\MFG598\\\\final_project\\\\test_cdr_directory\\\\2007 Toyota Sequoia\\\\5TDZT34A57S292450_ACM.CDRx',\n",
       " 'C:\\\\Code\\\\MFG598\\\\final_project\\\\test_cdr_directory\\\\2007 Toyota Tacoma 00551342-2014\\\\5TEKU72NX7Z413794_ACM.CDRx',\n",
       " 'C:\\\\Code\\\\MFG598\\\\final_project\\\\test_cdr_directory\\\\2008 CTS\\\\1G6DM577280113291_ACM.CDRx',\n",
       " 'C:\\\\Code\\\\MFG598\\\\final_project\\\\test_cdr_directory\\\\2008 F150 00481941-2013\\\\1FTRF12W18KB54603_PCM.CDRx',\n",
       " 'C:\\\\Code\\\\MFG598\\\\final_project\\\\test_cdr_directory\\\\2010 Ford F-150 1071685-2018\\\\1FTEW1C83AFD55450_ACM.CDRx',\n",
       " 'C:\\\\Code\\\\MFG598\\\\final_project\\\\test_cdr_directory\\\\2010 toyota corolla\\\\2T1BU4EE0AC402861_ACM.CDRx',\n",
       " 'C:\\\\Code\\\\MFG598\\\\final_project\\\\test_cdr_directory\\\\2011 Buick Regal 805863-2017\\\\W04GN5EC4B1099980_ACM.CDRx',\n",
       " 'C:\\\\Code\\\\MFG598\\\\final_project\\\\test_cdr_directory\\\\2012 Fiat 500 00419271-2012\\\\3C3CFFAR1CT198434_ACM.CDRx',\n",
       " 'C:\\\\Code\\\\MFG598\\\\final_project\\\\test_cdr_directory\\\\2014 Ford F350 686828-2015\\\\1FT8W3BT6EEB25413_ACM.CDRx',\n",
       " 'C:\\\\Code\\\\MFG598\\\\final_project\\\\test_cdr_directory\\\\2016 Ford F250\\\\1FT7W2BT4GEC98484_ACM.CDRx',\n",
       " 'C:\\\\Code\\\\MFG598\\\\final_project\\\\test_cdr_directory\\\\2017 Dodge Caravan\\\\2C4RDGBG2HR860059_ACM.CDRx',\n",
       " 'C:\\\\Code\\\\MFG598\\\\final_project\\\\test_cdr_directory\\\\634033-2015 pcm download\\\\1FTPW12575FB53748_PCM.CDRx',\n",
       " 'C:\\\\Code\\\\MFG598\\\\final_project\\\\test_cdr_directory\\\\AA1703\\\\1GKFK16368R178275_ACM.CDRx',\n",
       " 'C:\\\\Code\\\\MFG598\\\\final_project\\\\test_cdr_directory\\\\BE0024D\\\\1GTW7AFF5H1914001_ACM.CDRx',\n",
       " 'C:\\\\Code\\\\MFG598\\\\final_project\\\\test_cdr_directory\\\\BE0029M\\\\1FTYR1ZM8GKB04867_ACM.CDRx',\n",
       " 'C:\\\\Code\\\\MFG598\\\\final_project\\\\test_cdr_directory\\\\BE0061R\\\\1GTW7AFF0H1915038_ACM.CDRx',\n",
       " 'C:\\\\Code\\\\MFG598\\\\final_project\\\\test_cdr_directory\\\\BE0075C\\\\1FTYR1ZM6HKA64077_ACM.CDRx',\n",
       " 'C:\\\\Code\\\\MFG598\\\\final_project\\\\test_cdr_directory\\\\BE0079R\\\\1GTW7AFF2H1915056_ACM.CDRx',\n",
       " 'C:\\\\Code\\\\MFG598\\\\final_project\\\\test_cdr_directory\\\\BE0108N\\\\1FTYR1YM5JKA46628_ACM.CDRx',\n",
       " 'C:\\\\Code\\\\MFG598\\\\final_project\\\\test_cdr_directory\\\\BE0112K\\\\1GCWGAFG1J1903611_ACM.CDRx',\n",
       " 'C:\\\\Code\\\\MFG598\\\\final_project\\\\test_cdr_directory\\\\BE0129Y\\\\1FTYR1YM2KKA42036_ACM.CDRx',\n",
       " 'C:\\\\Code\\\\MFG598\\\\final_project\\\\test_cdr_directory\\\\BE0134N\\\\1FTNE2EW1DDA15704_ACM.CDRx',\n",
       " 'C:\\\\Code\\\\MFG598\\\\final_project\\\\test_cdr_directory\\\\BE0140S\\\\1FTYR1YM3JKB32942_ACM.CDRx',\n",
       " 'C:\\\\Code\\\\MFG598\\\\final_project\\\\test_cdr_directory\\\\BE0146M\\\\1FTYR1ZM5GKB20668_ACM.CDRx',\n",
       " 'C:\\\\Code\\\\MFG598\\\\final_project\\\\test_cdr_directory\\\\BE0150K\\\\1FTNE2EWXCDB03052_ACM.CDRx',\n",
       " 'C:\\\\Code\\\\MFG598\\\\final_project\\\\test_cdr_directory\\\\BE0151W\\\\1GTW7FCA7E1904071_ACM.CDRx',\n",
       " 'C:\\\\Code\\\\MFG598\\\\final_project\\\\test_cdr_directory\\\\BE0152S\\\\1FTYR1YM7JKB32796_ACM.CDRx',\n",
       " 'C:\\\\Code\\\\MFG598\\\\final_project\\\\test_cdr_directory\\\\BE0159Z\\\\1FTYR1ZM0KKB34843_ACM.CDRx',\n",
       " 'C:\\\\Code\\\\MFG598\\\\final_project\\\\test_cdr_directory\\\\BE0169K\\\\1FTNE2EW8CDB05267_ACM.CDRx',\n",
       " 'C:\\\\Code\\\\MFG598\\\\final_project\\\\test_cdr_directory\\\\BE0171W\\\\1GTW7AFG1K1210717_ACM.CDRx',\n",
       " 'C:\\\\Code\\\\MFG598\\\\final_project\\\\test_cdr_directory\\\\BE0173Z\\\\1GTW7FCF3F1900371_ACM.CDRx',\n",
       " 'C:\\\\Code\\\\MFG598\\\\final_project\\\\test_cdr_directory\\\\BE0176C\\\\1FTYR1ZM8HKA69538_ACM.CDRx',\n",
       " 'C:\\\\Code\\\\MFG598\\\\final_project\\\\test_cdr_directory\\\\BE0181S\\\\1FTYR1YM5JKB32716_ACM.CDRx',\n",
       " 'C:\\\\Code\\\\MFG598\\\\final_project\\\\test_cdr_directory\\\\BE0185W\\\\1GTW7FCA5E1903839_ACM.CDRx',\n",
       " 'C:\\\\Code\\\\MFG598\\\\final_project\\\\test_cdr_directory\\\\BE0212F\\\\1FTYR1ZM4GKA23039_ACM.CDRx',\n",
       " 'C:\\\\Code\\\\MFG598\\\\final_project\\\\test_cdr_directory\\\\BE0216N\\\\1FTNE2EW6DDA15729_ACM.CDRx',\n",
       " 'C:\\\\Code\\\\MFG598\\\\final_project\\\\test_cdr_directory\\\\BE0216S\\\\1FTYR1YM9JKB32928_ACM.CDRx',\n",
       " 'C:\\\\Code\\\\MFG598\\\\final_project\\\\test_cdr_directory\\\\BE0230S\\\\1FTYR1YM8JKB32578_ACM.CDRx',\n",
       " 'C:\\\\Code\\\\MFG598\\\\final_project\\\\test_cdr_directory\\\\BE0233R\\\\1GTW7AFF8H1915210_ACM.CDRx',\n",
       " 'C:\\\\Code\\\\MFG598\\\\final_project\\\\test_cdr_directory\\\\BE0235W\\\\1GTW7AFG5K1210624_ACM.CDRx',\n",
       " 'C:\\\\Code\\\\MFG598\\\\final_project\\\\test_cdr_directory\\\\BE0253X\\\\1GCWGAFG3K1208676_ACM.CDRx',\n",
       " 'C:\\\\Code\\\\MFG598\\\\final_project\\\\test_cdr_directory\\\\BE0261F\\\\1FTYR1ZM2GKA22665_ACM.CDRx',\n",
       " 'C:\\\\Code\\\\MFG598\\\\final_project\\\\test_cdr_directory\\\\BE0262Y\\\\1FTNR1ZM7FKA33758_ACM.CDRx',\n",
       " 'C:\\\\Code\\\\MFG598\\\\final_project\\\\test_cdr_directory\\\\BE0267S\\\\1FTYR1YM2JKB32995_ACM.CDRx',\n",
       " 'C:\\\\Code\\\\MFG598\\\\final_project\\\\test_cdr_directory\\\\BE0278J\\\\1GTW7AFG2J1246026_ACM.CDRx',\n",
       " 'C:\\\\Code\\\\MFG598\\\\final_project\\\\test_cdr_directory\\\\BE0278Y\\\\1FTYR1YM8KKA41974_ACM.CDRx',\n",
       " 'C:\\\\Code\\\\MFG598\\\\final_project\\\\test_cdr_directory\\\\BE0282K\\\\1FTNE2EWXCDB00605_ACM.CDRx',\n",
       " 'C:\\\\Code\\\\MFG598\\\\final_project\\\\test_cdr_directory\\\\BE0285N\\\\1FTNE2EW1DDA11877_ACM.CDRx',\n",
       " 'C:\\\\Code\\\\MFG598\\\\final_project\\\\test_cdr_directory\\\\BE0290N\\\\1FTYR1YM5JKA46399_ACM.CDRx',\n",
       " 'C:\\\\Code\\\\MFG598\\\\final_project\\\\test_cdr_directory\\\\BE0292N\\\\1FTYR1YMXJKA46401_ACM.CDRx',\n",
       " 'C:\\\\Code\\\\MFG598\\\\final_project\\\\test_cdr_directory\\\\BE0297S\\\\1FTNE2EW4EDA09607_ACM.CDRx',\n",
       " 'C:\\\\Code\\\\MFG598\\\\final_project\\\\test_cdr_directory\\\\BE0298Y\\\\1FTYR1YM5KKA42032_ACM.CDRx',\n",
       " 'C:\\\\Code\\\\MFG598\\\\final_project\\\\test_cdr_directory\\\\BE0300Z\\\\1FTYR1YM2KKB34358_ACM.CDRx',\n",
       " 'C:\\\\Code\\\\MFG598\\\\final_project\\\\test_cdr_directory\\\\BE0317D\\\\1GTW7AFF2H1914294_ACM.CDRx',\n",
       " 'C:\\\\Code\\\\MFG598\\\\final_project\\\\test_cdr_directory\\\\BE0319W\\\\1GTW7AFG4K1214891_ACM.CDRx',\n",
       " 'C:\\\\Code\\\\MFG598\\\\final_project\\\\test_cdr_directory\\\\BE0321Y\\\\1FTNR1ZM0FKA34038_ACM.CDRx',\n",
       " 'C:\\\\Code\\\\MFG598\\\\final_project\\\\test_cdr_directory\\\\BE0325K\\\\1GCWGAFG2J1904024_ACM.CDRx',\n",
       " 'C:\\\\Code\\\\MFG598\\\\final_project\\\\test_cdr_directory\\\\BE0335N\\\\1FTNE2EW3DDA15686_ACM.CDRx',\n",
       " 'C:\\\\Code\\\\MFG598\\\\final_project\\\\test_cdr_directory\\\\BE0336T\\\\1FTNE2EW7EDA95656_ACM.CDRx',\n",
       " 'C:\\\\Code\\\\MFG598\\\\final_project\\\\test_cdr_directory\\\\BE0342M\\\\1FTYR1ZM2GKB20630_ACM.CDRx',\n",
       " 'C:\\\\Code\\\\MFG598\\\\final_project\\\\test_cdr_directory\\\\BE0349M\\\\1FTYR1ZM2GKB20496_ACM.CDRx',\n",
       " 'C:\\\\Code\\\\MFG598\\\\final_project\\\\test_cdr_directory\\\\BE0361S\\\\1FTNE2EW9EDA10218_ACM.CDRx',\n",
       " 'C:\\\\Code\\\\MFG598\\\\final_project\\\\test_cdr_directory\\\\BE0364K\\\\1GCWGAFG1J1904063_ACM.CDRx',\n",
       " 'C:\\\\Code\\\\MFG598\\\\final_project\\\\test_cdr_directory\\\\BE0364W\\\\1GTW7FCA1E1904101_ACM.CDRx',\n",
       " 'C:\\\\Code\\\\MFG598\\\\final_project\\\\test_cdr_directory\\\\BE0366D\\\\1GTW7AFF0H1914343_ACM.CDRx',\n",
       " 'C:\\\\Code\\\\MFG598\\\\final_project\\\\test_cdr_directory\\\\BE0371F\\\\1FTYR1ZM8GKA22704_ACM.CDRx',\n",
       " 'C:\\\\Code\\\\MFG598\\\\final_project\\\\test_cdr_directory\\\\BE0384T\\\\1FTNE2EWXEDA96414_ACM.CDRx',\n",
       " 'C:\\\\Code\\\\MFG598\\\\final_project\\\\test_cdr_directory\\\\BE0387D\\\\1GTW7AFF8H1914364_ACMA.CDRx',\n",
       " 'C:\\\\Code\\\\MFG598\\\\final_project\\\\test_cdr_directory\\\\BE0389X\\\\1GCWGAFG5K1221512_ACM.CDRx',\n",
       " 'C:\\\\Code\\\\MFG598\\\\final_project\\\\test_cdr_directory\\\\BE0394D\\\\1GTW7AFF5H1914371_ACM.CDRx',\n",
       " 'C:\\\\Code\\\\MFG598\\\\final_project\\\\test_cdr_directory\\\\BE0398R\\\\1GTW7AFF7H1915375_ACM.CDRx',\n",
       " 'C:\\\\Code\\\\MFG598\\\\final_project\\\\test_cdr_directory\\\\BE155C\\\\1FTNE2EW1ADA27654_ACM.CDRx',\n",
       " 'C:\\\\Code\\\\MFG598\\\\final_project\\\\test_cdr_directory\\\\BE1627N\\\\1FTBR1Y89NKA30270_ACM.CDRx',\n",
       " 'C:\\\\Code\\\\MFG598\\\\final_project\\\\test_cdr_directory\\\\BE2050F\\\\1GCWGAFP7M1229212_ACM.CDRx',\n",
       " 'C:\\\\Code\\\\MFG598\\\\final_project\\\\test_cdr_directory\\\\BE2961N\\\\1FTBR1Y88NKA43334_ACM.CDRx',\n",
       " 'C:\\\\Code\\\\MFG598\\\\final_project\\\\test_cdr_directory\\\\BE3082C\\\\1FTBR1Y86MKA26563_ACM.CDRx',\n",
       " 'C:\\\\Code\\\\MFG598\\\\final_project\\\\test_cdr_directory\\\\BE4946C\\\\1FTBR1Y85MKA57044_ACM.CDRx',\n",
       " 'C:\\\\Code\\\\MFG598\\\\final_project\\\\test_cdr_directory\\\\BP1670B\\\\3C6JR6DG4NG380541_ACM.CDRx',\n",
       " 'C:\\\\Code\\\\MFG598\\\\final_project\\\\test_cdr_directory\\\\BP3628R\\\\3GCNAAED1NG551173_ACM.CDRx',\n",
       " 'C:\\\\Code\\\\MFG598\\\\final_project\\\\test_cdr_directory\\\\BP3761R\\\\3GCNAAED1NG555045_ACM.CDRx',\n",
       " 'C:\\\\Code\\\\MFG598\\\\final_project\\\\test_cdr_directory\\\\BP4652R\\\\3GCNAAEDXNG580753_ACM.CDRx',\n",
       " 'C:\\\\Code\\\\MFG598\\\\final_project\\\\test_cdr_directory\\\\DC1098M\\\\1FDXE45S66DA56393_PCM.CDRx',\n",
       " 'C:\\\\Code\\\\MFG598\\\\final_project\\\\test_cdr_directory\\\\DC1328D\\\\1FDXE45S59DA61315_ACM.CDRx',\n",
       " 'C:\\\\Code\\\\MFG598\\\\final_project\\\\test_cdr_directory\\\\DC2783T\\\\1FDXE45SX8DB20714_PCM.CDRx',\n",
       " 'C:\\\\Code\\\\MFG598\\\\final_project\\\\test_cdr_directory\\\\DC2904S\\\\1FDXE4FS5GDC51823_ACM.CDRx',\n",
       " 'C:\\\\Code\\\\MFG598\\\\final_project\\\\test_cdr_directory\\\\DC3680H\\\\1FDXE4FS1EDA62096_ACM.CDRx',\n",
       " 'C:\\\\Code\\\\MFG598\\\\final_project\\\\test_cdr_directory\\\\DC4136R\\\\1FDXE4FN8NDC30293_ACM.CDRx',\n",
       " 'C:\\\\Code\\\\MFG598\\\\final_project\\\\test_cdr_directory\\\\DC4504R\\\\1FDXE4FN1NDC34587_ACM.CDRx',\n",
       " 'C:\\\\Code\\\\MFG598\\\\final_project\\\\test_cdr_directory\\\\DC6494W\\\\1FDXE4FS1HDC41873_ACM.CDRx',\n",
       " 'C:\\\\Code\\\\MFG598\\\\final_project\\\\test_cdr_directory\\\\EL1235C\\\\1FDXE45S89DA11377_ACM.CDRx',\n",
       " 'C:\\\\Code\\\\MFG598\\\\final_project\\\\test_cdr_directory\\\\TM1795N\\\\1GDY72BA2B1904845_ACM.CDRx',\n",
       " 'C:\\\\Code\\\\MFG598\\\\final_project\\\\test_cdr_directory\\\\TM1924G\\\\1GDY7RFG5L1255387_ACM.CDRx',\n",
       " 'C:\\\\Code\\\\MFG598\\\\final_project\\\\test_cdr_directory\\\\TM2693K\\\\1GDY7RF73M1239920_ACM.CDRx',\n",
       " 'C:\\\\Code\\\\MFG598\\\\final_project\\\\test_cdr_directory\\\\TM3150F\\\\1GDY72BAXC1903203_ACM.CDRx',\n",
       " 'C:\\\\Code\\\\MFG598\\\\final_project\\\\test_cdr_directory\\\\TM4068K\\\\1GDY7RF72M1308550_ACM.CDRx',\n",
       " 'C:\\\\Code\\\\MFG598\\\\final_project\\\\test_cdr_directory\\\\TT3758K\\\\1FDXE4FS3KDC62229_ACM.CDRx',\n",
       " 'C:\\\\Code\\\\MFG598\\\\final_project\\\\test_cdr_directory\\\\TT3813E\\\\1FDXE4FS5CDA72563_ACM.CDRx',\n",
       " 'C:\\\\Code\\\\MFG598\\\\final_project\\\\test_cdr_directory\\\\TT5108K\\\\1FDXE4FS6KDC67599_ACM.CDRx',\n",
       " 'C:\\\\Code\\\\MFG598\\\\final_project\\\\test_cdr_directory\\\\TT5751D\\\\1FDXE4FS6BDB02359_ACM.CDRx']"
      ]
     },
     "execution_count": 7,
     "metadata": {},
     "output_type": "execute_result"
    }
   ],
   "source": [
    "unaccompanied_cdrx_path_list\n",
    "#Noticed here that many files are leftover after batch conversion. These files cannot be exported to CSV in Bosch.\n",
    "#These leftover files, if significant, could be exported to PDF and scraped another way.\n",
    "\n",
    "#Upon manual inspection, these files which could not be exported appear to be 2014 GMC trucks, and JH models."
   ]
  },
  {
   "cell_type": "code",
   "execution_count": null,
   "metadata": {},
   "outputs": [
    {
     "name": "stdout",
     "output_type": "stream",
     "text": [
      "98\n"
     ]
    }
   ],
   "source": [
    "print(len(unaccompanied_cdrx_path_list))"
   ]
  },
  {
   "attachments": {},
   "cell_type": "markdown",
   "metadata": {},
   "source": [
    "This block is used to determine whether the Bosch CDR tool is running and perform the conversion process. It's in one shot so that the program can be opened and available for GUI."
   ]
  },
  {
   "cell_type": "code",
   "execution_count": null,
   "metadata": {},
   "outputs": [
    {
     "name": "stdout",
     "output_type": "stream",
     "text": [
      "CDR.EXE is running. Killing CDR.EXE and re-starting process to make it visible\n"
     ]
    },
    {
     "ename": "KeyboardInterrupt",
     "evalue": "",
     "output_type": "error",
     "traceback": [
      "\u001b[1;31m---------------------------------------------------------------------------\u001b[0m",
      "\u001b[1;31mKeyboardInterrupt\u001b[0m                         Traceback (most recent call last)",
      "Cell \u001b[1;32mIn[13], line 39\u001b[0m\n\u001b[0;32m     37\u001b[0m gui\u001b[39m.\u001b[39mpress(\u001b[39m'\u001b[39m\u001b[39menter\u001b[39m\u001b[39m'\u001b[39m)\n\u001b[0;32m     38\u001b[0m \u001b[39m#time delay to load file\u001b[39;00m\n\u001b[1;32m---> 39\u001b[0m time\u001b[39m.\u001b[39;49msleep(\u001b[39m5\u001b[39;49m)\n\u001b[0;32m     40\u001b[0m gui\u001b[39m.\u001b[39mpress(\u001b[39m'\u001b[39m\u001b[39malt\u001b[39m\u001b[39m'\u001b[39m)\n\u001b[0;32m     41\u001b[0m gui\u001b[39m.\u001b[39mpress(\u001b[39m'\u001b[39m\u001b[39mright\u001b[39m\u001b[39m'\u001b[39m)\n",
      "\u001b[1;31mKeyboardInterrupt\u001b[0m: "
     ]
    }
   ],
   "source": [
    "from m0_1_system_variables import bosch_filepath\n",
    "import psutil\n",
    "import sys\n",
    "import subprocess\n",
    "import time\n",
    "import pyautogui as gui\n",
    "import pyperclip as pyp\n",
    "\n",
    "def check_process(process_name):\n",
    "    \"\"\"Check if a process is running on Windows\"\"\"\n",
    "    for proc in psutil.process_iter(['name']):\n",
    "        if proc.name() == process_name:\n",
    "            return True\n",
    "    return False\n",
    "    sys.exit(1)\n",
    "\n",
    "    # Check if 'cdr.exe' is running\n",
    "if check_process('CDR.EXE'):\n",
    "    print('CDR.EXE is running. Killing CDR.EXE and re-starting process to make it visible')\n",
    "    subprocess.run(['taskkill', '/f', '/im', 'cdr.exe'])\n",
    "    time.sleep(0.5)\n",
    "    process = subprocess.Popen(bosch_filepath)\n",
    "    time.sleep(1)\n",
    "else:\n",
    "    process = subprocess.Popen(bosch_filepath)\n",
    "    time.sleep(1)\n",
    "\n",
    "#Must truncate the filepath for use in CDR to eliminate the filename and last backslash.\n",
    "for working_file in unaccompanied_cdrx_path_list:\n",
    "    working_file_str = str(working_file)\n",
    "    #opens the CDR 'open file' menu and explorer\n",
    "    gui.hotkey('ctrl', 'o')\n",
    "    time.sleep(0.1)\n",
    "    pyp.copy(working_file_str)\n",
    "    #paste filepath and name into 'name' toolbar.\n",
    "    gui.hotkey('ctrl','v')\n",
    "    gui.press('enter')\n",
    "    #time delay to load file\n",
    "    time.sleep(5)\n",
    "    gui.press('alt')\n",
    "    gui.press('right')\n",
    "    for i in range(9):\n",
    "        gui.press('down')\n",
    "    #Select 'save as CSV'\n",
    "    gui.press('enter')\n",
    "    #Saves the file\n",
    "    gui.press('enter')\n",
    "    time.sleep(0.2)\n"
   ]
  },
  {
   "attachments": {},
   "cell_type": "markdown",
   "metadata": {},
   "source": [
    "This code scans the file structure and deletes any corrupt files that have 0kb data. Several of these were found during the batch conversion process on the test database.\n",
    "\n",
    "DO NOT RUN THIS CODE ON THE ACTUAL DATABASE.\n",
    "\n",
    "Consider leaving the actual database un-tampered and create a local copy for analysis."
   ]
  },
  {
   "cell_type": "code",
   "execution_count": null,
   "metadata": {},
   "outputs": [],
   "source": [
    "import os\n",
    "\n",
    "# Set the path to the directory you want to scan\n",
    "from m0_1_system_variables import test_data_path\n",
    "\n",
    "for root, dir, filenames in os.walk(test_data_path):\n",
    "    for filename in filenames:\n",
    "\n",
    "        #Check if the file ends with \".CDRx\" and its size is 0KB\n",
    "        if os.path.getsize(os.path.join(root, filename)) == 0:\n",
    "            # Delete the file\n",
    "            os.remove(os.path.join(root, filename))\n",
    "            print(f'Deleted file {filename}')"
   ]
  }
 ],
 "metadata": {
  "kernelspec": {
   "display_name": "Python 3",
   "language": "python",
   "name": "python3"
  },
  "language_info": {
   "codemirror_mode": {
    "name": "ipython",
    "version": 3
   },
   "file_extension": ".py",
   "mimetype": "text/x-python",
   "name": "python",
   "nbconvert_exporter": "python",
   "pygments_lexer": "ipython3",
   "version": "3.11.3"
  },
  "orig_nbformat": 4
 },
 "nbformat": 4,
 "nbformat_minor": 2
}

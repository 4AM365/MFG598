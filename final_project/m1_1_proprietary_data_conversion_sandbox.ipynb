{
 "cells": [
  {
   "attachments": {},
   "cell_type": "markdown",
   "metadata": {},
   "source": [
    "This program ensures that each .CDRx file has an accompanying .CSV file containing all of that file's information.\n",
    "\n",
    "Because there is no 'decoder' for information in .CDRx files, we can leverage the 'export to CSV' function in the Bosch Crash Data Retrieval software."
   ]
  },
  {
   "cell_type": "code",
   "execution_count": null,
   "metadata": {},
   "outputs": [],
   "source": [
    "import os\n",
    "import pandas as pd\n",
    "from m0_1_system_variables import raw_data_path"
   ]
  },
  {
   "cell_type": "code",
   "execution_count": 57,
   "metadata": {},
   "outputs": [],
   "source": [
    "#This block of code creates a list of paths to cdrx files which do not have an accompanying .CSV file. \n",
    "#The objective of this module is to find all of these 'unaccompanied' files and then create a .CSV version suitable for import and analysis. \n",
    "\n",
    "\n",
    "#Whenever the database is re-scanned for new files, the unaccompanied_cdrx_path_list must be cleared. Otherwise, it will simply add the new list of unaccompanied files to an old list.\n",
    "\n",
    "unaccompanied_cdrx_path_list = []\n",
    "complete_cdrx_path_list = []\n",
    "\n",
    "for root, dirs, files in os.walk(raw_data_path):\n",
    "        for filename in files:\n",
    "                if filename.lower().endswith('cdrx'):\n",
    "                        complete_cdrx_path_list.append(r\"{0}\\{1}\".format(root, filename))\n",
    "                        csv_filename = os.path.splitext(filename)[0] + '.CSV'\n",
    "                        if csv_filename not in files:     \n",
    "                        # os.path.join is performed to handle the case of one vehicle having multiple records. \n",
    "                        # The record is saved as the vehicle's VIN, but successive records bearing the same name are placed in different directories.\n",
    "                        # Considering the filepath as part of the record's 'identity' will ensure that these edge cases are accommodated.\n",
    "\n",
    "                                # unaccompanied_cdrx_path_list.append(os.path.join(root, filename))\n",
    "                                #Updating this to raw string for 'cleanliness' and resilience. This prevents any need to escape the backslashes.\n",
    "                                unaccompanied_cdrx_path_list.append(r\"{0}\\{1}\".format(root, filename))\n",
    "\n",
    "\n",
    "\n",
    "dfs = []\n",
    "\n",
    "for file_path in complete_cdrx_path_list:\n",
    "\n",
    "        df = pd.DataFrame({'filepath': [file_path]})\n",
    "\n",
    "        # Append the DataFrame to the list of DataFrames\n",
    "        dfs.append(df)\n",
    "# Combine the list of DataFrames into a single DataFrame\n",
    "complete_path_list_dataframe = pd.concat(dfs, ignore_index=True)"
   ]
  },
  {
   "cell_type": "code",
   "execution_count": null,
   "metadata": {},
   "outputs": [],
   "source": [
    "complete_path_list_dataframe.head()"
   ]
  },
  {
   "cell_type": "code",
   "execution_count": null,
   "metadata": {},
   "outputs": [],
   "source": [
    "unaccompanied_cdrx_path_list[:10]\n",
    "#Noticed here that the fourth file is not escaped correctly and reaks the string. Manually inspecting this string to verify problem."
   ]
  },
  {
   "cell_type": "code",
   "execution_count": 58,
   "metadata": {},
   "outputs": [
    {
     "name": "stdout",
     "output_type": "stream",
     "text": [
      "36\n"
     ]
    }
   ],
   "source": [
    "print(len(unaccompanied_cdrx_path_list))"
   ]
  },
  {
   "cell_type": "code",
   "execution_count": null,
   "metadata": {},
   "outputs": [],
   "source": [
    "from m0_1_system_variables import bosch_filepath\n",
    "import psutil\n",
    "import sys\n",
    "import subprocess\n",
    "import time\n",
    "import pyautogui as gui\n",
    "import pyperclip as pyp"
   ]
  },
  {
   "attachments": {},
   "cell_type": "markdown",
   "metadata": {},
   "source": [
    "This block is used to determine whether the Bosch CDR tool is running"
   ]
  },
  {
   "cell_type": "code",
   "execution_count": 51,
   "metadata": {},
   "outputs": [
    {
     "ename": "KeyboardInterrupt",
     "evalue": "",
     "output_type": "error",
     "traceback": [
      "\u001b[1;31m---------------------------------------------------------------------------\u001b[0m",
      "\u001b[1;31mKeyboardInterrupt\u001b[0m                         Traceback (most recent call last)",
      "Cell \u001b[1;32mIn[51], line 30\u001b[0m\n\u001b[0;32m     28\u001b[0m gui\u001b[39m.\u001b[39mpress(\u001b[39m'\u001b[39m\u001b[39menter\u001b[39m\u001b[39m'\u001b[39m)\n\u001b[0;32m     29\u001b[0m \u001b[39m#time delay to load file\u001b[39;00m\n\u001b[1;32m---> 30\u001b[0m time\u001b[39m.\u001b[39msleep(\u001b[39m1\u001b[39m)\n\u001b[0;32m     31\u001b[0m gui\u001b[39m.\u001b[39mpress(\u001b[39m'\u001b[39m\u001b[39malt\u001b[39m\u001b[39m'\u001b[39m)\n\u001b[0;32m     32\u001b[0m gui\u001b[39m.\u001b[39mpress(\u001b[39m'\u001b[39m\u001b[39mright\u001b[39m\u001b[39m'\u001b[39m)\n",
      "\u001b[1;31mKeyboardInterrupt\u001b[0m: "
     ]
    }
   ],
   "source": [
    "def check_process(process_name):\n",
    "    \"\"\"Check if a process is running on Windows\"\"\"\n",
    "    for proc in psutil.process_iter(['name']):\n",
    "        if proc.name() == process_name:\n",
    "            return True\n",
    "    return False\n",
    "    sys.exit(1)\n",
    "\n",
    "    # Check if 'cdr.exe' is running\n",
    "if check_process('CDR.EXE'):\n",
    "    print('CDR.EXE is running. Killing CDR.EXE and re-starting process to make it visible')\n",
    "    subprocess.run(['taskkill', '/f', '/im', 'cdr.exe'])\n",
    "    time.sleep(0.5)\n",
    "    process = subprocess.Popen(bosch_filepath)\n",
    "    time.sleep(1)\n",
    "else:\n",
    "    process = subprocess.Popen(bosch_filepath)\n",
    "    time.sleep(1)\n",
    "\n",
    "#Must truncate the filepath for use in CDR to eliminate the filename and last backslash.\n",
    "for working_file in unaccompanied_cdrx_path_list[1]:\n",
    "    working_file_str = str(working_file)\n",
    "    #opens the CDR 'open file' menu and explorer\n",
    "    gui.hotkey('ctrl', 'o')\n",
    "    time.sleep(0.2)\n",
    "    pyp.copy(working_file_str)\n",
    "    #paste filepath and name into 'name' toolbar.\n",
    "    gui.hotkey('ctrl','v')\n",
    "    gui.press('enter')\n",
    "    #time delay to load file\n",
    "    time.sleep(1)\n",
    "    gui.press('alt')\n",
    "    gui.press('right')\n",
    "    for i in range(9):\n",
    "        gui.press('down')\n",
    "    #Select 'save as CSV'\n",
    "    gui.press('enter')\n",
    "    #Saves the file\n",
    "    gui.press('enter')\n",
    "    time.sleep(0.2)"
   ]
  },
  {
   "cell_type": "code",
   "execution_count": 56,
   "metadata": {},
   "outputs": [
    {
     "name": "stdout",
     "output_type": "stream",
     "text": [
      "CDR.EXE is running. Killing CDR.EXE and re-starting process to make it visible\n"
     ]
    }
   ],
   "source": [
    "def check_process(process_name):\n",
    "    \"\"\"Check if a process is running on Windows\"\"\"\n",
    "    for proc in psutil.process_iter(['name']):\n",
    "        if proc.name() == process_name:\n",
    "            return True\n",
    "    return False\n",
    "    sys.exit(1)\n",
    "\n",
    "    # Check if 'cdr.exe' is running\n",
    "if check_process('CDR.EXE'):\n",
    "    print('CDR.EXE is running. Killing CDR.EXE and re-starting process to make it visible')\n",
    "    subprocess.run(['taskkill', '/f', '/im', 'cdr.exe'])\n",
    "    time.sleep(0.5)\n",
    "    process = subprocess.Popen(bosch_filepath)\n",
    "    time.sleep(1)\n",
    "else:\n",
    "    process = subprocess.Popen(bosch_filepath)\n",
    "    time.sleep(1)\n",
    "\n",
    "#Must truncate the filepath for use in CDR to eliminate the filename and last backslash.\n",
    "working_file = unaccompanied_cdrx_path_list[1]\n",
    "working_file_str = str(working_file)\n",
    "#opens the CDR 'open file' menu and explorer\n",
    "gui.hotkey('ctrl', 'o')\n",
    "time.sleep(0.2)\n",
    "pyp.copy(working_file_str)\n",
    "#paste filepath and name into 'name' toolbar.\n",
    "gui.hotkey('ctrl','v')\n",
    "gui.press('enter')\n",
    "#time delay to load file\n",
    "time.sleep(1)\n",
    "gui.press('alt')\n",
    "gui.press('right')\n",
    "for i in range(9):\n",
    "    gui.press('down')\n",
    "#Select 'save as CSV'\n",
    "gui.press('enter')\n",
    "#Saves the file\n",
    "gui.press('enter')\n",
    "time.sleep(0.2)"
   ]
  }
 ],
 "metadata": {
  "kernelspec": {
   "display_name": "Python 3",
   "language": "python",
   "name": "python3"
  },
  "language_info": {
   "codemirror_mode": {
    "name": "ipython",
    "version": 3
   },
   "file_extension": ".py",
   "mimetype": "text/x-python",
   "name": "python",
   "nbconvert_exporter": "python",
   "pygments_lexer": "ipython3",
   "version": "3.11.3"
  },
  "orig_nbformat": 4
 },
 "nbformat": 4,
 "nbformat_minor": 2
}

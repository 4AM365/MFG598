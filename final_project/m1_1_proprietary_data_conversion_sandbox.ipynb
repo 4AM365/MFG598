{
 "cells": [
  {
   "attachments": {},
   "cell_type": "markdown",
   "metadata": {},
   "source": [
    "This program ensures that each .CDRx file has an accompanying .CSV file containing all of that file's information.\n",
    "\n",
    "Because there is no 'decoder' for information in .CDRx files, we can leverage the 'export to CSV' function in the Bosch Crash Data Retrieval software."
   ]
  },
  {
   "cell_type": "code",
   "execution_count": 1,
   "metadata": {},
   "outputs": [],
   "source": [
    "import os\n",
    "import pandas as pd\n",
    "from m0_1_system_variables import test_data_path"
   ]
  },
  {
   "cell_type": "code",
   "execution_count": 2,
   "metadata": {},
   "outputs": [],
   "source": [
    "#This block of code creates a list of paths to cdrx files which do not have an accompanying .CSV file. \n",
    "#The objective of this module is to find all of these 'unaccompanied' files and then create a .CSV version suitable for import and analysis. \n",
    "\n",
    "\n",
    "#Whenever the database is re-scanned for new files, the unaccompanied_cdrx_path_list must be cleared. Otherwise, it will simply add the new list of unaccompanied files to an old list.\n",
    "\n",
    "unaccompanied_cdrx_path_list = []\n",
    "\n",
    "for root, dirs, files in os.walk(test_data_path):\n",
    "        for filename in files:\n",
    "                if filename.lower().endswith('cdrx'):\n",
    "                        #Ford JH trucks are not supported. Need to exclude via VIN.\n",
    "                        # if filename.startswith\n",
    "\n",
    "                                csv_filename = os.path.splitext(filename)[0] + '.CSV'\n",
    "                                if csv_filename not in files:     \n",
    "                                # os.path.join is performed to handle the case of one vehicle having multiple records. \n",
    "                                # The record is saved as the vehicle's VIN, but successive records bearing the same name are placed in different directories.\n",
    "                                # Considering the filepath as part of the record's 'identity' will ensure that these edge cases are accommodated.\n",
    "\n",
    "                                        # unaccompanied_cdrx_path_list.append(os.path.join(root, filename))\n",
    "                                        #Updating this to raw string for 'cleanliness' and resilience. This prevents any need to escape the backslashes.\n",
    "                                        unaccompanied_cdrx_path_list.append(r\"{0}\\{1}\".format(root, filename))\n",
    "\n"
   ]
  },
  {
   "cell_type": "code",
   "execution_count": 3,
   "metadata": {},
   "outputs": [
    {
     "data": {
      "text/plain": [
       "['C:\\\\Code\\\\MFG598\\\\final_project\\\\test_cdr_directory\\\\1GDY72CA8E1916159_ACM\\\\1GDY72CA8E1916159_ACM.CDRx',\n",
       " 'C:\\\\Code\\\\MFG598\\\\final_project\\\\test_cdr_directory\\\\1GDY72CA9E1916994_ACM\\\\1GDY72CA9E1916994_ACM.CDRx',\n",
       " 'C:\\\\Code\\\\MFG598\\\\final_project\\\\test_cdr_directory\\\\1GTN1TEC0FZ904779_ACMA\\\\1GTN1TEC0FZ904779_ACMA.CDRx',\n",
       " 'C:\\\\Code\\\\MFG598\\\\final_project\\\\test_cdr_directory\\\\1GTN1TEC0FZ904779_ACMB\\\\1GTN1TEC0FZ904779_ACMB.CDRx',\n",
       " 'C:\\\\Code\\\\MFG598\\\\final_project\\\\test_cdr_directory\\\\2GCEC19TX41181246_ACM\\\\2GCEC19TX41181246_ACM.CDRx']"
      ]
     },
     "execution_count": 3,
     "metadata": {},
     "output_type": "execute_result"
    }
   ],
   "source": [
    "unaccompanied_cdrx_path_list\n",
    "#Noticed here that many files are leftover after batch conversion. These files cannot be exported to CSV in Bosch.\n",
    "#These leftover files, if significant, could be exported to PDF and scraped another way.\n",
    "\n",
    "#Upon manual inspection, these files which could not be exported appear to be 2014 GMC trucks, and JH models."
   ]
  },
  {
   "cell_type": "code",
   "execution_count": 4,
   "metadata": {},
   "outputs": [
    {
     "name": "stdout",
     "output_type": "stream",
     "text": [
      "5\n"
     ]
    }
   ],
   "source": [
    "print(len(unaccompanied_cdrx_path_list))"
   ]
  },
  {
   "attachments": {},
   "cell_type": "markdown",
   "metadata": {},
   "source": [
    "This block is used to determine whether the Bosch CDR tool is running"
   ]
  },
  {
   "cell_type": "code",
   "execution_count": 12,
   "metadata": {},
   "outputs": [
    {
     "ename": "NameError",
     "evalue": "name 'unaccompanied_cdrx_path_list' is not defined",
     "output_type": "error",
     "traceback": [
      "\u001b[1;31m---------------------------------------------------------------------------\u001b[0m",
      "\u001b[1;31mNameError\u001b[0m                                 Traceback (most recent call last)",
      "\u001b[1;32mc:\\Code\\MFG598\\final_project\\m1_1_proprietary_data_conversion_sandbox.ipynb Cell 7\u001b[0m in \u001b[0;36m<cell line: 29>\u001b[1;34m()\u001b[0m\n\u001b[0;32m     <a href='vscode-notebook-cell:/c%3A/Code/MFG598/final_project/m1_1_proprietary_data_conversion_sandbox.ipynb#W6sZmlsZQ%3D%3D?line=25'>26</a>\u001b[0m     time\u001b[39m.\u001b[39msleep(\u001b[39m1\u001b[39m)\n\u001b[0;32m     <a href='vscode-notebook-cell:/c%3A/Code/MFG598/final_project/m1_1_proprietary_data_conversion_sandbox.ipynb#W6sZmlsZQ%3D%3D?line=27'>28</a>\u001b[0m \u001b[39m#Must truncate the filepath for use in CDR to eliminate the filename and last backslash.\u001b[39;00m\n\u001b[1;32m---> <a href='vscode-notebook-cell:/c%3A/Code/MFG598/final_project/m1_1_proprietary_data_conversion_sandbox.ipynb#W6sZmlsZQ%3D%3D?line=28'>29</a>\u001b[0m \u001b[39mfor\u001b[39;00m working_file \u001b[39min\u001b[39;00m unaccompanied_cdrx_path_list:\n\u001b[0;32m     <a href='vscode-notebook-cell:/c%3A/Code/MFG598/final_project/m1_1_proprietary_data_conversion_sandbox.ipynb#W6sZmlsZQ%3D%3D?line=29'>30</a>\u001b[0m     working_file_str \u001b[39m=\u001b[39m \u001b[39mstr\u001b[39m(working_file)\n\u001b[0;32m     <a href='vscode-notebook-cell:/c%3A/Code/MFG598/final_project/m1_1_proprietary_data_conversion_sandbox.ipynb#W6sZmlsZQ%3D%3D?line=30'>31</a>\u001b[0m     \u001b[39m#opens the CDR 'open file' menu and explorer\u001b[39;00m\n",
      "\u001b[1;31mNameError\u001b[0m: name 'unaccompanied_cdrx_path_list' is not defined"
     ]
    }
   ],
   "source": [
    "from m0_1_system_variables import bosch_filepath\n",
    "import psutil\n",
    "import sys\n",
    "import subprocess\n",
    "import time\n",
    "import pyautogui as gui\n",
    "import pyperclip as pyp\n",
    "\n",
    "def check_process(process_name):\n",
    "    \"\"\"Check if a process is running on Windows\"\"\"\n",
    "    for proc in psutil.process_iter(['name']):\n",
    "        if proc.name() == process_name:\n",
    "            return True\n",
    "    return False\n",
    "    sys.exit(1)\n",
    "\n",
    "    # Check if 'cdr.exe' is running\n",
    "if check_process('CDR.EXE'):\n",
    "    print('CDR.EXE is running. Killing CDR.EXE and re-starting process to make it visible')\n",
    "    subprocess.run(['taskkill', '/f', '/im', 'cdr.exe'])\n",
    "    time.sleep(0.5)\n",
    "    process = subprocess.Popen(bosch_filepath)\n",
    "    time.sleep(1)\n",
    "else:\n",
    "    process = subprocess.Popen(bosch_filepath)\n",
    "    time.sleep(1)\n",
    "\n",
    "#Must truncate the filepath for use in CDR to eliminate the filename and last backslash.\n",
    "for working_file in unaccompanied_cdrx_path_list:\n",
    "    working_file_str = str(working_file)\n",
    "    #opens the CDR 'open file' menu and explorer\n",
    "    gui.hotkey('ctrl', 'o')\n",
    "    time.sleep(0.1)\n",
    "    pyp.copy(working_file_str)\n",
    "    #paste filepath and name into 'name' toolbar.\n",
    "    gui.hotkey('ctrl','v')\n",
    "    gui.press('enter')\n",
    "    #time delay to load file\n",
    "    time.sleep(5)\n",
    "    gui.press('alt')\n",
    "    gui.press('right')\n",
    "    for i in range(9):\n",
    "        gui.press('down')\n",
    "    #Select 'save as CSV'\n",
    "    gui.press('enter')\n",
    "    #Saves the file\n",
    "    gui.press('enter')\n",
    "    time.sleep(0.2)\n"
   ]
  },
  {
   "attachments": {},
   "cell_type": "markdown",
   "metadata": {},
   "source": [
    "This code scans the file structure and deletes any corrupt files that have 0kb data. Several of these were found during the batch conversion process on the test database.\n",
    "\n",
    "DO NOT RUN THIS CODE ON THE ACTUAL DATABASE.\n",
    "\n",
    "Consider leaving the actual database un-tampered and create a local copy for analysis."
   ]
  },
  {
   "cell_type": "code",
   "execution_count": null,
   "metadata": {},
   "outputs": [],
   "source": [
    "import os\n",
    "\n",
    "# Set the path to the directory you want to scan\n",
    "from m0_1_system_variables import test_data_path\n",
    "\n",
    "for root, dir, filenames in os.walk(test_data_path):\n",
    "    for filename in filenames:\n",
    "\n",
    "        #Check if the file ends with \".CDRx\" and its size is 0KB\n",
    "        if os.path.getsize(os.path.join(root, filename)) == 0:\n",
    "            # Delete the file\n",
    "            os.remove(os.path.join(root, filename))\n",
    "            print(f'Deleted file {filename}')"
   ]
  }
 ],
 "metadata": {
  "kernelspec": {
   "display_name": "Python 3",
   "language": "python",
   "name": "python3"
  },
  "language_info": {
   "codemirror_mode": {
    "name": "ipython",
    "version": 3
   },
   "file_extension": ".py",
   "mimetype": "text/x-python",
   "name": "python",
   "nbconvert_exporter": "python",
   "pygments_lexer": "ipython3",
   "version": "3.9.12"
  },
  "orig_nbformat": 4
 },
 "nbformat": 4,
 "nbformat_minor": 2
}

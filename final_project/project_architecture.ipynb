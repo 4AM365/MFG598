{
 "cells": [
  {
   "attachments": {},
   "cell_type": "markdown",
   "metadata": {},
   "source": [
    "1) Ingestion\n",
    "    a) Develop a list of filenames and their respective directories, \n",
    "        so that pyAutoGUI can open the files with Bosch CDR\n",
    "    b) Use pyautoGUI to launch each file individually and save a CSV to that same folder.\n",
    "    c) Create code to scrape each CSV into Pandas, either a dedicated dataframe or a master DF so that info can be extracted.\n",
    "        If necessary, implement Dask here.\n",
    "    d) Develop a system for re-scanning the database, identifying new files, and then importing only those.\n",
    "    \n",
    "2) Cleaning of data and Exploratory Data Analysis (EDA)\n",
    "    Two things must be accomplished here. First, we should preserve the granularity of data by importing all crash information.\n",
    "    Next, we should identify elements common to all records so that we can leverage the entire dataset for study.\n",
    "\n",
    "    This is a place where SpeedML may be useful. We don't have to fully clean the data before doing some exploration.\n",
    "\n",
    "3) Model planning\n",
    "\n",
    "\n",
    "4) Model building\n",
    "\n",
    "\n",
    "5) Model execution\n",
    "\n",
    "\n",
    "6) Communication"
   ]
  }
 ],
 "metadata": {
  "language_info": {
   "name": "python"
  },
  "orig_nbformat": 4
 },
 "nbformat": 4,
 "nbformat_minor": 2
}

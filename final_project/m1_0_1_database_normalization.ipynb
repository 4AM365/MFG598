{
 "cells": [
  {
   "attachments": {},
   "cell_type": "markdown",
   "metadata": {},
   "source": [
    "This section of code identifies files which are not located in a folder unique to them."
   ]
  },
  {
   "cell_type": "code",
   "execution_count": 2,
   "metadata": {},
   "outputs": [],
   "source": [
    "import os\n",
    "from m0_1_system_variables import test_data_path\n",
    "import os\n",
    "import shutil"
   ]
  },
  {
   "cell_type": "code",
   "execution_count": 8,
   "metadata": {},
   "outputs": [],
   "source": [
    "orphaned_files = []\n",
    "\n",
    "for root, dirs, files in os.walk(test_data_path, topdown=True):\n",
    "    if root == test_data_path:\n",
    "        for filename in files:\n",
    "            if filename.lower().endswith('.cdrx'):\n",
    "                orphaned_files.append(r\"{0}\\{1}\".format(root, filename))\n"
   ]
  },
  {
   "cell_type": "code",
   "execution_count": 9,
   "metadata": {},
   "outputs": [
    {
     "name": "stdout",
     "output_type": "stream",
     "text": [
      "[]\n"
     ]
    }
   ],
   "source": [
    "print(orphaned_files)"
   ]
  },
  {
   "attachments": {},
   "cell_type": "markdown",
   "metadata": {},
   "source": [
    "This code block creates a folder for each element of orphaned_files, and then relocates each file by renaming them."
   ]
  },
  {
   "cell_type": "code",
   "execution_count": 10,
   "metadata": {},
   "outputs": [],
   "source": [
    "for file in orphaned_files:\n",
    "    # Create a new directory with the same name as the file, without the extension\n",
    "    file_basename = os.path.splitext(os.path.basename(file))[0]\n",
    "    new_folder_path = os.path.join(test_data_path, file_basename)\n",
    "    try:\n",
    "        os.mkdir(new_folder_path)\n",
    "    except FileExistsError:\n",
    "        print(\"File already exists!\")\n",
    "\n",
    "    # Move the file to the new directory\n",
    "    old_file_path = os.path.join(test_data_path, file)\n",
    "    new_file_path = os.path.join(new_folder_path, os.path.basename(file))\n",
    "    os.rename(old_file_path, new_file_path)"
   ]
  },
  {
   "attachments": {},
   "cell_type": "markdown",
   "metadata": {},
   "source": [
    "This module identifies all .pdf files in the working directory. This may be of utility in determining which downloads have not been reported to the appropriate customer."
   ]
  },
  {
   "cell_type": "code",
   "execution_count": null,
   "metadata": {},
   "outputs": [],
   "source": [
    "identified_pdfs = []\n",
    "\n",
    "for root, dirs, files in os.walk(r'', topdown=True):\n",
    "    if root == test_data_path:\n",
    "        for filename in files:\n",
    "            if filename.lower().endswith('.pdf'):\n",
    "                identified_pdfs.append(r\"{0}\\{1}\".format(root, filename))\n"
   ]
  },
  {
   "attachments": {},
   "cell_type": "markdown",
   "metadata": {},
   "source": [
    "Below module is used to clone directory from the raw data source, except for PDF files. This ensures that we can work on a 'working copy' instead of directly editing legal evidence."
   ]
  },
  {
   "cell_type": "code",
   "execution_count": null,
   "metadata": {},
   "outputs": [],
   "source": [
    "raw_data_path = r'H:\\LOSS1\\EDR\\Downloaded Files'\n",
    "\n",
    "for root, dirs, files in os.walk(raw_data_path):\n",
    "    for dir in dirs:\n",
    "        src_path = os.path.join(root, dir)\n",
    "        dst_path = os.path.join(experimental_data_path, os.path.relpath(src_path, raw_data_path))\n",
    "        os.makedirs(dst_path, exist_ok=True)\n",
    "\n",
    "    for file in files:\n",
    "        if not file.endswith('.pdf'):\n",
    "            src_path = os.path.join(root, file)\n",
    "            dst_path = os.path.join(experimental_data_path, os.path.relpath(src_path, raw_data_path))\n",
    "            dst_dir = os.path.dirname(dst_path)\n",
    "            os.makedirs(dst_dir, exist_ok=True)\n",
    "            shutil.copy2(src_path, dst_path)"
   ]
  }
 ],
 "metadata": {
  "kernelspec": {
   "display_name": "Python 3",
   "language": "python",
   "name": "python3"
  },
  "language_info": {
   "codemirror_mode": {
    "name": "ipython",
    "version": 3
   },
   "file_extension": ".py",
   "mimetype": "text/x-python",
   "name": "python",
   "nbconvert_exporter": "python",
   "pygments_lexer": "ipython3",
   "version": "3.11.3"
  },
  "orig_nbformat": 4
 },
 "nbformat": 4,
 "nbformat_minor": 2
}

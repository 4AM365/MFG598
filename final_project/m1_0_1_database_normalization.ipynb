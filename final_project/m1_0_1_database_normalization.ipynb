{
 "cells": [
  {
   "cell_type": "code",
   "execution_count": 10,
   "metadata": {},
   "outputs": [],
   "source": [
    "import os\n",
    "from m0_1_system_variables import raw_data_path\n",
    "\n",
    "orphaned_files = []\n",
    "\n",
    "for root, dirs, files in os.walk(raw_data_path, topdown=True):\n",
    "    if root == raw_data_path:\n",
    "        for filename in files:\n",
    "            if filename.lower().endswith('.cdrx'):\n",
    "                orphaned_files.append(r\"{0}\\{1}\".format(root, filename))\n"
   ]
  },
  {
   "cell_type": "code",
   "execution_count": 11,
   "metadata": {},
   "outputs": [
    {
     "name": "stdout",
     "output_type": "stream",
     "text": [
      "[]\n"
     ]
    }
   ],
   "source": [
    "print(orphaned_files)"
   ]
  },
  {
   "cell_type": "code",
   "execution_count": 12,
   "metadata": {},
   "outputs": [],
   "source": [
    "for file in orphaned_files:\n",
    "    # Create a new directory with the same name as the file, without the extension\n",
    "    file_basename = os.path.splitext(os.path.basename(file))[0]\n",
    "    new_folder_path = os.path.join(raw_data_path, file_basename)\n",
    "    try:\n",
    "        os.mkdir(new_folder_path)\n",
    "    except FileExistsError:\n",
    "        print(\"File already exists!\")\n",
    "\n",
    "    # Move the file to the new directory\n",
    "    old_file_path = os.path.join(raw_data_path, file)\n",
    "    new_file_path = os.path.join(new_folder_path, os.path.basename(file))\n",
    "    os.rename(old_file_path, new_file_path)"
   ]
  }
 ],
 "metadata": {
  "kernelspec": {
   "display_name": "Python 3",
   "language": "python",
   "name": "python3"
  },
  "language_info": {
   "codemirror_mode": {
    "name": "ipython",
    "version": 3
   },
   "file_extension": ".py",
   "mimetype": "text/x-python",
   "name": "python",
   "nbconvert_exporter": "python",
   "pygments_lexer": "ipython3",
   "version": "3.11.3"
  },
  "orig_nbformat": 4
 },
 "nbformat": 4,
 "nbformat_minor": 2
}

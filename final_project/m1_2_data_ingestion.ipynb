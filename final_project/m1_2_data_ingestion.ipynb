{
 "cells": [
  {
   "attachments": {},
   "cell_type": "markdown",
   "metadata": {},
   "source": [
    "Search database for all CSV files."
   ]
  },
  {
   "cell_type": "code",
   "execution_count": 15,
   "metadata": {},
   "outputs": [],
   "source": [
    "import os\n",
    "import pandas as pd\n",
    "from m0_1_system_variables import raw_data_path"
   ]
  },
  {
   "cell_type": "code",
   "execution_count": 16,
   "metadata": {},
   "outputs": [],
   "source": [
    "complete_csv_path_list = []\n",
    "for root, dirs, files in os.walk(raw_data_path):\n",
    "        for filename in files:\n",
    "                if filename.lower().endswith('csv'):\n",
    "                    complete_csv_path_list.append(r\"{0}\\{1}\".format(root, filename))\n",
    "\n",
    "\n",
    "dfs = []\n",
    "\n",
    "for file_path in complete_csv_path_list:\n",
    "\n",
    "        df = pd.DataFrame({'filepath': [file_path]})\n",
    "\n",
    "        # Append the DataFrame to the list of DataFrames\n",
    "        dfs.append(df)\n",
    "# Combine the list of DataFrames into a single DataFrame\n",
    "master_dataframe = pd.concat(dfs, ignore_index=True)"
   ]
  },
  {
   "cell_type": "code",
   "execution_count": 17,
   "metadata": {},
   "outputs": [
    {
     "data": {
      "text/html": [
       "<div>\n",
       "<style scoped>\n",
       "    .dataframe tbody tr th:only-of-type {\n",
       "        vertical-align: middle;\n",
       "    }\n",
       "\n",
       "    .dataframe tbody tr th {\n",
       "        vertical-align: top;\n",
       "    }\n",
       "\n",
       "    .dataframe thead th {\n",
       "        text-align: right;\n",
       "    }\n",
       "</style>\n",
       "<table border=\"1\" class=\"dataframe\">\n",
       "  <thead>\n",
       "    <tr style=\"text-align: right;\">\n",
       "      <th></th>\n",
       "      <th>filepath</th>\n",
       "    </tr>\n",
       "  </thead>\n",
       "  <tbody>\n",
       "    <tr>\n",
       "      <th>0</th>\n",
       "      <td>C:\\Code\\MFG598\\final_project\\test_cdr_director...</td>\n",
       "    </tr>\n",
       "    <tr>\n",
       "      <th>1</th>\n",
       "      <td>C:\\Code\\MFG598\\final_project\\test_cdr_director...</td>\n",
       "    </tr>\n",
       "    <tr>\n",
       "      <th>2</th>\n",
       "      <td>C:\\Code\\MFG598\\final_project\\test_cdr_director...</td>\n",
       "    </tr>\n",
       "    <tr>\n",
       "      <th>3</th>\n",
       "      <td>C:\\Code\\MFG598\\final_project\\test_cdr_director...</td>\n",
       "    </tr>\n",
       "    <tr>\n",
       "      <th>4</th>\n",
       "      <td>C:\\Code\\MFG598\\final_project\\test_cdr_director...</td>\n",
       "    </tr>\n",
       "  </tbody>\n",
       "</table>\n",
       "</div>"
      ],
      "text/plain": [
       "                                            filepath\n",
       "0  C:\\Code\\MFG598\\final_project\\test_cdr_director...\n",
       "1  C:\\Code\\MFG598\\final_project\\test_cdr_director...\n",
       "2  C:\\Code\\MFG598\\final_project\\test_cdr_director...\n",
       "3  C:\\Code\\MFG598\\final_project\\test_cdr_director...\n",
       "4  C:\\Code\\MFG598\\final_project\\test_cdr_director..."
      ]
     },
     "execution_count": 17,
     "metadata": {},
     "output_type": "execute_result"
    }
   ],
   "source": [
    "master_dataframe.head()"
   ]
  },
  {
   "cell_type": "code",
   "execution_count": 18,
   "metadata": {},
   "outputs": [],
   "source": [
    "import chardet\n",
    "\n",
    "data_type = []\n",
    "# Determine the file encoding\n",
    "for file_path in complete_csv_path_list:\n",
    "    with open(file_path, 'rb') as f:\n",
    "        result = chardet.detect(f.read())\n",
    "    file_encoding = result['encoding']\n",
    "    data_type.append(file_encoding)"
   ]
  },
  {
   "cell_type": "code",
   "execution_count": 19,
   "metadata": {},
   "outputs": [
    {
     "name": "stdout",
     "output_type": "stream",
     "text": [
      "['ascii', 'ascii', 'ascii', 'ascii', 'ascii', 'ascii', 'ascii', 'ascii', 'ascii', 'ascii', 'ascii', 'ascii', 'ascii', 'ascii', 'ascii', 'ascii', 'ascii', 'ascii', 'Windows-1252', 'Windows-1252', 'ascii', 'ascii', 'ascii', 'ascii', 'ascii', 'ascii', 'ascii', 'ascii', 'ascii']\n"
     ]
    }
   ],
   "source": [
    "print(data_type)"
   ]
  },
  {
   "cell_type": "code",
   "execution_count": 45,
   "metadata": {},
   "outputs": [],
   "source": [
    "import pandas as pd\n",
    "\n",
    "# Create an empty list to store the dataframes\n",
    "df_list = []\n",
    "vin_list = []\n",
    "# Iterate through each file path in the list\n",
    "for file_path in complete_csv_path_list:\n",
    "    # Read the CSV file into a dataframe\n",
    "    # Difficulty here: some files are ascii and some files are 'Windows-1252' encoding.\n",
    "    with open(file_path, 'rb') as f:\n",
    "        result = chardet.detect(f.read())\n",
    "        detected_encoding = result['encoding']\n",
    "\n",
    "    df = pd.read_csv(file_path, delimiter = '\\r\\n', encoding = detected_encoding, engine = 'python', names = ['Complete Record'])\n",
    "    df_list.append(df)\n",
    "    \n",
    "    # Extract the filename without the '_ACM.CSV' suffix\n",
    "    # if file_path.endswith('_ACM.CSV'):\n",
    "    #     VIN = file_path.split('/')[-1].replace('_ACM.CSV', '')\n",
    "    # else:\n",
    "    #     VIN = 'vin_not_detected'\n",
    "\n",
    "    # vin_list.append(VIN)\n",
    "    #Let's pull VIN from "
   ]
  },
  {
   "cell_type": "code",
   "execution_count": 46,
   "metadata": {},
   "outputs": [
    {
     "data": {
      "text/html": [
       "<div>\n",
       "<style scoped>\n",
       "    .dataframe tbody tr th:only-of-type {\n",
       "        vertical-align: middle;\n",
       "    }\n",
       "\n",
       "    .dataframe tbody tr th {\n",
       "        vertical-align: top;\n",
       "    }\n",
       "\n",
       "    .dataframe thead th {\n",
       "        text-align: right;\n",
       "    }\n",
       "</style>\n",
       "<table border=\"1\" class=\"dataframe\">\n",
       "  <thead>\n",
       "    <tr style=\"text-align: right;\">\n",
       "      <th></th>\n",
       "      <th>Complete Record</th>\n",
       "    </tr>\n",
       "  </thead>\n",
       "  <tbody>\n",
       "    <tr>\n",
       "      <th>0</th>\n",
       "      <td>CDR FILE INFORMATION</td>\n",
       "    </tr>\n",
       "    <tr>\n",
       "      <th>1</th>\n",
       "      <td>User Entered VIN,1FDXE4FS4BDA50634</td>\n",
       "    </tr>\n",
       "    <tr>\n",
       "      <th>2</th>\n",
       "      <td>User,M.  Mikhailov</td>\n",
       "    </tr>\n",
       "    <tr>\n",
       "      <th>3</th>\n",
       "      <td>Case Number,02596301-2022</td>\n",
       "    </tr>\n",
       "    <tr>\n",
       "      <th>4</th>\n",
       "      <td>EDR Data Imaging Date,\"04/29/2022             ...</td>\n",
       "    </tr>\n",
       "    <tr>\n",
       "      <th>...</th>\n",
       "      <td>...</td>\n",
       "    </tr>\n",
       "    <tr>\n",
       "      <th>326</th>\n",
       "      <td>219.0,0.41,0.65</td>\n",
       "    </tr>\n",
       "    <tr>\n",
       "      <th>327</th>\n",
       "      <td>229.0,0.55,0.88</td>\n",
       "    </tr>\n",
       "    <tr>\n",
       "      <th>328</th>\n",
       "      <td>239.0,0.70,1.13</td>\n",
       "    </tr>\n",
       "    <tr>\n",
       "      <th>329</th>\n",
       "      <td>249.0,0.72,1.16</td>\n",
       "    </tr>\n",
       "    <tr>\n",
       "      <th>330</th>\n",
       "      <td>259.0,0.65,1.05</td>\n",
       "    </tr>\n",
       "  </tbody>\n",
       "</table>\n",
       "<p>331 rows × 1 columns</p>\n",
       "</div>"
      ],
      "text/plain": [
       "                                       Complete Record\n",
       "0                                 CDR FILE INFORMATION\n",
       "1                   User Entered VIN,1FDXE4FS4BDA50634\n",
       "2                                   User,M.  Mikhailov\n",
       "3                            Case Number,02596301-2022\n",
       "4    EDR Data Imaging Date,\"04/29/2022             ...\n",
       "..                                                 ...\n",
       "326                                    219.0,0.41,0.65\n",
       "327                                    229.0,0.55,0.88\n",
       "328                                    239.0,0.70,1.13\n",
       "329                                    249.0,0.72,1.16\n",
       "330                                    259.0,0.65,1.05\n",
       "\n",
       "[331 rows x 1 columns]"
      ]
     },
     "execution_count": 46,
     "metadata": {},
     "output_type": "execute_result"
    }
   ],
   "source": [
    "df_list[2]"
   ]
  }
 ],
 "metadata": {
  "kernelspec": {
   "display_name": "Python 3",
   "language": "python",
   "name": "python3"
  },
  "language_info": {
   "codemirror_mode": {
    "name": "ipython",
    "version": 3
   },
   "file_extension": ".py",
   "mimetype": "text/x-python",
   "name": "python",
   "nbconvert_exporter": "python",
   "pygments_lexer": "ipython3",
   "version": "3.11.3"
  },
  "orig_nbformat": 4
 },
 "nbformat": 4,
 "nbformat_minor": 2
}

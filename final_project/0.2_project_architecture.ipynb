{
 "cells": [
  {
   "attachments": {},
   "cell_type": "markdown",
   "metadata": {},
   "source": [
    "1) Ingestion\n",
    "\n",
    "    a) Develop a list of filenames and their respective directories, \n",
    "        so that pyAutoGUI can open the files with Bosch CDR\n",
    "\n",
    "    b) Use pyautoGUI to launch each file individually and save a CSV to that same folder.\n",
    "\n",
    "    c) Create code to scrape each CSV into Pandas, either a dedicated dataframe or a master DF so that info can be extracted.\n",
    "        If necessary, implement Dask here.\n",
    "\n",
    "    d) Develop a system for re-scanning the database, identifying new files, and then importing only those.\n",
    "    \n",
    "2) Cleaning of data and Exploratory Data Analysis (EDA)\n",
    "\n",
    "    Two things must be accomplished here:\n",
    "    \n",
    "    a) First, we should preserve the granularity of data by importing all crash information.\n",
    "    \n",
    "    b) Next, we should identify elements common to all records so that we can leverage the entire dataset for study.\n",
    "\n",
    "    This is a place where SpeedML may be useful. We don't have to fully clean the data before doing some exploration.\n",
    "\n",
    "3) Model planning\n",
    "\n",
    "    a) Per knowledge, training, and experience, the severity of accidents can be roughly predicted by the peak acceleration values present in the event data recording. Therefore, the model should first bin the records by delta-V (acceleration) with the y-axis representing the quantity of records. An important caveat is that this model will only account for losses of ego vehicles and not the secondary affects e.g. damage to structures, pedestrian strikes, or adverse vehicles.\n",
    "\n",
    "    b) After the results are binned, the equipment numbers present in the record comments can then be correlated with equipment make and model. Certain equipment numbers can be grouped as they map to a single make and model.\n",
    "    \n",
    "    b) Employ pareto principle to identify largest sources of waste. Plot financial impact of incidents, ranked by severity.\n",
    "\n",
    "4) Model building\n",
    "\n",
    "\n",
    "5) Model execution\n",
    "\n",
    "\n",
    "6) Communication"
   ]
  }
 ],
 "metadata": {
  "language_info": {
   "name": "python"
  },
  "orig_nbformat": 4
 },
 "nbformat": 4,
 "nbformat_minor": 2
}

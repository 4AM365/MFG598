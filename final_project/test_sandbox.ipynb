{
 "cells": [
  {
   "cell_type": "code",
   "execution_count": 1,
   "metadata": {},
   "outputs": [],
   "source": [
    "import os\n",
    "from m0_1_system_variables import raw_data_path, scanned_file_list, file_staging_list, cdrx_path_list, unaccompanied_cdrx_path_list"
   ]
  },
  {
   "cell_type": "code",
   "execution_count": 5,
   "metadata": {},
   "outputs": [],
   "source": [
    "#This block of code creates a list of all .cdrx files present.\n",
    "file_count = 0\n",
    "for root, dirs, files in os.walk(raw_data_path):\n",
    "        for filename in files:\n",
    "                if filename.lower().endswith('cdrx'):     \n",
    "                        # os.path.join is performed to handle the case of one vehicle having multiple records. \n",
    "                        # The record is saved as the vehicle's VIN, but successive records bearing the same name are placed in different directories.  \n",
    "                        # Considering the filepath as part of the record's 'identity' will ensure that these edge cases are accommodated.\n",
    "                        cdrx_path_list.append(os.path.join(root, filename))"
   ]
  },
  {
   "cell_type": "code",
   "execution_count": 6,
   "metadata": {},
   "outputs": [
    {
     "name": "stdout",
     "output_type": "stream",
     "text": [
      "14892\n"
     ]
    }
   ],
   "source": [
    "print(len(cdrx_path_list))"
   ]
  },
  {
   "cell_type": "code",
   "execution_count": 18,
   "metadata": {},
   "outputs": [],
   "source": [
    "#This block of code creates a list of paths to cdrx files which do not have an accompanying .CSV file. \n",
    "#The objective of this module is to find all of these 'unaccompanied' files and then create a .CSV version suitable for import and analysis. \n",
    "\n",
    "#Whenever the database is re-scanned for new files, the unaccompanied_cdrx_path_list must be cleared. Otherwise, it will simply add the new list of unaccompanied files to an old list.\n",
    "unaccompanied_cdrx_path_list = []\n",
    "\n",
    "\n",
    "for root, dirs, files in os.walk(raw_data_path):\n",
    "        for filename in files:\n",
    "                if filename.lower().endswith('cdrx'):\n",
    "                        csv_filename = os.path.splitext(filename)[0] + '.CSV'\n",
    "                        if csv_filename not in files:     \n",
    "                        # os.path.join is performed to handle the case of one vehicle having multiple records. \n",
    "                        # The record is saved as the vehicle's VIN, but successive records bearing the same name are placed in different directories.  \n",
    "                        # Considering the filepath as part of the record's 'identity' will ensure that these edge cases are accommodated.\n",
    "                                unaccompanied_cdrx_path_list.append(r\"{0}\\{1}\".format(root, filename))\n",
    "                                # unaccompanied_cdrx_path_list.append(os.path.join(root, filename))"
   ]
  },
  {
   "cell_type": "code",
   "execution_count": 14,
   "metadata": {},
   "outputs": [
    {
     "name": "stdout",
     "output_type": "stream",
     "text": [
      "14831\n"
     ]
    }
   ],
   "source": [
    "print(len(unaccompanied_cdrx_path_list))"
   ]
  },
  {
   "cell_type": "code",
   "execution_count": 12,
   "metadata": {},
   "outputs": [
    {
     "name": "stdout",
     "output_type": "stream",
     "text": [
      "1GDY72CA7E1917612_ACM.CSV\n"
     ]
    }
   ],
   "source": [
    "print(csv_filename)"
   ]
  },
  {
   "cell_type": "code",
   "execution_count": 20,
   "metadata": {},
   "outputs": [
    {
     "name": "stdout",
     "output_type": "stream",
     "text": [
      "['H:\\\\LOSS1\\\\EDR\\\\Downloaded Files\\\\1GDGG31V441903074A.CDRx', 'H:\\\\LOSS1\\\\EDR\\\\Downloaded Files\\\\1FDXE4FS3BDB02206_ACM.CDRx', 'H:\\\\LOSS1\\\\EDR\\\\Downloaded Files\\\\1GDY72CA9E1916994_ACM.CDRx', 'H:\\\\LOSS1\\\\EDR\\\\Downloaded Files\\\\1GTN1LEC6GZ900334_ACM.CDRx', 'H:\\\\LOSS1\\\\EDR\\\\Downloaded Files\\\\1FTNE2EW4DDA67716_ACM.CDRx', 'H:\\\\LOSS1\\\\EDR\\\\Downloaded Files\\\\1FTYR1ZM2GKA34167_ACM.CDRx', 'H:\\\\LOSS1\\\\EDR\\\\Downloaded Files\\\\1FTYR1ZM9KKB21198_ACM.CDRx', 'H:\\\\LOSS1\\\\EDR\\\\Downloaded Files\\\\1FDXE4FSXCDA06364_ACM.CDRx', 'H:\\\\LOSS1\\\\EDR\\\\Downloaded Files\\\\1FTNR1ZM1FKB19874_ACM.CDRx', 'H:\\\\LOSS1\\\\EDR\\\\Downloaded Files\\\\1GDY72CA0E1917581_ACM.CDRx', 'H:\\\\LOSS1\\\\EDR\\\\Downloaded Files\\\\1GDGG31V441903074.CDRx']\n"
     ]
    }
   ],
   "source": [
    "print(unaccompanied_cdrx_path_list[:11])"
   ]
  },
  {
   "cell_type": "code",
   "execution_count": 3,
   "metadata": {},
   "outputs": [],
   "source": [
    "import pyautogui\n",
    "import psutil\n",
    "import sys\n",
    "import subprocess\n",
    "from m0_1_system_variables import bosch_filepath"
   ]
  },
  {
   "cell_type": "code",
   "execution_count": 4,
   "metadata": {},
   "outputs": [
    {
     "ename": "TimeoutExpired",
     "evalue": "Command 'C:\\Program Files (x86)\\Bosch\\Crash Data Retrieval\\CDR.EXE' timed out after 1 seconds",
     "output_type": "error",
     "traceback": [
      "\u001b[1;31m---------------------------------------------------------------------------\u001b[0m",
      "\u001b[1;31mTimeoutExpired\u001b[0m                            Traceback (most recent call last)",
      "\u001b[1;32mc:\\Code\\MFG598\\final_project\\test_sandbox.ipynb Cell 9\u001b[0m in \u001b[0;36m<cell line: 2>\u001b[1;34m()\u001b[0m\n\u001b[0;32m      <a href='vscode-notebook-cell:/c%3A/Code/MFG598/final_project/test_sandbox.ipynb#X12sZmlsZQ%3D%3D?line=6'>7</a>\u001b[0m \u001b[39mtry\u001b[39;00m:\n\u001b[0;32m      <a href='vscode-notebook-cell:/c%3A/Code/MFG598/final_project/test_sandbox.ipynb#X12sZmlsZQ%3D%3D?line=7'>8</a>\u001b[0m     \u001b[39mif\u001b[39;00m psutil\u001b[39m.\u001b[39mpid_exists(process\u001b[39m.\u001b[39mpid):\n\u001b[1;32m----> <a href='vscode-notebook-cell:/c%3A/Code/MFG598/final_project/test_sandbox.ipynb#X12sZmlsZQ%3D%3D?line=8'>9</a>\u001b[0m         process\u001b[39m.\u001b[39;49mwait(\u001b[39m1\u001b[39;49m)\n\u001b[0;32m     <a href='vscode-notebook-cell:/c%3A/Code/MFG598/final_project/test_sandbox.ipynb#X12sZmlsZQ%3D%3D?line=9'>10</a>\u001b[0m     \u001b[39melse\u001b[39;00m:\n\u001b[0;32m     <a href='vscode-notebook-cell:/c%3A/Code/MFG598/final_project/test_sandbox.ipynb#X12sZmlsZQ%3D%3D?line=10'>11</a>\u001b[0m         \u001b[39mprint\u001b[39m(\u001b[39m'\u001b[39m\u001b[39mCDR.EXE has finished running.\u001b[39m\u001b[39m'\u001b[39m)\n",
      "File \u001b[1;32mc:\\Users\\WTCra\\anaconda3\\lib\\subprocess.py:1189\u001b[0m, in \u001b[0;36mPopen.wait\u001b[1;34m(self, timeout)\u001b[0m\n\u001b[0;32m   1187\u001b[0m     endtime \u001b[39m=\u001b[39m _time() \u001b[39m+\u001b[39m timeout\n\u001b[0;32m   1188\u001b[0m \u001b[39mtry\u001b[39;00m:\n\u001b[1;32m-> 1189\u001b[0m     \u001b[39mreturn\u001b[39;00m \u001b[39mself\u001b[39;49m\u001b[39m.\u001b[39;49m_wait(timeout\u001b[39m=\u001b[39;49mtimeout)\n\u001b[0;32m   1190\u001b[0m \u001b[39mexcept\u001b[39;00m \u001b[39mKeyboardInterrupt\u001b[39;00m:\n\u001b[0;32m   1191\u001b[0m     \u001b[39m# https://bugs.python.org/issue25942\u001b[39;00m\n\u001b[0;32m   1192\u001b[0m     \u001b[39m# The first keyboard interrupt waits briefly for the child to\u001b[39;00m\n\u001b[0;32m   1193\u001b[0m     \u001b[39m# exit under the common assumption that it also received the ^C\u001b[39;00m\n\u001b[0;32m   1194\u001b[0m     \u001b[39m# generated SIGINT and will exit rapidly.\u001b[39;00m\n\u001b[0;32m   1195\u001b[0m     \u001b[39mif\u001b[39;00m timeout \u001b[39mis\u001b[39;00m \u001b[39mnot\u001b[39;00m \u001b[39mNone\u001b[39;00m:\n",
      "File \u001b[1;32mc:\\Users\\WTCra\\anaconda3\\lib\\subprocess.py:1473\u001b[0m, in \u001b[0;36mPopen._wait\u001b[1;34m(self, timeout)\u001b[0m\n\u001b[0;32m   1470\u001b[0m     result \u001b[39m=\u001b[39m _winapi\u001b[39m.\u001b[39mWaitForSingleObject(\u001b[39mself\u001b[39m\u001b[39m.\u001b[39m_handle,\n\u001b[0;32m   1471\u001b[0m                                          timeout_millis)\n\u001b[0;32m   1472\u001b[0m     \u001b[39mif\u001b[39;00m result \u001b[39m==\u001b[39m _winapi\u001b[39m.\u001b[39mWAIT_TIMEOUT:\n\u001b[1;32m-> 1473\u001b[0m         \u001b[39mraise\u001b[39;00m TimeoutExpired(\u001b[39mself\u001b[39m\u001b[39m.\u001b[39margs, timeout)\n\u001b[0;32m   1474\u001b[0m     \u001b[39mself\u001b[39m\u001b[39m.\u001b[39mreturncode \u001b[39m=\u001b[39m _winapi\u001b[39m.\u001b[39mGetExitCodeProcess(\u001b[39mself\u001b[39m\u001b[39m.\u001b[39m_handle)\n\u001b[0;32m   1475\u001b[0m \u001b[39mreturn\u001b[39;00m \u001b[39mself\u001b[39m\u001b[39m.\u001b[39mreturncode\n",
      "\u001b[1;31mTimeoutExpired\u001b[0m: Command 'C:\\Program Files (x86)\\Bosch\\Crash Data Retrieval\\CDR.EXE' timed out after 1 seconds"
     ]
    }
   ],
   "source": [
    "# Check if 'cdr.exe' is running\n",
    "if check_process('CDR.EXE'):\n",
    "    print('CDR.EXE is running.')\n",
    "else:\n",
    "    process = subprocess.Popen(bosch_filepath)\n",
    "    while True:\n",
    "        try:\n",
    "            if psutil.pid_exists(process.pid):\n",
    "                process.wait(1)\n",
    "            else:\n",
    "                print('CDR.EXE has finished running.')\n",
    "                break\n",
    "        except KeyboardInterrupt:\n",
    "            # If the user interrupts the program, terminate the process\n",
    "            process.terminate()\n",
    "            print('Program terminated by user.')\n",
    "            break"
   ]
  },
  {
   "cell_type": "code",
   "execution_count": null,
   "metadata": {},
   "outputs": [],
   "source": []
  }
 ],
 "metadata": {
  "kernelspec": {
   "display_name": "Python 3",
   "language": "python",
   "name": "python3"
  },
  "language_info": {
   "codemirror_mode": {
    "name": "ipython",
    "version": 3
   },
   "file_extension": ".py",
   "mimetype": "text/x-python",
   "name": "python",
   "nbconvert_exporter": "python",
   "pygments_lexer": "ipython3",
   "version": "3.9.12"
  },
  "orig_nbformat": 4
 },
 "nbformat": 4,
 "nbformat_minor": 2
}

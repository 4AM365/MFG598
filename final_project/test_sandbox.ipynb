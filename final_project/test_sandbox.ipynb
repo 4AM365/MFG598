{
 "cells": [
  {
   "cell_type": "code",
   "execution_count": null,
   "metadata": {},
   "outputs": [],
   "source": [
    "import os\n",
    "from m0_1_system_variables import raw_data_path"
   ]
  },
  {
   "cell_type": "code",
   "execution_count": null,
   "metadata": {},
   "outputs": [],
   "source": [
    "'''#This block of code creates a list of all .cdrx files present.\n",
    "'''\n",
    "file_count = 0\n",
    "for root, dirs, files in os.walk(raw_data_path):\n",
    "        for filename in files:\n",
    "                if filename.lower().endswith('cdrx'):  \n",
    "                        print(filename)   #placeholder to remove system-level errors\n",
    "'''# os.path.join is performed to handle the case of one vehicle having multiple records. \n",
    "# The record is saved as the vehicle's VIN, but successive records bearing the same name are placed in different directories.  \n",
    "# Considering the filepath as part of the record's 'identity' will ensure that these edge cases are accommodated.\n",
    "# cdrx_path_list.append(os.path.join(root, filename))'''"
   ]
  },
  {
   "cell_type": "code",
   "execution_count": null,
   "metadata": {},
   "outputs": [],
   "source": [
    "# print(len(cdrx_path_list))"
   ]
  },
  {
   "cell_type": "code",
   "execution_count": null,
   "metadata": {},
   "outputs": [],
   "source": [
    "'''#This block of code creates a list of paths to cdrx files which do not have an accompanying .CSV file. \n",
    "#The objective of this module is to find all of these 'unaccompanied' files and then create a .CSV version suitable for import and analysis. '''\n",
    "\n",
    "#Whenever the database is re-scanned for new files, the unaccompanied_cdrx_path_list must be cleared. Otherwise, it will simply add the new list of unaccompanied files to an old list.\n",
    "unaccompanied_cdrx_path_list = []\n",
    "\n",
    "\n",
    "for root, dirs, files in os.walk(raw_data_path):\n",
    "        for filename in files:\n",
    "                if filename.lower().endswith('cdrx'):\n",
    "                        csv_filename = os.path.splitext(filename)[0] + '.CSV'\n",
    "                        if csv_filename not in files:     \n",
    "                        # os.path.join is performed to handle the case of one vehicle having multiple records. \n",
    "                        # The record is saved as the vehicle's VIN, but successive records bearing the same name are placed in different directories.  \n",
    "                        # Considering the filepath as part of the record's 'identity' will ensure that these edge cases are accommodated.\n",
    "                                unaccompanied_cdrx_path_list.append(r\"{0}\\{1}\".format(root, filename))\n",
    "                                # unaccompanied_cdrx_path_list.append(os.path.join(root, filename))"
   ]
  },
  {
   "cell_type": "code",
   "execution_count": null,
   "metadata": {},
   "outputs": [],
   "source": [
    "print(len(unaccompanied_cdrx_path_list))"
   ]
  },
  {
   "cell_type": "code",
   "execution_count": null,
   "metadata": {},
   "outputs": [],
   "source": [
    "print(csv_filename)"
   ]
  },
  {
   "cell_type": "code",
   "execution_count": null,
   "metadata": {},
   "outputs": [],
   "source": [
    "print(unaccompanied_cdrx_path_list[:11])"
   ]
  },
  {
   "cell_type": "code",
   "execution_count": null,
   "metadata": {},
   "outputs": [],
   "source": [
    "import pyautogui\n",
    "import psutil\n",
    "import sys\n",
    "import subprocess\n",
    "from m0_1_system_variables import bosch_filepath"
   ]
  },
  {
   "cell_type": "code",
   "execution_count": null,
   "metadata": {},
   "outputs": [],
   "source": [
    "def check_process(process_name):\n",
    "    \"\"\"Check if a process is running on Windows\"\"\"\n",
    "    for proc in psutil.process_iter(['name']):\n",
    "        # if proc.info['name'] == process_name: deprecated code here, needs to be proc.name\n",
    "            return True\n",
    "    return False\n",
    "    sys.exit(1)"
   ]
  },
  {
   "cell_type": "code",
   "execution_count": null,
   "metadata": {},
   "outputs": [],
   "source": [
    "# Check if 'cdr.exe' is running\n",
    "if check_process('CDR.EXE'):\n",
    "    print('CDR.EXE is running.')\n",
    "else:\n",
    "    process = subprocess.Popen(bosch_filepath)"
   ]
  },
  {
   "cell_type": "code",
   "execution_count": null,
   "metadata": {},
   "outputs": [],
   "source": [
    "from m1_0_data_identification import unaccompanied_cdrx_path_list"
   ]
  },
  {
   "cell_type": "code",
   "execution_count": null,
   "metadata": {},
   "outputs": [],
   "source": [
    "with open(\"unaccompanied_cdrx_path_list.csv\", \"w\") as file:\n",
    "    for record in unaccompanied_cdrx_path_list:\n",
    "        file.write(record + \",\")"
   ]
  },
  {
   "attachments": {},
   "cell_type": "markdown",
   "metadata": {},
   "source": [
    "This block is a test idea to use Sandboxie to parallelize CDR.exe. This is probably going to be unnecessary."
   ]
  },
  {
   "cell_type": "code",
   "execution_count": null,
   "metadata": {},
   "outputs": [],
   "source": [
    "import subprocess\n",
    "\n",
    "for i in range(10):\n",
    "    sandbox_name = \"Sandbox {}\".format(i+1)\n",
    "    cmd = [r\"\\\"C:\\Program Files\\Sandboxie\\Start.exe\\\"\", \"/box:{}\".format(sandbox_name), \"cdr.exe\"]\n",
    "    subprocess.Popen(\" \".join(cmd), shell=True)"
   ]
  },
  {
   "attachments": {},
   "cell_type": "markdown",
   "metadata": {},
   "source": [
    "'''This block will create a dataframe from the list of filepaths.'''"
   ]
  },
  {
   "cell_type": "code",
   "execution_count": null,
   "metadata": {},
   "outputs": [],
   "source": [
    "import pandas as pd\n",
    "\n",
    "with open('unaccompanied_cdrx_path_list.csv', 'r') as path_list:\n",
    "    path_list_str = path_list.read()\n",
    "    \n",
    "split_path_list = path_list_str.split(',')\n",
    "    \n",
    "data = [{'filepath': path} for path in split_path_list]\n",
    "    \n",
    "path_list_dataframe = pd.DataFrame(data)"
   ]
  },
  {
   "cell_type": "code",
   "execution_count": null,
   "metadata": {},
   "outputs": [],
   "source": [
    "path_list_dataframe.head()"
   ]
  },
  {
   "attachments": {},
   "cell_type": "markdown",
   "metadata": {},
   "source": [
    "This code identifies the location of CDR.EXE on the screen. I want it to open fullscreen by default for consistency across screens."
   ]
  },
  {
   "cell_type": "code",
   "execution_count": null,
   "metadata": {},
   "outputs": [],
   "source": [
    "import time\n",
    "import pyautogui as gui\n",
    "\n",
    "if check_process('CDR.EXE'):\n",
    "    print('CDR.EXE is running.')\n",
    "else:\n",
    "    process = subprocess.Popen(bosch_filepath)\n",
    "\n",
    "time.sleep(1)\n",
    "\n",
    "gui.hotkey('ctrl', 'o')\n",
    "\n",
    "#Hold shift\n",
    "#Press tab 6 times\n",
    "#Press enter\n"
   ]
  },
  {
   "cell_type": "code",
   "execution_count": null,
   "metadata": {},
   "outputs": [],
   "source": [
    "'''This code was used to store the path list as a csv, so that it does not have to be collected multiple times.'''\n",
    "# with open(\"unaccompanied_cdrx_path_list.csv\", \"w\") as file:\n",
    "#     for record in unaccompanied_cdrx_path_list:\n",
    "#         file.write(record + \",\")\n",
    "\n",
    "# with open ('unaccompanied_cdrx_path_list.csv', 'r') as path_list:\n",
    "#     dfs = []\n",
    "#     for file_path in path_list:\n",
    "#         df = pd.read_csv(file_path)\n",
    "        \n",
    "#         # Add a new column to the DataFrame with the file path\n",
    "#         df['file_path'] = os.path.abspath(file_path)\n",
    "        \n",
    "#         # Append the DataFrame to the list of DataFrames\n",
    "#         dfs.append(df)\n",
    "\n",
    "# # Combine the list of DataFrames into a single DataFrame\n",
    "# combined_df = pd.concat(dfs, ignore_index=True)"
   ]
  },
  {
   "cell_type": "code",
   "execution_count": null,
   "metadata": {},
   "outputs": [],
   "source": [
    "import os\n",
    "from m0_1_system_variables import raw_data_path\n",
    "import pandas as pd\n",
    "\n",
    "\n",
    "#This block of code creates a list of paths to cdrx files which do not have an accompanying .CSV file. \n",
    "#The objective of this module is to find all of these 'unaccompanied' files and then create a .CSV version suitable for import and analysis. \n",
    "\n",
    "#Whenever the database is re-scanned for new files, the unaccompanied_cdrx_path_list must be cleared. Otherwise, it will simply add the new list of unaccompanied files to an old list.\n",
    "\n",
    "unaccompanied_cdrx_path_list = []\n",
    "\n",
    "for root, dirs, files in os.walk(raw_data_path):\n",
    "        for filename in files:\n",
    "                if filename.lower().endswith('cdrx'):\n",
    "                        csv_filename = os.path.splitext(filename)[0] + '.CSV'\n",
    "                        if csv_filename not in files:     \n",
    "                        # os.path.join is performed to handle the case of one vehicle having multiple records. \n",
    "                        # The record is saved as the vehicle's VIN, but successive records bearing the same name are placed in different directories.  \n",
    "                        # Considering the filepath as part of the record's 'identity' will ensure that these edge cases are accommodated.\n",
    "\n",
    "                                # unaccompanied_cdrx_path_list.append(os.path.join(root, filename))\n",
    "                                #Updating this to raw string for 'cleanliness' and resilience. This prevents any need to escape the backslashes.\n",
    "                                unaccompanied_cdrx_path_list.append(r\"{0}\\{1}\".format(root, filename))\n"
   ]
  },
  {
   "cell_type": "code",
   "execution_count": null,
   "metadata": {},
   "outputs": [],
   "source": [
    "dfs = []\n",
    "for file_path in unaccompanied_cdrx_path_list:\n",
    "\n",
    "        df = pd.DataFrame({'value': [file_path]})\n",
    "\n",
    "        # Append the DataFrame to the list of DataFrames\n",
    "        dfs.append(df)\n",
    "# Combine the list of DataFrames into a single DataFrame\n",
    "combined_df = pd.concat(dfs, ignore_index=True)\n"
   ]
  },
  {
   "cell_type": "code",
   "execution_count": null,
   "metadata": {},
   "outputs": [],
   "source": [
    "combined_df.head(10)"
   ]
  },
  {
   "cell_type": "code",
   "execution_count": 1,
   "metadata": {},
   "outputs": [],
   "source": [
    "import os\n",
    "from m0_1_system_variables import raw_data_path\n",
    "import pandas as pd\n",
    "\n",
    "\n",
    "#This block of code creates a list of paths to cdrx files which do not have an accompanying .CSV file. \n",
    "#The objective of this module is to find all of these 'unaccompanied' files and then create a .CSV version suitable for import and analysis. \n",
    "\n",
    "#Whenever the database is re-scanned for new files, the unaccompanied_cdrx_path_list must be cleared. Otherwise, it will simply add the new list of unaccompanied files to an old list.\n",
    "\n",
    "unaccompanied_cdrx_path_list = []\n",
    "complete_cdrx_path_list = []\n",
    "\n",
    "for root, dirs, files in os.walk(raw_data_path):\n",
    "        for filename in files:\n",
    "                if filename.lower().endswith('cdrx'):\n",
    "                        complete_cdrx_path_list.append(r\"{0}\\{1}\".format(root, filename))\n",
    "                        csv_filename = os.path.splitext(filename)[0] + '.CSV'\n",
    "                        if csv_filename not in files:     \n",
    "                        # os.path.join is performed to handle the case of one vehicle having multiple records. \n",
    "                        # The record is saved as the vehicle's VIN, but successive records bearing the same name are placed in different directories.  \n",
    "                        # Considering the filepath as part of the record's 'identity' will ensure that these edge cases are accommodated.\n",
    "\n",
    "                                # unaccompanied_cdrx_path_list.append(os.path.join(root, filename))\n",
    "                                #Updating this to raw string for 'cleanliness' and resilience. This prevents any need to escape the backslashes.\n",
    "                                unaccompanied_cdrx_path_list.append(r\"{0}\\{1}\".format(root, filename))"
   ]
  },
  {
   "cell_type": "code",
   "execution_count": 3,
   "metadata": {},
   "outputs": [],
   "source": [
    "dfs = []\n",
    "\n",
    "for file_path in complete_cdrx_path_list:\n",
    "\n",
    "        df = pd.DataFrame({'filepath': [file_path]})\n",
    "\n",
    "        # Append the DataFrame to the list of DataFrames\n",
    "        dfs.append(df)\n",
    "# Combine the list of DataFrames into a single DataFrame\n"
   ]
  },
  {
   "cell_type": "code",
   "execution_count": 4,
   "metadata": {},
   "outputs": [],
   "source": [
    "complete_path_list_dataframe = pd.concat(dfs, ignore_index=True)"
   ]
  },
  {
   "cell_type": "code",
   "execution_count": 5,
   "metadata": {},
   "outputs": [
    {
     "data": {
      "text/html": [
       "<div>\n",
       "<style scoped>\n",
       "    .dataframe tbody tr th:only-of-type {\n",
       "        vertical-align: middle;\n",
       "    }\n",
       "\n",
       "    .dataframe tbody tr th {\n",
       "        vertical-align: top;\n",
       "    }\n",
       "\n",
       "    .dataframe thead th {\n",
       "        text-align: right;\n",
       "    }\n",
       "</style>\n",
       "<table border=\"1\" class=\"dataframe\">\n",
       "  <thead>\n",
       "    <tr style=\"text-align: right;\">\n",
       "      <th></th>\n",
       "      <th>filepath</th>\n",
       "    </tr>\n",
       "  </thead>\n",
       "  <tbody>\n",
       "    <tr>\n",
       "      <th>0</th>\n",
       "      <td>H:\\LOSS1\\EDR\\Downloaded Files\\1GDGG31V44190307...</td>\n",
       "    </tr>\n",
       "    <tr>\n",
       "      <th>1</th>\n",
       "      <td>H:\\LOSS1\\EDR\\Downloaded Files\\1FDXE4FS3BDB0220...</td>\n",
       "    </tr>\n",
       "    <tr>\n",
       "      <th>2</th>\n",
       "      <td>H:\\LOSS1\\EDR\\Downloaded Files\\1GDY72CA9E191699...</td>\n",
       "    </tr>\n",
       "    <tr>\n",
       "      <th>3</th>\n",
       "      <td>H:\\LOSS1\\EDR\\Downloaded Files\\1GTN1LEC6GZ90033...</td>\n",
       "    </tr>\n",
       "    <tr>\n",
       "      <th>4</th>\n",
       "      <td>H:\\LOSS1\\EDR\\Downloaded Files\\1FTNE2EW4DDA6771...</td>\n",
       "    </tr>\n",
       "  </tbody>\n",
       "</table>\n",
       "</div>"
      ],
      "text/plain": [
       "                                            filepath\n",
       "0  H:\\LOSS1\\EDR\\Downloaded Files\\1GDGG31V44190307...\n",
       "1  H:\\LOSS1\\EDR\\Downloaded Files\\1FDXE4FS3BDB0220...\n",
       "2  H:\\LOSS1\\EDR\\Downloaded Files\\1GDY72CA9E191699...\n",
       "3  H:\\LOSS1\\EDR\\Downloaded Files\\1GTN1LEC6GZ90033...\n",
       "4  H:\\LOSS1\\EDR\\Downloaded Files\\1FTNE2EW4DDA6771..."
      ]
     },
     "execution_count": 5,
     "metadata": {},
     "output_type": "execute_result"
    }
   ],
   "source": [
    "complete_path_list_dataframe.head()"
   ]
  },
  {
   "cell_type": "code",
   "execution_count": 39,
   "metadata": {},
   "outputs": [],
   "source": [
    "from m0_1_system_variables import bosch_filepath\n",
    "import psutil\n",
    "import sys\n",
    "import subprocess\n",
    "import time\n",
    "import pyautogui as gui\n",
    "import pyperclip as pyp\n",
    "\n",
    "\n",
    "'''This block is used to determine whether the Bosch CDR tool is running'''\n",
    "def check_process(process_name):\n",
    "    \"\"\"Check if a process is running on Windows\"\"\"\n",
    "    for proc in psutil.process_iter(['name']):\n",
    "        if proc.name() == process_name:\n",
    "            return True\n",
    "    return False\n",
    "    sys.exit(1)\n",
    "\n",
    "    # Check if 'cdr.exe' is running\n",
    "if check_process('CDR.EXE'):\n",
    "    print('CDR.EXE is running.')\n",
    "    subprocess.run(['taskkill', '/f', '/im', 'cdr.exe'])\n",
    "\n",
    "else:\n",
    "    process = subprocess.Popen(bosch_filepath)\n",
    "    time.sleep(2)\n",
    "\n",
    "#Must truncate the filepath for use in CDR to eliminate the filename and last backslash.\n",
    "working_file_str = str(r'H:\\LOSS1\\EDR\\Downloaded Files\\DC2224S')\n",
    "\n",
    "gui.hotkey('ctrl', 'o')\n",
    "\n",
    "gui.keyDown('shift')\n",
    "\n",
    "# Press the Tab key six times\n",
    "for i in range(7):\n",
    "    gui.press('tab')\n",
    "\n",
    "# Release the Shift key\n",
    "    gui.keyUp('shift')   \n",
    "\n",
    "gui.press('Enter')\n",
    "\n",
    "pyp.copy(working_file_str)\n",
    "\n",
    "gui.hotkey('ctrl', 'v')\n",
    "\n",
    "gui.press('Enter')\n",
    "\n",
    "time.sleep(1)\n",
    "for i in range(4):\n",
    "    gui.press('tab')\n",
    "    time.sleep(0.1)\n",
    "\n",
    "time.sleep(1)\n",
    "\n",
    "gui.press('space')\n",
    "\n",
    "gui.press('enter')\n",
    "\n",
    "time.sleep(1)\n",
    "\n",
    "gui.press('alt')\n",
    "gui.press('right')\n",
    "\n",
    "for i in range(9):\n",
    "    gui.press('down')\n",
    "    time.sleep(0.1)\n",
    "\n",
    "for i in range(2):\n",
    "    gui.press('enter')\n",
    "    time.sleep(0.1)"
   ]
  },
  {
   "cell_type": "code",
   "execution_count": 33,
   "metadata": {},
   "outputs": [
    {
     "data": {
      "text/plain": [
       "'H:\\\\LOSS1\\\\EDR\\\\Downloaded Files\\\\1FDXE4FS3BDB02206_ACM.CDRx'"
      ]
     },
     "execution_count": 33,
     "metadata": {},
     "output_type": "execute_result"
    }
   ],
   "source": [
    "from m1_0_data_identification import unaccompanied_cdrx_path_list\n",
    "\n",
    "unaccompanied_cdrx_path_list[1]"
   ]
  },
  {
   "cell_type": "code",
   "execution_count": 42,
   "metadata": {},
   "outputs": [
    {
     "name": "stdout",
     "output_type": "stream",
     "text": [
      "H:\\LOSS1\\EDR\\Downloaded Files\n"
     ]
    }
   ],
   "source": [
    "import os\n",
    "\n",
    "filepath = 'H:\\\\LOSS1\\\\EDR\\\\Downloaded Files\\\\1FDXE4FS3BDB02206_ACM.CDRx'\n",
    "\n",
    "directory = os.path.dirname(filepath)\n",
    "\n",
    "print(directory)"
   ]
  }
 ],
 "metadata": {
  "kernelspec": {
   "display_name": "Python 3",
   "language": "python",
   "name": "python3"
  },
  "language_info": {
   "codemirror_mode": {
    "name": "ipython",
    "version": 3
   },
   "file_extension": ".py",
   "mimetype": "text/x-python",
   "name": "python",
   "nbconvert_exporter": "python",
   "pygments_lexer": "ipython3",
   "version": "3.11.3"
  },
  "orig_nbformat": 4
 },
 "nbformat": 4,
 "nbformat_minor": 2
}

{
 "cells": [
  {
   "cell_type": "code",
   "execution_count": null,
   "metadata": {},
   "outputs": [],
   "source": [
    "import os\n",
    "from m0_1_system_variables import raw_data_path, scanned_file_list, file_staging_list, cdrx_path_list, unaccompanied_cdrx_path_list"
   ]
  },
  {
   "cell_type": "code",
   "execution_count": null,
   "metadata": {},
   "outputs": [],
   "source": [
    "#This block of code creates a list of all .cdrx files present.\n",
    "file_count = 0\n",
    "for root, dirs, files in os.walk(raw_data_path):\n",
    "        for filename in files:\n",
    "                if filename.lower().endswith('cdrx'):     \n",
    "                        # os.path.join is performed to handle the case of one vehicle having multiple records. \n",
    "                        # The record is saved as the vehicle's VIN, but successive records bearing the same name are placed in different directories.  \n",
    "                        # Considering the filepath as part of the record's 'identity' will ensure that these edge cases are accommodated.\n",
    "                        cdrx_path_list.append(os.path.join(root, filename))"
   ]
  },
  {
   "cell_type": "code",
   "execution_count": null,
   "metadata": {},
   "outputs": [],
   "source": [
    "print(len(cdrx_path_list))"
   ]
  },
  {
   "cell_type": "code",
   "execution_count": null,
   "metadata": {},
   "outputs": [],
   "source": [
    "#This block of code creates a list of paths to cdrx files which do not have an accompanying .CSV file. \n",
    "#The objective of this module is to find all of these 'unaccompanied' files and then create a .CSV version suitable for import and analysis. \n",
    "\n",
    "#Whenever the database is re-scanned for new files, the unaccompanied_cdrx_path_list must be cleared. Otherwise, it will simply add the new list of unaccompanied files to an old list.\n",
    "unaccompanied_cdrx_path_list = []\n",
    "\n",
    "\n",
    "for root, dirs, files in os.walk(raw_data_path):\n",
    "        for filename in files:\n",
    "                if filename.lower().endswith('cdrx'):\n",
    "                        csv_filename = os.path.splitext(filename)[0] + '.CSV'\n",
    "                        if csv_filename not in files:     \n",
    "                        # os.path.join is performed to handle the case of one vehicle having multiple records. \n",
    "                        # The record is saved as the vehicle's VIN, but successive records bearing the same name are placed in different directories.  \n",
    "                        # Considering the filepath as part of the record's 'identity' will ensure that these edge cases are accommodated.\n",
    "                                unaccompanied_cdrx_path_list.append(r\"{0}\\{1}\".format(root, filename))\n",
    "                                # unaccompanied_cdrx_path_list.append(os.path.join(root, filename))"
   ]
  },
  {
   "cell_type": "code",
   "execution_count": null,
   "metadata": {},
   "outputs": [],
   "source": [
    "print(len(unaccompanied_cdrx_path_list))"
   ]
  },
  {
   "cell_type": "code",
   "execution_count": null,
   "metadata": {},
   "outputs": [],
   "source": [
    "print(csv_filename)"
   ]
  },
  {
   "cell_type": "code",
   "execution_count": null,
   "metadata": {},
   "outputs": [],
   "source": [
    "print(unaccompanied_cdrx_path_list[:11])"
   ]
  },
  {
   "cell_type": "code",
   "execution_count": 6,
   "metadata": {},
   "outputs": [],
   "source": [
    "import pyautogui\n",
    "import psutil\n",
    "import sys\n",
    "import subprocess\n",
    "from m0_1_system_variables import bosch_filepath"
   ]
  },
  {
   "cell_type": "code",
   "execution_count": 7,
   "metadata": {},
   "outputs": [],
   "source": [
    "def check_process(process_name):\n",
    "    \"\"\"Check if a process is running on Windows\"\"\"\n",
    "    for proc in psutil.process_iter(['name']):\n",
    "        if proc.info['name'] == process_name:\n",
    "            return True\n",
    "    return False\n",
    "    sys.exit(1)"
   ]
  },
  {
   "cell_type": "code",
   "execution_count": 8,
   "metadata": {},
   "outputs": [
    {
     "name": "stdout",
     "output_type": "stream",
     "text": [
      "CDR.EXE is running.\n"
     ]
    }
   ],
   "source": [
    "# Check if 'cdr.exe' is running\n",
    "if check_process('CDR.EXE'):\n",
    "    print('CDR.EXE is running.')\n",
    "else:\n",
    "    process = subprocess.Popen(bosch_filepath)"
   ]
  }
 ],
 "metadata": {
  "kernelspec": {
   "display_name": "Python 3",
   "language": "python",
   "name": "python3"
  },
  "language_info": {
   "codemirror_mode": {
    "name": "ipython",
    "version": 3
   },
   "file_extension": ".py",
   "mimetype": "text/x-python",
   "name": "python",
   "nbconvert_exporter": "python",
   "pygments_lexer": "ipython3",
   "version": "3.9.12"
  },
  "orig_nbformat": 4
 },
 "nbformat": 4,
 "nbformat_minor": 2
}

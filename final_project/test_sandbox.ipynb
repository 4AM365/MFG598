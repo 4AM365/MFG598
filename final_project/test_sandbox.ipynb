{
 "cells": [
  {
   "cell_type": "code",
   "execution_count": 1,
   "metadata": {},
   "outputs": [],
   "source": [
    "import os\n",
    "from m0_1_system_variables import raw_data_path, scanned_file_list, file_staging_list, cdrx_path_list, unaccompanied_cdrx_path_list"
   ]
  },
  {
   "cell_type": "code",
   "execution_count": 5,
   "metadata": {},
   "outputs": [],
   "source": [
    "#This block of code creates a list of all .cdrx files present.\n",
    "file_count = 0\n",
    "for root, dirs, files in os.walk(raw_data_path):\n",
    "        for filename in files:\n",
    "                if filename.lower().endswith('cdrx'):     \n",
    "                        # os.path.join is performed to handle the case of one vehicle having multiple records. \n",
    "                        # The record is saved as the vehicle's VIN, but successive records bearing the same name are placed in different directories.  \n",
    "                        # Considering the filepath as part of the record's 'identity' will ensure that these edge cases are accommodated.\n",
    "                        cdrx_path_list.append(os.path.join(root, filename))"
   ]
  },
  {
   "cell_type": "code",
   "execution_count": 6,
   "metadata": {},
   "outputs": [
    {
     "name": "stdout",
     "output_type": "stream",
     "text": [
      "14892\n"
     ]
    }
   ],
   "source": [
    "print(len(cdrx_path_list))"
   ]
  },
  {
   "cell_type": "code",
   "execution_count": 13,
   "metadata": {},
   "outputs": [],
   "source": [
    "#This block of code creates a list of paths to cdrx files which do not have an accompanying .CSV file. \n",
    "#The objective of this module is to find all of these 'unaccompanied' files and then create a .CSV version suitable for import and analysis. \n",
    "\n",
    "#Whenever the database is re-scanned for new files, the unaccompanied_cdrx_path_list must be cleared. Otherwise, it will simply add the new list of unaccompanied files to an old list.\n",
    "unaccompanied_cdrx_path_list = []\n",
    "\n",
    "\n",
    "for root, dirs, files in os.walk(raw_data_path):\n",
    "        for filename in files:\n",
    "                if filename.lower().endswith('cdrx'):\n",
    "                        csv_filename = os.path.splitext(filename)[0] + '.CSV'\n",
    "                        if csv_filename not in files:     \n",
    "                        # os.path.join is performed to handle the case of one vehicle having multiple records. \n",
    "                        # The record is saved as the vehicle's VIN, but successive records bearing the same name are placed in different directories.  \n",
    "                        # Considering the filepath as part of the record's 'identity' will ensure that these edge cases are accommodated.\n",
    "\n",
    "                            unaccompanied_cdrx_path_list.append(os.path.join(root, filename))"
   ]
  },
  {
   "cell_type": "code",
   "execution_count": 14,
   "metadata": {},
   "outputs": [
    {
     "name": "stdout",
     "output_type": "stream",
     "text": [
      "14831\n"
     ]
    }
   ],
   "source": [
    "print(len(unaccompanied_cdrx_path_list))"
   ]
  },
  {
   "cell_type": "code",
   "execution_count": 12,
   "metadata": {},
   "outputs": [
    {
     "name": "stdout",
     "output_type": "stream",
     "text": [
      "1GDY72CA7E1917612_ACM.CSV\n"
     ]
    }
   ],
   "source": [
    "print(csv_filename)"
   ]
  },
  {
   "cell_type": "code",
   "execution_count": 17,
   "metadata": {},
   "outputs": [
    {
     "name": "stdout",
     "output_type": "stream",
     "text": [
      "['H:\\\\LOSS1\\\\EDR\\\\Downloaded Files\\\\1GDGG31V441903074A.CDRx', 'H:\\\\LOSS1\\\\EDR\\\\Downloaded Files\\\\1FDXE4FS3BDB02206_ACM.CDRx', 'H:\\\\LOSS1\\\\EDR\\\\Downloaded Files\\\\1GDY72CA9E1916994_ACM.CDRx', 'H:\\\\LOSS1\\\\EDR\\\\Downloaded Files\\\\1GTN1LEC6GZ900334_ACM.CDRx', 'H:\\\\LOSS1\\\\EDR\\\\Downloaded Files\\\\1FTNE2EW4DDA67716_ACM.CDRx', 'H:\\\\LOSS1\\\\EDR\\\\Downloaded Files\\\\1FTYR1ZM2GKA34167_ACM.CDRx', 'H:\\\\LOSS1\\\\EDR\\\\Downloaded Files\\\\1FTYR1ZM9KKB21198_ACM.CDRx', 'H:\\\\LOSS1\\\\EDR\\\\Downloaded Files\\\\1FDXE4FSXCDA06364_ACM.CDRx', 'H:\\\\LOSS1\\\\EDR\\\\Downloaded Files\\\\1FTNR1ZM1FKB19874_ACM.CDRx', 'H:\\\\LOSS1\\\\EDR\\\\Downloaded Files\\\\1GDY72CA0E1917581_ACM.CDRx', 'H:\\\\LOSS1\\\\EDR\\\\Downloaded Files\\\\1GDGG31V441903074.CDRx']\n"
     ]
    }
   ],
   "source": [
    "print(unaccompanied_cdrx_path_list[:11])"
   ]
  },
  {
   "cell_type": "code",
   "execution_count": null,
   "metadata": {},
   "outputs": [],
   "source": []
  }
 ],
 "metadata": {
  "kernelspec": {
   "display_name": "Python 3",
   "language": "python",
   "name": "python3"
  },
  "language_info": {
   "codemirror_mode": {
    "name": "ipython",
    "version": 3
   },
   "file_extension": ".py",
   "mimetype": "text/x-python",
   "name": "python",
   "nbconvert_exporter": "python",
   "pygments_lexer": "ipython3",
   "version": "3.11.3"
  },
  "orig_nbformat": 4
 },
 "nbformat": 4,
 "nbformat_minor": 2
}

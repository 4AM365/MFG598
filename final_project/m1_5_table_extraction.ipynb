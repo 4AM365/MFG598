{
 "cells": [
  {
   "cell_type": "code",
   "execution_count": 10,
   "metadata": {},
   "outputs": [],
   "source": [
    "import pandas as pd\n",
    "import regex as re"
   ]
  },
  {
   "cell_type": "code",
   "execution_count": 3,
   "metadata": {},
   "outputs": [],
   "source": [
    "table_dataframe = pd.read_pickle('table_dataframe_with_keys.pkl')"
   ]
  },
  {
   "cell_type": "code",
   "execution_count": 4,
   "metadata": {},
   "outputs": [
    {
     "data": {
      "text/html": [
       "<div>\n",
       "<style scoped>\n",
       "    .dataframe tbody tr th:only-of-type {\n",
       "        vertical-align: middle;\n",
       "    }\n",
       "\n",
       "    .dataframe tbody tr th {\n",
       "        vertical-align: top;\n",
       "    }\n",
       "\n",
       "    .dataframe thead th {\n",
       "        text-align: right;\n",
       "    }\n",
       "</style>\n",
       "<table border=\"1\" class=\"dataframe\">\n",
       "  <thead>\n",
       "    <tr style=\"text-align: right;\">\n",
       "      <th></th>\n",
       "      <th>Complete Records</th>\n",
       "      <th>Complete Records String</th>\n",
       "      <th>VIN</th>\n",
       "      <th>User</th>\n",
       "      <th>Case Number</th>\n",
       "      <th>EDR Data Imaging Date</th>\n",
       "      <th>Filename</th>\n",
       "      <th>Saved On</th>\n",
       "      <th>Imaged with CDR Version:</th>\n",
       "      <th>Reported with CDR Version:</th>\n",
       "    </tr>\n",
       "  </thead>\n",
       "  <tbody>\n",
       "    <tr>\n",
       "      <th>0</th>\n",
       "      <td>Complet...</td>\n",
       "      <td>...</td>\n",
       "      <td>1FDXE45S29DA10452</td>\n",
       "      <td>M.  Mikhailov</td>\n",
       "      <td>01371524-2019</td>\n",
       "      <td>02/20/2019</td>\n",
       "      <td>None</td>\n",
       "      <td>None</td>\n",
       "      <td>Crash Data Retrieval Tool 17.10</td>\n",
       "      <td>Crash Data Retrieval Tool 21.5</td>\n",
       "    </tr>\n",
       "    <tr>\n",
       "      <th>1</th>\n",
       "      <td>Complete...</td>\n",
       "      <td>...</td>\n",
       "      <td>1FDXE4FS3BDB02206</td>\n",
       "      <td>SP</td>\n",
       "      <td>1047504-2018</td>\n",
       "      <td>08/01/2018</td>\n",
       "      <td>None</td>\n",
       "      <td>None</td>\n",
       "      <td>Crash Data Retrieval Tool 17.8</td>\n",
       "      <td>Crash Data Retrieval Tool 21.5</td>\n",
       "    </tr>\n",
       "    <tr>\n",
       "      <th>2</th>\n",
       "      <td>Complet...</td>\n",
       "      <td>...</td>\n",
       "      <td>1FDXE4FS4BDA50634</td>\n",
       "      <td>M.  Mikhailov</td>\n",
       "      <td>02596301-2022</td>\n",
       "      <td>04/29/2022</td>\n",
       "      <td>None</td>\n",
       "      <td>Friday, April 29 2022 at 13:07:54</td>\n",
       "      <td>Crash Data Retrieval Tool 21.4</td>\n",
       "      <td>Crash Data Retrieval Tool 21.5</td>\n",
       "    </tr>\n",
       "    <tr>\n",
       "      <th>3</th>\n",
       "      <td>Complete...</td>\n",
       "      <td>...</td>\n",
       "      <td>1FDXE4FS5BDA96599</td>\n",
       "      <td>DENIS SHARSHUNSKIY</td>\n",
       "      <td>00871457</td>\n",
       "      <td>08/12/2017</td>\n",
       "      <td>None</td>\n",
       "      <td>None</td>\n",
       "      <td>Crash Data Retrieval Tool 17.3</td>\n",
       "      <td>Crash Data Retrieval Tool 21.5</td>\n",
       "    </tr>\n",
       "    <tr>\n",
       "      <th>4</th>\n",
       "      <td>Complet...</td>\n",
       "      <td>...</td>\n",
       "      <td>1FDXE4FSXCDA06364</td>\n",
       "      <td>SP</td>\n",
       "      <td>866715-2017</td>\n",
       "      <td>08/07/2017</td>\n",
       "      <td>None</td>\n",
       "      <td>Monday, August 7 2017 at 12:13:58</td>\n",
       "      <td>Crash Data Retrieval Tool 17.4</td>\n",
       "      <td>Crash Data Retrieval Tool 23.0</td>\n",
       "    </tr>\n",
       "  </tbody>\n",
       "</table>\n",
       "</div>"
      ],
      "text/plain": [
       "                                    Complete Records  \\\n",
       "0                                         Complet...   \n",
       "1                                        Complete...   \n",
       "2                                         Complet...   \n",
       "3                                        Complete...   \n",
       "4                                         Complet...   \n",
       "\n",
       "                             Complete Records String                VIN  \\\n",
       "0                                                ...  1FDXE45S29DA10452   \n",
       "1                                                ...  1FDXE4FS3BDB02206   \n",
       "2                                                ...  1FDXE4FS4BDA50634   \n",
       "3                                                ...  1FDXE4FS5BDA96599   \n",
       "4                                                ...  1FDXE4FSXCDA06364   \n",
       "\n",
       "                 User    Case Number EDR Data Imaging Date Filename  \\\n",
       "0       M.  Mikhailov  01371524-2019            02/20/2019     None   \n",
       "1                  SP   1047504-2018            08/01/2018     None   \n",
       "2       M.  Mikhailov  02596301-2022            04/29/2022     None   \n",
       "3  DENIS SHARSHUNSKIY       00871457            08/12/2017     None   \n",
       "4                  SP    866715-2017            08/07/2017     None   \n",
       "\n",
       "                            Saved On         Imaged with CDR Version:  \\\n",
       "0                               None  Crash Data Retrieval Tool 17.10   \n",
       "1                               None   Crash Data Retrieval Tool 17.8   \n",
       "2  Friday, April 29 2022 at 13:07:54   Crash Data Retrieval Tool 21.4   \n",
       "3                               None   Crash Data Retrieval Tool 17.3   \n",
       "4  Monday, August 7 2017 at 12:13:58   Crash Data Retrieval Tool 17.4   \n",
       "\n",
       "       Reported with CDR Version:  \n",
       "0  Crash Data Retrieval Tool 21.5  \n",
       "1  Crash Data Retrieval Tool 21.5  \n",
       "2  Crash Data Retrieval Tool 21.5  \n",
       "3  Crash Data Retrieval Tool 21.5  \n",
       "4  Crash Data Retrieval Tool 23.0  "
      ]
     },
     "execution_count": 4,
     "metadata": {},
     "output_type": "execute_result"
    }
   ],
   "source": [
    "table_dataframe.head()"
   ]
  },
  {
   "cell_type": "code",
   "execution_count": 6,
   "metadata": {},
   "outputs": [],
   "source": [
    "eda_cell = table_dataframe['Complete Records'][24]"
   ]
  },
  {
   "attachments": {},
   "cell_type": "markdown",
   "metadata": {},
   "source": [
    "Based on table format in eda_cell:\n",
    "\n",
    "Need to extract headers by inspecting lines 7-9 for this particular data type. Other formats/vehicles have different headers.\n",
    "\n",
    "We can characterize this by looking at a broad cross-section of vehicles. This does create a code maintenance requirement which would be best to avoid.\n",
    "\n",
    "Upon CSV export, Bosch CDR obfuscates data limitations such that the table begins immediately after the key data.\n",
    "\n",
    "A defining characteristic of the header section is more than 2 text elements delimited by commas and NO digits.\n",
    "\n",
    "Following data has more than 2 comma delimited elements and is MOSTLY digits."
   ]
  },
  {
   "attachments": {},
   "cell_type": "markdown",
   "metadata": {},
   "source": [
    "Here is an example of a header section: \n",
    "\n",
    "\"\",,Accel use,,,Request,,Wheel,Wheel,Wheel,Wheel,,,\n",
    "\"\",,and,,,for total,,Speed,Speed,Speed,Speed,,,\n",
    "Time,Vehicle,throttle,Service,,brake,,Sensor,Sensor,Sensor,Sensor,,Trans,\n",
    "to,Speed,position,Brake,ABS,torque,Cruise,LF,RF,LR,RR,Engine,Shift,Seat Belt use\n",
    "event,MPH,%,use,activity,Nm,control,Rad/s,Rad/s,Rad/s,Rad/s,RPM,Position,(Driver)\n",
    "event,MPH,%,use,activity,Nm,control,Rad/s,Rad/s,Rad/s,Rad/s,RPM,Position,(Driver)\n",
    "\n",
    "A conditional must be added to eliminate the last line duplicate."
   ]
  },
  {
   "cell_type": "code",
   "execution_count": 9,
   "metadata": {},
   "outputs": [],
   "source": [
    "eda_cell_two = table_dataframe['Complete Records'][16]"
   ]
  },
  {
   "attachments": {},
   "cell_type": "markdown",
   "metadata": {},
   "source": [
    "First, let's check to see if tables are present. Several data points exist to indicate this.\n",
    "\n",
    "Let's scan the entire record and create a flag value that indicates what data we need to explore to identify tables."
   ]
  },
  {
   "cell_type": "code",
   "execution_count": null,
   "metadata": {},
   "outputs": [],
   "source": [
    "detected_records_pattern = re.compile(r\"((?:Mon|Tue|Wed|Thu|Fri|Sat|Sun)day, .+? at \\d{1,2}:\\d{2}:\\d{2})\")\n",
    "\n",
    "table_dataframe['Saved On'] = table_dataframe['Complete Records String'].apply(lambda x: detected_records_pattern.search(x).group() if detected_records_pattern.search(x) else None)\n",
    "\n",
    "table_dataframe.head()"
   ]
  },
  {
   "cell_type": "code",
   "execution_count": null,
   "metadata": {},
   "outputs": [],
   "source": []
  }
 ],
 "metadata": {
  "kernelspec": {
   "display_name": "base",
   "language": "python",
   "name": "python3"
  },
  "language_info": {
   "codemirror_mode": {
    "name": "ipython",
    "version": 3
   },
   "file_extension": ".py",
   "mimetype": "text/x-python",
   "name": "python",
   "nbconvert_exporter": "python",
   "pygments_lexer": "ipython3",
   "version": "3.9.12"
  },
  "orig_nbformat": 4
 },
 "nbformat": 4,
 "nbformat_minor": 2
}

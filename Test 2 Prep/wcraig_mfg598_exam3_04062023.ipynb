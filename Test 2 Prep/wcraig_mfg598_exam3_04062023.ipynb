{
 "cells": [
  {
   "attachments": {},
   "cell_type": "markdown",
   "metadata": {},
   "source": [
    "William Craig\n",
    "\n",
    "MFG 598\n",
    "\n",
    "Exam 3\n",
    "\n",
    "April 6, 2023"
   ]
  },
  {
   "attachments": {},
   "cell_type": "markdown",
   "metadata": {},
   "source": []
  },
  {
   "cell_type": "code",
   "execution_count": null,
   "metadata": {},
   "outputs": [],
   "source": [
    "import numpy as np\n",
    "\n",
    "#Starting with blank matrix. Could use matrix of ones,\n",
    "    #but it would be more work to change all the border edges to 0 individually.\n",
    "border_matrix = np.ones((10,10))\n",
    "\n",
    "#Using a slicing operator here on [rows, columns]\n",
    "#'starts at 1 (not the edge), ends '1' away from the edge.\n",
    "border_matrix[1:-1, 1:-1] = 1\n",
    "\n",
    "print(border_matrix)"
   ]
  },
  {
   "cell_type": "code",
   "execution_count": null,
   "metadata": {},
   "outputs": [],
   "source": [
    "#I started by assuming we want integers, but 0.6 implies a uniform distribution of floats.\n",
    "# random_int_mat = np.random.randint(-1, 1, size = (8, 6))\n",
    "random_mat = np.random.uniform(-1, 1, size = (8,6))\n",
    "\n",
    "#Used np.where inspired by homework 5 solutions.\n",
    "positive_mat = np.where(random_mat < 0, -random_mat, random_mat)\n",
    "\n",
    "#Uses indexing to look at each row of the matrix\n",
    "#trying to find smallest absolute value difference, then taking the argmin of all the abs values.\n",
    "#axis = 1 constrains to horizontal.\n",
    "#arange creates 1D array, so good place to start.\n",
    "eight_by_one = positive_mat[np.arange(len(positive_mat)), abs(positive_mat - 0.6).argmin(axis=1)]\n",
    "\n",
    "\n",
    "\n",
    "print(f\"{random_mat}\\n\")\n",
    "print(f\"{positive_mat}\\n\")\n",
    "print(f\"{eight_by_one}\\n\")"
   ]
  },
  {
   "cell_type": "code",
   "execution_count": null,
   "metadata": {},
   "outputs": [],
   "source": [
    "import zipfile\n",
    "import os\n",
    "import pandas as pd\n",
    "\n",
    "#opening with zipfile, not sure if required.\n",
    "json_dataframe = pd.DataFrame(columns = ['filename', 'abstract', 'identifier', 'publicationDate'])\n",
    "with zipfile.ZipFile('Exam2-Abstracts_Collection-1.zip') as zip_file:\n",
    "    file_names = zip_file.namelist()\n",
    "\n",
    "#A bit messy to include the file names with the folder names, \n",
    "#but the added overhead is minimal.\n",
    "    for filename in file_names:\n",
    "        if os.path.isdir(filename):\n",
    "            file_names.append(filename)\n",
    "            continue\n",
    "\n",
    "    # print(file_names)\n",
    "\n",
    "    for item in file_names:\n",
    "        if item.endswith('.json'):\n",
    "            with zip_file.open(item) as json_file:\n",
    "                #got an error here. Realized I need the json_file instead of item for pd.read_json\n",
    "                # json_data = pd.read_json(item)\n",
    "                json_data = pd.read_json(json_file)\n",
    "                data = pd.json_normalize(json_data)\n",
    "                # print(data)\n",
    "                #Need double brackets to select multiple columns! Messed this up initially.\n",
    "                json_dataframe.append(data[['filename', 'abstract', 'identifier', 'publicationDate']])\n",
    "\n",
    "all_json_data = pd.concat(json_dataframe, ignore_index = True)\n",
    "\n"
   ]
  },
  {
   "cell_type": "code",
   "execution_count": null,
   "metadata": {},
   "outputs": [],
   "source": []
  },
  {
   "cell_type": "code",
   "execution_count": null,
   "metadata": {},
   "outputs": [],
   "source": [
    "import numpy as np\n",
    "#Almost forgot to specify pyplot here!\n",
    "import matplotlib.pyplot as plt\n",
    "#Specified number of intervals implies linspace.\n",
    "x = np.linspace(0,10,5000)\n",
    "#Defining function:\n",
    "y = np.exp(-x/8) * np.cos(x)\n",
    "\n",
    "ym = np.percentile(y, 60)\n",
    "\n",
    "print(f\"ym = {ym}\")\n",
    "\n",
    "derivative = np.gradient(y, x)\n",
    "\n",
    "# Plot dy/dx vs x\n",
    "plt.plot(x, derivative)\n",
    "plt.xlabel('x')\n",
    "plt.ylabel('dy/dx')\n",
    "plt.show()\n",
    "\n"
   ]
  },
  {
   "cell_type": "code",
   "execution_count": null,
   "metadata": {},
   "outputs": [],
   "source": [
    "import numpy as np\n",
    "import pandas as pd\n",
    "\n",
    "gradesDF = pd.read_csv('grades2-1.csv')\n",
    "\n",
    "#This did not work as the value appears to be a hyphen and not NaN\n",
    "# gradesDF.fillna(0)\n",
    "print(gradesDF.head())\n",
    "#Can you think of a more elegant way to do this?\n",
    "#This is all that came to mind.\n",
    "gradesDF['Exam1-1'] = gradesDF['Exam1-1'].str.replace('-', '0')\n",
    "gradesDF['Exam1-2'] = gradesDF['Exam1-2'].str.replace('-', '0')\n",
    "gradesDF['Exam1-3'] = gradesDF['Exam1-3'].str.replace('-', '0')\n",
    "print(gradesDF.head())\n",
    "\n",
    "#double brackets to add multiple columns. Will then pass arguments in.\n",
    "gradesDF[['Average Score', 'Improvement Ratio']] = 0,0\n",
    "\n",
    "print(gradesDF.head())\n",
    "\n",
    "gradesDF['Average Score'] = gradesDF.mean(axis=1)\n",
    "print(gradesDF.head())\n",
    "\n",
    "def calculate_improvement_ratio(row):\n",
    "    exam1_1 = row['Exam1-1']\n",
    "    exam1_2 = row['Exam1-2']\n",
    "    improvement = (exam1_2 - exam1_1) / exam1_1 * 100\n",
    "    return improvement\n",
    "\n",
    "gradesDF['Improvement Ratio'] = gradesDF.apply(calculate_improvement_ratio, axis=1)\n",
    "\n",
    "print(gradesDF.head())"
   ]
  }
 ],
 "metadata": {
  "kernelspec": {
   "display_name": "base",
   "language": "python",
   "name": "python3"
  },
  "language_info": {
   "codemirror_mode": {
    "name": "ipython",
    "version": 3
   },
   "file_extension": ".py",
   "mimetype": "text/x-python",
   "name": "python",
   "nbconvert_exporter": "python",
   "pygments_lexer": "ipython3",
   "version": "3.9.12"
  },
  "orig_nbformat": 4,
  "vscode": {
   "interpreter": {
    "hash": "504af9dbaeab241701b42e0a4a2f2792546a36888d7345416987d6285d9bc5c8"
   }
  }
 },
 "nbformat": 4,
 "nbformat_minor": 2
}

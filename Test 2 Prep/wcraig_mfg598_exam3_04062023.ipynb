{
 "cells": [
  {
   "attachments": {},
   "cell_type": "markdown",
   "metadata": {},
   "source": [
    "William Craig\n",
    "\n",
    "MFG 598\n",
    "\n",
    "Exam 3\n",
    "\n",
    "April 6, 2023"
   ]
  },
  {
   "attachments": {},
   "cell_type": "markdown",
   "metadata": {},
   "source": []
  },
  {
   "cell_type": "code",
   "execution_count": 6,
   "metadata": {},
   "outputs": [
    {
     "name": "stdout",
     "output_type": "stream",
     "text": [
      "[[0. 0. 0. 0. 0. 0. 0. 0. 0. 0.]\n",
      " [0. 1. 1. 1. 1. 1. 1. 1. 1. 0.]\n",
      " [0. 1. 1. 1. 1. 1. 1. 1. 1. 0.]\n",
      " [0. 1. 1. 1. 1. 1. 1. 1. 1. 0.]\n",
      " [0. 1. 1. 1. 1. 1. 1. 1. 1. 0.]\n",
      " [0. 1. 1. 1. 1. 1. 1. 1. 1. 0.]\n",
      " [0. 1. 1. 1. 1. 1. 1. 1. 1. 0.]\n",
      " [0. 1. 1. 1. 1. 1. 1. 1. 1. 0.]\n",
      " [0. 1. 1. 1. 1. 1. 1. 1. 1. 0.]\n",
      " [0. 0. 0. 0. 0. 0. 0. 0. 0. 0.]]\n"
     ]
    }
   ],
   "source": [
    "import numpy as np\n",
    "\n",
    "#Starting with blank matrix. Could use matrix of ones,\n",
    "    #but it would be more work to change all the border edges to 0 individually.\n",
    "border_matrix = np.ones((10,10))\n",
    "\n",
    "#Using a slicing operator here on [rows, columns]\n",
    "#'starts at 1 (not the edge), ends '1' away from the edge.\n",
    "border_matrix[1:-1, 1:-1] = 1\n",
    "\n",
    "print(border_matrix)"
   ]
  },
  {
   "cell_type": "code",
   "execution_count": 18,
   "metadata": {},
   "outputs": [
    {
     "name": "stdout",
     "output_type": "stream",
     "text": [
      "[[-0.72010598  0.13803007 -0.63407124 -0.80304916  0.25354055  0.1308448 ]\n",
      " [ 0.45538139 -0.59515162 -0.45110428 -0.0620063   0.47326981  0.89136983]\n",
      " [ 0.05395029 -0.23821694 -0.17509293  0.58169272 -0.2733631  -0.54518521]\n",
      " [ 0.36683761 -0.99561887 -0.36345298  0.4007951   0.53947868 -0.60633646]\n",
      " [ 0.1667545   0.18379226 -0.55258523  0.76849791 -0.87859238  0.45179751]\n",
      " [-0.63690046  0.90861416 -0.28717471  0.84264187 -0.43595774  0.23399608]\n",
      " [-0.81717313 -0.24095839 -0.03910604  0.9046029   0.38632018  0.66916803]\n",
      " [ 0.30124468  0.03513581 -0.72447601  0.3514095  -0.87526503  0.66674562]]\n",
      "\n",
      "[[0.72010598 0.13803007 0.63407124 0.80304916 0.25354055 0.1308448 ]\n",
      " [0.45538139 0.59515162 0.45110428 0.0620063  0.47326981 0.89136983]\n",
      " [0.05395029 0.23821694 0.17509293 0.58169272 0.2733631  0.54518521]\n",
      " [0.36683761 0.99561887 0.36345298 0.4007951  0.53947868 0.60633646]\n",
      " [0.1667545  0.18379226 0.55258523 0.76849791 0.87859238 0.45179751]\n",
      " [0.63690046 0.90861416 0.28717471 0.84264187 0.43595774 0.23399608]\n",
      " [0.81717313 0.24095839 0.03910604 0.9046029  0.38632018 0.66916803]\n",
      " [0.30124468 0.03513581 0.72447601 0.3514095  0.87526503 0.66674562]]\n",
      "\n",
      "[0.63407124 0.59515162 0.58169272 0.60633646 0.55258523 0.63690046\n",
      " 0.66916803 0.66674562]\n",
      "\n"
     ]
    }
   ],
   "source": [
    "#I started by assuming we want integers, but 0.6 implies a uniform distribution of floats.\n",
    "# random_int_mat = np.random.randint(-1, 1, size = (8, 6))\n",
    "random_mat = np.random.uniform(-1, 1, size = (8,6))\n",
    "\n",
    "#Used np.where inspired by homework 5 solutions.\n",
    "positive_mat = np.where(random_mat < 0, -random_mat, random_mat)\n",
    "\n",
    "#Uses indexing to look at each row of the matrix\n",
    "#trying to find smallest absolute value difference, then taking the argmin of all the abs values.\n",
    "#axis = 1 constrains to horizontal.\n",
    "#arange creates 1D array, so good place to start.\n",
    "eight_by_one = positive_mat[np.arange(len(positive_mat)), abs(positive_mat - 0.6).argmin(axis=1)]\n",
    "\n",
    "\n",
    "\n",
    "print(f\"{random_mat}\\n\")\n",
    "print(f\"{positive_mat}\\n\")\n",
    "print(f\"{eight_by_one}\\n\")"
   ]
  },
  {
   "cell_type": "code",
   "execution_count": 36,
   "metadata": {},
   "outputs": [
    {
     "ename": "ValueError",
     "evalue": "All arrays must be of the same length",
     "output_type": "error",
     "traceback": [
      "\u001b[1;31m---------------------------------------------------------------------------\u001b[0m",
      "\u001b[1;31mValueError\u001b[0m                                Traceback (most recent call last)",
      "\u001b[1;32mc:\\Code\\MFG598\\Test 2 Prep\\wcraig_mfg598_exam3_04062023.ipynb Cell 5\u001b[0m in \u001b[0;36m<cell line: 7>\u001b[1;34m()\u001b[0m\n\u001b[0;32m     <a href='vscode-notebook-cell:/c%3A/Code/MFG598/Test%202%20Prep/wcraig_mfg598_exam3_04062023.ipynb#W5sZmlsZQ%3D%3D?line=19'>20</a>\u001b[0m \u001b[39mif\u001b[39;00m item\u001b[39m.\u001b[39mendswith(\u001b[39m'\u001b[39m\u001b[39m.json\u001b[39m\u001b[39m'\u001b[39m):\n\u001b[0;32m     <a href='vscode-notebook-cell:/c%3A/Code/MFG598/Test%202%20Prep/wcraig_mfg598_exam3_04062023.ipynb#W5sZmlsZQ%3D%3D?line=20'>21</a>\u001b[0m     \u001b[39mwith\u001b[39;00m zip_file\u001b[39m.\u001b[39mopen(item) \u001b[39mas\u001b[39;00m json_file:\n\u001b[0;32m     <a href='vscode-notebook-cell:/c%3A/Code/MFG598/Test%202%20Prep/wcraig_mfg598_exam3_04062023.ipynb#W5sZmlsZQ%3D%3D?line=21'>22</a>\u001b[0m         \u001b[39m#got an error here. Realized I need the json_file instead of item for pd.read_json\u001b[39;00m\n\u001b[0;32m     <a href='vscode-notebook-cell:/c%3A/Code/MFG598/Test%202%20Prep/wcraig_mfg598_exam3_04062023.ipynb#W5sZmlsZQ%3D%3D?line=22'>23</a>\u001b[0m         \u001b[39m# json_data = pd.read_json(item)\u001b[39;00m\n\u001b[1;32m---> <a href='vscode-notebook-cell:/c%3A/Code/MFG598/Test%202%20Prep/wcraig_mfg598_exam3_04062023.ipynb#W5sZmlsZQ%3D%3D?line=23'>24</a>\u001b[0m         json_data \u001b[39m=\u001b[39m pd\u001b[39m.\u001b[39;49mread_json(json_file)\n\u001b[0;32m     <a href='vscode-notebook-cell:/c%3A/Code/MFG598/Test%202%20Prep/wcraig_mfg598_exam3_04062023.ipynb#W5sZmlsZQ%3D%3D?line=24'>25</a>\u001b[0m         data \u001b[39m=\u001b[39m pd\u001b[39m.\u001b[39mjson_normalize(json_data)\n\u001b[0;32m     <a href='vscode-notebook-cell:/c%3A/Code/MFG598/Test%202%20Prep/wcraig_mfg598_exam3_04062023.ipynb#W5sZmlsZQ%3D%3D?line=25'>26</a>\u001b[0m         \u001b[39m# print(data)\u001b[39;00m\n\u001b[0;32m     <a href='vscode-notebook-cell:/c%3A/Code/MFG598/Test%202%20Prep/wcraig_mfg598_exam3_04062023.ipynb#W5sZmlsZQ%3D%3D?line=26'>27</a>\u001b[0m         \u001b[39m#Need double brackets to select multiple columns! Messed this up initially.\u001b[39;00m\n",
      "File \u001b[1;32mc:\\Users\\WTCra\\anaconda3\\lib\\site-packages\\pandas\\util\\_decorators.py:207\u001b[0m, in \u001b[0;36mdeprecate_kwarg.<locals>._deprecate_kwarg.<locals>.wrapper\u001b[1;34m(*args, **kwargs)\u001b[0m\n\u001b[0;32m    205\u001b[0m     \u001b[39melse\u001b[39;00m:\n\u001b[0;32m    206\u001b[0m         kwargs[new_arg_name] \u001b[39m=\u001b[39m new_arg_value\n\u001b[1;32m--> 207\u001b[0m \u001b[39mreturn\u001b[39;00m func(\u001b[39m*\u001b[39margs, \u001b[39m*\u001b[39m\u001b[39m*\u001b[39mkwargs)\n",
      "File \u001b[1;32mc:\\Users\\WTCra\\anaconda3\\lib\\site-packages\\pandas\\util\\_decorators.py:311\u001b[0m, in \u001b[0;36mdeprecate_nonkeyword_arguments.<locals>.decorate.<locals>.wrapper\u001b[1;34m(*args, **kwargs)\u001b[0m\n\u001b[0;32m    305\u001b[0m \u001b[39mif\u001b[39;00m \u001b[39mlen\u001b[39m(args) \u001b[39m>\u001b[39m num_allow_args:\n\u001b[0;32m    306\u001b[0m     warnings\u001b[39m.\u001b[39mwarn(\n\u001b[0;32m    307\u001b[0m         msg\u001b[39m.\u001b[39mformat(arguments\u001b[39m=\u001b[39marguments),\n\u001b[0;32m    308\u001b[0m         \u001b[39mFutureWarning\u001b[39;00m,\n\u001b[0;32m    309\u001b[0m         stacklevel\u001b[39m=\u001b[39mstacklevel,\n\u001b[0;32m    310\u001b[0m     )\n\u001b[1;32m--> 311\u001b[0m \u001b[39mreturn\u001b[39;00m func(\u001b[39m*\u001b[39margs, \u001b[39m*\u001b[39m\u001b[39m*\u001b[39mkwargs)\n",
      "File \u001b[1;32mc:\\Users\\WTCra\\anaconda3\\lib\\site-packages\\pandas\\io\\json\\_json.py:612\u001b[0m, in \u001b[0;36mread_json\u001b[1;34m(path_or_buf, orient, typ, dtype, convert_axes, convert_dates, keep_default_dates, numpy, precise_float, date_unit, encoding, encoding_errors, lines, chunksize, compression, nrows, storage_options)\u001b[0m\n\u001b[0;32m    609\u001b[0m     \u001b[39mreturn\u001b[39;00m json_reader\n\u001b[0;32m    611\u001b[0m \u001b[39mwith\u001b[39;00m json_reader:\n\u001b[1;32m--> 612\u001b[0m     \u001b[39mreturn\u001b[39;00m json_reader\u001b[39m.\u001b[39;49mread()\n",
      "File \u001b[1;32mc:\\Users\\WTCra\\anaconda3\\lib\\site-packages\\pandas\\io\\json\\_json.py:746\u001b[0m, in \u001b[0;36mJsonReader.read\u001b[1;34m(self)\u001b[0m\n\u001b[0;32m    744\u001b[0m         obj \u001b[39m=\u001b[39m \u001b[39mself\u001b[39m\u001b[39m.\u001b[39m_get_object_parser(\u001b[39mself\u001b[39m\u001b[39m.\u001b[39m_combine_lines(data_lines))\n\u001b[0;32m    745\u001b[0m \u001b[39melse\u001b[39;00m:\n\u001b[1;32m--> 746\u001b[0m     obj \u001b[39m=\u001b[39m \u001b[39mself\u001b[39;49m\u001b[39m.\u001b[39;49m_get_object_parser(\u001b[39mself\u001b[39;49m\u001b[39m.\u001b[39;49mdata)\n\u001b[0;32m    747\u001b[0m \u001b[39mself\u001b[39m\u001b[39m.\u001b[39mclose()\n\u001b[0;32m    748\u001b[0m \u001b[39mreturn\u001b[39;00m obj\n",
      "File \u001b[1;32mc:\\Users\\WTCra\\anaconda3\\lib\\site-packages\\pandas\\io\\json\\_json.py:768\u001b[0m, in \u001b[0;36mJsonReader._get_object_parser\u001b[1;34m(self, json)\u001b[0m\n\u001b[0;32m    766\u001b[0m obj \u001b[39m=\u001b[39m \u001b[39mNone\u001b[39;00m\n\u001b[0;32m    767\u001b[0m \u001b[39mif\u001b[39;00m typ \u001b[39m==\u001b[39m \u001b[39m\"\u001b[39m\u001b[39mframe\u001b[39m\u001b[39m\"\u001b[39m:\n\u001b[1;32m--> 768\u001b[0m     obj \u001b[39m=\u001b[39m FrameParser(json, \u001b[39m*\u001b[39;49m\u001b[39m*\u001b[39;49mkwargs)\u001b[39m.\u001b[39;49mparse()\n\u001b[0;32m    770\u001b[0m \u001b[39mif\u001b[39;00m typ \u001b[39m==\u001b[39m \u001b[39m\"\u001b[39m\u001b[39mseries\u001b[39m\u001b[39m\"\u001b[39m \u001b[39mor\u001b[39;00m obj \u001b[39mis\u001b[39;00m \u001b[39mNone\u001b[39;00m:\n\u001b[0;32m    771\u001b[0m     \u001b[39mif\u001b[39;00m \u001b[39mnot\u001b[39;00m \u001b[39misinstance\u001b[39m(dtype, \u001b[39mbool\u001b[39m):\n",
      "File \u001b[1;32mc:\\Users\\WTCra\\anaconda3\\lib\\site-packages\\pandas\\io\\json\\_json.py:880\u001b[0m, in \u001b[0;36mParser.parse\u001b[1;34m(self)\u001b[0m\n\u001b[0;32m    878\u001b[0m     \u001b[39mself\u001b[39m\u001b[39m.\u001b[39m_parse_numpy()\n\u001b[0;32m    879\u001b[0m \u001b[39melse\u001b[39;00m:\n\u001b[1;32m--> 880\u001b[0m     \u001b[39mself\u001b[39;49m\u001b[39m.\u001b[39;49m_parse_no_numpy()\n\u001b[0;32m    882\u001b[0m \u001b[39mif\u001b[39;00m \u001b[39mself\u001b[39m\u001b[39m.\u001b[39mobj \u001b[39mis\u001b[39;00m \u001b[39mNone\u001b[39;00m:\n\u001b[0;32m    883\u001b[0m     \u001b[39mreturn\u001b[39;00m \u001b[39mNone\u001b[39;00m\n",
      "File \u001b[1;32mc:\\Users\\WTCra\\anaconda3\\lib\\site-packages\\pandas\\io\\json\\_json.py:1132\u001b[0m, in \u001b[0;36mFrameParser._parse_no_numpy\u001b[1;34m(self)\u001b[0m\n\u001b[0;32m   1129\u001b[0m orient \u001b[39m=\u001b[39m \u001b[39mself\u001b[39m\u001b[39m.\u001b[39morient\n\u001b[0;32m   1131\u001b[0m \u001b[39mif\u001b[39;00m orient \u001b[39m==\u001b[39m \u001b[39m\"\u001b[39m\u001b[39mcolumns\u001b[39m\u001b[39m\"\u001b[39m:\n\u001b[1;32m-> 1132\u001b[0m     \u001b[39mself\u001b[39m\u001b[39m.\u001b[39mobj \u001b[39m=\u001b[39m DataFrame(\n\u001b[0;32m   1133\u001b[0m         loads(json, precise_float\u001b[39m=\u001b[39;49m\u001b[39mself\u001b[39;49m\u001b[39m.\u001b[39;49mprecise_float), dtype\u001b[39m=\u001b[39;49m\u001b[39mNone\u001b[39;49;00m\n\u001b[0;32m   1134\u001b[0m     )\n\u001b[0;32m   1135\u001b[0m \u001b[39melif\u001b[39;00m orient \u001b[39m==\u001b[39m \u001b[39m\"\u001b[39m\u001b[39msplit\u001b[39m\u001b[39m\"\u001b[39m:\n\u001b[0;32m   1136\u001b[0m     decoded \u001b[39m=\u001b[39m {\n\u001b[0;32m   1137\u001b[0m         \u001b[39mstr\u001b[39m(k): v\n\u001b[0;32m   1138\u001b[0m         \u001b[39mfor\u001b[39;00m k, v \u001b[39min\u001b[39;00m loads(json, precise_float\u001b[39m=\u001b[39m\u001b[39mself\u001b[39m\u001b[39m.\u001b[39mprecise_float)\u001b[39m.\u001b[39mitems()\n\u001b[0;32m   1139\u001b[0m     }\n",
      "File \u001b[1;32mc:\\Users\\WTCra\\anaconda3\\lib\\site-packages\\pandas\\core\\frame.py:636\u001b[0m, in \u001b[0;36mDataFrame.__init__\u001b[1;34m(self, data, index, columns, dtype, copy)\u001b[0m\n\u001b[0;32m    630\u001b[0m     mgr \u001b[39m=\u001b[39m \u001b[39mself\u001b[39m\u001b[39m.\u001b[39m_init_mgr(\n\u001b[0;32m    631\u001b[0m         data, axes\u001b[39m=\u001b[39m{\u001b[39m\"\u001b[39m\u001b[39mindex\u001b[39m\u001b[39m\"\u001b[39m: index, \u001b[39m\"\u001b[39m\u001b[39mcolumns\u001b[39m\u001b[39m\"\u001b[39m: columns}, dtype\u001b[39m=\u001b[39mdtype, copy\u001b[39m=\u001b[39mcopy\n\u001b[0;32m    632\u001b[0m     )\n\u001b[0;32m    634\u001b[0m \u001b[39melif\u001b[39;00m \u001b[39misinstance\u001b[39m(data, \u001b[39mdict\u001b[39m):\n\u001b[0;32m    635\u001b[0m     \u001b[39m# GH#38939 de facto copy defaults to False only in non-dict cases\u001b[39;00m\n\u001b[1;32m--> 636\u001b[0m     mgr \u001b[39m=\u001b[39m dict_to_mgr(data, index, columns, dtype\u001b[39m=\u001b[39;49mdtype, copy\u001b[39m=\u001b[39;49mcopy, typ\u001b[39m=\u001b[39;49mmanager)\n\u001b[0;32m    637\u001b[0m \u001b[39melif\u001b[39;00m \u001b[39misinstance\u001b[39m(data, ma\u001b[39m.\u001b[39mMaskedArray):\n\u001b[0;32m    638\u001b[0m     \u001b[39mimport\u001b[39;00m \u001b[39mnumpy\u001b[39;00m\u001b[39m.\u001b[39;00m\u001b[39mma\u001b[39;00m\u001b[39m.\u001b[39;00m\u001b[39mmrecords\u001b[39;00m \u001b[39mas\u001b[39;00m \u001b[39mmrecords\u001b[39;00m\n",
      "File \u001b[1;32mc:\\Users\\WTCra\\anaconda3\\lib\\site-packages\\pandas\\core\\internals\\construction.py:502\u001b[0m, in \u001b[0;36mdict_to_mgr\u001b[1;34m(data, index, columns, dtype, typ, copy)\u001b[0m\n\u001b[0;32m    494\u001b[0m     arrays \u001b[39m=\u001b[39m [\n\u001b[0;32m    495\u001b[0m         x\n\u001b[0;32m    496\u001b[0m         \u001b[39mif\u001b[39;00m \u001b[39mnot\u001b[39;00m \u001b[39mhasattr\u001b[39m(x, \u001b[39m\"\u001b[39m\u001b[39mdtype\u001b[39m\u001b[39m\"\u001b[39m) \u001b[39mor\u001b[39;00m \u001b[39mnot\u001b[39;00m \u001b[39misinstance\u001b[39m(x\u001b[39m.\u001b[39mdtype, ExtensionDtype)\n\u001b[0;32m    497\u001b[0m         \u001b[39melse\u001b[39;00m x\u001b[39m.\u001b[39mcopy()\n\u001b[0;32m    498\u001b[0m         \u001b[39mfor\u001b[39;00m x \u001b[39min\u001b[39;00m arrays\n\u001b[0;32m    499\u001b[0m     ]\n\u001b[0;32m    500\u001b[0m     \u001b[39m# TODO: can we get rid of the dt64tz special case above?\u001b[39;00m\n\u001b[1;32m--> 502\u001b[0m \u001b[39mreturn\u001b[39;00m arrays_to_mgr(arrays, columns, index, dtype\u001b[39m=\u001b[39;49mdtype, typ\u001b[39m=\u001b[39;49mtyp, consolidate\u001b[39m=\u001b[39;49mcopy)\n",
      "File \u001b[1;32mc:\\Users\\WTCra\\anaconda3\\lib\\site-packages\\pandas\\core\\internals\\construction.py:120\u001b[0m, in \u001b[0;36marrays_to_mgr\u001b[1;34m(arrays, columns, index, dtype, verify_integrity, typ, consolidate)\u001b[0m\n\u001b[0;32m    117\u001b[0m \u001b[39mif\u001b[39;00m verify_integrity:\n\u001b[0;32m    118\u001b[0m     \u001b[39m# figure out the index, if necessary\u001b[39;00m\n\u001b[0;32m    119\u001b[0m     \u001b[39mif\u001b[39;00m index \u001b[39mis\u001b[39;00m \u001b[39mNone\u001b[39;00m:\n\u001b[1;32m--> 120\u001b[0m         index \u001b[39m=\u001b[39m _extract_index(arrays)\n\u001b[0;32m    121\u001b[0m     \u001b[39melse\u001b[39;00m:\n\u001b[0;32m    122\u001b[0m         index \u001b[39m=\u001b[39m ensure_index(index)\n",
      "File \u001b[1;32mc:\\Users\\WTCra\\anaconda3\\lib\\site-packages\\pandas\\core\\internals\\construction.py:674\u001b[0m, in \u001b[0;36m_extract_index\u001b[1;34m(data)\u001b[0m\n\u001b[0;32m    672\u001b[0m lengths \u001b[39m=\u001b[39m \u001b[39mlist\u001b[39m(\u001b[39mset\u001b[39m(raw_lengths))\n\u001b[0;32m    673\u001b[0m \u001b[39mif\u001b[39;00m \u001b[39mlen\u001b[39m(lengths) \u001b[39m>\u001b[39m \u001b[39m1\u001b[39m:\n\u001b[1;32m--> 674\u001b[0m     \u001b[39mraise\u001b[39;00m \u001b[39mValueError\u001b[39;00m(\u001b[39m\"\u001b[39m\u001b[39mAll arrays must be of the same length\u001b[39m\u001b[39m\"\u001b[39m)\n\u001b[0;32m    676\u001b[0m \u001b[39mif\u001b[39;00m have_dicts:\n\u001b[0;32m    677\u001b[0m     \u001b[39mraise\u001b[39;00m \u001b[39mValueError\u001b[39;00m(\n\u001b[0;32m    678\u001b[0m         \u001b[39m\"\u001b[39m\u001b[39mMixing dicts with non-Series may lead to ambiguous ordering.\u001b[39m\u001b[39m\"\u001b[39m\n\u001b[0;32m    679\u001b[0m     )\n",
      "\u001b[1;31mValueError\u001b[0m: All arrays must be of the same length"
     ]
    }
   ],
   "source": [
    "import zipfile\n",
    "import os\n",
    "import pandas as pd\n",
    "\n",
    "#opening with zipfile, not sure if required.\n",
    "json_dataframe = pd.DataFrame(columns = ['filename', 'abstract', 'identifier', 'publicationDate'])\n",
    "with zipfile.ZipFile('Exam2-Abstracts_Collection-1.zip') as zip_file:\n",
    "    file_names = zip_file.namelist()\n",
    "\n",
    "#A bit messy to include the file names with the folder names, \n",
    "#but the added overhead is minimal.\n",
    "    for filename in file_names:\n",
    "        if os.path.isdir(filename):\n",
    "            file_names.append(filename)\n",
    "            continue\n",
    "\n",
    "    # print(file_names)\n",
    "\n",
    "    for item in file_names:\n",
    "        if item.endswith('.json'):\n",
    "            with zip_file.open(item) as json_file:\n",
    "                #got an error here. Realized I need the json_file instead of item for pd.read_json\n",
    "                # json_data = pd.read_json(item)\n",
    "                json_data = pd.read_json(json_file)\n",
    "                data = pd.json_normalize(json_data)\n",
    "                # print(data)\n",
    "                #Need double brackets to select multiple columns! Messed this up initially.\n",
    "                json_dataframe.append(data[['filename', 'abstract', 'identifier', 'publicationDate']])\n",
    "\n",
    "all_json_data = pd.concat(json_dataframe, ignore_index = True)\n",
    "\n"
   ]
  },
  {
   "cell_type": "code",
   "execution_count": null,
   "metadata": {},
   "outputs": [],
   "source": []
  },
  {
   "cell_type": "code",
   "execution_count": 71,
   "metadata": {},
   "outputs": [
    {
     "name": "stdout",
     "output_type": "stream",
     "text": [
      "ym = 0.1253719713981754\n"
     ]
    },
    {
     "data": {
      "image/png": "[encoded data removed]",
      "text/plain": [
       "<Figure size 432x288 with 1 Axes>"
      ]
     },
     "metadata": {
      "needs_background": "light"
     },
     "output_type": "display_data"
    }
   ],
   "source": [
    "import numpy as np\n",
    "#Almost forgot to specify pyplot here!\n",
    "import matplotlib.pyplot as plt\n",
    "#Specified number of intervals implies linspace.\n",
    "x = np.linspace(0,10,5000)\n",
    "#Defining function:\n",
    "y = np.exp(-x/8) * np.cos(x)\n",
    "\n",
    "ym = np.percentile(y, 60)\n",
    "\n",
    "print(f\"ym = {ym}\")\n",
    "\n",
    "derivative = np.gradient(y, x)\n",
    "\n",
    "# Plot dy/dx vs x\n",
    "plt.plot(x, derivative)\n",
    "plt.xlabel('x')\n",
    "plt.ylabel('dy/dx')\n",
    "plt.show()\n",
    "\n"
   ]
  },
  {
   "cell_type": "code",
   "execution_count": 90,
   "metadata": {},
   "outputs": [
    {
     "name": "stdout",
     "output_type": "stream",
     "text": [
      "   Student ID Exam1-1 Exam1-2 Exam1-3\n",
      "0         100     100      20     100\n",
      "1         101      36       -       -\n",
      "2         102      25      88       -\n",
      "3         103      20      65       -\n",
      "4         104      21       -       -\n",
      "   Student ID Exam1-1 Exam1-2 Exam1-3\n",
      "0         100     100      20     100\n",
      "1         101      36       0       0\n",
      "2         102      25      88       0\n",
      "3         103      20      65       0\n",
      "4         104      21       0       0\n",
      "   Student ID Exam1-1 Exam1-2 Exam1-3  Average Score  Improvement Ratio\n",
      "0         100     100      20     100              0                  0\n",
      "1         101      36       0       0              0                  0\n",
      "2         102      25      88       0              0                  0\n",
      "3         103      20      65       0              0                  0\n",
      "4         104      21       0       0              0                  0\n",
      "   Student ID Exam1-1 Exam1-2 Exam1-3  Average Score  Improvement Ratio\n",
      "0         100     100      20     100      33.333333                  0\n",
      "1         101      36       0       0      33.666667                  0\n",
      "2         102      25      88       0      34.000000                  0\n",
      "3         103      20      65       0      34.333333                  0\n",
      "4         104      21       0       0      34.666667                  0\n"
     ]
    },
    {
     "name": "stderr",
     "output_type": "stream",
     "text": [
      "C:\\Users\\WTCra\\AppData\\Local\\Temp\\ipykernel_1464\\1912637616.py:21: FutureWarning: Dropping of nuisance columns in DataFrame reductions (with 'numeric_only=None') is deprecated; in a future version this will raise TypeError.  Select only valid columns before calling the reduction.\n",
      "  gradesDF['Average Score'] = gradesDF.mean(axis=1)\n"
     ]
    },
    {
     "ename": "TypeError",
     "evalue": "unsupported operand type(s) for -: 'str' and 'str'",
     "output_type": "error",
     "traceback": [
      "\u001b[1;31m---------------------------------------------------------------------------\u001b[0m",
      "\u001b[1;31mTypeError\u001b[0m                                 Traceback (most recent call last)",
      "\u001b[1;32mc:\\Code\\MFG598\\Test 2 Prep\\wcraig_mfg598_exam3_04062023.ipynb Cell 8\u001b[0m in \u001b[0;36m<cell line: 30>\u001b[1;34m()\u001b[0m\n\u001b[0;32m     <a href='vscode-notebook-cell:/c%3A/Code/MFG598/Test%202%20Prep/wcraig_mfg598_exam3_04062023.ipynb#X13sZmlsZQ%3D%3D?line=26'>27</a>\u001b[0m     improvement \u001b[39m=\u001b[39m (exam1_2 \u001b[39m-\u001b[39m exam1_1) \u001b[39m/\u001b[39m exam1_1 \u001b[39m*\u001b[39m \u001b[39m100\u001b[39m\n\u001b[0;32m     <a href='vscode-notebook-cell:/c%3A/Code/MFG598/Test%202%20Prep/wcraig_mfg598_exam3_04062023.ipynb#X13sZmlsZQ%3D%3D?line=27'>28</a>\u001b[0m     \u001b[39mreturn\u001b[39;00m improvement\n\u001b[1;32m---> <a href='vscode-notebook-cell:/c%3A/Code/MFG598/Test%202%20Prep/wcraig_mfg598_exam3_04062023.ipynb#X13sZmlsZQ%3D%3D?line=29'>30</a>\u001b[0m gradesDF[\u001b[39m'\u001b[39m\u001b[39mImprovement Ratio\u001b[39m\u001b[39m'\u001b[39m] \u001b[39m=\u001b[39m gradesDF\u001b[39m.\u001b[39;49mapply(calculate_improvement_ratio, axis\u001b[39m=\u001b[39;49m\u001b[39m1\u001b[39;49m)\n\u001b[0;32m     <a href='vscode-notebook-cell:/c%3A/Code/MFG598/Test%202%20Prep/wcraig_mfg598_exam3_04062023.ipynb#X13sZmlsZQ%3D%3D?line=31'>32</a>\u001b[0m \u001b[39mprint\u001b[39m(gradesDF\u001b[39m.\u001b[39mhead())\n",
      "File \u001b[1;32mc:\\Users\\WTCra\\anaconda3\\lib\\site-packages\\pandas\\core\\frame.py:8839\u001b[0m, in \u001b[0;36mDataFrame.apply\u001b[1;34m(self, func, axis, raw, result_type, args, **kwargs)\u001b[0m\n\u001b[0;32m   8828\u001b[0m \u001b[39mfrom\u001b[39;00m \u001b[39mpandas\u001b[39;00m\u001b[39m.\u001b[39;00m\u001b[39mcore\u001b[39;00m\u001b[39m.\u001b[39;00m\u001b[39mapply\u001b[39;00m \u001b[39mimport\u001b[39;00m frame_apply\n\u001b[0;32m   8830\u001b[0m op \u001b[39m=\u001b[39m frame_apply(\n\u001b[0;32m   8831\u001b[0m     \u001b[39mself\u001b[39m,\n\u001b[0;32m   8832\u001b[0m     func\u001b[39m=\u001b[39mfunc,\n\u001b[1;32m   (...)\u001b[0m\n\u001b[0;32m   8837\u001b[0m     kwargs\u001b[39m=\u001b[39mkwargs,\n\u001b[0;32m   8838\u001b[0m )\n\u001b[1;32m-> 8839\u001b[0m \u001b[39mreturn\u001b[39;00m op\u001b[39m.\u001b[39;49mapply()\u001b[39m.\u001b[39m__finalize__(\u001b[39mself\u001b[39m, method\u001b[39m=\u001b[39m\u001b[39m\"\u001b[39m\u001b[39mapply\u001b[39m\u001b[39m\"\u001b[39m)\n",
      "File \u001b[1;32mc:\\Users\\WTCra\\anaconda3\\lib\\site-packages\\pandas\\core\\apply.py:727\u001b[0m, in \u001b[0;36mFrameApply.apply\u001b[1;34m(self)\u001b[0m\n\u001b[0;32m    724\u001b[0m \u001b[39melif\u001b[39;00m \u001b[39mself\u001b[39m\u001b[39m.\u001b[39mraw:\n\u001b[0;32m    725\u001b[0m     \u001b[39mreturn\u001b[39;00m \u001b[39mself\u001b[39m\u001b[39m.\u001b[39mapply_raw()\n\u001b[1;32m--> 727\u001b[0m \u001b[39mreturn\u001b[39;00m \u001b[39mself\u001b[39;49m\u001b[39m.\u001b[39;49mapply_standard()\n",
      "File \u001b[1;32mc:\\Users\\WTCra\\anaconda3\\lib\\site-packages\\pandas\\core\\apply.py:851\u001b[0m, in \u001b[0;36mFrameApply.apply_standard\u001b[1;34m(self)\u001b[0m\n\u001b[0;32m    850\u001b[0m \u001b[39mdef\u001b[39;00m \u001b[39mapply_standard\u001b[39m(\u001b[39mself\u001b[39m):\n\u001b[1;32m--> 851\u001b[0m     results, res_index \u001b[39m=\u001b[39m \u001b[39mself\u001b[39;49m\u001b[39m.\u001b[39;49mapply_series_generator()\n\u001b[0;32m    853\u001b[0m     \u001b[39m# wrap results\u001b[39;00m\n\u001b[0;32m    854\u001b[0m     \u001b[39mreturn\u001b[39;00m \u001b[39mself\u001b[39m\u001b[39m.\u001b[39mwrap_results(results, res_index)\n",
      "File \u001b[1;32mc:\\Users\\WTCra\\anaconda3\\lib\\site-packages\\pandas\\core\\apply.py:867\u001b[0m, in \u001b[0;36mFrameApply.apply_series_generator\u001b[1;34m(self)\u001b[0m\n\u001b[0;32m    864\u001b[0m \u001b[39mwith\u001b[39;00m option_context(\u001b[39m\"\u001b[39m\u001b[39mmode.chained_assignment\u001b[39m\u001b[39m\"\u001b[39m, \u001b[39mNone\u001b[39;00m):\n\u001b[0;32m    865\u001b[0m     \u001b[39mfor\u001b[39;00m i, v \u001b[39min\u001b[39;00m \u001b[39menumerate\u001b[39m(series_gen):\n\u001b[0;32m    866\u001b[0m         \u001b[39m# ignore SettingWithCopy here in case the user mutates\u001b[39;00m\n\u001b[1;32m--> 867\u001b[0m         results[i] \u001b[39m=\u001b[39m \u001b[39mself\u001b[39;49m\u001b[39m.\u001b[39;49mf(v)\n\u001b[0;32m    868\u001b[0m         \u001b[39mif\u001b[39;00m \u001b[39misinstance\u001b[39m(results[i], ABCSeries):\n\u001b[0;32m    869\u001b[0m             \u001b[39m# If we have a view on v, we need to make a copy because\u001b[39;00m\n\u001b[0;32m    870\u001b[0m             \u001b[39m#  series_generator will swap out the underlying data\u001b[39;00m\n\u001b[0;32m    871\u001b[0m             results[i] \u001b[39m=\u001b[39m results[i]\u001b[39m.\u001b[39mcopy(deep\u001b[39m=\u001b[39m\u001b[39mFalse\u001b[39;00m)\n",
      "\u001b[1;32mc:\\Code\\MFG598\\Test 2 Prep\\wcraig_mfg598_exam3_04062023.ipynb Cell 8\u001b[0m in \u001b[0;36mcalculate_improvement_ratio\u001b[1;34m(row)\u001b[0m\n\u001b[0;32m     <a href='vscode-notebook-cell:/c%3A/Code/MFG598/Test%202%20Prep/wcraig_mfg598_exam3_04062023.ipynb#X13sZmlsZQ%3D%3D?line=24'>25</a>\u001b[0m exam1_1 \u001b[39m=\u001b[39m row[\u001b[39m'\u001b[39m\u001b[39mExam1-1\u001b[39m\u001b[39m'\u001b[39m]\n\u001b[0;32m     <a href='vscode-notebook-cell:/c%3A/Code/MFG598/Test%202%20Prep/wcraig_mfg598_exam3_04062023.ipynb#X13sZmlsZQ%3D%3D?line=25'>26</a>\u001b[0m exam1_2 \u001b[39m=\u001b[39m row[\u001b[39m'\u001b[39m\u001b[39mExam1-2\u001b[39m\u001b[39m'\u001b[39m]\n\u001b[1;32m---> <a href='vscode-notebook-cell:/c%3A/Code/MFG598/Test%202%20Prep/wcraig_mfg598_exam3_04062023.ipynb#X13sZmlsZQ%3D%3D?line=26'>27</a>\u001b[0m improvement \u001b[39m=\u001b[39m (exam1_2 \u001b[39m-\u001b[39;49m exam1_1) \u001b[39m/\u001b[39m exam1_1 \u001b[39m*\u001b[39m \u001b[39m100\u001b[39m\n\u001b[0;32m     <a href='vscode-notebook-cell:/c%3A/Code/MFG598/Test%202%20Prep/wcraig_mfg598_exam3_04062023.ipynb#X13sZmlsZQ%3D%3D?line=27'>28</a>\u001b[0m \u001b[39mreturn\u001b[39;00m improvement\n",
      "\u001b[1;31mTypeError\u001b[0m: unsupported operand type(s) for -: 'str' and 'str'"
     ]
    }
   ],
   "source": [
    "import numpy as np\n",
    "import pandas as pd\n",
    "\n",
    "gradesDF = pd.read_csv('grades2-1.csv')\n",
    "\n",
    "#This did not work as the value appears to be a hyphen and not NaN\n",
    "# gradesDF.fillna(0)\n",
    "print(gradesDF.head())\n",
    "#Can you think of a more elegant way to do this?\n",
    "#This is all that came to mind.\n",
    "gradesDF['Exam1-1'] = gradesDF['Exam1-1'].str.replace('-', '0')\n",
    "gradesDF['Exam1-2'] = gradesDF['Exam1-2'].str.replace('-', '0')\n",
    "gradesDF['Exam1-3'] = gradesDF['Exam1-3'].str.replace('-', '0')\n",
    "print(gradesDF.head())\n",
    "\n",
    "#double brackets to add multiple columns. Will then pass arguments in.\n",
    "gradesDF[['Average Score', 'Improvement Ratio']] = 0,0\n",
    "\n",
    "print(gradesDF.head())\n",
    "\n",
    "gradesDF['Average Score'] = gradesDF.mean(axis=1)\n",
    "print(gradesDF.head())\n",
    "\n",
    "def calculate_improvement_ratio(row):\n",
    "    exam1_1 = row['Exam1-1']\n",
    "    exam1_2 = row['Exam1-2']\n",
    "    improvement = (exam1_2 - exam1_1) / exam1_1 * 100\n",
    "    return improvement\n",
    "\n",
    "gradesDF['Improvement Ratio'] = gradesDF.apply(calculate_improvement_ratio, axis=1)\n",
    "\n",
    "print(gradesDF.head())"
   ]
  }
 ],
 "metadata": {
  "kernelspec": {
   "display_name": "base",
   "language": "python",
   "name": "python3"
  },
  "language_info": {
   "codemirror_mode": {
    "name": "ipython",
    "version": 3
   },
   "file_extension": ".py",
   "mimetype": "text/x-python",
   "name": "python",
   "nbconvert_exporter": "python",
   "pygments_lexer": "ipython3",
   "version": "3.9.12"
  },
  "orig_nbformat": 4,
  "vscode": {
   "interpreter": {
    "hash": "504af9dbaeab241701b42e0a4a2f2792546a36888d7345416987d6285d9bc5c8"
   }
  }
 },
 "nbformat": 4,
 "nbformat_minor": 2
}

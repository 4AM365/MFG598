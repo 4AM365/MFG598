{
 "cells": [
  {
   "attachments": {},
   "cell_type": "markdown",
   "metadata": {},
   "source": [
    "HW5\n",
    "HW6\n",
    "P7\n",
    "P9\n",
    "P10\n",
    "P11"
   ]
  },
  {
   "attachments": {},
   "cell_type": "markdown",
   "metadata": {},
   "source": [
    "#Start with HW5"
   ]
  },
  {
   "cell_type": "code",
   "execution_count": 11,
   "metadata": {},
   "outputs": [
    {
     "name": "stdout",
     "output_type": "stream",
     "text": [
      "[94  3 10 71 20  8  6  1 77 74 80 97  1 75  6 55 97 42 81  6]\n",
      "70.89304437734434\n"
     ]
    }
   ],
   "source": [
    "#Create a,random,integer,array,aVec,containing 20 vals\n",
    "import numpy as np\n",
    "aVec = np.random.randint(0, 101, size = 20)\n",
    "print(aVec)\n",
    "\n",
    "randfloat = np.random.uniform(0, 100)\n",
    "\n",
    "print(randfloat)"
   ]
  },
  {
   "cell_type": "code",
   "execution_count": 26,
   "metadata": {},
   "outputs": [
    {
     "name": "stdout",
     "output_type": "stream",
     "text": [
      "[0.12871475 0.04453114 0.46246177 0.46152179 0.8285867  0.5914373\n",
      " 0.06581922 0.35224335 0.11134085 0.78236176 0.53539802 0.9018846\n",
      " 0.6995534  0.7455292  0.54856902]\n",
      "[ 0.12871475  0.04453114  0.46246177  0.46152179  0.8285867   0.5914373\n",
      "  0.06581922  0.35224335  0.11134085  0.78236176  0.53539802 -1.\n",
      "  0.6995534   0.7455292   0.54856902]\n"
     ]
    }
   ],
   "source": [
    "#Create a random vector with values between 0 and 1 of size 15\n",
    "#Replace max value with -1\n",
    "\n",
    "#vector has 3 values, so array of 3\n",
    "\n",
    "#can't be integers\n",
    "\n",
    "vector = np.random.uniform(0, 1, size = 15)\n",
    "print(vector)\n",
    "\n",
    "new_vector = vector.copy()\n",
    "\n",
    "new_vector_max_index = new_vector.argmax()\n",
    "\n",
    "new_vector[new_vector_max_index] = -1\n",
    "\n",
    "print(new_vector)\n",
    "\n"
   ]
  },
  {
   "cell_type": "code",
   "execution_count": 29,
   "metadata": {},
   "outputs": [
    {
     "name": "stdout",
     "output_type": "stream",
     "text": [
      "[12 16 10 19 20]\n"
     ]
    }
   ],
   "source": [
    "#Write a python script to extract a set of numbers between a range\n",
    "#Given list is:\n",
    "a = [22,1,4, 32, 12, 5, 16, 10, 19, 20]\n",
    "#Need to extract anything between 10 and 20, inclusive\n",
    "\n",
    "a_ray = np.array(a)\n",
    "\n",
    "extracted = a_ray[(a_ray >= 10) & (a_ray <= 20)]\n",
    "\n",
    "print(extracted)"
   ]
  },
  {
   "cell_type": "code",
   "execution_count": 40,
   "metadata": {},
   "outputs": [
    {
     "name": "stdout",
     "output_type": "stream",
     "text": [
      "[-1  0 -1  0 -1 -1 -1  0 -1  0  0  0 -1  0 -1 -1  0 -1  0 -1 -1 -1  0  0\n",
      "  0  0  0  0  0  0 -1 -1 -1]\n"
     ]
    }
   ],
   "source": [
    "#Repalce all positions at which non-zeros exist in given matrix A to -1\n",
    "#so... IF A[i] != 0: \n",
    "        # A[i] = new_val\n",
    "\n",
    "A = np.array([1,0,1,0, 1, 1, 1, 0, 1, 0, 0, 0, 1, 0, 1, 1, 0, 1, 0, 1, 1, 1, 0, 0, 0, 0, 0, 0, 0, 0, 1, 1, 1])\n",
    "\n",
    "A = np.where(A !=0, -1, A)\n",
    "\n",
    "print(A)\n",
    "\n",
    "#Can use a boolean mask for this or np.where"
   ]
  },
  {
   "cell_type": "code",
   "execution_count": 42,
   "metadata": {},
   "outputs": [
    {
     "name": "stdout",
     "output_type": "stream",
     "text": [
      "[-1  0 -1  0 -1 -1 -1  0 -1  0  0  0 -1  0 -1 -1  0 -1  0 -1 -1 -1  0  0\n",
      "  0  0  0  0  0  0 -1 -1 -1]\n"
     ]
    }
   ],
   "source": [
    "#Another way to solve the above\n",
    "\n",
    "A = np.array([1,0,1,0, 1, 1, 1, 0, 1, 0, 0, 0, 1, 0, 1, 1, 0, 1, 0, 1, 1, 1, 0, 0, 0, 0, 0, 0, 0, 0, 1, 1, 1])\n",
    "\n",
    "non_zero_indices = A != 0\n",
    "\n",
    "A[non_zero_indices] = -1\n",
    "\n",
    "print(A)"
   ]
  },
  {
   "cell_type": "code",
   "execution_count": 49,
   "metadata": {},
   "outputs": [
    {
     "name": "stdout",
     "output_type": "stream",
     "text": [
      "[-3.  2.  1.]\n"
     ]
    }
   ],
   "source": [
    "# Consider system of three linear equations\n",
    "# x+2y + z = 2\n",
    "#2x + 6y + z = 7\n",
    "#x + y + 4z = 3\n",
    "#Solve!\n",
    "\n",
    "#This is an augmented matrix, but we need two matrices for numpy.\n",
    "A = np.array([[1, 2, 1, 2],\n",
    "             [2, 6, 1, 7],\n",
    "             [1, 1, 4, 3]])\n",
    "\n",
    "B = A[:, :-1]\n",
    "b = A[:, -1]\n",
    "\n",
    "\n",
    "solution = np.linalg.solve(B, b)\n",
    "\n",
    "print(solution)"
   ]
  },
  {
   "cell_type": "code",
   "execution_count": 60,
   "metadata": {},
   "outputs": [
    {
     "name": "stdout",
     "output_type": "stream",
     "text": [
      "[[ 42  88  60   5  85]\n",
      " [ 39  23  80  72  27]\n",
      " [ 88  23  78 100  89]\n",
      " [  2  66   7  95   7]\n",
      " [ 71  84  27  79  39]\n",
      " [ 77   0  43  20  10]\n",
      " [ 97  13  77  77  90]\n",
      " [ 71  24  66  81  54]\n",
      " [ 45  51  92  23  86]\n",
      " [ 75  83  45  61  16]]\n",
      "\n",
      "\n",
      "[ 67  19  39  72  38  63  90 100  14  25]\n",
      "\n",
      "\n",
      "[[-25  21  -7 -62  18]\n",
      " [ 20   4  61  53   8]\n",
      " [ 49 -16  39  61  50]\n",
      " [-70  -6 -65  23 -65]\n",
      " [ 33  46 -11  41   1]\n",
      " [ 14 -63 -20 -43 -53]\n",
      " [  7 -77 -13 -13   0]\n",
      " [-29 -76 -34 -19 -46]\n",
      " [ 31  37  78   9  72]\n",
      " [ 50  58  20  36  -9]]\n"
     ]
    }
   ],
   "source": [
    "#Generate a 1D array with 10 integer elements\n",
    "v = np.random.randint(1, 101, size = 10)\n",
    "#randomly generate a 2D array B matrix of 10x5\n",
    "B = np.random.randint(0,101, size = (10,5))\n",
    "\n",
    "#Now subtract each item of v from its respective column of B\n",
    "\n",
    "result = B-v[:, np.newaxis]\n",
    "\n",
    "print(f\"{B}\\n\\n\")\n",
    "print(f\"{v}\\n\\n\")\n",
    "print(result)\n",
    "\n"
   ]
  },
  {
   "cell_type": "code",
   "execution_count": 109,
   "metadata": {},
   "outputs": [
    {
     "name": "stdout",
     "output_type": "stream",
     "text": [
      "[[5.1 3.5 1.4 0.2 nan]\n",
      " [4.9 3.  1.4 0.2 nan]\n",
      " [4.7 3.2 1.3 0.2 nan]\n",
      " [4.6 3.1 1.5 0.2 nan]\n",
      " [5.  3.6 1.4 0.2 nan]\n",
      " [5.4 3.9 1.7 0.4 nan]\n",
      " [4.6 3.4 1.4 0.3 nan]\n",
      " [5.  3.4 1.5 0.2 nan]\n",
      " [4.4 2.9 1.4 0.2 nan]\n",
      " [4.9 3.1 1.5 0.1 nan]]\n"
     ]
    },
    {
     "data": {
      "text/plain": [
       "(150, 5)"
      ]
     },
     "execution_count": 109,
     "metadata": {},
     "output_type": "execute_result"
    }
   ],
   "source": [
    "#Now read the numData.data file using genfromtxt\n",
    "\n",
    "data = np.genfromtxt('../homework/numData.data', delimiter = ',')\n",
    "\n",
    "print(data[:10])\n",
    "\n",
    "data.dtype\n",
    "\n",
    "data.shape"
   ]
  },
  {
   "cell_type": "code",
   "execution_count": 113,
   "metadata": {},
   "outputs": [],
   "source": [
    "filtered_data = data[:,:4]"
   ]
  },
  {
   "cell_type": "code",
   "execution_count": 116,
   "metadata": {},
   "outputs": [
    {
     "name": "stdout",
     "output_type": "stream",
     "text": [
      "[[0.64102564 0.43589744 0.16666667 0.01282051]\n",
      " [0.61538462 0.37179487 0.16666667 0.01282051]\n",
      " [0.58974359 0.3974359  0.15384615 0.01282051]\n",
      " [0.57692308 0.38461538 0.17948718 0.01282051]\n",
      " [0.62820513 0.44871795 0.16666667 0.01282051]\n",
      " [0.67948718 0.48717949 0.20512821 0.03846154]\n",
      " [0.57692308 0.42307692 0.16666667 0.02564103]\n",
      " [0.62820513 0.42307692 0.17948718 0.01282051]\n",
      " [0.55128205 0.35897436 0.16666667 0.01282051]\n",
      " [0.61538462 0.38461538 0.17948718 0.        ]\n",
      " [0.67948718 0.46153846 0.17948718 0.01282051]\n",
      " [0.6025641  0.42307692 0.19230769 0.01282051]\n",
      " [0.6025641  0.37179487 0.16666667 0.        ]\n",
      " [0.53846154 0.37179487 0.12820513 0.        ]\n",
      " [0.73076923 0.5        0.14102564 0.01282051]\n",
      " [0.71794872 0.55128205 0.17948718 0.03846154]\n",
      " [0.67948718 0.48717949 0.15384615 0.03846154]\n",
      " [0.64102564 0.43589744 0.16666667 0.02564103]\n",
      " [0.71794872 0.47435897 0.20512821 0.02564103]\n",
      " [0.64102564 0.47435897 0.17948718 0.02564103]\n",
      " [0.67948718 0.42307692 0.20512821 0.01282051]\n",
      " [0.64102564 0.46153846 0.17948718 0.03846154]\n",
      " [0.57692308 0.44871795 0.11538462 0.01282051]\n",
      " [0.64102564 0.41025641 0.20512821 0.05128205]\n",
      " [0.6025641  0.42307692 0.23076923 0.01282051]\n",
      " [0.62820513 0.37179487 0.19230769 0.01282051]\n",
      " [0.62820513 0.42307692 0.19230769 0.03846154]\n",
      " [0.65384615 0.43589744 0.17948718 0.01282051]\n",
      " [0.65384615 0.42307692 0.16666667 0.01282051]\n",
      " [0.58974359 0.3974359  0.19230769 0.01282051]\n",
      " [0.6025641  0.38461538 0.19230769 0.01282051]\n",
      " [0.67948718 0.42307692 0.17948718 0.03846154]\n",
      " [0.65384615 0.51282051 0.17948718 0.        ]\n",
      " [0.69230769 0.52564103 0.16666667 0.01282051]\n",
      " [0.61538462 0.38461538 0.17948718 0.        ]\n",
      " [0.62820513 0.3974359  0.14102564 0.01282051]\n",
      " [0.69230769 0.43589744 0.15384615 0.01282051]\n",
      " [0.61538462 0.38461538 0.17948718 0.        ]\n",
      " [0.55128205 0.37179487 0.15384615 0.01282051]\n",
      " [0.64102564 0.42307692 0.17948718 0.01282051]\n",
      " [0.62820513 0.43589744 0.15384615 0.02564103]\n",
      " [0.56410256 0.28205128 0.15384615 0.02564103]\n",
      " [0.55128205 0.3974359  0.15384615 0.01282051]\n",
      " [0.62820513 0.43589744 0.19230769 0.06410256]\n",
      " [0.64102564 0.47435897 0.23076923 0.03846154]\n",
      " [0.6025641  0.37179487 0.16666667 0.02564103]\n",
      " [0.64102564 0.47435897 0.19230769 0.01282051]\n",
      " [0.57692308 0.3974359  0.16666667 0.01282051]\n",
      " [0.66666667 0.46153846 0.17948718 0.01282051]\n",
      " [0.62820513 0.41025641 0.16666667 0.01282051]\n",
      " [0.88461538 0.3974359  0.58974359 0.16666667]\n",
      " [0.80769231 0.3974359  0.56410256 0.17948718]\n",
      " [0.87179487 0.38461538 0.61538462 0.17948718]\n",
      " [0.69230769 0.28205128 0.5        0.15384615]\n",
      " [0.82051282 0.34615385 0.57692308 0.17948718]\n",
      " [0.71794872 0.34615385 0.56410256 0.15384615]\n",
      " [0.79487179 0.41025641 0.58974359 0.19230769]\n",
      " [0.61538462 0.29487179 0.41025641 0.11538462]\n",
      " [0.83333333 0.35897436 0.57692308 0.15384615]\n",
      " [0.65384615 0.33333333 0.48717949 0.16666667]\n",
      " [0.62820513 0.24358974 0.43589744 0.11538462]\n",
      " [0.74358974 0.37179487 0.52564103 0.17948718]\n",
      " [0.75641026 0.26923077 0.5        0.11538462]\n",
      " [0.76923077 0.35897436 0.58974359 0.16666667]\n",
      " [0.70512821 0.35897436 0.44871795 0.15384615]\n",
      " [0.84615385 0.38461538 0.55128205 0.16666667]\n",
      " [0.70512821 0.37179487 0.56410256 0.17948718]\n",
      " [0.73076923 0.33333333 0.51282051 0.11538462]\n",
      " [0.78205128 0.26923077 0.56410256 0.17948718]\n",
      " [0.70512821 0.30769231 0.48717949 0.12820513]\n",
      " [0.74358974 0.3974359  0.6025641  0.21794872]\n",
      " [0.76923077 0.34615385 0.5        0.15384615]\n",
      " [0.79487179 0.30769231 0.61538462 0.17948718]\n",
      " [0.76923077 0.34615385 0.58974359 0.14102564]\n",
      " [0.80769231 0.35897436 0.53846154 0.15384615]\n",
      " [0.83333333 0.37179487 0.55128205 0.16666667]\n",
      " [0.85897436 0.34615385 0.6025641  0.16666667]\n",
      " [0.84615385 0.37179487 0.62820513 0.20512821]\n",
      " [0.75641026 0.35897436 0.56410256 0.17948718]\n",
      " [0.71794872 0.32051282 0.43589744 0.11538462]\n",
      " [0.69230769 0.29487179 0.47435897 0.12820513]\n",
      " [0.69230769 0.29487179 0.46153846 0.11538462]\n",
      " [0.73076923 0.33333333 0.48717949 0.14102564]\n",
      " [0.75641026 0.33333333 0.64102564 0.19230769]\n",
      " [0.67948718 0.37179487 0.56410256 0.17948718]\n",
      " [0.75641026 0.42307692 0.56410256 0.19230769]\n",
      " [0.84615385 0.38461538 0.58974359 0.17948718]\n",
      " [0.79487179 0.28205128 0.55128205 0.15384615]\n",
      " [0.70512821 0.37179487 0.51282051 0.15384615]\n",
      " [0.69230769 0.30769231 0.5        0.15384615]\n",
      " [0.69230769 0.32051282 0.55128205 0.14102564]\n",
      " [0.76923077 0.37179487 0.57692308 0.16666667]\n",
      " [0.73076923 0.32051282 0.5        0.14102564]\n",
      " [0.62820513 0.28205128 0.41025641 0.11538462]\n",
      " [0.70512821 0.33333333 0.52564103 0.15384615]\n",
      " [0.71794872 0.37179487 0.52564103 0.14102564]\n",
      " [0.71794872 0.35897436 0.52564103 0.15384615]\n",
      " [0.78205128 0.35897436 0.53846154 0.15384615]\n",
      " [0.64102564 0.30769231 0.37179487 0.12820513]\n",
      " [0.71794872 0.34615385 0.51282051 0.15384615]]\n"
     ]
    }
   ],
   "source": [
    "normalized_data = (filtered_data-filtered_data.min())/((filtered_data.max())-(filtered_data.min()))\n",
    "\n",
    "print(normalized_data[:100])"
   ]
  },
  {
   "cell_type": "code",
   "execution_count": 124,
   "metadata": {},
   "outputs": [
    {
     "name": "stdout",
     "output_type": "stream",
     "text": [
      "[[4.9 2.4 3.3 1.  nan]\n",
      " [4.9 2.5 4.5 1.7 nan]]\n"
     ]
    }
   ],
   "source": [
    "# Read the numData.data file. Filter the rows in such a way that the 3rd column > 2.0 and the\n",
    "# first column is <5.0.\n",
    "\n",
    "#advanced indexing syntax applied here.\n",
    "#First conditional \n",
    "first_and_third = data[(data[:, 0] < 5.0) & (data[:, 2] > 2.0)]\n",
    "\n",
    "print(first_and_third)"
   ]
  },
  {
   "attachments": {},
   "cell_type": "markdown",
   "metadata": {},
   "source": [
    "Given 3 arrays of equal size, write a short numpy script that finds the maximum value across\n",
    "each of the three arrays at each index position of the array. Store these values in a single\n",
    "array.\n",
    "\n",
    "Example\n",
    "\n",
    "A = [9, 10, 7, 2, 4, 1, 0]\n",
    "\n",
    "B = [10, 8, 0, 5, 8, 3, 1]\n",
    "\n",
    "C = [8, 9, 9, 8, 3, 2, 9]\n",
    "\n",
    "Result = [10, 10, 9, 8, 8, 3, 9]\n"
   ]
  },
  {
   "cell_type": "code",
   "execution_count": 127,
   "metadata": {},
   "outputs": [
    {
     "name": "stdout",
     "output_type": "stream",
     "text": [
      "[10 10  9  8  8  3  9]\n"
     ]
    }
   ],
   "source": [
    "A = [9, 10, 7, 2, 4, 1, 0]\n",
    "\n",
    "B = [10, 8, 0, 5, 8, 3, 1]\n",
    "\n",
    "C = [8, 9, 9, 8, 3, 2, 9]\n",
    "\n",
    "max_vals = np.maximum.reduce([A,B,C])\n",
    "\n",
    "print(max_vals)"
   ]
  },
  {
   "cell_type": "code",
   "execution_count": 135,
   "metadata": {},
   "outputs": [
    {
     "data": {
      "text/html": [
       "<div>\n",
       "<style scoped>\n",
       "    .dataframe tbody tr th:only-of-type {\n",
       "        vertical-align: middle;\n",
       "    }\n",
       "\n",
       "    .dataframe tbody tr th {\n",
       "        vertical-align: top;\n",
       "    }\n",
       "\n",
       "    .dataframe thead th {\n",
       "        text-align: right;\n",
       "    }\n",
       "</style>\n",
       "<table border=\"1\" class=\"dataframe\">\n",
       "  <thead>\n",
       "    <tr style=\"text-align: right;\">\n",
       "      <th></th>\n",
       "      <th>Advertising Expenditure</th>\n",
       "      <th>Profit</th>\n",
       "    </tr>\n",
       "  </thead>\n",
       "  <tbody>\n",
       "    <tr>\n",
       "      <th>0</th>\n",
       "      <td>12</td>\n",
       "      <td>60</td>\n",
       "    </tr>\n",
       "    <tr>\n",
       "      <th>1</th>\n",
       "      <td>14</td>\n",
       "      <td>70</td>\n",
       "    </tr>\n",
       "    <tr>\n",
       "      <th>2</th>\n",
       "      <td>17</td>\n",
       "      <td>90</td>\n",
       "    </tr>\n",
       "    <tr>\n",
       "      <th>3</th>\n",
       "      <td>21</td>\n",
       "      <td>100</td>\n",
       "    </tr>\n",
       "    <tr>\n",
       "      <th>4</th>\n",
       "      <td>26</td>\n",
       "      <td>100</td>\n",
       "    </tr>\n",
       "    <tr>\n",
       "      <th>5</th>\n",
       "      <td>30</td>\n",
       "      <td>120</td>\n",
       "    </tr>\n",
       "  </tbody>\n",
       "</table>\n",
       "</div>"
      ],
      "text/plain": [
       "   Advertising Expenditure  Profit\n",
       "0                       12      60\n",
       "1                       14      70\n",
       "2                       17      90\n",
       "3                       21     100\n",
       "4                       26     100\n",
       "5                       30     120"
      ]
     },
     "execution_count": 135,
     "metadata": {},
     "output_type": "execute_result"
    }
   ],
   "source": [
    "#find best least squares fit of data\n",
    "#in form of straight line y = mx + c\n",
    "#using numpy\n",
    "import pandas as pd\n",
    "\n",
    "data = {\n",
    "    'Advertising Expenditure': [12, 14, 17, 21, 26, 30],\n",
    "    'Profit': [60, 70, 90, 100, 100, 120]\n",
    "}\n",
    "\n",
    "dataframe = pd.DataFrame(data)\n",
    "\n",
    "dataframe\n",
    "\n",
    "#Let's say I want row names instead.\n",
    "\n"
   ]
  },
  {
   "cell_type": "code",
   "execution_count": 136,
   "metadata": {},
   "outputs": [
    {
     "data": {
      "text/html": [
       "<div>\n",
       "<style scoped>\n",
       "    .dataframe tbody tr th:only-of-type {\n",
       "        vertical-align: middle;\n",
       "    }\n",
       "\n",
       "    .dataframe tbody tr th {\n",
       "        vertical-align: top;\n",
       "    }\n",
       "\n",
       "    .dataframe thead th {\n",
       "        text-align: right;\n",
       "    }\n",
       "</style>\n",
       "<table border=\"1\" class=\"dataframe\">\n",
       "  <thead>\n",
       "    <tr style=\"text-align: right;\">\n",
       "      <th></th>\n",
       "      <th>0</th>\n",
       "      <th>1</th>\n",
       "      <th>2</th>\n",
       "      <th>3</th>\n",
       "      <th>4</th>\n",
       "      <th>5</th>\n",
       "    </tr>\n",
       "  </thead>\n",
       "  <tbody>\n",
       "    <tr>\n",
       "      <th>Advertising Expenditure</th>\n",
       "      <td>12</td>\n",
       "      <td>14</td>\n",
       "      <td>17</td>\n",
       "      <td>21</td>\n",
       "      <td>26</td>\n",
       "      <td>30</td>\n",
       "    </tr>\n",
       "    <tr>\n",
       "      <th>Profit</th>\n",
       "      <td>60</td>\n",
       "      <td>70</td>\n",
       "      <td>90</td>\n",
       "      <td>100</td>\n",
       "      <td>100</td>\n",
       "      <td>120</td>\n",
       "    </tr>\n",
       "  </tbody>\n",
       "</table>\n",
       "</div>"
      ],
      "text/plain": [
       "                          0   1   2    3    4    5\n",
       "Advertising Expenditure  12  14  17   21   26   30\n",
       "Profit                   60  70  90  100  100  120"
      ]
     },
     "execution_count": 136,
     "metadata": {},
     "output_type": "execute_result"
    }
   ],
   "source": [
    "dataframe_horizontal = pd.DataFrame.from_dict(data, orient = 'index') #can name columns here, columns = ['a', 'b']\n",
    "\n",
    "dataframe_horizontal"
   ]
  },
  {
   "cell_type": "code",
   "execution_count": 142,
   "metadata": {},
   "outputs": [
    {
     "name": "stdout",
     "output_type": "stream",
     "text": [
      "y = 2.9674796747967487 * x + 30.650406504065003\n"
     ]
    }
   ],
   "source": [
    "#Best least squares...\n",
    "\n",
    "coefficients = np.polyfit(dataframe['Advertising Expenditure'], dataframe['Profit'], deg = 1)\n",
    "\n",
    "print(f'y = {coefficients[0]} * x + {coefficients[1]}')"
   ]
  },
  {
   "cell_type": "code",
   "execution_count": null,
   "metadata": {},
   "outputs": [],
   "source": []
  }
 ],
 "metadata": {
  "kernelspec": {
   "display_name": "base",
   "language": "python",
   "name": "python3"
  },
  "language_info": {
   "codemirror_mode": {
    "name": "ipython",
    "version": 3
   },
   "file_extension": ".py",
   "mimetype": "text/x-python",
   "name": "python",
   "nbconvert_exporter": "python",
   "pygments_lexer": "ipython3",
   "version": "3.9.12"
  },
  "orig_nbformat": 4,
  "vscode": {
   "interpreter": {
    "hash": "504af9dbaeab241701b42e0a4a2f2792546a36888d7345416987d6285d9bc5c8"
   }
  }
 },
 "nbformat": 4,
 "nbformat_minor": 2
}

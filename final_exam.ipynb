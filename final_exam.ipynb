{
 "cells": [
  {
   "cell_type": "code",
   "execution_count": null,
   "metadata": {},
   "outputs": [],
   "source": [
    "# Write a List comprehension code that filters out the empty characters in the given list.\n",
    "#  Print the new filtered list containing non-empty strings to a new file named “cleanlist.txt”. \n",
    "# Expected result=[‘sky’,’cloud’,’rain’,’fog’,’mist’]\n",
    "\n",
    "aList = ['sky', 'cloud', '' , 'rain', 'fog', 'mist', '']\n",
    "\n",
    "a_list_filtered = [i for i in aList if i]\n",
    "\n",
    "with open('cleanlist.txt', 'w') as file:\n",
    "    file.writelines(a_list_filtered)"
   ]
  },
  {
   "cell_type": "code",
   "execution_count": null,
   "metadata": {},
   "outputs": [],
   "source": [
    "# Write a SINGLE list comprehension statement to square even numbers and cube odd numbers in the given list. \n",
    "# The result should be a single list. Print both the given and resultant list. Note that the order of the numbers should be maintained.\n",
    "\n",
    "# Given:\n",
    "\n",
    "aList = [1, 4, 5, 2, 6, 7]\n",
    "\n",
    "\n",
    "sq_cube_list = [(i*i*i if i%2 != 0 else i*i) for i in aList ]\n",
    "\n",
    "print(sq_cube_list)"
   ]
  },
  {
   "attachments": {
    "image.png": {
     "image/png": "[encoded data removed]"
    }
   },
   "cell_type": "markdown",
   "metadata": {},
   "source": [
    "![image.png](attachment:image.png)"
   ]
  },
  {
   "cell_type": "code",
   "execution_count": 118,
   "metadata": {},
   "outputs": [
    {
     "name": "stdout",
     "output_type": "stream",
     "text": [
      "The value of the input is 0.5\n",
      "[2.0, 0.4, 1.6, 0.5, 2.0, 1.0]\n",
      "7.5\n"
     ]
    }
   ],
   "source": [
    "# Write a function that accepts three arguments – x, n, coefficient_list) \n",
    "#   to compute the expression when n ranges from 0 to 5 (N=5 in the above expression). ao, a1, a2... a5 are coefficients. \n",
    "# The values of the coefficient list is aCoeff = [2, 0.8, 3.2, 1, 4,2]. \n",
    "# Ask the user for the value of x. \n",
    "# The user must enter a float value from 0 to 1 (both inclusive). \n",
    "\n",
    "# Respond with an error statement if the input value of x is not valid (i.e outside of 0 and 1). \n",
    "# If a wrong entry is made, the script must return back to the line prompting the user for a new value for x.\n",
    "#  Display the value p(x), if a correct value is displayed \n",
    "\n",
    "\n",
    "# x = float(input('Please enter the value of x between 0 and 1'))\n",
    "# if 0 <= x <= 1:\n",
    "#     pass\n",
    "# else:\n",
    "#     print(\"Input value is incorrect.\")\n",
    "\n",
    "\n",
    "#\n",
    "def input_good_float(value_in):\n",
    "    while True:\n",
    "        try:\n",
    "            x = float(input(value_in))\n",
    "            print(f\"The value of the input is {x}\")\n",
    "        except ValueError:\n",
    "            print(\"Sorry, I didn't understand that.\")\n",
    "            continue\n",
    "\n",
    "        if x < 0 or x>1:\n",
    "            print(\"Please enter a number within the range\")\n",
    "            continue\n",
    "        else:\n",
    "            break\n",
    "    return x\n",
    "#\n",
    "x = input_good_float(\"Please enter a value between 0 and 1\")\n",
    "\n",
    "aCoeff = [2, 0.8, 3.2, 1, 4,2]\n",
    "\n",
    "n = 0\n",
    "\n",
    "p_values = []\n",
    "\n",
    "for co in aCoeff:\n",
    "    if(n<6):\n",
    "        calculated_value = co*x**n\n",
    "        p_values.append(calculated_value)\n",
    "        n=+1\n",
    "\n",
    "print(p_values)\n",
    "print(sum(p_values))\n",
    "\n"
   ]
  },
  {
   "attachments": {},
   "cell_type": "markdown",
   "metadata": {},
   "source": []
  },
  {
   "cell_type": "code",
   "execution_count": null,
   "metadata": {},
   "outputs": [],
   "source": [
    "# Given a list of numbered colored balls,\n",
    "# Each color has a number score value associated with it. \n",
    "# Have the computer randomly pick 2 from the list without replacement, meaning that once a ball is picked, \n",
    "#   it must be removed from the list in the next draw (total draws = 3) \n",
    "# This ensures that the same ball cannot be picked again in the next draw. \n",
    "# After each draw, print the state of the ColorBalls List and also report the total score to the user after the end of three draws.\n",
    "#  The total score is computed by adding the corresponding scores on each picked ball on each draw (total 3 draws x 2 picks = 6 balls have been picked)(\n",
    "\n",
    "import random\n",
    "colorBalls = [('Red', 10), ('Blue', -20), ('Green', 30), ('Black', 100), ('Yellow', 60), ('Cyan', 43), ('Brown', 80), ('White', 88), ('Pink', -10)]\n",
    "running_score = 0\n",
    "for i in range(3):\n",
    "    choices = random.sample(colorBalls, 2)\n",
    "\n",
    "    print(f\"Two random samples without replacement are: {choices}\")\n",
    "\n",
    "    set_1 = set(colorBalls)\n",
    "    set_2 = set(choices)\n",
    "    colorBalls = list(set_1 - set_2)\n",
    "\n",
    "    print(f\"A subtracted list is: {colorBalls}\")\n",
    "    \n",
    "    running_score = int(choices[0][1]) + int(choices[1][1]) + running_score\n",
    "\n",
    "    print(f\"The score is {running_score}\")\n",
    "\n",
    "\n",
    "\n",
    "\n",
    "\n",
    "\n",
    "\n",
    "# color_1 = random.choice(colorBalls)\n",
    "\n",
    "# colorBalls_intermediate_1 = []\n",
    "\n",
    "\n",
    "# for item in colorBalls:\n",
    "#     if color_1 != item:\n",
    "\n",
    "#         colorBalls_intermediate_1.append(item)\n",
    "\n",
    "# colorBalls_intermediate_2 = []\n",
    "# color_2 = random.choice(colorBalls_intermediate_1)\n",
    "\n",
    "# for item in colorBalls_intermediate_1:\n",
    "#     if color_2 != item:\n",
    "#         colorBalls_intermediate_1.append(item)\n",
    "\n",
    "# print(colorBalls_intermediate_2)\n",
    "\n"
   ]
  },
  {
   "cell_type": "code",
   "execution_count": 97,
   "metadata": {},
   "outputs": [
    {
     "name": "stdout",
     "output_type": "stream",
     "text": [
      "[['NONE', 'THE', 'NONE', 'PIZZA'], ['NONE', 'SIRE', 'NUN', 'NONE'], ['NONE', 'EAST', 'NOBODY', 'OF'], ['NOON', 'NONE', 'NONE', 'NONE'], ['NONE', 'MY', 'NONE', 'DEED'], ['NONE', 'WORLD', 'NONE', 'NONE'], ['TOO', 'TWO', 'CLOUD', 'EVEN'], ['NONE', 'SERENDIPITY', 'NONE', 'SWIFT'], ['RAPID', 'NONE', 'ANYBODY', 'IN'], ['NONE', 'NONE', 'NONE', 'MATHEMATICAL'], ['PIZZAZ', 'SURE', 'NONE', 'RUIN'], ['RAINBOW', 'WARE', 'NONE', 'NONE'], ['NONE', 'OF', 'STAR', 'ABBA'], ['KAYAK', 'NONE', 'ITS', 'EYE']]\n"
     ]
    }
   ],
   "source": [
    "\n",
    "# The sets of operations to be performed on the above table is as follows:\n",
    "#   (note that the operations must be performed in the same order displayed below. \n",
    "#       This means that the result of operation 1 feeds into operation 2, \n",
    "#       which then feeds into operation 3 and so on.).1.\n",
    "\n",
    "# 1. Beginning with the initial table, Replace words that appear to the immediate right of the word ‘THE’ with the value ‘NONE’\n",
    "\n",
    "\n",
    "matrix=[\n",
    "            ['VINE', 'THE', 'WONDER', 'PIZZA'],\n",
    "            ['BEAUTY', 'SIRE', 'NUN','NONE'],\n",
    "            ['COOPERATION','EAST','NOBODY','OF'],\n",
    "            ['NOON','OOLONG','THE','UNIVERSE'],\n",
    "            ['AIRPLANE','MY','SUBTERFUGE','DEED'],\n",
    "            ['NEVER','WORLD','RESIN','DONOR'],\n",
    "            ['TOO', 'TWO','CLOUD','EVEN'],\n",
    "            ['LIES','SERENDIPITY','PRIZE','SWIFT'],\n",
    "            ['RAPID','OBOE','ANYBODY','IN'],\n",
    "            ['THE', 'MULTITUDE','SPEEDY','MATHEMATICAL'],\n",
    "            ['PIZZAZ','SURE','DIVERSITY','RUIN'],\n",
    "            ['RAINBOW','WARE', 'WEAR','MOON'],\n",
    "            ['SOMEONE', 'OF', 'STAR','ABBA'],\n",
    "            ['KAYAK','MONOPOLY','ITS','EYE']\n",
    "        ]\n",
    "\n",
    "\n",
    "for list in matrix:\n",
    "    for sublist in list:\n",
    "        if sublist == 'THE':\n",
    "            list[list.index(sublist)+1] = 'NONE'\n",
    "\n",
    "for list in matrix:\n",
    "    if list[1].count('O') > 1:\n",
    "        list[1] = 'NONE'\n",
    "    if list[3].count('O') > 1:\n",
    "        list[3] = 'NONE'\n",
    "\n",
    "for list in matrix:\n",
    "    if list[0].count('E') != 0:\n",
    "        list[0] = 'NONE'\n",
    "    if list[2].count('E') != 0:\n",
    "        list[2] = 'NONE'\n",
    "\n",
    "print(matrix)\n"
   ]
  },
  {
   "cell_type": "code",
   "execution_count": 88,
   "metadata": {},
   "outputs": [
    {
     "name": "stdout",
     "output_type": "stream",
     "text": [
      "apple\n"
     ]
    }
   ],
   "source": [
    "mylist = iter([\"apple\", \"banana\", \"cherry\"])\n",
    "x = next(mylist, \"orange\")\n",
    "\n",
    "\n",
    "print(x)"
   ]
  }
 ],
 "metadata": {
  "kernelspec": {
   "display_name": "base",
   "language": "python",
   "name": "python3"
  },
  "language_info": {
   "codemirror_mode": {
    "name": "ipython",
    "version": 3
   },
   "file_extension": ".py",
   "mimetype": "text/x-python",
   "name": "python",
   "nbconvert_exporter": "python",
   "pygments_lexer": "ipython3",
   "version": "3.9.12"
  },
  "orig_nbformat": 4,
  "vscode": {
   "interpreter": {
    "hash": "504af9dbaeab241701b42e0a4a2f2792546a36888d7345416987d6285d9bc5c8"
   }
  }
 },
 "nbformat": 4,
 "nbformat_minor": 2
}

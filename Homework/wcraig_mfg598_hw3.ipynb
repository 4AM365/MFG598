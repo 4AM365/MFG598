{
 "cells": [
  {
   "cell_type": "code",
   "execution_count": null,
   "metadata": {},
   "outputs": [],
   "source": [
    "# Qn 1 (10 points)\n",
    "# Read the file ‘grades.csv’. Write code that finds and displays the 5 student IDs \n",
    "# and their corresponding grades who received the lowest grades in the class. \n",
    "# Some students have not appeared for the exam, but they are not to be treated as 0. \n",
    "# They need to be simply skipped from the computation. (20points)"
   ]
  },
  {
   "cell_type": "code",
   "execution_count": null,
   "metadata": {},
   "outputs": [],
   "source": [
    "# Qn 2 (20 points)\n",
    "# Open and read the contents of the file – ‘2_NoofParts_assem.txt’. Perform the following (20 points):\n",
    "# a)\tCalculate how many entries are available in that file excluding the header.\n",
    "# b)\tCalculate the sum of all parts from each file. Essentially, finding the sum of all values contained in the 2nd column of the file.\n",
    "# c)\tExtract the part ID that has the largest associated no. of parts from the entire list.\n",
    "# '''"
   ]
  },
  {
   "cell_type": "code",
   "execution_count": null,
   "metadata": {},
   "outputs": [],
   "source": [
    "# Qn 3 (25 points)\n",
    "# Using a python script, open the files contained in the .zip file – “3_Jobs_Completed_log.zip”. \n",
    "# Scan the files for the line that starts with the word string – “Jobs Completed.. ”. Extract the number associated with this line and for all instances that this word string appears across all log files, count the total sum across all files contained within the .zip file. (20points) \n",
    "\n",
    "# For example:\n",
    "\n",
    "#  \tJobs Completed.. 10 2018-09-04 08:21:28.503153\n",
    "\n",
    "# Extract the number 10 from this sentence which signifies the total number of jobs completed at the point in time.  \n",
    "# Find for all instances in which the string - ‘Jobs Completed’ appears, \n",
    "# find the total number of jobs completed by adding the numbers from across the provided log files."
   ]
  },
  {
   "cell_type": "code",
   "execution_count": null,
   "metadata": {},
   "outputs": [],
   "source": [
    "# Qn 4 (20 points)\n",
    "# For the same files above, calculate the following:\n",
    "# a)\tHow many jobs were completed in the period between 15th Aug 2018 to 15th Sept 2018?\n",
    "# b)\tThe day of the year in which the maximum number of jobs was completed.\n",
    "# c)\tCalculate the total number of days elapsed between the time at which the first job batch was completed to the last batch completed.\n",
    "# '''"
   ]
  },
  {
   "cell_type": "code",
   "execution_count": null,
   "metadata": {},
   "outputs": [],
   "source": [
    "# Qn 5 (25 points)\n",
    "# Read the following (6_Part1.stl) triangular mesh file available in ASCII format. \n",
    "# For those of you aware of 3D printing, you will recognize this is as a .STL file. \n",
    "# For those who aren’t aware of what a .STL file is, please read up online on the format of a .STL ascii file. \n",
    "# An ASCII formatted .STL file can be opened in any text editor. \n",
    "# Every vertex of the triangle is preceeded by the word ‘vertex’ followed by the x, y and z coordinates. \n",
    "# Therefore, ONE Triangle should have 3 vertex entries. Typically, the units is not specified, \n",
    "# but you can assume it to be in millimeters. \n",
    "\n",
    "# Write functions that calculate the following: (20 points)\n",
    "# a.\tFind the total number of triangles listed in the file.\n",
    "# b.\tStore the coordinates of each triangle in a 3-tuple list containing N indices, where N is the total number of triangles.\n",
    "# c.\tList the area of each triangle in the file. Compute the total surface area of all triangles listed in the file. Read up online on the formula to calculate the area of a triangle, given three vertices.\n",
    "# '''"
   ]
  }
 ],
 "metadata": {
  "kernelspec": {
   "display_name": "base",
   "language": "python",
   "name": "python3"
  },
  "language_info": {
   "name": "python",
   "version": "3.9.12 (main, Apr  4 2022, 05:22:27) [MSC v.1916 64 bit (AMD64)]"
  },
  "orig_nbformat": 4,
  "vscode": {
   "interpreter": {
    "hash": "504af9dbaeab241701b42e0a4a2f2792546a36888d7345416987d6285d9bc5c8"
   }
  }
 },
 "nbformat": 4,
 "nbformat_minor": 2
}

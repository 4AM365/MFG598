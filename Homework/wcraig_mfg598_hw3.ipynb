{
 "cells": [
  {
   "cell_type": "code",
   "execution_count": 135,
   "metadata": {},
   "outputs": [
    {
     "name": "stdout",
     "output_type": "stream",
     "text": [
      "['Scores', '90', '56', '78', '88', '75', '100', '', '66', '89', '91', '99', '86', '93', '']\n",
      "[56, 66, 75, 78, 86, 88, 89, 90, 91, 93, 99, 100]\n",
      "[56, 66, 75, 78, 86]\n"
     ]
    }
   ],
   "source": [
    "# Qn 1 (10 points)\n",
    "# Read the file ‘grades.csv’. Write code that finds and displays the 5 student IDs \n",
    "# and their corresponding grades who received the lowest grades in the class. \n",
    "# Some students have not appeared for the exam, but they are not to be treated as 0. \n",
    "# They need to be simply skipped from the computation. (20points)\n",
    "\n",
    "import zipfile\n",
    "import os\n",
    "import csv\n",
    "\n",
    "#First unzip the file...\n",
    "with zipfile.ZipFile(\"C:\\Code\\MFG598\\Homework\\Resources\\HW3_Data_Files.zip\", 'r') as unzipped:\n",
    "    unzipped.extractall()\n",
    "\n",
    "#We'll open the contents and read them into the buffer\n",
    "\n",
    "with open(\"grades.csv\", 'r') as csv_file:\n",
    "    file_contents = csv_file.read()\n",
    "\n",
    "#print(file_contents)\n",
    "#If I split by comma now, I end up with a list of items that are combined but no related, and need to be split by \\n still.\n",
    "lines = file_contents.split(\"\\n\")\n",
    "#I can't split the resulting item by ',' because 'list object has no attribute split.' I don't totally understand that yet.\n",
    "#I can iterate through each element of the new list however and split it that way.\n",
    "\n",
    "scores_only = []\n",
    "for item in lines:\n",
    "    fields = item.split(',')\n",
    "    #When I print the second item of the fields, it's fine. When I try to append it, I get 'list index out of range.'\n",
    "    #print(fields[1])\n",
    "    #I'll try to append it to the output given a condition.\n",
    "    if(len(item)>0):\n",
    "        scores_only.append(fields[1])\n",
    "    #Now we have a good clean list of scores, including blank and the descriptor.\n",
    "\n",
    "#print(output)\n",
    "#When I print the 'sorted' output, it sorts the numbers! That's handy, but they aren't in numerical order.\n",
    "#I'll try to clean the output list more.\n",
    "\n",
    "# print(sorted(scores_only))\n",
    "#for item in scores_only:\n",
    "    # if(type(item) == int): ##This won't work, since nothing in the list is an integer. Instead, we need to see if it's possible to convert to it.\n",
    "        # score_ints_only.append(item)\n",
    "#That didn't work, so let's try list comprehension.\n",
    "\n",
    "print(scores_only)\n",
    "# score_ints_only = [item for item in scores_only if isinstance(item, int)]\n",
    "#That also didn't work because there's a value error for isinstance.\n",
    "#We're going to resolve this by using a 'try' block.\n",
    "\n",
    "score_ints_only = []\n",
    "for item in scores_only:\n",
    "    try:\n",
    "        score_ints_only.append(int(item))\n",
    "    except ValueError:\n",
    "        continue\n",
    "print(sorted(score_ints_only))\n",
    "\n",
    "#Cool! Now we have a sorted list. We can just print the first few values of this.\n",
    "\n",
    "lowest_five_values = (sorted(score_ints_only))[:5]\n",
    "\n",
    "print(lowest_five_values)\n"
   ]
  },
  {
   "cell_type": "code",
   "execution_count": null,
   "metadata": {},
   "outputs": [],
   "source": [
    "# Qn 2 (20 points)\n",
    "# Open and read the contents of the file – ‘2_NoofParts_assem.txt’. Perform the following (20 points):\n",
    "# a)\tCalculate how many entries are available in that file excluding the header.\n",
    "# b)\tCalculate the sum of all parts from each file. Essentially, finding the sum of all values contained in the 2nd column of the file.\n",
    "# c)\tExtract the part ID that has the largest associated no. of parts from the entire list.\n",
    "# '''\n",
    "\n",
    "file = \"2_NoofParts_assem.txt\"\n",
    "\n"
   ]
  },
  {
   "cell_type": "code",
   "execution_count": null,
   "metadata": {},
   "outputs": [],
   "source": [
    "# Qn 3 (25 points)\n",
    "# Using a python script, open the files contained in the .zip file – “3_Jobs_Completed_log.zip”. \n",
    "# Scan the files for the line that starts with the word string – “Jobs Completed.. ”. Extract the number associated with this line and for all instances that this word string appears across all log files, count the total sum across all files contained within the .zip file. (20points) \n",
    "\n",
    "# For example:\n",
    "\n",
    "#  \tJobs Completed.. 10 2018-09-04 08:21:28.503153\n",
    "\n",
    "# Extract the number 10 from this sentence which signifies the total number of jobs completed at the point in time.  \n",
    "# Find for all instances in which the string - ‘Jobs Completed’ appears, \n",
    "# find the total number of jobs completed by adding the numbers from across the provided log files."
   ]
  },
  {
   "cell_type": "code",
   "execution_count": null,
   "metadata": {},
   "outputs": [],
   "source": [
    "# Qn 4 (20 points)\n",
    "# For the same files above, calculate the following:\n",
    "# a)\tHow many jobs were completed in the period between 15th Aug 2018 to 15th Sept 2018?\n",
    "# b)\tThe day of the year in which the maximum number of jobs was completed.\n",
    "# c)\tCalculate the total number of days elapsed between the time at which the first job batch was completed to the last batch completed.\n",
    "# '''"
   ]
  },
  {
   "cell_type": "code",
   "execution_count": null,
   "metadata": {},
   "outputs": [],
   "source": [
    "# Qn 5 (25 points)\n",
    "# Read the following (6_Part1.stl) triangular mesh file available in ASCII format. \n",
    "# For those of you aware of 3D printing, you will recognize this is as a .STL file. \n",
    "# For those who aren’t aware of what a .STL file is, please read up online on the format of a .STL ascii file. \n",
    "# An ASCII formatted .STL file can be opened in any text editor. \n",
    "# Every vertex of the triangle is preceeded by the word ‘vertex’ followed by the x, y and z coordinates. \n",
    "# Therefore, ONE Triangle should have 3 vertex entries. Typically, the units is not specified, \n",
    "# but you can assume it to be in millimeters. \n",
    "\n",
    "# Write functions that calculate the following: (20 points)\n",
    "# a.\tFind the total number of triangles listed in the file.\n",
    "# b.\tStore the coordinates of each triangle in a 3-tuple list containing N indices, where N is the total number of triangles.\n",
    "# c.\tList the area of each triangle in the file. Compute the total surface area of all triangles listed in the file. Read up online on the formula to calculate the area of a triangle, given three vertices.\n",
    "# '''"
   ]
  }
 ],
 "metadata": {
  "kernelspec": {
   "display_name": "base",
   "language": "python",
   "name": "python3"
  },
  "language_info": {
   "codemirror_mode": {
    "name": "ipython",
    "version": 3
   },
   "file_extension": ".py",
   "mimetype": "text/x-python",
   "name": "python",
   "nbconvert_exporter": "python",
   "pygments_lexer": "ipython3",
   "version": "3.9.12"
  },
  "orig_nbformat": 4,
  "vscode": {
   "interpreter": {
    "hash": "504af9dbaeab241701b42e0a4a2f2792546a36888d7345416987d6285d9bc5c8"
   }
  }
 },
 "nbformat": 4,
 "nbformat_minor": 2
}

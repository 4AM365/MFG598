{
 "cells": [
  {
   "cell_type": "code",
   "execution_count": 7,
   "metadata": {},
   "outputs": [
    {
     "ename": "TypeError",
     "evalue": "__str__ returned non-string (type NoneType)",
     "output_type": "error",
     "traceback": [
      "\u001b[1;31m---------------------------------------------------------------------------\u001b[0m",
      "\u001b[1;31mTypeError\u001b[0m                                 Traceback (most recent call last)",
      "\u001b[1;32mc:\\Code\\MFG598\\Homework\\wcraig_mfg598_hw4.ipynb Cell 1\u001b[0m in \u001b[0;36m<cell line: 77>\u001b[1;34m()\u001b[0m\n\u001b[0;32m     <a href='vscode-notebook-cell:/c%3A/Code/MFG598/Homework/wcraig_mfg598_hw4.ipynb#W0sZmlsZQ%3D%3D?line=72'>73</a>\u001b[0m album3\u001b[39m.\u001b[39madd_track(\u001b[39m\"\u001b[39m\u001b[39mA fifth Song to Cry For\u001b[39m\u001b[39m\"\u001b[39m)\n\u001b[0;32m     <a href='vscode-notebook-cell:/c%3A/Code/MFG598/Homework/wcraig_mfg598_hw4.ipynb#W0sZmlsZQ%3D%3D?line=73'>74</a>\u001b[0m \u001b[39m#4B\u001b[39;00m\n\u001b[0;32m     <a href='vscode-notebook-cell:/c%3A/Code/MFG598/Homework/wcraig_mfg598_hw4.ipynb#W0sZmlsZQ%3D%3D?line=74'>75</a>\u001b[0m \u001b[39m#write code to print the album contents\u001b[39;00m\n\u001b[1;32m---> <a href='vscode-notebook-cell:/c%3A/Code/MFG598/Homework/wcraig_mfg598_hw4.ipynb#W0sZmlsZQ%3D%3D?line=76'>77</a>\u001b[0m \u001b[39mprint\u001b[39;49m(album)\n",
      "\u001b[1;31mTypeError\u001b[0m: __str__ returned non-string (type NoneType)"
     ]
    }
   ],
   "source": [
    "# \"\"\"\n",
    "# Let's make a song playlist. Each playlist contains a bunch of songs and/or albums\n",
    "# The following functionality is to be coded into each class\n",
    "# 1) There are 4 classes: Song, Album, Artist and Playlist with the init method\n",
    "# 2) A Song has a title, artist, album it belongs to and track_number; \n",
    "# 4) An Album has a title, artist, year, track list of songs;\n",
    "# 5) An Artist has a name, albums list and songs list; A Playlist has a name and a \n",
    "# songs list\n",
    "# 6) Songs can be inserted to an album with each song having a track number\n",
    "# 7) Songs can be inserted or deleted from a Playlist\n",
    "# 8) Each song and album must be associated with an artist\n",
    "# In the main line of code, answer questions related to specific qns raised.\n",
    "# \"\"\"\n",
    "#4A\n",
    "#define 4 classes and associated methods based on above problem description\n",
    "class Song:\n",
    "    def __init__(self, title, artist, album, track_number):\n",
    "        #'self' works almost like a lambda value\n",
    "        #It just points to the contents of the file\n",
    "        #What we're doing in this block is making it so that we can call\n",
    "            #attributes for a class. So if we want songname.title, \n",
    "                #songname maps to class Song, then\n",
    "                    #self.title gets us the title value.\n",
    "        self.title = title\n",
    "        self.artist = artist\n",
    "        self.album = album\n",
    "        self.track_number = track_number\n",
    "class Album:\n",
    "    def __init__(self, title, artist, year):\n",
    "        self.title = title\n",
    "        self.artist = artist\n",
    "        self.year = year\n",
    "        self.songs = []\n",
    "\n",
    "    def add_track(self, title, artist=None):\n",
    "        self.songs.append(title)\n",
    "\n",
    "    def __str__(self):\n",
    "        pass\n",
    "    \n",
    "class Artist:\n",
    "    def __init__(self, name):\n",
    "        self.name = name\n",
    "        self.albums = []\n",
    "        self.songs = []\n",
    "    \n",
    "    def add_album(self, album):\n",
    "       self.albums.append(album)\n",
    "\n",
    "    def add_song(self, song):\n",
    "        self.songs.append(song)\n",
    "        \n",
    "class Playlist:\n",
    "    def __init__(self, name):\n",
    "        self.name = name\n",
    "        self.songs = []\n",
    "    def add_song(self, song):\n",
    "        self.songs.append(song)\n",
    "           \n",
    "#Make a Band, album object - add song tracks to the album\n",
    "band1 = Artist(\"Bob's Awesome Band\")\n",
    "album = Album(\"Bob's First Single\", band1, 2013)\n",
    "album.add_track(\"A Ballad about Lecturing\")\n",
    "album.add_track(\"A Ballad about Lecture+Programming (dance remix)\")\n",
    "album.add_track(\"A Third Song to Cry For\")\n",
    "band2 = Artist(\"Star's Band\")\n",
    "album2 = Album(\"Star's First Single\", band2, 2018)\n",
    "album2.add_track(\"A Karoake Song on Car Racing\")\n",
    "album2.add_track(\"A Poetic Song\")\n",
    "album2.add_track(\"Down to Earth\")\n",
    "album3 = Album(\"Bob's Second Attempt\", band1, 2017)\n",
    "album3.add_track(\"Really Bad\")\n",
    "album3.add_track(\"Done Bad (dance remix)\")\n",
    "album3.add_track(\"A fifth Song to Cry For\")\n",
    "#4B\n",
    "#write code to print the album contents\n",
    "\n",
    "print(album)\n",
    "\n",
    "#4C\n",
    "#write code to print the album contents using the __str__ method\n",
    "#4D \n",
    "#write code to print the playlist conten"
   ]
  }
 ],
 "metadata": {
  "kernelspec": {
   "display_name": "base",
   "language": "python",
   "name": "python3"
  },
  "language_info": {
   "codemirror_mode": {
    "name": "ipython",
    "version": 3
   },
   "file_extension": ".py",
   "mimetype": "text/x-python",
   "name": "python",
   "nbconvert_exporter": "python",
   "pygments_lexer": "ipython3",
   "version": "3.9.12"
  },
  "orig_nbformat": 4,
  "vscode": {
   "interpreter": {
    "hash": "504af9dbaeab241701b42e0a4a2f2792546a36888d7345416987d6285d9bc5c8"
   }
  }
 },
 "nbformat": 4,
 "nbformat_minor": 2
}

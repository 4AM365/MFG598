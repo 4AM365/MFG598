{
 "cells": [
  {
   "cell_type": "code",
   "execution_count": 2,
   "metadata": {},
   "outputs": [
    {
     "name": "stdout",
     "output_type": "stream",
     "text": [
      "Bob's First Single by <__main__.Artist object at 0x000001CA85B135E0> (2013)\n"
     ]
    },
    {
     "data": {
      "text/plain": [
       "\"Bob's First Single by <__main__.Artist object at 0x000001CA85B135E0> (2013)\""
      ]
     },
     "execution_count": 2,
     "metadata": {},
     "output_type": "execute_result"
    }
   ],
   "source": [
    "# \"\"\"\n",
    "# Let's make a song playlist. Each playlist contains a bunch of songs and/or albums\n",
    "# The following functionality is to be coded into each class\n",
    "# 1) There are 4 classes: Song, Album, Artist and Playlist with the init method\n",
    "# 2) A Song has a title, artist, album it belongs to and track_number; \n",
    "# 4) An Album has a title, artist, year, track list of songs;\n",
    "# 5) An Artist has a name, albums list and songs list; A Playlist has a name and a \n",
    "# songs list\n",
    "# 6) Songs can be inserted to an album with each song having a track number\n",
    "# 7) Songs can be inserted or deleted from a Playlist\n",
    "# 8) Each song and album must be associated with an artist\n",
    "# In the main line of code, answer questions related to specific qns raised.\n",
    "# \"\"\"\n",
    "#4A\n",
    "#define 4 classes and associated methods based on above problem description\n",
    "class Song:\n",
    "    def __init__(self, title, artist, album, track_number):\n",
    "        self.title = title\n",
    "        self.artist = artist\n",
    "        self.album = album\n",
    "        self.track_number = track_number\n",
    "        \n",
    "    def __str__(self):\n",
    "        return f\"{self.title} by {self.artist} on {self.album}\"\n",
    "        \n",
    "\n",
    "class Album:\n",
    "    def __init__(self, title, artist, year):\n",
    "        self.title = title\n",
    "        self.artist = artist\n",
    "        self.year = year\n",
    "        self.songs = []\n",
    "\n",
    "    def add_track(self, title, artist=None):\n",
    "        self.songs.append(title)\n",
    "\n",
    "    def __str__(self):\n",
    "        return f\"{self.title} by {self.artist} ({self.year})\"\n",
    "\n",
    "    \n",
    "class Artist:\n",
    "    def __init__(self, name):\n",
    "        self.name = name\n",
    "        self.albums = []\n",
    "        self.songs = []\n",
    "    \n",
    "    def add_album(self, album):\n",
    "        self.albums.append(album)\n",
    "\n",
    "    def add_song(self, song):\n",
    "        self.songs.append(song)\n",
    "        \n",
    "\n",
    "class Playlist:\n",
    "    def __init__(self, name):\n",
    "        self.name = name\n",
    "        self.songs = []\n",
    "\n",
    "    def add_song(self, song):\n",
    "        self.songs.append(song)\n",
    "           \n",
    "\n",
    "# Make a Band, album object - add song tracks to the album\n",
    "band1 = Artist(\"Bob's Awesome Band\")\n",
    "album = Album(\"Bob's First Single\", band1, 2013)\n",
    "song1 = Song(\"A Ballad about Lecturing\", band1, album, 1)\n",
    "song2 = Song(\"A Ballad about Lecture+Programming (dance remix)\", band1, album, 2)\n",
    "song3 = Song(\"A Third Song to Cry For\", band1, album, 3)\n",
    "album.add_track(song1)\n",
    "album.add_track(song2)\n",
    "album.add_track(song3)\n",
    "\n",
    "band2 = Artist(\"Star's Band\")\n",
    "album2 = Album(\"Star's First Single\", band2, 2018)\n",
    "song4 = Song(\"A Karoake Song on Car Racing\", band2, album2, 1)\n",
    "song5 = Song(\"A Poetic Song\", band2, album2, 2)\n",
    "song6 = Song(\"Down to Earth\", band2, album2, 3)\n",
    "album2.add_track(song4)\n",
    "album2.add_track(song5)\n",
    "album2.add_track(song6)\n",
    "\n",
    "album3 = Album(\"Bob's Second Attempt\", band1, 2017)\n",
    "song7 = Song(\"Really Bad\", band1, album3, 1)\n",
    "song8 = Song(\"Done Bad (dance remix)\", band1, album3, 2)\n",
    "song9 = Song(\"A fifth Song to Cry For\", band1, album3, 3)\n",
    "album3.add_track(song7)\n",
    "album3.add_track(song8)\n",
    "album3.add_track(song9)\n",
    "\n",
    "#4B\n",
    "#write code to print the album contents\n",
    "print(album)\n",
    "\n",
    "#4C\n",
    "#write code to print the album contents using the __str__ method\n",
    "album.__str__()\n",
    "\n",
    "#4D \n",
    "#write code to print the playlist conten\n",
    "\n"
   ]
  }
 ],
 "metadata": {
  "kernelspec": {
   "display_name": "base",
   "language": "python",
   "name": "python3"
  },
  "language_info": {
   "codemirror_mode": {
    "name": "ipython",
    "version": 3
   },
   "file_extension": ".py",
   "mimetype": "text/x-python",
   "name": "python",
   "nbconvert_exporter": "python",
   "pygments_lexer": "ipython3",
   "version": "3.9.12"
  },
  "orig_nbformat": 4,
  "vscode": {
   "interpreter": {
    "hash": "ad2bdc8ecc057115af97d19610ffacc2b4e99fae6737bb82f5d7fb13d2f2c186"
   }
  }
 },
 "nbformat": 4,
 "nbformat_minor": 2
}

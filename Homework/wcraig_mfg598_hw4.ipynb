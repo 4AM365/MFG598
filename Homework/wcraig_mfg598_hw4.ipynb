{
 "cells": [
  {
   "cell_type": "code",
   "execution_count": 22,
   "metadata": {},
   "outputs": [
    {
     "name": "stdout",
     "output_type": "stream",
     "text": [
      "Bob's First Single by <__main__.Artist object at 0x0000013C3379CA90> (2013)\n"
     ]
    },
    {
     "ename": "NameError",
     "evalue": "name 'playlist' is not defined",
     "output_type": "error",
     "traceback": [
      "\u001b[1;31m---------------------------------------------------------------------------\u001b[0m",
      "\u001b[1;31mNameError\u001b[0m                                 Traceback (most recent call last)",
      "\u001b[1;32mc:\\Code\\MFG598\\Homework\\wcraig_mfg598_hw4.ipynb Cell 1\u001b[0m in \u001b[0;36m<cell line: 100>\u001b[1;34m()\u001b[0m\n\u001b[0;32m     <a href='vscode-notebook-cell:/c%3A/Code/MFG598/Homework/wcraig_mfg598_hw4.ipynb#W0sZmlsZQ%3D%3D?line=95'>96</a>\u001b[0m album\u001b[39m.\u001b[39m\u001b[39m__str__\u001b[39m()\n\u001b[0;32m     <a href='vscode-notebook-cell:/c%3A/Code/MFG598/Homework/wcraig_mfg598_hw4.ipynb#W0sZmlsZQ%3D%3D?line=97'>98</a>\u001b[0m \u001b[39m#4D \u001b[39;00m\n\u001b[0;32m     <a href='vscode-notebook-cell:/c%3A/Code/MFG598/Homework/wcraig_mfg598_hw4.ipynb#W0sZmlsZQ%3D%3D?line=98'>99</a>\u001b[0m \u001b[39m#write code to print the playlist conten\u001b[39;00m\n\u001b[1;32m--> <a href='vscode-notebook-cell:/c%3A/Code/MFG598/Homework/wcraig_mfg598_hw4.ipynb#W0sZmlsZQ%3D%3D?line=99'>100</a>\u001b[0m \u001b[39mprint\u001b[39m(playlist)\n",
      "\u001b[1;31mNameError\u001b[0m: name 'playlist' is not defined"
     ]
    }
   ],
   "source": [
    "# \"\"\"\n",
    "# Let's make a song playlist. Each playlist contains a bunch of songs and/or albums\n",
    "# The following functionality is to be coded into each class\n",
    "# 1) There are 4 classes: Song, Album, Artist and Playlist with the init method\n",
    "# 2) A Song has a title, artist, album it belongs to and track_number; \n",
    "# 4) An Album has a title, artist, year, track list of songs;\n",
    "# 5) An Artist has a name, albums list and songs list; A Playlist has a name and a \n",
    "# songs list\n",
    "# 6) Songs can be inserted to an album with each song having a track number\n",
    "# 7) Songs can be inserted or deleted from a Playlist\n",
    "# 8) Each song and album must be associated with an artist\n",
    "# In the main line of code, answer questions related to specific qns raised.\n",
    "# \"\"\"\n",
    "#4A\n",
    "#define 4 classes and associated methods based on above problem description\n",
    "class Song:\n",
    "    def __init__(self, title, artist, album, track_number):\n",
    "        self.title = title\n",
    "        self.artist = artist\n",
    "        self.album = album\n",
    "        self.track_number = track_number\n",
    "        \n",
    "    def __str__(self):\n",
    "        return f\"{self.title} by {self.artist} on {self.album}\"\n",
    "        \n",
    "\n",
    "class Album:\n",
    "    def __init__(self, title, artist, year):\n",
    "        self.title = title\n",
    "        self.artist = artist\n",
    "        self.year = year\n",
    "        self.songs = []\n",
    "\n",
    "    def add_track(self, title, artist=None):\n",
    "        self.songs.append(title)\n",
    "\n",
    "    def __str__(self):\n",
    "        return f\"{self.title} by {self.artist} ({self.year})\"\n",
    "\n",
    "    \n",
    "class Artist:\n",
    "    def __init__(self, name):\n",
    "        self.name = name\n",
    "        self.albums = []\n",
    "        self.songs = []\n",
    "    \n",
    "    def add_album(self, album):\n",
    "        self.albums.append(album)\n",
    "\n",
    "    def add_song(self, song):\n",
    "        self.songs.append(song)\n",
    "        \n",
    "\n",
    "class Playlist:\n",
    "    def __init__(self, name):\n",
    "        self.name = name\n",
    "        self.songs = []\n",
    "\n",
    "    def add_song(self, song):\n",
    "        self.songs.append(song)\n",
    "           \n",
    "\n",
    "# Make a Band, album object - add song tracks to the album\n",
    "band1 = Artist(\"Bob's Awesome Band\")\n",
    "album = Album(\"Bob's First Single\", band1, 2013)\n",
    "song1 = Song(\"A Ballad about Lecturing\", band1, album, 1)\n",
    "song2 = Song(\"A Ballad about Lecture+Programming (dance remix)\", band1, album, 2)\n",
    "song3 = Song(\"A Third Song to Cry For\", band1, album, 3)\n",
    "album.add_track(song1)\n",
    "album.add_track(song2)\n",
    "album.add_track(song3)\n",
    "\n",
    "band2 = Artist(\"Star's Band\")\n",
    "album2 = Album(\"Star's First Single\", band2, 2018)\n",
    "song4 = Song(\"A Karoake Song on Car Racing\", band2, album2, 1)\n",
    "song5 = Song(\"A Poetic Song\", band2, album2, 2)\n",
    "song6 = Song(\"Down to Earth\", band2, album2, 3)\n",
    "album2.add_track(song4)\n",
    "album2.add_track(song5)\n",
    "album2.add_track(song6)\n",
    "\n",
    "album3 = Album(\"Bob's Second Attempt\", band1, 2017)\n",
    "song7 = Song(\"Really Bad\", band1, album3, 1)\n",
    "song8 = Song(\"Done Bad (dance remix)\", band1, album3, 2)\n",
    "song9 = Song(\"A fifth Song to Cry For\", band1, album3, 3)\n",
    "album3.add_track(song7)\n",
    "album3.add_track(song8)\n",
    "album3.add_track(song9)\n",
    "\n",
    "#4B\n",
    "#write code to print the album contents\n",
    "print(album)\n",
    "\n",
    "#4C\n",
    "#write code to print the album contents using the __str__ method\n",
    "album.__str__()\n",
    "\n",
    "#4D \n",
    "#write code to print the playlist conten\n",
    "print(playlist)\n"
   ]
  }
 ],
 "metadata": {
  "kernelspec": {
   "display_name": "base",
   "language": "python",
   "name": "python3"
  },
  "language_info": {
   "codemirror_mode": {
    "name": "ipython",
    "version": 3
   },
   "file_extension": ".py",
   "mimetype": "text/x-python",
   "name": "python",
   "nbconvert_exporter": "python",
   "pygments_lexer": "ipython3",
   "version": "3.9.12"
  },
  "orig_nbformat": 4,
  "vscode": {
   "interpreter": {
    "hash": "504af9dbaeab241701b42e0a4a2f2792546a36888d7345416987d6285d9bc5c8"
   }
  }
 },
 "nbformat": 4,
 "nbformat_minor": 2
}

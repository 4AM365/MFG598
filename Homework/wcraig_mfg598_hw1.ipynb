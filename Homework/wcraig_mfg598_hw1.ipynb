{
 "cells": [
  {
   "cell_type": "code",
   "execution_count": 20,
   "metadata": {},
   "outputs": [],
   "source": [
    "#William Craig\n",
    "#MFG598\n",
    "#HW1\n",
    "#01/18/2023"
   ]
  },
  {
   "cell_type": "code",
   "execution_count": 21,
   "metadata": {},
   "outputs": [
    {
     "name": "stdout",
     "output_type": "stream",
     "text": [
      "[1, 5, 7, 2, 7, 3, 3, 1, 6, 21, 5, 22, 11]\n"
     ]
    }
   ],
   "source": [
    "# Qn1\n",
    "# Combine the following lists to a single list\n",
    "x = [1,5,7,2]\n",
    "y = [7,3,3,1,6,21,5,22,11]\n",
    "x.extend(y)\n",
    "print(x)"
   ]
  },
  {
   "cell_type": "code",
   "execution_count": 22,
   "metadata": {},
   "outputs": [
    {
     "name": "stdout",
     "output_type": "stream",
     "text": [
      "The list contains 34,20,1\n"
     ]
    }
   ],
   "source": [
    "# Qn 2 Write a script that asks the user for three numbers. Each time the user \n",
    "# inputs the number, convert the input value to an integer using the floor() method. \n",
    "# Each integer must be appended to a list. For example:\n",
    "# Enter the value: 34.2\n",
    "# Enter the value: 20.0\n",
    "# Enter the value: 1\n",
    "# The list contains 34,20,1\n",
    "import math\n",
    "num_a = math.floor(float(input(\"Enter the value: 34.2: \")))\n",
    "num_b = math.floor(float(input(\"Enter the value: 20.0: \")))\n",
    "num_c = math.floor(float(input(\"Enter the value: 1: \")))\n",
    "print(f\"The list contains {num_a},{num_b},{num_c}\")"
   ]
  },
  {
   "cell_type": "code",
   "execution_count": 23,
   "metadata": {},
   "outputs": [
    {
     "name": "stdout",
     "output_type": "stream",
     "text": [
      "{1, 10}\n"
     ]
    }
   ],
   "source": [
    "# Qn2\n",
    "# Take 2 unequal list and create a new list that \n",
    "# contains only numbers common to both lists\n",
    "\n",
    "def common_numbers(a,b):\n",
    "    a_s = set(a)\n",
    "    b_s = set(b)\n",
    "    if (a_s & b_s):\n",
    "        print(a_s & b_s)\n",
    "\n",
    "a=[1, 5, 2, 5, 33, 10, 2]\n",
    "b=[50, 20, 1, 4, 22, 11, 3, 6, 50, 20, 10, 3, 55]\n",
    "common_numbers(a, b)"
   ]
  },
  {
   "cell_type": "code",
   "execution_count": 24,
   "metadata": {},
   "outputs": [
    {
     "name": "stdout",
     "output_type": "stream",
     "text": [
      "The total occurrences of 'and' in the passage is: 6\n",
      "The number of sentences is: 4\n"
     ]
    }
   ],
   "source": [
    "# Qn3\n",
    "# # Count how many times the word 'and' appears in this paragraph.\n",
    "# # Break the paragraph into individual bag of words\n",
    "# # print total number of individual words in the paragraph\n",
    "# # Break the paragraph into sentences separated by the full stop\n",
    "# # print number of whole sentences in this new broken up list\n",
    "paragraph = \"Walk into the Library this week and you’ll be greeted not by the towering Bookstacks but by soft, hanging lights and a grand, open staircase. Faculty offices so small they weren’t accessible have been removed, and long windows looking out onto campus are now dotted along the walls. Colorful chairs and wide tables are still spread across the floors, but the library is brighter, more spacious and more welcoming after a yearlong renovation.\"\n",
    "\n",
    "#If I answer question 3 in the order it is presented, I'll have to count the occurrences of 'and' in the string first.\n",
    "    #This is possible with regex or sum() and split(), but if we're going to split(\" \") the paragraph anyway, we may as well use a few loops to iterate a counting flag.\n",
    "    #I find this simpler and easier to understand and format.\n",
    "        #What is the computational headroom on this? Perhaps I'll try both and compare the runtime later.\n",
    "\n",
    "words = paragraph.split(\" \")\n",
    "#print(words)\n",
    "\n",
    "count = 0\n",
    "for words in words:\n",
    "    if 'and' in words:\n",
    "        count+=1\n",
    "\n",
    "print(f\"The total occurrences of 'and' in the passage is: {count}\")\n",
    "\n",
    "\n",
    "sentences = paragraph.split(\".\")\n",
    "#Could count the # of sentences a few ways: iterate a counter, use len() of a split value, or more. \n",
    "# I chose len() because we're already splitting it anyway, per the question.\n",
    "print(f\"The number of sentences is: {len(sentences)}\")\n",
    "\n"
   ]
  },
  {
   "cell_type": "code",
   "execution_count": 25,
   "metadata": {},
   "outputs": [
    {
     "name": "stdout",
     "output_type": "stream",
     "text": [
      "A random movie is: Star Wars\n",
      "Does it start with G? False\n"
     ]
    }
   ],
   "source": [
    "# Qn4\n",
    "# Find Movies that start with a letter G \n",
    "movies= [\"Star Wars\", \"Batman\", \"Gone with the Wind\", \"Shawshank Redemption\"]\n",
    "# Randomly Select 1 movie from the list and check if it starts\n",
    "# with \"G\". \n",
    "# Print True or False for the above check\n",
    "# Do not use loops or Conditional statements\n",
    "\n",
    "\n",
    "#First, we select a movie at random. This implies use of the random library and randint.\n",
    "\n",
    "import random\n",
    "\n",
    "#We generate a random integer which will refer to the index \n",
    "\n",
    "movie = random.choice(movies)\n",
    "print(f\"A random movie is: {movie}\")\n",
    "TF = movie[0] == \"G\"\n",
    "#This was hard to find! startswith works here. It is technically a conditional statement.\n",
    "print(f\"Does it start with G? {TF}\")\n"
   ]
  },
  {
   "cell_type": "code",
   "execution_count": 26,
   "metadata": {},
   "outputs": [
    {
     "name": "stdout",
     "output_type": "stream",
     "text": [
      "[['Red', 7], ['Red', 17], ['Red', 8], ['Red', 10], ['Red', 8], ['Blue', 7], ['Blue', 16], ['Blue', 10], ['Blue', 16], ['Blue', 1]]\n",
      "Score 1 equals: ['Red', 17]\n",
      "Score 2 equals: ['Red', 7]\n",
      "Score 3 equals: ['Blue', 16]\n",
      "Score 4 equals: ['Blue', 1]\n",
      "Score 5 equals: ['Blue', 16]\n"
     ]
    }
   ],
   "source": [
    "# Qn5\n",
    "# Generate a Ball List which should contain 5 colored balls \n",
    "# each with an associated integer value.\n",
    "# The Ball List is colored to have exactly 5 Red and 5 Blue Balls.\n",
    "# Each colored ball has a randomly selected score value\n",
    "# between 1 and 20\n",
    "# Print the Original Ball List\n",
    "# Randomly Sample 5 balls from this ball List.\n",
    "# Print the total value of the scores on each of the 5 sampled Balls.\n",
    "# DO NOT USE FOR-LOOPS\n",
    "\n",
    "#ball list has 5 colored balls - not necessarily red or blue\n",
    "#each ball has an integer value associated with it - this sounds like a dictionary, not a list?\n",
    "#perhaps each color has a value, e.g. 1=yellow\n",
    "\n",
    "red = [['Red', random.randint(1,20)] for _ in range(5)]\n",
    "blue = [['Blue', random.randint(1,20)] for _ in range(5)]\n",
    "\n",
    "list = red+blue\n",
    "print(list)\n",
    "\n",
    "print(f\"Score 1 equals: {list[random.randint(0,9)]}\")\n",
    "print(f\"Score 2 equals: {list[random.randint(0,9)]}\")\n",
    "print(f\"Score 3 equals: {list[random.randint(0,9)]}\")\n",
    "print(f\"Score 4 equals: {list[random.randint(0,9)]}\")\n",
    "print(f\"Score 5 equals: {list[random.randint(0,9)]}\")"
   ]
  },
  {
   "cell_type": "code",
   "execution_count": 27,
   "metadata": {},
   "outputs": [
    {
     "name": "stdout",
     "output_type": "stream",
     "text": [
      "Throw 1: 2, 5\n",
      "Throw 2: 6, 1\n",
      "Throw 3: 3, 1\n",
      "Sum of all scores is equal to 18\n"
     ]
    }
   ],
   "source": [
    "# Qn 6\n",
    "# A user has two standard dices. Each dice has faces values from 1 through 6. \n",
    "# The user throws each set of two dices 3 times. Simulate this action using a Python \n",
    "# script. \n",
    "# For the three throws, print the total sum of the scores obtained. (Do not use For \n",
    "# Loops).\n",
    "# For ex.\n",
    "# Throw 1: 3, 5\n",
    "# Throw 2: 3, 1\n",
    "# Throw 3: 6, 6\n",
    "# Total: 24\n",
    "\n",
    "#Two standard die - 6 sided\n",
    "#Simulate a throw of the set 3 times\n",
    "#print sum of scores\n",
    "\n",
    "import random\n",
    "one = random.randint(1, 6)\n",
    "two = random.randint(1, 6)\n",
    "three = random.randint(1, 6)\n",
    "four = random.randint(1, 6)\n",
    "five = random.randint(1, 6)\n",
    "six = random.randint(1, 6)\n",
    "score_sum = (one + two + three + four + five + six)\n",
    "print(f\"Throw 1: {one}, {two}\")\n",
    "print(f\"Throw 2: {three}, {four}\")\n",
    "print(f\"Throw 3: {five}, {six}\")\n",
    "print(f\"Sum of all scores is equal to {score_sum}\")"
   ]
  },
  {
   "cell_type": "code",
   "execution_count": 28,
   "metadata": {},
   "outputs": [
    {
     "name": "stdout",
     "output_type": "stream",
     "text": [
      "The new list is: [10, 20.0, 11, 12.3, 30, 23, 33]\n"
     ]
    }
   ],
   "source": [
    "# Qn 7\n",
    "# For any given list containing a mix of integers and float values, find the sum, \n",
    "# min and max of values within the list. Delete the minimum value from the original \n",
    "# list to create a new list. Please note that your solution must work on any length \n",
    "# of list and that the original list should remain unchanged. Assume that only unique\n",
    "# values exist within the given list. For example, a sample solution might look like \n",
    "# this:\n",
    "# Given List:\n",
    "A = [10, 0.1, 20.0, 11, 12.3, 30, 23, 33]\n",
    "#Sum: 139.4\n",
    "#Min: 0.1\n",
    "#Max: 33\n",
    "# Original List, A is: [10, 0.1, 20.0, 11, 12.3, 30, 23, 33]\n",
    "# New List, B is: [10, 20.0, 11, 12.3, 30, 23, 33]\n",
    "\n",
    "#I initially tried this and I'm not sure why it returns 'none.':\n",
    "#print(A.remove(min(A)))\n",
    "\n",
    "#This iterates through each element of the list and makes sure that it's not the minimum value.\n",
    "newlist = [x for x in A if x != min(A)]\n",
    "print(f\"The new list is: {newlist}\")"
   ]
  },
  {
   "cell_type": "code",
   "execution_count": 29,
   "metadata": {},
   "outputs": [
    {
     "name": "stdout",
     "output_type": "stream",
     "text": [
      "{'Binil': [83, 100], 'Starly': [100, 93], 'Ethan': [99, 93], 'Evan': [19, 34]}\n",
      "Evan's scores are: [19, 34]\n"
     ]
    }
   ],
   "source": [
    "# Qn 8\n",
    "# Write a program to define a dictionary object with the following table that \n",
    "# describes the first names of the students and their corresponding scores for \n",
    "# Exams 1 and Exam 2. Using the dictionary object, \n",
    "# print the score associated with Exam 2 of the student – ‘Evan’.\n",
    "# Name Exam 1 Exam 2\n",
    "# Binil  83      100\n",
    "# Starly 100      93\n",
    "# Ethan 99      93\n",
    "# Evan 19      34\n",
    "\n",
    "students = {\n",
    "}\n",
    "\n",
    "students[\"Binil\"] = [83, 100]\n",
    "students[\"Starly\"] = [100, 93] \n",
    "students[\"Ethan\"] = [99, 93]\n",
    "students[\"Evan\"] = [19, 34]\n",
    "print(students)\n",
    "\n",
    "Evan = students[\"Evan\"]\n",
    "\n",
    "#Can't seem to nest {students[\"Evan\"]} in here. \n",
    "print(f\"Evan's scores are: {Evan}\") \n",
    "\n"
   ]
  }
 ],
 "metadata": {
  "kernelspec": {
   "display_name": "base",
   "language": "python",
   "name": "python3"
  },
  "language_info": {
   "codemirror_mode": {
    "name": "ipython",
    "version": 3
   },
   "file_extension": ".py",
   "mimetype": "text/x-python",
   "name": "python",
   "nbconvert_exporter": "python",
   "pygments_lexer": "ipython3",
   "version": "3.9.12"
  },
  "orig_nbformat": 4,
  "vscode": {
   "interpreter": {
    "hash": "ad2bdc8ecc057115af97d19610ffacc2b4e99fae6737bb82f5d7fb13d2f2c186"
   }
  }
 },
 "nbformat": 4,
 "nbformat_minor": 2
}

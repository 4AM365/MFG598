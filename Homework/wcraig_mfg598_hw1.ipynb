{
 "cells": [
  {
   "cell_type": "code",
   "execution_count": null,
   "metadata": {},
   "outputs": [
    {
     "ename": "",
     "evalue": "",
     "output_type": "error",
     "traceback": [
      "\u001b[1;31mFailed to start the Kernel. \n",
      "\u001b[1;31mView Jupyter <a href='command:jupyter.viewOutput'>log</a> for further details."
     ]
    }
   ],
   "source": [
    "# Qn1\n",
    "# Combine the following lists to a single list\n",
    "# x = [1,5,7,2]\n",
    "# y = [7,3,3,1,6,21,5,22,11]"
   ]
  },
  {
   "cell_type": "code",
   "execution_count": null,
   "metadata": {},
   "outputs": [],
   "source": [
    "# Qn 2 Write a script that asks the user for three numbers. Each time the user \n",
    "# inputs the number, convert the input value to an integer using the floor() method. \n",
    "# Each integer must be appended to a list. For example:\n",
    "# Enter the value: 34.2\n",
    "# Enter the value: 20.0\n",
    "# Enter the value: 1\n",
    "# The list contains 34,20,1"
   ]
  },
  {
   "cell_type": "code",
   "execution_count": null,
   "metadata": {},
   "outputs": [],
   "source": [
    "# Qn2\n",
    "# Take 2 unequal list and create a new list that \n",
    "# contains only numbers common to both lists\n",
    "# a=[1, 5, 2, 5, 33, 10, 2]\n",
    "# b=[50, 20, 1, 4, 22, 11, 3, 6, 50, 20, 10, 3, 55]"
   ]
  },
  {
   "cell_type": "code",
   "execution_count": null,
   "metadata": {},
   "outputs": [],
   "source": [
    "# Qn3\n",
    "# # Count how many times the word 'and' appears in this paragraph.\n",
    "# # Break the paragraph into individual bag of words\n",
    "# # print total number of individual words in the paragraph\n",
    "# # Break the paragraph into sentences separated by the full stop\n",
    "# # print number of whole sentences in this new broken up list\n",
    "# paragraph = \"Walk into the Library this week\"+\" and you’ll be greeted not by the \n",
    "# towering Bookstacks but by soft,\"+\n",
    "#             \" hanging lights and a grand, open staircase. Faculty offices\"+\n",
    "#             \" so small they weren’t accessible have been removed, and long\"+\n",
    "#             \" windows looking out onto campus are now dotted along the walls.\"+\n",
    "#             \" Colorful chairs and wide tables are still spread across the\"+\n",
    "#             \" floors, but the library is brighter, more spacious and more\"+\n",
    "#             \" welcoming after a yearlong renovation.\""
   ]
  },
  {
   "cell_type": "code",
   "execution_count": null,
   "metadata": {},
   "outputs": [],
   "source": [
    "# Qn4\n",
    "# Find Movies that start with a letter G \n",
    "# movies= [\"Star Wars\", \"Batman\", \"Gone with the Wind\", \"Shawshank Redemption\"]\n",
    "# Randomly Select 1 movie from the list and check if it starts\n",
    "# with \"G\".\n",
    "# Print True or False for the above check\n",
    "# Do not use loops or Conditional statements"
   ]
  },
  {
   "cell_type": "code",
   "execution_count": null,
   "metadata": {},
   "outputs": [],
   "source": [
    "# Qn5\n",
    "# Generate a Ball List which should contain 5 colored balls \n",
    "# each with an associated integer value.\n",
    "# The Ball List is colored to have exactly 5 Red and 5 Blue Balls.\n",
    "# Each colored ball has a randomly selected score value\n",
    "# between 1 and 20\n",
    "# Print the Original Ball List\n",
    "# Randomly Sample 5 balls from this ball List.\n",
    "# Print the total value of the scores on each of the 5 sampled Balls.\n",
    "# DO NOT USE FOR-LOOPS"
   ]
  },
  {
   "cell_type": "code",
   "execution_count": null,
   "metadata": {},
   "outputs": [],
   "source": [
    "# Qn 6\n",
    "# A user has two standard dices. Each dice has faces values from 1 through 6. \n",
    "# The user throws each set of two dices 3 times. Simulate this action using a Python \n",
    "# script. \n",
    "# For the three throws, print the total sum of the scores obtained. (Do not use For \n",
    "# Loops).\n",
    "# For ex.\n",
    "# Throw 1: 3, 5\n",
    "# Throw 2: 3, 1\n",
    "# Throw 3: 6, 6\n",
    "# Total: 24"
   ]
  },
  {
   "cell_type": "code",
   "execution_count": null,
   "metadata": {},
   "outputs": [],
   "source": [
    "# Qn 7\n",
    "# For any given list containing a mix of integers and float values, find the sum, \n",
    "# min and max of values within the list. Delete the minimum value from the original \n",
    "# list to create a new list. Please note that your solution must work on any length \n",
    "# of list and that the original list should remain unchanged. Assume that only unique\n",
    "# values exist within the given list. For example, a sample solution might look like \n",
    "# this:\n",
    "# Given List:\n",
    "# A = [10, 0.1, 20.0, 11, 12.3, 30, 23, 33]\n",
    "# Sum: 139.4\n",
    "# Min: 0.1\n",
    "# Max: 33\n",
    "# Original List, A is: [10, 0.1, 20.0, 11, 12.3, 30, 23, 33]\n",
    "# New List, B is: [10, 20.0, 11, 12.3, 30, 23, 33]"
   ]
  },
  {
   "cell_type": "code",
   "execution_count": null,
   "metadata": {},
   "outputs": [],
   "source": [
    "# Qn 8\n",
    "# Write a program to define a dictionary object with the following table that \n",
    "# describes the first names of the students and their corresponding scores for \n",
    "# Exams 1 and Exam 2. Using the dictionary object, \n",
    "# print the score associated with Exam 2 of the student – ‘Evan’.\n",
    "# Name Exam 1 Exam 2\n",
    "# Binil  83      100\n",
    "# Starly 100      93\n",
    "# Ethan 99      93\n",
    "# Evan 19      34"
   ]
  }
 ],
 "metadata": {
  "kernelspec": {
   "display_name": "\"Python/Mu (mu_venv-38-20211012-164749)\"",
   "language": "python",
   "name": "mu_venv-38-20211012-164749"
  },
  "orig_nbformat": 4,
  "vscode": {
   "interpreter": {
    "hash": "bebd21f8376d1efdd6cf0ff73edf2af7c205a03d13b804eb0aba7a0c46bdc076"
   }
  }
 },
 "nbformat": 4,
 "nbformat_minor": 2
}

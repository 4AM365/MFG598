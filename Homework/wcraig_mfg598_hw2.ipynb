{
 "cells": [
  {
   "cell_type": "code",
   "execution_count": 1,
   "metadata": {},
   "outputs": [
    {
     "data": {
      "text/plain": [
       "24"
      ]
     },
     "execution_count": 1,
     "metadata": {},
     "output_type": "execute_result"
    }
   ],
   "source": [
    "# Qn1\n",
    "# Find if the word 'is' exists in the paraph and count how many times\n",
    "paragraph = \"Walk into the Library this week\"+\" and you’ll be greeted not by the towering Bookstacks but by soft, hanging lights and a grand, open staircase. Faculty offices so small they weren’t accessible have been removed, and long windows looking out onto campus are now dotted along the walls. Colorful chairs and wide tables are still spread across the floors, but the library is brighter, more spacious and more welcoming after a yearlong renovation.\"\n",
    "\n",
    "paragraph.find(\"is\")"
   ]
  },
  {
   "cell_type": "code",
   "execution_count": 1,
   "metadata": {},
   "outputs": [
    {
     "name": "stdout",
     "output_type": "stream",
     "text": [
      "We'll have 4 games.\n",
      "Scissors beats paper!\n",
      "Scissors cuts paper. Try again!\n",
      "Scissors cuts paper!\n",
      "Scissors beats paper!\n",
      "Scissors cuts paper. Try again!\n",
      "Scissors cuts paper!\n",
      "Scissors beats paper!\n",
      "Scissors cuts paper. Try again!\n",
      "Scissors cuts paper!\n",
      "Scissors beats paper!\n",
      "Scissors cuts paper. Try again!\n",
      "Scissors cuts paper!\n",
      "Your score is 1.\n",
      "The computer's score is 1\n"
     ]
    }
   ],
   "source": [
    "# Qn 2\n",
    "# Let’s play Rock, Paper and Scissors. Devise a program that lets the user \n",
    "# play the game with the Computer for a specified number of attempts. For each \n",
    "# attempt, \n",
    "# the user inputs his/her hand and the computer randomly picks one from the list. \n",
    "# If you know the game – Rock beats Scissors; Paper beats Rock; Scissors beats Paper.\n",
    "# The algorithm should also track the score for the user and the Computer until the \n",
    "# end of the game.  \n",
    "# A sample I/O is shown as follows:\n",
    "# Input:\n",
    "# Welcome to the Game. My name is “RoPaSc” Gamer\n",
    "# Enter number of attempts: 5\n",
    "# Enter your name: Binil\n",
    "# Input:\n",
    "# Attempt 1: Show your Hand: Rock\n",
    "# Output\n",
    "# Sorry, you lost. Computer picked Paper. \n",
    "# Score: User: 0; Computer: 1\n",
    "# Input\n",
    "# Attempt 2: Show your Hand: Paper\n",
    "# Output\n",
    "# Sorry, you lost: Computer picked Rock\n",
    "# Score: User: 0; Computer: 2\n",
    "# ..\n",
    "# ..\n",
    "# (After the 5 attempts are over, the algorithm should display who won the game)\n",
    "# Output:\n",
    "# Congratulations Computer, you won the game! Sorry, Binil, you lost.\n",
    "# Final Score: Binil - 2; Computer - 3\n",
    "\n",
    "#possible strategies for this:\n",
    "#\">\" architecture where we accept various input strings and assign them a value\n",
    "#Then if playerinput > randominput, increment score ++\n",
    "#Another method: use nested 'if' structure with == for the range of inputs i.e. (\"Rock\" && \"rock\")\n",
    "\n",
    "import random\n",
    "attempts = int(input(\"Let's play rock, paper, scissors. Please input the number of games:\"))\n",
    "print(f\"We'll have {attempts} games.\")\n",
    "name = input(\"What's your name?\")\n",
    "\n",
    "\n",
    "threehands = [\"Rock\", \"Paper\", \"Scissors\"]\n",
    "playerscore = 0\n",
    "computerscore = 0\n",
    "\n",
    "for x in range(attempts):  \n",
    "    hand = input(\"Okay, rock, paper, or scissors?\")\n",
    "    computerhand = random.choice(threehands)\n",
    "    if(hand == computerhand):\n",
    "        print(\"It's a draw! Try again.\")\n",
    "\n",
    "    if(hand == \"Rock\" or hand == \"rock\"):\n",
    "        if(computerhand == \"Paper\"):\n",
    "            print(\"Paper covers rock! Try again.\")\n",
    "            computerscore =+ 1\n",
    "        else:\n",
    "            print(\"Scissors beats paper!\")\n",
    "            playerscore =+ 1\n",
    "\n",
    "\n",
    "    if(hand == \"Paper\" or hand == \"paper\"):\n",
    "        if(computerhand == \"Scissors\"):\n",
    "            print(\"Scissors cuts paper. Try again!\")\n",
    "            computerscore =+ 1 \n",
    "        else:\n",
    "            print(\"Paper covers rock!\")\n",
    "            playerscore =+ 1\n",
    "\n",
    "\n",
    "    if(hand == \"Scissors\" or hand == \"scissors\"):\n",
    "        if(computerhand == \"Rock\"):\n",
    "            print(\"Rock breaks scissors. Try again!\")\n",
    "            computerscore =+1\n",
    "        else:\n",
    "            print(\"Scissors cuts paper!\")\n",
    "            playerscore =+ 1\n",
    "\n",
    "\n",
    "print(f\"Your score is {playerscore}.\")\n",
    "print(f\"The computer's score is {computerscore}\")"
   ]
  },
  {
   "cell_type": "code",
   "execution_count": null,
   "metadata": {},
   "outputs": [],
   "source": [
    "# Qn 3 \n",
    "# Erin plays a lottery game called – “Choose a number and win $’, in which the player\n",
    "# must first select a number, N and \n",
    "# she will then be awarded money, M in $ based on the N selected. She is only allowed\n",
    "# to choose from 1 to 100. The pattern goes as follows:\n",
    "# N 1 2 3 4 5 6 7 8 9 10 11 12 13\n",
    "# 14 15 16 17 18 19 20 21 22 23 24 ..\n",
    "# M 3 2 1 6 5 4 3 2 1 12 11 10 9\n",
    "# 8 7 6 5 4 3 2 1 24 23 22 ..\n",
    "# For example, if Erin chooses '12' from the table she gets $10. She has 5 attempts. \n",
    "# After the 5th attempt, the game ends.\n",
    "# a. Write a program that will first generate the dictionary as shown above. \n",
    "# Confirm if the dictionary has been generated correctly based on the pattern seen \n",
    "# above.\n",
    "# b. Present a user input choice to allow Erin to enter 5 numbers between 1 and \n",
    "# 100. Check if the user inputs are between 1 and 100. If not, ask the user to input \n",
    "# again.\n",
    "# c. Then display the total $ won by Erin based on the 5 input numbers"
   ]
  },
  {
   "cell_type": "code",
   "execution_count": null,
   "metadata": {},
   "outputs": [],
   "source": [
    "# Qn 4\n",
    "# Write a function that accepts a single argument as a list. \n",
    "# It should return to the main function a new list that contains only names that have\n",
    "# 6 or more characters in them. For example:\n",
    "# Assign \n",
    "# nameList = [‘Binil’, ’Starly’, ’Ethan’, ‘Evan’, ‘Rachel’, ‘Aria’, ’Claudia’]\n",
    "# Your code should output the following:\n",
    "# longNames = [’Starly’, ‘Rachel’, ‘Claudia’]"
   ]
  },
  {
   "cell_type": "code",
   "execution_count": null,
   "metadata": {},
   "outputs": [],
   "source": [
    "# Qn 5\n",
    "# The future value of money, relates how much a current investment will be worth in \n",
    "# the future, assuming a constant interest rate.\n",
    "# FV = PV * (1 + Int)^n\n",
    "# Where FV = future value; PV = Present value; Int = interest rate per compounding \n",
    "# period expressed as a fraction, ex 5% as 0.05; n = compounding periods (12)\n",
    "# Write a Python function to calculate FV with the three inputs (PV, Int, n). \n",
    "# Dr Starly has three options to decide on where to invest $10,000, as given by the \n",
    "# table. \n",
    "# Generate an output that displays the value in his account every year until the \n",
    "# maturity year.\n",
    "# Financial Institution Int. Rate per month   Min. Years\n",
    "# NC Capital Bank              4.3%              6\n",
    "# Mutual funds              3.6%              5\n",
    "# Allie Bank                  2.5%                1"
   ]
  }
 ],
 "metadata": {
  "kernelspec": {
   "display_name": "base",
   "language": "python",
   "name": "python3"
  },
  "language_info": {
   "codemirror_mode": {
    "name": "ipython",
    "version": 3
   },
   "file_extension": ".py",
   "mimetype": "text/x-python",
   "name": "python",
   "nbconvert_exporter": "python",
   "pygments_lexer": "ipython3",
   "version": "3.9.12"
  },
  "orig_nbformat": 4,
  "vscode": {
   "interpreter": {
    "hash": "504af9dbaeab241701b42e0a4a2f2792546a36888d7345416987d6285d9bc5c8"
   }
  }
 },
 "nbformat": 4,
 "nbformat_minor": 2
}

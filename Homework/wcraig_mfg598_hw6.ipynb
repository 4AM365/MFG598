{
 "cells": [
  {
   "attachments": {},
   "cell_type": "markdown",
   "metadata": {},
   "source": [
    "A cleaning services company compiled the following data related to the annual profit of the firm to its\n",
    "annual Facebook advertising campaign (measured in thousands) as shown in the table below\n",
    "Advertising\n",
    "Expenditure\n",
    "12 14 17 21 26 30\n",
    "Profit 60 70 90 100 100 120\n",
    "a) Find the best least squares fit to the data in the form of a straight line given by y = mx + c by\n",
    "writing a numpy program.\n",
    "b) Plot the points and least square fit line using matplotlib.\n",
    "c) Calculate the profit if the company allocates in its next FB campaign with a $50,000 budget\n",
    "allocation. Report the value in $ currency."
   ]
  },
  {
   "attachments": {},
   "cell_type": "markdown",
   "metadata": {},
   "source": [
    "Using code, open and read the contents of the files contained with the “bunchofJSONS.zip”\n",
    "file. For each file read, enter the contents of the JSON file into a Pandas Dataframe. The value\n",
    "of the ‘volume’ key in each of the JSON file is expressed in cubic mm. Update each value in\n",
    "the dataframe to convert the value into cubic inches (using the .apply() or .map() method).\n",
    "Calculate the total volume of all the objects in cubic inches."
   ]
  },
  {
   "attachments": {},
   "cell_type": "markdown",
   "metadata": {},
   "source": [
    "3) Read the ‘sales.csv’ file into a pandas dataframe. Split the Location column into two additional\n",
    "columns of City and State. The new dataframe should retain the original column but with two\n",
    "additional columns added"
   ]
  },
  {
   "attachments": {},
   "cell_type": "markdown",
   "metadata": {},
   "source": [
    "4) With respect to the same dataframe created above from sales.csv, answer the following\n",
    "questions:\n",
    "a. Which Item‐Type was sold the most?\n",
    "b. Which Item‐Type generated the most revenue?\n",
    "c. For items that were sold below 1000 units, which item‐type generated the most\n",
    "total‐profit?\n",
    "d. What item‐types were sold in the State – ‘AZ’?"
   ]
  }
 ],
 "metadata": {
  "kernelspec": {
   "display_name": "base",
   "language": "python",
   "name": "python3"
  },
  "language_info": {
   "name": "python",
   "version": "3.9.12"
  },
  "orig_nbformat": 4
 },
 "nbformat": 4,
 "nbformat_minor": 2
}

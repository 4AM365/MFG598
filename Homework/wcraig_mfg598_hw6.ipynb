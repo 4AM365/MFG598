{
 "cells": [
  {
   "attachments": {},
   "cell_type": "markdown",
   "metadata": {},
   "source": [
    "1. A cleaning services company compiled the following data related to the annual profit of the firm to its\n",
    "annual Facebook advertising campaign (measured in thousands) as shown in the table below\n",
    "\n",
    "| Advertising Expenditure | Profit |\n",
    "|------------------------|--------|\n",
    "| 12                     | 60     |\n",
    "| 14                     | 70     |\n",
    "| 17                     | 90     |\n",
    "| 21                     | 100    |\n",
    "| 26                     | 100    |\n",
    "| 30                     | 120    |\n",
    "\n",
    "a) Find the best least squares fit to the data in the form of a straight line given by y = mx + c by\n",
    "writing a numpy program.\n",
    "\n",
    "b) Plot the points and least square fit line using matplotlib.\n",
    "\n",
    "c) Calculate the profit if the company allocates in its next FB campaign with a 50,000 budget allocation. Report the value in $ currency."
   ]
  },
  {
   "cell_type": "code",
   "execution_count": 22,
   "metadata": {},
   "outputs": [
    {
     "data": {
      "text/plain": [
       "[<matplotlib.lines.Line2D at 0x165c7242d60>]"
      ]
     },
     "execution_count": 22,
     "metadata": {},
     "output_type": "execute_result"
    },
    {
     "data": {
      "image/png": "[encoded data removed]",
      "text/plain": [
       "<Figure size 432x288 with 1 Axes>"
      ]
     },
     "metadata": {
      "needs_background": "light"
     },
     "output_type": "display_data"
    }
   ],
   "source": [
    "import numpy as np\n",
    "#Cannot just import matplot lib here. Need pyplot.\n",
    "import matplotlib.pyplot as plot\n",
    "#best least squares implies the use of NumPy polyfit\n",
    "\n",
    "#Let's start by creating arrays that represent the table.\n",
    "adv_exp = np.array([12, 14, 17, 21, 26, 30])\n",
    "profit = np.array([60,70,90,100,100,120])\n",
    "\n",
    "# A best-squares fit is achieved with a degree. We will arbitrarily assume a degree of 3.as_integer_ratio\n",
    "\n",
    "coefficients = np.polyfit(adv_exp, profit, deg = 3)\n",
    "\n",
    "x = np.linspace(0,30,100)\n",
    "\n",
    "y_fit = np.polyval(coefficients, x)\n",
    "\n",
    "#Creating scatter plot with expense as x axis and profit as y. \n",
    "    #Can include a third term label = 'xyz' if desired\n",
    "plot.scatter(adv_exp, profit)\n",
    "#This overlays the 'line of best fit'.\n",
    "plot.plot(x, y_fit)\n",
    "\n"
   ]
  },
  {
   "attachments": {},
   "cell_type": "markdown",
   "metadata": {},
   "source": [
    "2) Using code, open and read the contents of the files contained with the “bunchofJSONS.zip”\n",
    "file. For each file read, enter the contents of the JSON file into a Pandas Dataframe. The value\n",
    "of the ‘volume’ key in each of the JSON file is expressed in cubic mm. Update each value in\n",
    "the dataframe to convert the value into cubic inches (using the .apply() or .map() method).\n",
    "Calculate the total volume of all the objects in cubic inches."
   ]
  },
  {
   "cell_type": "code",
   "execution_count": 45,
   "metadata": {},
   "outputs": [
    {
     "name": "stdout",
     "output_type": "stream",
     "text": [
      "Total volume is: 35034.52455916718\n"
     ]
    }
   ],
   "source": [
    "import zipfile\n",
    "import json\n",
    "import pandas as pd\n",
    "\n",
    "#Open the .zip and scrape a list of all files with the .namelist() function:\n",
    "with zipfile.ZipFile('bunchofJsons.zip', 'r') as bunch_of_jsons:\n",
    "    #This function is specific to zipfile.\n",
    "    file_list = bunch_of_jsons.namelist()\n",
    "#Verify that our file list is working:\n",
    "# print(file_list[:3])\n",
    "\n",
    "df_list = []\n",
    "\n",
    "for file in file_list:\n",
    "    with zipfile.ZipFile('bunchofJsons.zip', 'r') as bunch_of_jsons:\n",
    "        with bunch_of_jsons.open(file) as open_file:\n",
    "            data = json.load(open_file)\n",
    "\n",
    "    # print(file, data)\n",
    "\n",
    "    #read through each dictionary key piecemeal and re-write it as a converted value\n",
    "    #Needed to manually open a .json to find the key here.\n",
    "    converted_volumes = data['compProperties'][\"volume\"] / 16387.064\n",
    "\n",
    "    data['converted_volumes'] = converted_volumes\n",
    "\n",
    "    new_data_frame = pd.DataFrame(data, index = [0])\n",
    "    df_list.append(new_data_frame)\n",
    "    \n",
    "master_dataframe = pd.concat(df_list, ignore_index = True)\n",
    "\n",
    "total_vol = master_dataframe['converted_volumes'].sum()\n",
    "\n",
    "print(f\"Total volume is: {total_vol}\")"
   ]
  },
  {
   "attachments": {},
   "cell_type": "markdown",
   "metadata": {},
   "source": [
    "3. Read the ‘sales.csv’ file into a pandas dataframe. Split the Location column into two additional\n",
    "columns of City and State. The new dataframe should retain the original column but with two\n",
    "additional columns added"
   ]
  },
  {
   "cell_type": "code",
   "execution_count": null,
   "metadata": {},
   "outputs": [],
   "source": []
  },
  {
   "attachments": {},
   "cell_type": "markdown",
   "metadata": {},
   "source": [
    "4. With respect to the same dataframe created above from sales.csv, answer the following\n",
    "questions:\n",
    "a. Which Item‐Type was sold the most?\n",
    "b. Which Item‐Type generated the most revenue?\n",
    "c. For items that were sold below 1000 units, which item‐type generated the most\n",
    "total‐profit?\n",
    "d. What item‐types were sold in the State – ‘AZ’?"
   ]
  },
  {
   "cell_type": "code",
   "execution_count": null,
   "metadata": {},
   "outputs": [],
   "source": []
  },
  {
   "attachments": {},
   "cell_type": "markdown",
   "metadata": {},
   "source": [
    "5. Given the following table, write code that perform the following set of steps.\n",
    "\n",
    "| Column 1 | Column 2 | Column 3 | Column 4 |\n",
    "|----------|----------|----------|----------|\n",
    "| A        | B        | C        | D        |\n",
    "| VINE     | THE WONDER | PIZZA    |          |\n",
    "| BEAUTY   | SIRE     | NUN      | NONE     |\n",
    "| COOPERATION | EAST     | NOBODY OF |          |\n",
    "| NOON     | OOLONG   | THE UNIVERSE |       |\n",
    "| AIRPLANE | MY       | SUBTERFUGE DEED |    |\n",
    "| NEVER    | WORLD    | RESIN    | DONOR    |\n",
    "| TOO      | TWO      | CLOUD    | EVEN     |\n",
    "| LIES     | SERENDIPITY | PRIZE   | SWIFT    |\n",
    "| RAPID    | OBOE     | ANYBODY IN |        |\n",
    "| THE MULTITUDE | SPEEDY | MATHEMATICAL |       |\n",
    "| PIZZAZZ  | SURE     | DIVERSITY | RUIN     |\n",
    "| RAINBOW  | WARE     | WEAR     | MOON     |\n",
    "| SOMEONE OF | STAR    | ABBA     |          |\n",
    "| KAYAK    | MONOPOLY | ITS      | EYE      |\n",
    "\n",
    "The above table is stored as a ‘word‐table.csv’ file to be read into a dataframe. The sets of operations to be performed on the above table is as follows:(note, that these operations must operate in the order displayed below. That is the result of operation 1 feeds into operaton 2, which then feeds into operation 3).\n",
    "\n",
    "Read the table into a Pandas Dataframe\n",
    "Perform the following operations:\n",
    "Replace words that appear to the immediate right of the word ‘THE’ with the value ‘NONE’\n",
    "\n",
    "In columns B and D, replace all words that contain two or more O’s with the value ‘NONE'"
   ]
  },
  {
   "cell_type": "code",
   "execution_count": null,
   "metadata": {},
   "outputs": [],
   "source": []
  }
 ],
 "metadata": {
  "kernelspec": {
   "display_name": "base",
   "language": "python",
   "name": "python3"
  },
  "language_info": {
   "name": "python",
   "version": "3.9.12"
  },
  "orig_nbformat": 4
 },
 "nbformat": 4,
 "nbformat_minor": 2
}

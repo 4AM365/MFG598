{
 "cells": [
  {
   "attachments": {},
   "cell_type": "markdown",
   "metadata": {},
   "source": [
    "1. A cleaning services company compiled the following data related to the annual profit of the firm to its\n",
    "annual Facebook advertising campaign (measured in thousands) as shown in the table below\n",
    "\n",
    "| Advertising Expenditure | Profit |\n",
    "|------------------------|--------|\n",
    "| 12                     | 60     |\n",
    "| 14                     | 70     |\n",
    "| 17                     | 90     |\n",
    "| 21                     | 100    |\n",
    "| 26                     | 100    |\n",
    "| 30                     | 120    |\n",
    "\n",
    "a) Find the best least squares fit to the data in the form of a straight line given by y = mx + c by\n",
    "writing a numpy program.\n",
    "\n",
    "b) Plot the points and least square fit line using matplotlib.\n",
    "\n",
    "c) Calculate the profit if the company allocates in its next FB campaign with a $50,000 budget\n",
    "allocation. Report the value in $ currency."
   ]
  },
  {
   "cell_type": "code",
   "execution_count": null,
   "metadata": {},
   "outputs": [],
   "source": [
    "import numpy as np\n",
    "#best least squares implies the use of NumPy polyfit\n",
    "\n",
    "#Let's start by creating arrays that represent the table.\n",
    "adv_exp = np.array([12, 14, 17, 21, 26, 30])\n",
    "profit = np.array([60,70,90,100,100,120])\n",
    "\n"
   ]
  },
  {
   "attachments": {},
   "cell_type": "markdown",
   "metadata": {},
   "source": [
    "2) Using code, open and read the contents of the files contained with the “bunchofJSONS.zip”\n",
    "file. For each file read, enter the contents of the JSON file into a Pandas Dataframe. The value\n",
    "of the ‘volume’ key in each of the JSON file is expressed in cubic mm. Update each value in\n",
    "the dataframe to convert the value into cubic inches (using the .apply() or .map() method).\n",
    "Calculate the total volume of all the objects in cubic inches."
   ]
  },
  {
   "cell_type": "code",
   "execution_count": null,
   "metadata": {},
   "outputs": [],
   "source": []
  },
  {
   "attachments": {},
   "cell_type": "markdown",
   "metadata": {},
   "source": [
    "3. Read the ‘sales.csv’ file into a pandas dataframe. Split the Location column into two additional\n",
    "columns of City and State. The new dataframe should retain the original column but with two\n",
    "additional columns added"
   ]
  },
  {
   "cell_type": "code",
   "execution_count": null,
   "metadata": {},
   "outputs": [],
   "source": []
  },
  {
   "attachments": {},
   "cell_type": "markdown",
   "metadata": {},
   "source": [
    "4. With respect to the same dataframe created above from sales.csv, answer the following\n",
    "questions:\n",
    "a. Which Item‐Type was sold the most?\n",
    "b. Which Item‐Type generated the most revenue?\n",
    "c. For items that were sold below 1000 units, which item‐type generated the most\n",
    "total‐profit?\n",
    "d. What item‐types were sold in the State – ‘AZ’?"
   ]
  },
  {
   "cell_type": "code",
   "execution_count": null,
   "metadata": {},
   "outputs": [],
   "source": []
  },
  {
   "attachments": {},
   "cell_type": "markdown",
   "metadata": {},
   "source": [
    "5. Given the following table, write code that perform the following set of steps.\n",
    "\n",
    "| Column 1 | Column 2 | Column 3 | Column 4 |\n",
    "|----------|----------|----------|----------|\n",
    "| A        | B        | C        | D        |\n",
    "| VINE     | THE WONDER | PIZZA    |          |\n",
    "| BEAUTY   | SIRE     | NUN      | NONE     |\n",
    "| COOPERATION | EAST     | NOBODY OF |          |\n",
    "| NOON     | OOLONG   | THE UNIVERSE |       |\n",
    "| AIRPLANE | MY       | SUBTERFUGE DEED |    |\n",
    "| NEVER    | WORLD    | RESIN    | DONOR    |\n",
    "| TOO      | TWO      | CLOUD    | EVEN     |\n",
    "| LIES     | SERENDIPITY | PRIZE   | SWIFT    |\n",
    "| RAPID    | OBOE     | ANYBODY IN |        |\n",
    "| THE MULTITUDE | SPEEDY | MATHEMATICAL |       |\n",
    "| PIZZAZZ  | SURE     | DIVERSITY | RUIN     |\n",
    "| RAINBOW  | WARE     | WEAR     | MOON     |\n",
    "| SOMEONE OF | STAR    | ABBA     |          |\n",
    "| KAYAK    | MONOPOLY | ITS      | EYE      |\n",
    "\n",
    "The above table is stored as a ‘word‐table.csv’ file to be read into a dataframe. The sets of operations to be performed on the above table is as follows:(note, that these operations must operate in the order displayed below. That is the result of operation 1 feeds into operaton 2, which then feeds into operation 3).\n",
    "\n",
    "Read the table into a Pandas Dataframe\n",
    "Perform the following operations:\n",
    "Replace words that appear to the immediate right of the word ‘THE’ with the value ‘NONE’\n",
    "\n",
    "In columns B and D, replace all words that contain two or more O’s with the value ‘NONE'"
   ]
  },
  {
   "cell_type": "code",
   "execution_count": null,
   "metadata": {},
   "outputs": [],
   "source": []
  }
 ],
 "metadata": {
  "kernelspec": {
   "display_name": "base",
   "language": "python",
   "name": "python3"
  },
  "language_info": {
   "name": "python",
   "version": "3.9.12"
  },
  "orig_nbformat": 4
 },
 "nbformat": 4,
 "nbformat_minor": 2
}

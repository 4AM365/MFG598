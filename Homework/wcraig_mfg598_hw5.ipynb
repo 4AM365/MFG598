{
 "cells": [
  {
   "attachments": {},
   "cell_type": "markdown",
   "metadata": {},
   "source": [
    "William Craig\n",
    "MFG598\n",
    "HW5\n"
   ]
  },
  {
   "attachments": {},
   "cell_type": "markdown",
   "metadata": {},
   "source": [
    "1) Create one random integer array, aVec, containing 20 values ranging from 0 to 100. \n",
    "Generate a random float value, b, between 0 and 100. Find the index in aVec whose value is \n",
    "closest to b. Print also the value within aVec through the index.\n",
    "Example \n",
    "A = [46, 76, 74, 27, 6, 74, 53, 63, 86, 7, 77, 17, 72, 16, 61, 77, 25, 67, 18, 34]\n",
    "b = 90.07\n",
    "Index of A closest to b = 8\n",
    "A[8] = 86"
   ]
  },
  {
   "cell_type": "code",
   "execution_count": 22,
   "metadata": {},
   "outputs": [
    {
     "name": "stdout",
     "output_type": "stream",
     "text": [
      "The list of random integers is:\n",
      "[30 77 38 38 61 20 54 79 80 15 93 42 54 81 56 48  5 13 54 47]\n",
      "The randomly generated float value is: 62.136736729736185\n",
      "The index of aVec closest in value to b is: 4\n",
      "The value of that index is:61\n"
     ]
    }
   ],
   "source": [
    "import numpy as np\n",
    "aVec = np.random.randint(0, 101, 20)\n",
    "print(f\"The list of random integers is:\\n{aVec}\")\n",
    "\n",
    "b = np.random.uniform(0, 100)\n",
    "print(f\"The randomly generated float value is: {b}\")\n",
    "\n",
    "index = np.abs(aVec - b).argmin()\n",
    "\n",
    "print(f\"The index of aVec closest in value to b is: {index}\")\n",
    "print(f\"The value of that index is:{aVec[index]}\")"
   ]
  },
  {
   "attachments": {},
   "cell_type": "markdown",
   "metadata": {},
   "source": [
    "2) Write a Python program to create random vector with values between 0 and 1 of size 15 \n",
    "and replace the maximum value within it by -1."
   ]
  },
  {
   "cell_type": "code",
   "execution_count": 72,
   "metadata": {},
   "outputs": [
    {
     "name": "stdout",
     "output_type": "stream",
     "text": [
      "[0.59733814 0.68592409 0.2384287  0.01302637 0.49367324 0.95954996\n",
      " 0.15568184 0.86374785 0.10368143 0.09060836 0.79884522 0.99513588\n",
      " 0.20849828 0.5014978  0.80148725]\n",
      "\n",
      "\n",
      "[ 0.59733814  0.68592409  0.2384287   0.01302637  0.49367324  0.95954996\n",
      "  0.15568184  0.86374785  0.10368143  0.09060836  0.79884522 -1.\n",
      "  0.20849828  0.5014978   0.80148725]\n"
     ]
    }
   ],
   "source": [
    "#random.rand inherently generates a uiform distribution of values between 0 and 1. \n",
    "    #The intention is that the output can then be scaled.\n",
    "vector = np.random.rand(15)\n",
    "\n",
    "print(vector)\n",
    "\n",
    "vector_modified = vector\n",
    "print(\"\\n\")\n",
    "\n",
    "vector_modified[vector.argmax()] = -1\n",
    "\n",
    "print(vector_modified)\n"
   ]
  },
  {
   "attachments": {},
   "cell_type": "markdown",
   "metadata": {},
   "source": [
    "3) Write a Python script to extract a set of numbers between a given range (between 10 and \n",
    "20, both inclusive). The given list can be a=[22,1,4, 32, 12, 5, 16, 10, 19, 20]"
   ]
  },
  {
   "cell_type": "code",
   "execution_count": 65,
   "metadata": {},
   "outputs": [
    {
     "name": "stdout",
     "output_type": "stream",
     "text": [
      "[12 16 10 19 20]\n"
     ]
    }
   ],
   "source": [
    "a=[22,1,4, 32, 12, 5, 16, 10, 19, 20]\n",
    "#numpy solution:\n",
    "import numpy as np\n",
    "a_rray = np.array(a)\n",
    "\n",
    "result = a_rray[(a_rray >= 10) & (a_rray <= 20)]\n",
    "\n",
    "print(result)\n"
   ]
  },
  {
   "cell_type": "code",
   "execution_count": 66,
   "metadata": {},
   "outputs": [
    {
     "name": "stdout",
     "output_type": "stream",
     "text": [
      "[12, 16, 10, 19, 20]\n"
     ]
    }
   ],
   "source": [
    "#conventional solution\n",
    "a_extracted = []\n",
    "for item in a:\n",
    "    if item <= 20:\n",
    "        if item >=10:\n",
    "            a_extracted.append(item)\n",
    "print(a_extracted)\n",
    "\n",
    "\n",
    "\n",
    "# print(a[(a >= 10) & (a <= 20)]) doesn't work... Not supported between instances of list and int\n"
   ]
  },
  {
   "attachments": {},
   "cell_type": "markdown",
   "metadata": {},
   "source": [
    "4) Replace all the positions at which non-zeros exist in the given matrix, A to -1. The given 2D \n",
    "array is \n",
    "A = [1 0 1 0 1 1 1 0 1 0 0\n",
    "        0 1 0 1 1 0 1 0 1 1 1\n",
    "        0 0 0 0 0 0 0 0 1 1 1]"
   ]
  },
  {
   "cell_type": "code",
   "execution_count": 79,
   "metadata": {},
   "outputs": [
    {
     "name": "stdout",
     "output_type": "stream",
     "text": [
      "[1 0 1 0 1 1 1 0 1 0 0 0 1 0 1 1 0 1 0 1 1 1 0 0 0 0 0 0 0 0 1 1 1]\n",
      "[-1  0 -1  0 -1 -1 -1  0 -1  0  0  0 -1  0 -1 -1  0 -1  0 -1 -1 -1  0  0\n",
      "  0  0  0  0  0  0 -1 -1 -1]\n"
     ]
    }
   ],
   "source": [
    "#Can't seem to get the provided array to work due to the lack of delimiting. If it's a string, there are no \"\"\n",
    "A = np.array([1, 0, 1, 0, 1, 1, 1, 0, 1, 0, 0,\n",
    "              0, 1, 0, 1, 1, 0, 1, 0, 1, 1, 1,\n",
    "              0, 0, 0, 0, 0, 0, 0, 0, 1, 1, 1])\n",
    "\n",
    "print(A)\n",
    "\n",
    "A[A != 0] = -1\n",
    "\n",
    "print(A)"
   ]
  },
  {
   "attachments": {},
   "cell_type": "markdown",
   "metadata": {},
   "source": [
    "5) Write a numpy program that creates a 1D vector with random integer values ranging from \n",
    "10 to 100 with 20 elements. Further, for each value that is below the mean of all the values \n",
    "in the vector, replace those values with 0."
   ]
  },
  {
   "cell_type": "code",
   "execution_count": 104,
   "metadata": {},
   "outputs": [
    {
     "name": "stdout",
     "output_type": "stream",
     "text": [
      "Original array: \n",
      "[36 55 16 28 95 98 20 40 89 17 33 71 38 82 74 41 63 26 46 10]\n",
      "\n",
      "Mean of the original array: 48.9\n",
      "\n",
      "Original array with all values below mean replaced:\n",
      "[ 0 55  0  0 95 98  0  0 89  0  0 71  0 82 74  0 63  0  0  0]\n"
     ]
    }
   ],
   "source": [
    "import numpy as np\n",
    "\n",
    "A = np.random.randint(10, 101, size = 20)\n",
    "\n",
    "print(f\"Original array: \\n{A}\\n\")\n",
    "\n",
    "print(f\"Mean of the original array: {A.mean()}\\n\")\n",
    "A[A <= A.mean()] = 0\n",
    "\n",
    "print(f\"Original array with all values below mean replaced:\\n{A}\")"
   ]
  },
  {
   "attachments": {},
   "cell_type": "markdown",
   "metadata": {},
   "source": [
    "6) Consider an elementary system of three linear equations: x + 2y + z = 2, 2x + 6y + z = 7, x + y \n",
    "+ 4z = 3, Solve for x, y and z using a python program using the numpy library."
   ]
  },
  {
   "cell_type": "code",
   "execution_count": 110,
   "metadata": {},
   "outputs": [
    {
     "name": "stdout",
     "output_type": "stream",
     "text": [
      "[-3.  2.  1.]\n"
     ]
    }
   ],
   "source": [
    "#Need to consider in terms of matrices\n",
    "import numpy as np\n",
    "A = np.array([(1, 2, 1),(2, 6, 1),(1, 1, 4)])\n",
    "b = np.array([2, 7, 3])\n",
    "\n",
    "A_solved = np.linalg.solve(A, b)\n",
    "\n",
    "print(A_solved)"
   ]
  },
  {
   "attachments": {},
   "cell_type": "markdown",
   "metadata": {},
   "source": [
    "7) Randomly  generate  two  objects.  The  first  object  is  a  1D  array,  a  vector  ‘v’  of  10  integer \n",
    "elements. Randomly generate a second 2D array, B, a matrix of 10 x 5 elements. Subtract the \n",
    "1d array, ‘v’ from the 2d matrix B, such that each item of v subtracts from respective column \n",
    "of  A.  The  resulting  matrix  must  still  be  of  shape  10  x  5.  The  values  in  the  vector  randomly \n",
    "range from (1, 100)."
   ]
  },
  {
   "cell_type": "code",
   "execution_count": 4,
   "metadata": {},
   "outputs": [
    {
     "name": "stdout",
     "output_type": "stream",
     "text": [
      "[99 47 89 37 55 82 97  2 84 60]\n",
      "[[0.31816503 0.97252889 0.87649969 0.77709006 0.98494582]\n",
      " [0.21525512 0.19733179 0.99306333 0.32841249 0.17733431]\n",
      " [0.72476896 0.150997   0.17269374 0.6053656  0.89693914]\n",
      " [0.47921755 0.84550422 0.34224506 0.91124793 0.79698776]\n",
      " [0.42022722 0.63591514 0.80429091 0.91453032 0.00516168]\n",
      " [0.2152671  0.8008461  0.81094627 0.62975101 0.64149098]\n",
      " [0.32159803 0.60661987 0.31779802 0.63821242 0.04046962]\n",
      " [0.99275308 0.26083413 0.38319645 0.66530373 0.90256863]\n",
      " [0.02239355 0.04024586 0.59244947 0.43078307 0.98892948]\n",
      " [0.83543291 0.10733475 0.47880508 0.86759273 0.83600551]]\n",
      "[[-98.68183497 -98.02747111 -98.12350031 -98.22290994 -98.01505418]\n",
      " [-46.78474488 -46.80266821 -46.00693667 -46.67158751 -46.82266569]\n",
      " [-88.27523104 -88.849003   -88.82730626 -88.3946344  -88.10306086]\n",
      " [-36.52078245 -36.15449578 -36.65775494 -36.08875207 -36.20301224]\n",
      " [-54.57977278 -54.36408486 -54.19570909 -54.08546968 -54.99483832]\n",
      " [-81.7847329  -81.1991539  -81.18905373 -81.37024899 -81.35850902]\n",
      " [-96.67840197 -96.39338013 -96.68220198 -96.36178758 -96.95953038]\n",
      " [ -1.00724692  -1.73916587  -1.61680355  -1.33469627  -1.09743137]\n",
      " [-83.97760645 -83.95975414 -83.40755053 -83.56921693 -83.01107052]\n",
      " [-59.16456709 -59.89266525 -59.52119492 -59.13240727 -59.16399449]]\n"
     ]
    }
   ],
   "source": [
    "import numpy as np\n",
    "object_one = np.random.randint(0, 101, size = 10)\n",
    "object_two  = np.random.rand(10, 5)\n",
    "print(object_one)\n",
    "print(object_two)\n",
    "\n",
    "result = object_two - object_one.reshape(10, 1)\n",
    "\n",
    "print(result)"
   ]
  },
  {
   "attachments": {},
   "cell_type": "markdown",
   "metadata": {},
   "source": [
    "8) Read the numData.data file using the genfromtxt() method available from numpy. Normalize \n",
    "the values within this dataset, with each value to be between 0 and 1. Normalization should \n",
    "occur across row-by-row operation."
   ]
  },
  {
   "cell_type": "code",
   "execution_count": 2,
   "metadata": {},
   "outputs": [
    {
     "name": "stdout",
     "output_type": "stream",
     "text": [
      "Original data:\n",
      " [[5.1 3.5 1.4 0.2 nan]\n",
      " [4.9 3.  1.4 0.2 nan]\n",
      " [4.7 3.2 1.3 0.2 nan]\n",
      " [4.6 3.1 1.5 0.2 nan]\n",
      " [5.  3.6 1.4 0.2 nan]]\n",
      "Normalized data:\n",
      " [[1.         0.67346939 0.24489796 0.        ]\n",
      " [1.         0.59574468 0.25531915 0.        ]\n",
      " [1.         0.66666667 0.24444444 0.        ]\n",
      " [1.         0.65909091 0.29545455 0.        ]\n",
      " [1.         0.70833333 0.25       0.        ]]\n"
     ]
    }
   ],
   "source": [
    "import numpy as np\n",
    "#Inspected data in notepad to find the delimiter per visual inspection\n",
    "data = np.genfromtxt(\"numData.data\", delimiter=\",\")\n",
    "\n",
    "\n",
    "#Special operations are required in order to ignore nan in the original dataset, like using np.nanmean or np.nanmedian.\n",
    "#Because we are normalizing the data, we will simply need to discard the last column.\n",
    "nan_cols = np.isnan(data).any(axis=0)\n",
    "#The use of .any allows us to scan the column as we move along the first row.\n",
    "\n",
    "data_nan_subtracted = data[:, ~nan_cols]\n",
    "\n",
    "\n",
    "\n",
    "#Normalization here involves subtracting the smallest value, then dividing it by the 'range' of the data. \n",
    "#We use axis = 1 to make this a row-wise operation. Thus, it is row-by-row.\n",
    "# data_normalized = (data - data.min(axis=1, keepdims=True)) / (data.max(axis=1, keepdims=True) - data.min(axis=1, keepdims=True))\n",
    "\n",
    "#The use of keepdims = True preserves the dimensions of the original array. The code can't function otherwise.\n",
    "data_normalized = (data_nan_subtracted - data_nan_subtracted.min(axis=1, keepdims=True)) / (data_nan_subtracted.max(axis=1, keepdims=True) - data_nan_subtracted.min(axis=1, keepdims=True))\n",
    "\n",
    "\n",
    "print(\"Original data:\\n\", data[:5])\n",
    "print(\"Normalized data:\\n\", data_normalized[:5])\n",
    "\n"
   ]
  },
  {
   "attachments": {},
   "cell_type": "markdown",
   "metadata": {},
   "source": [
    "9) Read the numData.data file. Filter the rows in such a way that the 3rd column > 2.0 and the \n",
    "first column is <5.0."
   ]
  },
  {
   "cell_type": "code",
   "execution_count": 13,
   "metadata": {},
   "outputs": [
    {
     "name": "stdout",
     "output_type": "stream",
     "text": [
      "5-row head of original data:\n",
      " [[5.1 3.5 1.4 0.2 nan]\n",
      " [4.9 3.  1.4 0.2 nan]\n",
      " [4.7 3.2 1.3 0.2 nan]\n",
      " [4.6 3.1 1.5 0.2 nan]\n",
      " [5.  3.6 1.4 0.2 nan]]\n",
      "Filtered data:\n",
      " [[4.9 2.4 3.3 1.  nan]\n",
      " [4.9 2.5 4.5 1.7 nan]]\n"
     ]
    }
   ],
   "source": [
    "import numpy as np\n",
    "\n",
    "# Loading data from the file again here.\n",
    "data = np.genfromtxt(\"numData.data\", delimiter=\",\")\n",
    "\n",
    "\n",
    "#Original file for comparison:\n",
    "print(\"5-row head of original data:\\n\", data[:5])\n",
    "\n",
    "#After this data is filtered, we should expect a very small number of rows that meet our criteria.\n",
    "#We're going to apply a boolean mask that simply masks out any rows that do not meet the expected values.\n",
    "#When we place brackets after the 'data', we assign conditions to it. We can require multiple conditions with &.\n",
    "filtered_data = data[(data[:, 0] < 5.0) & (data[:, 2] > 2.0)]\n",
    "\n",
    "\n",
    "print(\"Filtered data:\\n\", filtered_data)"
   ]
  },
  {
   "attachments": {},
   "cell_type": "markdown",
   "metadata": {},
   "source": [
    "10) Given 3 arrays of equal size, write a short numpy script that finds the maximum value across \n",
    "each of the three arrays at each index position of the array. Store these values in a single \n",
    "array. \n",
    "Example\n",
    "A = [9, 10, 7, 2, 4, 1, 0]\n",
    "B = [10, 8, 0, 5, 8, 3, 1]\n",
    "C = [8, 9, 9, 8, 3, 2, 9]\n",
    "Result = [10, 10, 9, 8, 8, 3, 9]"
   ]
  },
  {
   "cell_type": "code",
   "execution_count": 4,
   "metadata": {},
   "outputs": [
    {
     "name": "stdout",
     "output_type": "stream",
     "text": [
      "[10 10  9  8  8  3  9]\n"
     ]
    }
   ],
   "source": [
    "import numpy as np\n",
    "\n",
    "# Define the three arrays\n",
    "A = np.array([9, 10, 7, 2, 4, 1, 0])\n",
    "B = np.array([10, 8, 0, 5, 8, 3, 1])\n",
    "C = np.array([8, 9, 9, 8, 3, 2, 9])\n",
    "\n",
    "#This is a nested statement. np automatically iterates through the array left to right.\n",
    "    #First, we find the maximum between rows A and B. This could be done with A and C, or B and C as well.\n",
    "    #Then, we treat the maximum of those two values as a single row. We compare it with C, and add it to the result.\n",
    "result = np.maximum(np.maximum(A, B), C)\n",
    "\n",
    "# Print the result\n",
    "print(result)"
   ]
  }
 ],
 "metadata": {
  "kernelspec": {
   "display_name": "base",
   "language": "python",
   "name": "python3"
  },
  "language_info": {
   "codemirror_mode": {
    "name": "ipython",
    "version": 3
   },
   "file_extension": ".py",
   "mimetype": "text/x-python",
   "name": "python",
   "nbconvert_exporter": "python",
   "pygments_lexer": "ipython3",
   "version": "3.9.12"
  },
  "orig_nbformat": 4,
  "vscode": {
   "interpreter": {
    "hash": "504af9dbaeab241701b42e0a4a2f2792546a36888d7345416987d6285d9bc5c8"
   }
  }
 },
 "nbformat": 4,
 "nbformat_minor": 2
}

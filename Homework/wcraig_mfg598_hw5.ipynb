{
 "cells": [
  {
   "cell_type": "markdown",
   "metadata": {},
   "source": [
    "HOMEWORK 6\n",
    "(This HW covers Numpy)\n",
    "(A single Jupyter Notebook (.ipynb) or (.py) to be submitted to Canvas. Do not zip the files before \n",
    "submission. All of the solutions below must use the numpy package )\n"
   ]
  },
  {
   "attachments": {},
   "cell_type": "markdown",
   "metadata": {},
   "source": [
    "1) Create one random integer array, aVec, containing 20 values ranging from 0 to 100. \n",
    "Generate a random float value, b, between 0 and 100. Find the index in aVec whose value is \n",
    "closest to b. Print also the value within aVec through the index.\n",
    "Example \n",
    "A = [46, 76, 74, 27, 6, 74, 53, 63, 86, 7, 77, 17, 72, 16, 61, 77, 25, 67, 18, 34]\n",
    "b = 90.07\n",
    "Index of A closest to b = 8\n",
    "A[8] = 86"
   ]
  },
  {
   "cell_type": "code",
   "execution_count": 22,
   "metadata": {},
   "outputs": [
    {
     "name": "stdout",
     "output_type": "stream",
     "text": [
      "The list of random integers is:\n",
      "[30 77 38 38 61 20 54 79 80 15 93 42 54 81 56 48  5 13 54 47]\n",
      "The randomly generated float value is: 62.136736729736185\n",
      "The index of aVec closest in value to b is: 4\n",
      "The value of that index is:61\n"
     ]
    }
   ],
   "source": [
    "import numpy as np\n",
    "aVec = np.random.randint(0, 101, 20)\n",
    "print(f\"The list of random integers is:\\n{aVec}\")\n",
    "\n",
    "b = np.random.uniform(0, 100)\n",
    "print(f\"The randomly generated float value is: {b}\")\n",
    "\n",
    "index = np.abs(aVec - b).argmin()\n",
    "\n",
    "print(f\"The index of aVec closest in value to b is: {index}\")\n",
    "print(f\"The value of that index is:{aVec[index]}\")"
   ]
  },
  {
   "attachments": {},
   "cell_type": "markdown",
   "metadata": {},
   "source": [
    "2) Write a Python program to create random vector with values between 0 and 1 of size 15 \n",
    "and replace the maximum value within it by -1."
   ]
  },
  {
   "cell_type": "code",
   "execution_count": 72,
   "metadata": {},
   "outputs": [
    {
     "name": "stdout",
     "output_type": "stream",
     "text": [
      "[0.59733814 0.68592409 0.2384287  0.01302637 0.49367324 0.95954996\n",
      " 0.15568184 0.86374785 0.10368143 0.09060836 0.79884522 0.99513588\n",
      " 0.20849828 0.5014978  0.80148725]\n",
      "\n",
      "\n",
      "[ 0.59733814  0.68592409  0.2384287   0.01302637  0.49367324  0.95954996\n",
      "  0.15568184  0.86374785  0.10368143  0.09060836  0.79884522 -1.\n",
      "  0.20849828  0.5014978   0.80148725]\n"
     ]
    }
   ],
   "source": [
    "#random.rand inherently generates a uiform distribution of values between 0 and 1. \n",
    "    #The intention is that the output can then be scaled.\n",
    "vector = np.random.rand(15)\n",
    "\n",
    "print(vector)\n",
    "\n",
    "vector_modified = vector\n",
    "print(\"\\n\")\n",
    "\n",
    "vector_modified[vector.argmax()] = -1\n",
    "\n",
    "print(vector_modified)\n"
   ]
  },
  {
   "attachments": {},
   "cell_type": "markdown",
   "metadata": {},
   "source": [
    "3) Write a Python script to extract a set of numbers between a given range (between 10 and \n",
    "20, both inclusive). The given list can be a=[22,1,4, 32, 12, 5, 16, 10, 19, 20]"
   ]
  },
  {
   "cell_type": "code",
   "execution_count": 65,
   "metadata": {},
   "outputs": [
    {
     "name": "stdout",
     "output_type": "stream",
     "text": [
      "[12 16 10 19 20]\n"
     ]
    }
   ],
   "source": [
    "a=[22,1,4, 32, 12, 5, 16, 10, 19, 20]\n",
    "#numpy solution:\n",
    "import numpy as np\n",
    "a_rray = np.array(a)\n",
    "\n",
    "result = a_rray[(a_rray >= 10) & (a_rray <= 20)]\n",
    "\n",
    "print(result)\n"
   ]
  },
  {
   "cell_type": "code",
   "execution_count": 66,
   "metadata": {},
   "outputs": [
    {
     "name": "stdout",
     "output_type": "stream",
     "text": [
      "[12, 16, 10, 19, 20]\n"
     ]
    }
   ],
   "source": [
    "#conventional solution\n",
    "a_extracted = []\n",
    "for item in a:\n",
    "    if item <= 20:\n",
    "        if item >=10:\n",
    "            a_extracted.append(item)\n",
    "print(a_extracted)\n",
    "\n",
    "\n",
    "\n",
    "# print(a[(a >= 10) & (a <= 20)]) doesn't work... Not supported between instances of list and int\n"
   ]
  },
  {
   "attachments": {},
   "cell_type": "markdown",
   "metadata": {},
   "source": [
    "4) Replace all the positions at which non-zeros exist in the given matrix, A to -1. The given 2D \n",
    "array is \n",
    "A = [1 0 1 0 1 1 1 0 1 0 0\n",
    "        0 1 0 1 1 0 1 0 1 1 1\n",
    "        0 0 0 0 0 0 0 0 1 1 1]"
   ]
  },
  {
   "cell_type": "code",
   "execution_count": 79,
   "metadata": {},
   "outputs": [
    {
     "name": "stdout",
     "output_type": "stream",
     "text": [
      "[1 0 1 0 1 1 1 0 1 0 0 0 1 0 1 1 0 1 0 1 1 1 0 0 0 0 0 0 0 0 1 1 1]\n",
      "[-1  0 -1  0 -1 -1 -1  0 -1  0  0  0 -1  0 -1 -1  0 -1  0 -1 -1 -1  0  0\n",
      "  0  0  0  0  0  0 -1 -1 -1]\n"
     ]
    }
   ],
   "source": [
    "#Can't seem to get the provided array to work due to the lack of delimiting. If it's a string, there are no \"\"\n",
    "A = np.array([1, 0, 1, 0, 1, 1, 1, 0, 1, 0, 0,\n",
    "              0, 1, 0, 1, 1, 0, 1, 0, 1, 1, 1,\n",
    "              0, 0, 0, 0, 0, 0, 0, 0, 1, 1, 1])\n",
    "\n",
    "print(A)\n",
    "\n",
    "A[A != 0] = -1\n",
    "\n",
    "print(A)"
   ]
  },
  {
   "attachments": {},
   "cell_type": "markdown",
   "metadata": {},
   "source": [
    "5) Write a numpy program that creates a 1D vector with random integer values ranging from \n",
    "10 to 100 with 20 elements. Further, for each value that is below the mean of all the values \n",
    "in the vector, replace those values with 0."
   ]
  },
  {
   "cell_type": "code",
   "execution_count": 104,
   "metadata": {},
   "outputs": [
    {
     "name": "stdout",
     "output_type": "stream",
     "text": [
      "Original array: \n",
      "[36 55 16 28 95 98 20 40 89 17 33 71 38 82 74 41 63 26 46 10]\n",
      "\n",
      "Mean of the original array: 48.9\n",
      "\n",
      "Original array with all values below mean replaced:\n",
      "[ 0 55  0  0 95 98  0  0 89  0  0 71  0 82 74  0 63  0  0  0]\n"
     ]
    }
   ],
   "source": [
    "import numpy as np\n",
    "\n",
    "A = np.random.randint(10, 101, size = 20)\n",
    "\n",
    "print(f\"Original array: \\n{A}\\n\")\n",
    "\n",
    "print(f\"Mean of the original array: {A.mean()}\\n\")\n",
    "A[A <= A.mean()] = 0\n",
    "\n",
    "print(f\"Original array with all values below mean replaced:\\n{A}\") \n"
   ]
  },
  {
   "attachments": {},
   "cell_type": "markdown",
   "metadata": {},
   "source": [
    "6) Consider an elementary system of three linear equations: x + 2y + z = 2, 2x + 6y + z = 7, x + y \n",
    "+ 4z = 3, Solve for x, y and z using a python program using the numpy library."
   ]
  },
  {
   "cell_type": "code",
   "execution_count": 110,
   "metadata": {},
   "outputs": [
    {
     "name": "stdout",
     "output_type": "stream",
     "text": [
      "[-3.  2.  1.]\n"
     ]
    }
   ],
   "source": [
    "#Need to consider in terms of matrices\n",
    "import numpy as np\n",
    "A = np.array([(1, 2, 1),(2, 6, 1),(1, 1, 4)])\n",
    "b = np.array([2, 7, 3])\n",
    "\n",
    "A_solved = np.linalg.solve(A, b)\n",
    "\n",
    "print(A_solved)"
   ]
  },
  {
   "attachments": {},
   "cell_type": "markdown",
   "metadata": {},
   "source": [
    "7) Randomly  generate  two  objects.  The  first  object  is  a  1D  array,  a  vector  ‘v’  of  10  integer \n",
    "elements. Randomly generate a second 2D array, B, a matrix of 10 x 5 elements. Subtract the \n",
    "1d array, ‘v’ from the 2d matrix B, such that each item of v subtracts from respective column \n",
    "of  A.  The  resulting  matrix  must  still  be  of  shape  10  x  5.  The  values  in  the  vector  randomly \n",
    "range from (1, 100)."
   ]
  },
  {
   "cell_type": "code",
   "execution_count": 122,
   "metadata": {},
   "outputs": [
    {
     "name": "stdout",
     "output_type": "stream",
     "text": [
      "[72 63 59 63 17 86 19 59 67 61]\n",
      "[[0.01500704 0.70558072 0.65787137 0.26861279 0.03768788]\n",
      " [0.93223149 0.99385733 0.07506847 0.01421186 0.02521063]\n",
      " [0.45015893 0.97548596 0.45813001 0.18280813 0.80202088]\n",
      " [0.11749284 0.65999717 0.15299588 0.97195162 0.61088382]\n",
      " [0.4603044  0.05125792 0.83460217 0.18230099 0.53940831]\n",
      " [0.40187101 0.27661445 0.45427699 0.59969222 0.82189489]\n",
      " [0.49932479 0.4011447  0.6095388  0.26159797 0.22103647]\n",
      " [0.84091447 0.43181812 0.67266312 0.91233312 0.59680039]\n",
      " [0.41482749 0.97404923 0.79961623 0.0037897  0.05852566]\n",
      " [0.20885829 0.68662822 0.77116924 0.95917023 0.53423437]]\n"
     ]
    }
   ],
   "source": [
    "import numpy as np\n",
    "object_one = np.random.randint(0, 101, size = 10)\n",
    "object_2  = np.random.rand(10, 5)\n",
    "print(object_one)\n",
    "print(object_2)\n",
    "\n"
   ]
  },
  {
   "attachments": {},
   "cell_type": "markdown",
   "metadata": {},
   "source": [
    "8) Read the numData.data file using the genfromtxt() method available from numpy. Normalize \n",
    "the values within this dataset, with each value to be between 0 and 1. Normalization should \n",
    "occur across row-by-row operation."
   ]
  },
  {
   "cell_type": "code",
   "execution_count": null,
   "metadata": {},
   "outputs": [],
   "source": []
  },
  {
   "attachments": {},
   "cell_type": "markdown",
   "metadata": {},
   "source": [
    "9) Read the numData.data file. Filter the rows in such a way that the 3rd column > 2.0 and the \n",
    "first column is <5.0."
   ]
  },
  {
   "cell_type": "code",
   "execution_count": null,
   "metadata": {},
   "outputs": [],
   "source": []
  },
  {
   "attachments": {},
   "cell_type": "markdown",
   "metadata": {},
   "source": [
    "10) Given 3 arrays of equal size, write a short numpy script that finds the maximum value across \n",
    "each of the three arrays at each index position of the array. Store these values in a single \n",
    "array. \n",
    "Example\n",
    "A = [9, 10, 7, 2, 4, 1, 0]\n",
    "B = [10, 8, 0, 5, 8, 3, 1]\n",
    "C = [8, 9, 9, 8, 3, 2, 9]\n",
    "Result = [10, 10, 9, 8, 8, 3, 9]"
   ]
  },
  {
   "cell_type": "code",
   "execution_count": null,
   "metadata": {},
   "outputs": [],
   "source": []
  }
 ],
 "metadata": {
  "kernelspec": {
   "display_name": "base",
   "language": "python",
   "name": "python3"
  },
  "language_info": {
   "codemirror_mode": {
    "name": "ipython",
    "version": 3
   },
   "file_extension": ".py",
   "mimetype": "text/x-python",
   "name": "python",
   "nbconvert_exporter": "python",
   "pygments_lexer": "ipython3",
   "version": "3.9.12"
  },
  "orig_nbformat": 4,
  "vscode": {
   "interpreter": {
    "hash": "504af9dbaeab241701b42e0a4a2f2792546a36888d7345416987d6285d9bc5c8"
   }
  }
 },
 "nbformat": 4,
 "nbformat_minor": 2
}
